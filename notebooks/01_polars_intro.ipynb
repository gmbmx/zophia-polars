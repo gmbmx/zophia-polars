{
 "cells": [
  {
   "attachments": {},
   "cell_type": "markdown",
   "metadata": {},
   "source": [
    "# Introducción a Polars 🐻‍❄️\n",
    "\n"
   ]
  },
  {
   "cell_type": "code",
   "execution_count": 1,
   "metadata": {},
   "outputs": [],
   "source": [
    "import polars as pl\n",
    "import pandas as pd"
   ]
  },
  {
   "attachments": {},
   "cell_type": "markdown",
   "metadata": {},
   "source": [
    "## 🐻‍❄️\n",
    "Comparemos un poco la velocidad al leer un archivo csv"
   ]
  },
  {
   "cell_type": "code",
   "execution_count": 2,
   "metadata": {},
   "outputs": [
    {
     "name": "stdout",
     "output_type": "stream",
     "text": [
      "47.6 ms ± 588 µs per loop (mean ± std. dev. of 7 runs, 10 loops each)\n"
     ]
    }
   ],
   "source": [
    "%%timeit\n",
    "with open('../data/censo.csv', 'r', encoding='latin1') as fh:\n",
    "    polars_df = pl.read_csv(fh.read().encode('utf-8')) \n",
    "polars_df.head()"
   ]
  },
  {
   "attachments": {},
   "cell_type": "markdown",
   "metadata": {},
   "source": [
    "## 🐼\n",
    "Pandas es hasta 10x más lento"
   ]
  },
  {
   "cell_type": "code",
   "execution_count": 3,
   "metadata": {},
   "outputs": [
    {
     "name": "stdout",
     "output_type": "stream",
     "text": [
      "629 ms ± 1.92 ms per loop (mean ± std. dev. of 7 runs, 1 loop each)\n"
     ]
    }
   ],
   "source": [
    "%%timeit\n",
    "pandas_df = pd.read_csv('../data/censo.csv', encoding='latin1') \n",
    "pandas_df.head()"
   ]
  },
  {
   "attachments": {},
   "cell_type": "markdown",
   "metadata": {},
   "source": [
    "## ¿Qué hay dentro de Polars? 🐻‍❄️ <br><br>\n",
    "### Rust 🦀\n",
    "![rust](../img/Rust.png) <br>\n",
    "Fuente: https://www.javatpoint.com/rust-features"
   ]
  },
  {
   "attachments": {},
   "cell_type": "markdown",
   "metadata": {},
   "source": [
    "## Apache Arrow 🏹\n",
    "\n",
    "![arrow](../img/arrow.png)<br><br><br>\n",
    "### El problema \n",
    "![babel](../img/The_Tower_of_Babel.jpg)<br><br><br>\n",
    "### La solución: Apache Arrow\n",
    "![arrow-ecosystem](../img/arrow-ecosystem.png)\n"
   ]
  },
  {
   "attachments": {},
   "cell_type": "markdown",
   "metadata": {},
   "source": [
    "### ¿Cómo funciona?\n",
    "<div style=\"background-color: white\">\n",
    "<img src='../img/arrow-columnar.png'> \n",
    "</div>"
   ]
  },
  {
   "cell_type": "code",
   "execution_count": 4,
   "metadata": {},
   "outputs": [
    {
     "data": {
      "text/html": [
       "<div><style>\n",
       ".dataframe > thead > tr > th,\n",
       ".dataframe > tbody > tr > td {\n",
       "  text-align: right;\n",
       "}\n",
       "</style>\n",
       "<small>shape: (5, 198)</small><table border=\"1\" class=\"dataframe\"><thead><tr><th>ENTIDAD</th><th>NOM_ENT</th><th>MUN</th><th>NOM_MUN</th><th>LOC</th><th>NOM_LOC</th><th>AGEB</th><th>MZA</th><th>POBTOT</th><th>POBMAS</th><th>POBFEM</th><th>P_0A2</th><th>P_0A2_M</th><th>P_0A2_F</th><th>P_3YMAS</th><th>P_3YMAS_M</th><th>P_3YMAS_F</th><th>P_5YMAS</th><th>P_5YMAS_M</th><th>P_5YMAS_F</th><th>P_12YMAS</th><th>P_12YMAS_M</th><th>P_12YMAS_F</th><th>P_15YMAS</th><th>P_15YMAS_M</th><th>P_15YMAS_F</th><th>P_18YMAS</th><th>P_18YMAS_M</th><th>P_18YMAS_F</th><th>P_3A5</th><th>P_3A5_M</th><th>P_3A5_F</th><th>P_6A11</th><th>P_6A11_M</th><th>P_6A11_F</th><th>P_8A14</th><th>P_8A14_M</th><th>...</th><th>PHOGJEF_M</th><th>PHOGJEF_F</th><th>VIVTOT</th><th>TVIVHAB</th><th>TVIVPAR</th><th>VIVPAR_HAB</th><th>TVIVPARHAB</th><th>VIVPAR_DES</th><th>VIVPAR_UT</th><th>OCUPVIVPAR</th><th>PROM_OCUP</th><th>PRO_OCUP_C</th><th>VPH_PISODT</th><th>VPH_PISOTI</th><th>VPH_1DOR</th><th>VPH_2YMASD</th><th>VPH_1CUART</th><th>VPH_2CUART</th><th>VPH_3YMASC</th><th>VPH_C_ELEC</th><th>VPH_S_ELEC</th><th>VPH_AGUADV</th><th>VPH_AGUAFV</th><th>VPH_EXCSA</th><th>VPH_DRENAJ</th><th>VPH_NODREN</th><th>VPH_C_SERV</th><th>VPH_SNBIEN</th><th>VPH_RADIO</th><th>VPH_TV</th><th>VPH_REFRI</th><th>VPH_LAVAD</th><th>VPH_AUTOM</th><th>VPH_PC</th><th>VPH_TELEF</th><th>VPH_CEL</th><th>VPH_INTER</th></tr><tr><td>i64</td><td>str</td><td>i64</td><td>str</td><td>i64</td><td>str</td><td>str</td><td>i64</td><td>i64</td><td>str</td><td>str</td><td>str</td><td>str</td><td>str</td><td>str</td><td>str</td><td>str</td><td>str</td><td>str</td><td>str</td><td>str</td><td>str</td><td>str</td><td>str</td><td>str</td><td>str</td><td>str</td><td>str</td><td>str</td><td>str</td><td>str</td><td>str</td><td>str</td><td>str</td><td>str</td><td>str</td><td>str</td><td>...</td><td>str</td><td>str</td><td>i64</td><td>str</td><td>str</td><td>str</td><td>str</td><td>str</td><td>str</td><td>str</td><td>str</td><td>str</td><td>str</td><td>str</td><td>str</td><td>str</td><td>str</td><td>str</td><td>str</td><td>str</td><td>str</td><td>str</td><td>str</td><td>str</td><td>str</td><td>str</td><td>str</td><td>str</td><td>str</td><td>str</td><td>str</td><td>str</td><td>str</td><td>str</td><td>str</td><td>str</td><td>str</td></tr></thead><tbody><tr><td>9</td><td>&quot;Distrito Feder...</td><td>0</td><td>&quot;Total del Dist...</td><td>0</td><td>&quot;Total de la en...</td><td>&quot;0000&quot;</td><td>0</td><td>8851080</td><td>&quot;4233783&quot;</td><td>&quot;4617297&quot;</td><td>&quot;357390&quot;</td><td>&quot;182118&quot;</td><td>&quot;175272&quot;</td><td>&quot;8295664&quot;</td><td>&quot;3952770&quot;</td><td>&quot;4342894&quot;</td><td>&quot;8034809&quot;</td><td>&quot;3820187&quot;</td><td>&quot;4214622&quot;</td><td>&quot;7110465&quot;</td><td>&quot;3350128&quot;</td><td>&quot;3760337&quot;</td><td>&quot;6715516&quot;</td><td>&quot;3150628&quot;</td><td>&quot;3564888&quot;</td><td>&quot;6289306&quot;</td><td>&quot;2935800&quot;</td><td>&quot;3353506&quot;</td><td>&quot;391086&quot;</td><td>&quot;199034&quot;</td><td>&quot;192052&quot;</td><td>&quot;794113&quot;</td><td>&quot;403608&quot;</td><td>&quot;390505&quot;</td><td>&quot;926644&quot;</td><td>&quot;470131&quot;</td><td>...</td><td>&quot;6246023&quot;</td><td>&quot;2349107&quot;</td><td>2745180</td><td>&quot;2453770&quot;</td><td>&quot;2679944&quot;</td><td>&quot;2388534&quot;</td><td>&quot;2453031&quot;</td><td>&quot;211245&quot;</td><td>&quot;80165&quot;</td><td>&quot;8595130&quot;</td><td>&quot;3.60&quot;</td><td>&quot;0.87&quot;</td><td>&quot;2334171&quot;</td><td>&quot;24361&quot;</td><td>&quot;756690&quot;</td><td>&quot;1618569&quot;</td><td>&quot;137775&quot;</td><td>&quot;287658&quot;</td><td>&quot;1945806&quot;</td><td>&quot;2375582&quot;</td><td>&quot;2256&quot;</td><td>&quot;2312839&quot;</td><td>&quot;58268&quot;</td><td>&quot;2362481&quot;</td><td>&quot;2362017&quot;</td><td>&quot;7178&quot;</td><td>&quot;2301380&quot;</td><td>&quot;6250&quot;</td><td>&quot;2185469&quot;</td><td>&quot;2337884&quot;</td><td>&quot;2165900&quot;</td><td>&quot;1854623&quot;</td><td>&quot;1110374&quot;</td><td>&quot;1171631&quot;</td><td>&quot;1715772&quot;</td><td>&quot;1817230&quot;</td><td>&quot;936648&quot;</td></tr><tr><td>9</td><td>&quot;Distrito Feder...</td><td>2</td><td>&quot;Azcapotzalco&quot;</td><td>0</td><td>&quot;Total del muni...</td><td>&quot;0000&quot;</td><td>0</td><td>414711</td><td>&quot;196053&quot;</td><td>&quot;218658&quot;</td><td>&quot;14917&quot;</td><td>&quot;7688&quot;</td><td>&quot;7229&quot;</td><td>&quot;390179&quot;</td><td>&quot;183551&quot;</td><td>&quot;206628&quot;</td><td>&quot;379605&quot;</td><td>&quot;178134&quot;</td><td>&quot;201471&quot;</td><td>&quot;340634&quot;</td><td>&quot;158502&quot;</td><td>&quot;182132&quot;</td><td>&quot;323722&quot;</td><td>&quot;149891&quot;</td><td>&quot;173831&quot;</td><td>&quot;304800&quot;</td><td>&quot;140336&quot;</td><td>&quot;164464&quot;</td><td>&quot;16011&quot;</td><td>&quot;8193&quot;</td><td>&quot;7818&quot;</td><td>&quot;33534&quot;</td><td>&quot;16856&quot;</td><td>&quot;16678&quot;</td><td>&quot;39434&quot;</td><td>&quot;19865&quot;</td><td>...</td><td>&quot;284581&quot;</td><td>&quot;120042&quot;</td><td>132135</td><td>&quot;117264&quot;</td><td>&quot;128955&quot;</td><td>&quot;114084&quot;</td><td>&quot;117237&quot;</td><td>&quot;10232&quot;</td><td>&quot;4639&quot;</td><td>&quot;404623&quot;</td><td>&quot;3.55&quot;</td><td>&quot;0.84&quot;</td><td>&quot;111818&quot;</td><td>&quot;673&quot;</td><td>&quot;32675&quot;</td><td>&quot;80908&quot;</td><td>&quot;3769&quot;</td><td>&quot;11718&quot;</td><td>&quot;97887&quot;</td><td>&quot;113708&quot;</td><td>&quot;28&quot;</td><td>&quot;112763&quot;</td><td>&quot;584&quot;</td><td>&quot;112900&quot;</td><td>&quot;113130&quot;</td><td>&quot;118&quot;</td><td>&quot;112387&quot;</td><td>&quot;147&quot;</td><td>&quot;106564&quot;</td><td>&quot;112503&quot;</td><td>&quot;107269&quot;</td><td>&quot;93517&quot;</td><td>&quot;52913&quot;</td><td>&quot;60003&quot;</td><td>&quot;86750&quot;</td><td>&quot;88236&quot;</td><td>&quot;47225&quot;</td></tr><tr><td>9</td><td>&quot;Distrito Feder...</td><td>2</td><td>&quot;Azcapotzalco&quot;</td><td>1</td><td>&quot;Total de la lo...</td><td>&quot;0000&quot;</td><td>0</td><td>414711</td><td>&quot;196053&quot;</td><td>&quot;218658&quot;</td><td>&quot;14917&quot;</td><td>&quot;7688&quot;</td><td>&quot;7229&quot;</td><td>&quot;390179&quot;</td><td>&quot;183551&quot;</td><td>&quot;206628&quot;</td><td>&quot;379605&quot;</td><td>&quot;178134&quot;</td><td>&quot;201471&quot;</td><td>&quot;340634&quot;</td><td>&quot;158502&quot;</td><td>&quot;182132&quot;</td><td>&quot;323722&quot;</td><td>&quot;149891&quot;</td><td>&quot;173831&quot;</td><td>&quot;304800&quot;</td><td>&quot;140336&quot;</td><td>&quot;164464&quot;</td><td>&quot;16011&quot;</td><td>&quot;8193&quot;</td><td>&quot;7818&quot;</td><td>&quot;33534&quot;</td><td>&quot;16856&quot;</td><td>&quot;16678&quot;</td><td>&quot;39434&quot;</td><td>&quot;19865&quot;</td><td>...</td><td>&quot;284581&quot;</td><td>&quot;120042&quot;</td><td>132135</td><td>&quot;117264&quot;</td><td>&quot;128955&quot;</td><td>&quot;114084&quot;</td><td>&quot;117237&quot;</td><td>&quot;10232&quot;</td><td>&quot;4639&quot;</td><td>&quot;404623&quot;</td><td>&quot;3.55&quot;</td><td>&quot;0.84&quot;</td><td>&quot;111818&quot;</td><td>&quot;673&quot;</td><td>&quot;32675&quot;</td><td>&quot;80908&quot;</td><td>&quot;3769&quot;</td><td>&quot;11718&quot;</td><td>&quot;97887&quot;</td><td>&quot;113708&quot;</td><td>&quot;28&quot;</td><td>&quot;112763&quot;</td><td>&quot;584&quot;</td><td>&quot;112900&quot;</td><td>&quot;113130&quot;</td><td>&quot;118&quot;</td><td>&quot;112387&quot;</td><td>&quot;147&quot;</td><td>&quot;106564&quot;</td><td>&quot;112503&quot;</td><td>&quot;107269&quot;</td><td>&quot;93517&quot;</td><td>&quot;52913&quot;</td><td>&quot;60003&quot;</td><td>&quot;86750&quot;</td><td>&quot;88236&quot;</td><td>&quot;47225&quot;</td></tr><tr><td>9</td><td>&quot;Distrito Feder...</td><td>2</td><td>&quot;Azcapotzalco&quot;</td><td>1</td><td>&quot;Total AGEB urb...</td><td>&quot;0010&quot;</td><td>0</td><td>3424</td><td>&quot;1600&quot;</td><td>&quot;1824&quot;</td><td>&quot;71&quot;</td><td>&quot;35&quot;</td><td>&quot;36&quot;</td><td>&quot;3228&quot;</td><td>&quot;1502&quot;</td><td>&quot;1726&quot;</td><td>&quot;3174&quot;</td><td>&quot;1477&quot;</td><td>&quot;1697&quot;</td><td>&quot;2916&quot;</td><td>&quot;1343&quot;</td><td>&quot;1573&quot;</td><td>&quot;2787&quot;</td><td>&quot;1274&quot;</td><td>&quot;1513&quot;</td><td>&quot;2650&quot;</td><td>&quot;1200&quot;</td><td>&quot;1450&quot;</td><td>&quot;77&quot;</td><td>&quot;37&quot;</td><td>&quot;40&quot;</td><td>&quot;235&quot;</td><td>&quot;122&quot;</td><td>&quot;113&quot;</td><td>&quot;294&quot;</td><td>&quot;148&quot;</td><td>...</td><td>&quot;2280&quot;</td><td>&quot;1021&quot;</td><td>879</td><td>&quot;856&quot;</td><td>&quot;838&quot;</td><td>&quot;815&quot;</td><td>&quot;856&quot;</td><td>&quot;15&quot;</td><td>&quot;8&quot;</td><td>&quot;3301&quot;</td><td>&quot;4.05&quot;</td><td>&quot;0.83&quot;</td><td>&quot;797&quot;</td><td>&quot;5&quot;</td><td>&quot;61&quot;</td><td>&quot;749&quot;</td><td>&quot;0&quot;</td><td>&quot;19&quot;</td><td>&quot;790&quot;</td><td>&quot;811&quot;</td><td>&quot;0&quot;</td><td>&quot;809&quot;</td><td>&quot;*&quot;</td><td>&quot;809&quot;</td><td>&quot;809&quot;</td><td>&quot;*&quot;</td><td>&quot;809&quot;</td><td>&quot;0&quot;</td><td>&quot;771&quot;</td><td>&quot;805&quot;</td><td>&quot;804&quot;</td><td>&quot;762&quot;</td><td>&quot;466&quot;</td><td>&quot;447&quot;</td><td>&quot;751&quot;</td><td>&quot;598&quot;</td><td>&quot;346&quot;</td></tr><tr><td>9</td><td>&quot;Distrito Feder...</td><td>2</td><td>&quot;Azcapotzalco&quot;</td><td>1</td><td>&quot;Azcapotzalco&quot;</td><td>&quot;0010&quot;</td><td>1</td><td>202</td><td>&quot;96&quot;</td><td>&quot;106&quot;</td><td>&quot;6&quot;</td><td>&quot;4&quot;</td><td>&quot;*&quot;</td><td>&quot;193&quot;</td><td>&quot;91&quot;</td><td>&quot;102&quot;</td><td>&quot;189&quot;</td><td>&quot;91&quot;</td><td>&quot;98&quot;</td><td>&quot;172&quot;</td><td>&quot;84&quot;</td><td>&quot;88&quot;</td><td>&quot;162&quot;</td><td>&quot;79&quot;</td><td>&quot;83&quot;</td><td>&quot;157&quot;</td><td>&quot;76&quot;</td><td>&quot;81&quot;</td><td>&quot;4&quot;</td><td>&quot;0&quot;</td><td>&quot;4&quot;</td><td>&quot;17&quot;</td><td>&quot;7&quot;</td><td>&quot;10&quot;</td><td>&quot;23&quot;</td><td>&quot;10&quot;</td><td>...</td><td>&quot;127&quot;</td><td>&quot;72&quot;</td><td>48</td><td>&quot;*&quot;</td><td>&quot;*&quot;</td><td>&quot;*&quot;</td><td>&quot;*&quot;</td><td>&quot;*&quot;</td><td>&quot;*&quot;</td><td>&quot;199&quot;</td><td>&quot;4.23&quot;</td><td>&quot;0.90&quot;</td><td>&quot;46&quot;</td><td>&quot;0&quot;</td><td>&quot;5&quot;</td><td>&quot;41&quot;</td><td>&quot;0&quot;</td><td>&quot;*&quot;</td><td>&quot;44&quot;</td><td>&quot;46&quot;</td><td>&quot;0&quot;</td><td>&quot;46&quot;</td><td>&quot;0&quot;</td><td>&quot;46&quot;</td><td>&quot;46&quot;</td><td>&quot;0&quot;</td><td>&quot;46&quot;</td><td>&quot;0&quot;</td><td>&quot;43&quot;</td><td>&quot;46&quot;</td><td>&quot;46&quot;</td><td>&quot;45&quot;</td><td>&quot;28&quot;</td><td>&quot;21&quot;</td><td>&quot;45&quot;</td><td>&quot;26&quot;</td><td>&quot;15&quot;</td></tr></tbody></table></div>"
      ],
      "text/plain": [
       "shape: (5, 198)\n",
       "┌─────────┬──────────┬─────┬─────────────────────┬─────┬─────────┬───────────┬─────────┬───────────┐\n",
       "│ ENTIDAD ┆ NOM_ENT  ┆ MUN ┆ NOM_MUN             ┆ ... ┆ VPH_PC  ┆ VPH_TELEF ┆ VPH_CEL ┆ VPH_INTER │\n",
       "│ ---     ┆ ---      ┆ --- ┆ ---                 ┆     ┆ ---     ┆ ---       ┆ ---     ┆ ---       │\n",
       "│ i64     ┆ str      ┆ i64 ┆ str                 ┆     ┆ str     ┆ str       ┆ str     ┆ str       │\n",
       "╞═════════╪══════════╪═════╪═════════════════════╪═════╪═════════╪═══════════╪═════════╪═══════════╡\n",
       "│ 9       ┆ Distrito ┆ 0   ┆ Total del Distrito  ┆ ... ┆ 1171631 ┆ 1715772   ┆ 1817230 ┆ 936648    │\n",
       "│         ┆ Federal  ┆     ┆ Federal             ┆     ┆         ┆           ┆         ┆           │\n",
       "│ 9       ┆ Distrito ┆ 2   ┆ Azcapotzalco        ┆ ... ┆ 60003   ┆ 86750     ┆ 88236   ┆ 47225     │\n",
       "│         ┆ Federal  ┆     ┆                     ┆     ┆         ┆           ┆         ┆           │\n",
       "│ 9       ┆ Distrito ┆ 2   ┆ Azcapotzalco        ┆ ... ┆ 60003   ┆ 86750     ┆ 88236   ┆ 47225     │\n",
       "│         ┆ Federal  ┆     ┆                     ┆     ┆         ┆           ┆         ┆           │\n",
       "│ 9       ┆ Distrito ┆ 2   ┆ Azcapotzalco        ┆ ... ┆ 447     ┆ 751       ┆ 598     ┆ 346       │\n",
       "│         ┆ Federal  ┆     ┆                     ┆     ┆         ┆           ┆         ┆           │\n",
       "│ 9       ┆ Distrito ┆ 2   ┆ Azcapotzalco        ┆ ... ┆ 21      ┆ 45        ┆ 26      ┆ 15        │\n",
       "│         ┆ Federal  ┆     ┆                     ┆     ┆         ┆           ┆         ┆           │\n",
       "└─────────┴──────────┴─────┴─────────────────────┴─────┴─────────┴───────────┴─────────┴───────────┘"
      ]
     },
     "execution_count": 4,
     "metadata": {},
     "output_type": "execute_result"
    }
   ],
   "source": [
    "with open('../data/censo.csv', 'r', encoding='latin1') as fh:\n",
    "    polars_df = pl.read_csv(fh.read().encode('utf-8')) \n",
    "polars_df.head()"
   ]
  },
  {
   "cell_type": "code",
   "execution_count": 5,
   "metadata": {},
   "outputs": [
    {
     "name": "stdout",
     "output_type": "stream",
     "text": [
      "shape: (5, 198)\n",
      "┌─────────┬──────────┬─────┬─────────────────────┬─────┬─────────┬───────────┬─────────┬───────────┐\n",
      "│ ENTIDAD ┆ NOM_ENT  ┆ MUN ┆ NOM_MUN             ┆ ... ┆ VPH_PC  ┆ VPH_TELEF ┆ VPH_CEL ┆ VPH_INTER │\n",
      "│ ---     ┆ ---      ┆ --- ┆ ---                 ┆     ┆ ---     ┆ ---       ┆ ---     ┆ ---       │\n",
      "│ i64     ┆ str      ┆ i64 ┆ str                 ┆     ┆ str     ┆ str       ┆ str     ┆ str       │\n",
      "╞═════════╪══════════╪═════╪═════════════════════╪═════╪═════════╪═══════════╪═════════╪═══════════╡\n",
      "│ 9       ┆ Distrito ┆ 0   ┆ Total del Distrito  ┆ ... ┆ 1171631 ┆ 1715772   ┆ 1817230 ┆ 936648    │\n",
      "│         ┆ Federal  ┆     ┆ Federal             ┆     ┆         ┆           ┆         ┆           │\n",
      "│ 9       ┆ Distrito ┆ 2   ┆ Azcapotzalco        ┆ ... ┆ 60003   ┆ 86750     ┆ 88236   ┆ 47225     │\n",
      "│         ┆ Federal  ┆     ┆                     ┆     ┆         ┆           ┆         ┆           │\n",
      "│ 9       ┆ Distrito ┆ 2   ┆ Azcapotzalco        ┆ ... ┆ 60003   ┆ 86750     ┆ 88236   ┆ 47225     │\n",
      "│         ┆ Federal  ┆     ┆                     ┆     ┆         ┆           ┆         ┆           │\n",
      "│ 9       ┆ Distrito ┆ 2   ┆ Azcapotzalco        ┆ ... ┆ 447     ┆ 751       ┆ 598     ┆ 346       │\n",
      "│         ┆ Federal  ┆     ┆                     ┆     ┆         ┆           ┆         ┆           │\n",
      "│ 9       ┆ Distrito ┆ 2   ┆ Azcapotzalco        ┆ ... ┆ 21      ┆ 45        ┆ 26      ┆ 15        │\n",
      "│         ┆ Federal  ┆     ┆                     ┆     ┆         ┆           ┆         ┆           │\n",
      "└─────────┴──────────┴─────┴─────────────────────┴─────┴─────────┴───────────┴─────────┴───────────┘\n"
     ]
    }
   ],
   "source": [
    "print(polars_df.head())"
   ]
  },
  {
   "cell_type": "code",
   "execution_count": 6,
   "metadata": {},
   "outputs": [
    {
     "data": {
      "text/plain": [
       "['ENTIDAD',\n",
       " 'NOM_ENT',\n",
       " 'MUN',\n",
       " 'NOM_MUN',\n",
       " 'LOC',\n",
       " 'NOM_LOC',\n",
       " 'AGEB',\n",
       " 'MZA',\n",
       " 'POBTOT',\n",
       " 'POBMAS',\n",
       " 'POBFEM',\n",
       " 'P_0A2',\n",
       " 'P_0A2_M',\n",
       " 'P_0A2_F',\n",
       " 'P_3YMAS',\n",
       " 'P_3YMAS_M',\n",
       " 'P_3YMAS_F',\n",
       " 'P_5YMAS',\n",
       " 'P_5YMAS_M',\n",
       " 'P_5YMAS_F',\n",
       " 'P_12YMAS',\n",
       " 'P_12YMAS_M',\n",
       " 'P_12YMAS_F',\n",
       " 'P_15YMAS',\n",
       " 'P_15YMAS_M',\n",
       " 'P_15YMAS_F',\n",
       " 'P_18YMAS',\n",
       " 'P_18YMAS_M',\n",
       " 'P_18YMAS_F',\n",
       " 'P_3A5',\n",
       " 'P_3A5_M',\n",
       " 'P_3A5_F',\n",
       " 'P_6A11',\n",
       " 'P_6A11_M',\n",
       " 'P_6A11_F',\n",
       " 'P_8A14',\n",
       " 'P_8A14_M',\n",
       " 'P_8A14_F',\n",
       " 'P_12A14',\n",
       " 'P_12A14_M',\n",
       " 'P_12A14_F',\n",
       " 'P_15A17',\n",
       " 'P_15A17_M',\n",
       " 'P_15A17_F',\n",
       " 'P_18A24',\n",
       " 'P_18A24_M',\n",
       " 'P_18A24_F',\n",
       " 'P_15A49_F',\n",
       " 'P_60YMAS',\n",
       " 'P_60YMAS_M',\n",
       " 'P_60YMAS_F',\n",
       " 'REL_H_M',\n",
       " 'POB0_14',\n",
       " 'POB15_64',\n",
       " 'POB65_MAS',\n",
       " 'PROM_HNV',\n",
       " 'PNACENT',\n",
       " 'PNACENT_M',\n",
       " 'PNACENT_F',\n",
       " 'PNACOE',\n",
       " 'PNACOE_M',\n",
       " 'PNACOE_F',\n",
       " 'PRES2005',\n",
       " 'PRES2005_M',\n",
       " 'PRES2005_F',\n",
       " 'PRESOE05',\n",
       " 'PRESOE05_M',\n",
       " 'PRESOE05_F',\n",
       " 'P3YM_HLI',\n",
       " 'P3YM_HLI_M',\n",
       " 'P3YM_HLI_F',\n",
       " 'P3HLINHE',\n",
       " 'P3HLINHE_M',\n",
       " 'P3HLINHE_F',\n",
       " 'P3HLI_HE',\n",
       " 'P3HLI_HE_M',\n",
       " 'P3HLI_HE_F',\n",
       " 'P5_HLI',\n",
       " 'P5_HLI_NHE',\n",
       " 'P5_HLI_HE',\n",
       " 'PHOG_IND',\n",
       " 'PCON_LIM',\n",
       " 'PCLIM_MOT',\n",
       " 'PCLIM_VIS',\n",
       " 'PCLIM_LENG',\n",
       " 'PCLIM_AUD',\n",
       " 'PCLIM_MOT2',\n",
       " 'PCLIM_MEN',\n",
       " 'PCLIM_MEN2',\n",
       " 'PSIN_LIM',\n",
       " 'P3A5_NOA',\n",
       " 'P3A5_NOA_M',\n",
       " 'P3A5_NOA_F',\n",
       " 'P6A11_NOA',\n",
       " 'P6A11_NOAM',\n",
       " 'P6A11_NOAF',\n",
       " 'P12A14NOA',\n",
       " 'P12A14NOAM',\n",
       " 'P12A14NOAF',\n",
       " 'P15A17A',\n",
       " 'P15A17A_M',\n",
       " 'P15A17A_F',\n",
       " 'P18A24A',\n",
       " 'P18A24A_M',\n",
       " 'P18A24A_F',\n",
       " 'P8A14AN',\n",
       " 'P8A14AN_M',\n",
       " 'P8A14AN_F',\n",
       " 'P15YM_AN',\n",
       " 'P15YM_AN_M',\n",
       " 'P15YM_AN_F',\n",
       " 'P15YM_SE',\n",
       " 'P15YM_SE_M',\n",
       " 'P15YM_SE_F',\n",
       " 'P15PRI_IN',\n",
       " 'P15PRI_INM',\n",
       " 'P15PRI_INF',\n",
       " 'P15PRI_CO',\n",
       " 'P15PRI_COM',\n",
       " 'P15PRI_COF',\n",
       " 'P15SEC_IN',\n",
       " 'P15SEC_INM',\n",
       " 'P15SEC_INF',\n",
       " 'P15SEC_CO',\n",
       " 'P15SEC_COM',\n",
       " 'P15SEC_COF',\n",
       " 'P18YM_PB',\n",
       " 'P18YM_PB_M',\n",
       " 'P18YM_PB_F',\n",
       " 'GRAPROES',\n",
       " 'GRAPROES_M',\n",
       " 'GRAPROES_F',\n",
       " 'PEA',\n",
       " 'PEA_M',\n",
       " 'PEA_F',\n",
       " 'PE_INAC',\n",
       " 'PE_INAC_M',\n",
       " 'PE_INAC_F',\n",
       " 'POCUPADA',\n",
       " 'POCUPADA_M',\n",
       " 'POCUPADA_F',\n",
       " 'PDESOCUP',\n",
       " 'PDESOCUP_M',\n",
       " 'PDESOCUP_F',\n",
       " 'PSINDER',\n",
       " 'PDER_SS',\n",
       " 'PDER_IMSS',\n",
       " 'PDER_ISTE',\n",
       " 'PDER_ISTEE',\n",
       " 'PDER_SEGP',\n",
       " 'P12YM_SOLT',\n",
       " 'P12YM_CASA',\n",
       " 'P12YM_SEPA',\n",
       " 'PCATOLICA',\n",
       " 'PNCATOLICA',\n",
       " 'POTRAS_REL',\n",
       " 'PSIN_RELIG',\n",
       " 'TOTHOG',\n",
       " 'HOGJEF_M',\n",
       " 'HOGJEF_F',\n",
       " 'POBHOG',\n",
       " 'PHOGJEF_M',\n",
       " 'PHOGJEF_F',\n",
       " 'VIVTOT',\n",
       " 'TVIVHAB',\n",
       " 'TVIVPAR',\n",
       " 'VIVPAR_HAB',\n",
       " 'TVIVPARHAB',\n",
       " 'VIVPAR_DES',\n",
       " 'VIVPAR_UT',\n",
       " 'OCUPVIVPAR',\n",
       " 'PROM_OCUP',\n",
       " 'PRO_OCUP_C',\n",
       " 'VPH_PISODT',\n",
       " 'VPH_PISOTI',\n",
       " 'VPH_1DOR',\n",
       " 'VPH_2YMASD',\n",
       " 'VPH_1CUART',\n",
       " 'VPH_2CUART',\n",
       " 'VPH_3YMASC',\n",
       " 'VPH_C_ELEC',\n",
       " 'VPH_S_ELEC',\n",
       " 'VPH_AGUADV',\n",
       " 'VPH_AGUAFV',\n",
       " 'VPH_EXCSA',\n",
       " 'VPH_DRENAJ',\n",
       " 'VPH_NODREN',\n",
       " 'VPH_C_SERV',\n",
       " 'VPH_SNBIEN',\n",
       " 'VPH_RADIO',\n",
       " 'VPH_TV',\n",
       " 'VPH_REFRI',\n",
       " 'VPH_LAVAD',\n",
       " 'VPH_AUTOM',\n",
       " 'VPH_PC',\n",
       " 'VPH_TELEF',\n",
       " 'VPH_CEL',\n",
       " 'VPH_INTER']"
      ]
     },
     "execution_count": 6,
     "metadata": {},
     "output_type": "execute_result"
    }
   ],
   "source": [
    "polars_df.columns"
   ]
  },
  {
   "cell_type": "code",
   "execution_count": 7,
   "metadata": {},
   "outputs": [
    {
     "data": {
      "text/plain": [
       "[Int64,\n",
       " Utf8,\n",
       " Int64,\n",
       " Utf8,\n",
       " Int64,\n",
       " Utf8,\n",
       " Utf8,\n",
       " Int64,\n",
       " Int64,\n",
       " Utf8,\n",
       " Utf8,\n",
       " Utf8,\n",
       " Utf8,\n",
       " Utf8,\n",
       " Utf8,\n",
       " Utf8,\n",
       " Utf8,\n",
       " Utf8,\n",
       " Utf8,\n",
       " Utf8,\n",
       " Utf8,\n",
       " Utf8,\n",
       " Utf8,\n",
       " Utf8,\n",
       " Utf8,\n",
       " Utf8,\n",
       " Utf8,\n",
       " Utf8,\n",
       " Utf8,\n",
       " Utf8,\n",
       " Utf8,\n",
       " Utf8,\n",
       " Utf8,\n",
       " Utf8,\n",
       " Utf8,\n",
       " Utf8,\n",
       " Utf8,\n",
       " Utf8,\n",
       " Utf8,\n",
       " Utf8,\n",
       " Utf8,\n",
       " Utf8,\n",
       " Utf8,\n",
       " Utf8,\n",
       " Utf8,\n",
       " Utf8,\n",
       " Utf8,\n",
       " Utf8,\n",
       " Utf8,\n",
       " Utf8,\n",
       " Utf8,\n",
       " Utf8,\n",
       " Utf8,\n",
       " Utf8,\n",
       " Utf8,\n",
       " Utf8,\n",
       " Utf8,\n",
       " Utf8,\n",
       " Utf8,\n",
       " Utf8,\n",
       " Utf8,\n",
       " Utf8,\n",
       " Utf8,\n",
       " Utf8,\n",
       " Utf8,\n",
       " Utf8,\n",
       " Utf8,\n",
       " Utf8,\n",
       " Utf8,\n",
       " Utf8,\n",
       " Utf8,\n",
       " Utf8,\n",
       " Utf8,\n",
       " Utf8,\n",
       " Utf8,\n",
       " Utf8,\n",
       " Utf8,\n",
       " Utf8,\n",
       " Utf8,\n",
       " Utf8,\n",
       " Utf8,\n",
       " Utf8,\n",
       " Utf8,\n",
       " Utf8,\n",
       " Utf8,\n",
       " Utf8,\n",
       " Utf8,\n",
       " Utf8,\n",
       " Utf8,\n",
       " Utf8,\n",
       " Utf8,\n",
       " Utf8,\n",
       " Utf8,\n",
       " Utf8,\n",
       " Utf8,\n",
       " Utf8,\n",
       " Utf8,\n",
       " Utf8,\n",
       " Utf8,\n",
       " Utf8,\n",
       " Utf8,\n",
       " Utf8,\n",
       " Utf8,\n",
       " Utf8,\n",
       " Utf8,\n",
       " Utf8,\n",
       " Utf8,\n",
       " Utf8,\n",
       " Utf8,\n",
       " Utf8,\n",
       " Utf8,\n",
       " Utf8,\n",
       " Utf8,\n",
       " Utf8,\n",
       " Utf8,\n",
       " Utf8,\n",
       " Utf8,\n",
       " Utf8,\n",
       " Utf8,\n",
       " Utf8,\n",
       " Utf8,\n",
       " Utf8,\n",
       " Utf8,\n",
       " Utf8,\n",
       " Utf8,\n",
       " Utf8,\n",
       " Utf8,\n",
       " Utf8,\n",
       " Utf8,\n",
       " Utf8,\n",
       " Utf8,\n",
       " Utf8,\n",
       " Utf8,\n",
       " Utf8,\n",
       " Utf8,\n",
       " Utf8,\n",
       " Utf8,\n",
       " Utf8,\n",
       " Utf8,\n",
       " Utf8,\n",
       " Utf8,\n",
       " Utf8,\n",
       " Utf8,\n",
       " Utf8,\n",
       " Utf8,\n",
       " Utf8,\n",
       " Utf8,\n",
       " Utf8,\n",
       " Utf8,\n",
       " Utf8,\n",
       " Utf8,\n",
       " Utf8,\n",
       " Utf8,\n",
       " Utf8,\n",
       " Utf8,\n",
       " Utf8,\n",
       " Utf8,\n",
       " Utf8,\n",
       " Utf8,\n",
       " Utf8,\n",
       " Utf8,\n",
       " Utf8,\n",
       " Utf8,\n",
       " Int64,\n",
       " Utf8,\n",
       " Utf8,\n",
       " Utf8,\n",
       " Utf8,\n",
       " Utf8,\n",
       " Utf8,\n",
       " Utf8,\n",
       " Utf8,\n",
       " Utf8,\n",
       " Utf8,\n",
       " Utf8,\n",
       " Utf8,\n",
       " Utf8,\n",
       " Utf8,\n",
       " Utf8,\n",
       " Utf8,\n",
       " Utf8,\n",
       " Utf8,\n",
       " Utf8,\n",
       " Utf8,\n",
       " Utf8,\n",
       " Utf8,\n",
       " Utf8,\n",
       " Utf8,\n",
       " Utf8,\n",
       " Utf8,\n",
       " Utf8,\n",
       " Utf8,\n",
       " Utf8,\n",
       " Utf8,\n",
       " Utf8,\n",
       " Utf8,\n",
       " Utf8,\n",
       " Utf8]"
      ]
     },
     "execution_count": 7,
     "metadata": {},
     "output_type": "execute_result"
    }
   ],
   "source": [
    "polars_df.dtypes"
   ]
  },
  {
   "attachments": {},
   "cell_type": "markdown",
   "metadata": {},
   "source": [
    "![Polars Data types](../img/Polars-data-types.png)"
   ]
  },
  {
   "cell_type": "code",
   "execution_count": 8,
   "metadata": {},
   "outputs": [
    {
     "data": {
      "text/plain": [
       "{'ENTIDAD': Int64,\n",
       " 'NOM_ENT': Utf8,\n",
       " 'MUN': Int64,\n",
       " 'NOM_MUN': Utf8,\n",
       " 'LOC': Int64,\n",
       " 'NOM_LOC': Utf8,\n",
       " 'AGEB': Utf8,\n",
       " 'MZA': Int64,\n",
       " 'POBTOT': Int64,\n",
       " 'POBMAS': Utf8,\n",
       " 'POBFEM': Utf8,\n",
       " 'P_0A2': Utf8,\n",
       " 'P_0A2_M': Utf8,\n",
       " 'P_0A2_F': Utf8,\n",
       " 'P_3YMAS': Utf8,\n",
       " 'P_3YMAS_M': Utf8,\n",
       " 'P_3YMAS_F': Utf8,\n",
       " 'P_5YMAS': Utf8,\n",
       " 'P_5YMAS_M': Utf8,\n",
       " 'P_5YMAS_F': Utf8,\n",
       " 'P_12YMAS': Utf8,\n",
       " 'P_12YMAS_M': Utf8,\n",
       " 'P_12YMAS_F': Utf8,\n",
       " 'P_15YMAS': Utf8,\n",
       " 'P_15YMAS_M': Utf8,\n",
       " 'P_15YMAS_F': Utf8,\n",
       " 'P_18YMAS': Utf8,\n",
       " 'P_18YMAS_M': Utf8,\n",
       " 'P_18YMAS_F': Utf8,\n",
       " 'P_3A5': Utf8,\n",
       " 'P_3A5_M': Utf8,\n",
       " 'P_3A5_F': Utf8,\n",
       " 'P_6A11': Utf8,\n",
       " 'P_6A11_M': Utf8,\n",
       " 'P_6A11_F': Utf8,\n",
       " 'P_8A14': Utf8,\n",
       " 'P_8A14_M': Utf8,\n",
       " 'P_8A14_F': Utf8,\n",
       " 'P_12A14': Utf8,\n",
       " 'P_12A14_M': Utf8,\n",
       " 'P_12A14_F': Utf8,\n",
       " 'P_15A17': Utf8,\n",
       " 'P_15A17_M': Utf8,\n",
       " 'P_15A17_F': Utf8,\n",
       " 'P_18A24': Utf8,\n",
       " 'P_18A24_M': Utf8,\n",
       " 'P_18A24_F': Utf8,\n",
       " 'P_15A49_F': Utf8,\n",
       " 'P_60YMAS': Utf8,\n",
       " 'P_60YMAS_M': Utf8,\n",
       " 'P_60YMAS_F': Utf8,\n",
       " 'REL_H_M': Utf8,\n",
       " 'POB0_14': Utf8,\n",
       " 'POB15_64': Utf8,\n",
       " 'POB65_MAS': Utf8,\n",
       " 'PROM_HNV': Utf8,\n",
       " 'PNACENT': Utf8,\n",
       " 'PNACENT_M': Utf8,\n",
       " 'PNACENT_F': Utf8,\n",
       " 'PNACOE': Utf8,\n",
       " 'PNACOE_M': Utf8,\n",
       " 'PNACOE_F': Utf8,\n",
       " 'PRES2005': Utf8,\n",
       " 'PRES2005_M': Utf8,\n",
       " 'PRES2005_F': Utf8,\n",
       " 'PRESOE05': Utf8,\n",
       " 'PRESOE05_M': Utf8,\n",
       " 'PRESOE05_F': Utf8,\n",
       " 'P3YM_HLI': Utf8,\n",
       " 'P3YM_HLI_M': Utf8,\n",
       " 'P3YM_HLI_F': Utf8,\n",
       " 'P3HLINHE': Utf8,\n",
       " 'P3HLINHE_M': Utf8,\n",
       " 'P3HLINHE_F': Utf8,\n",
       " 'P3HLI_HE': Utf8,\n",
       " 'P3HLI_HE_M': Utf8,\n",
       " 'P3HLI_HE_F': Utf8,\n",
       " 'P5_HLI': Utf8,\n",
       " 'P5_HLI_NHE': Utf8,\n",
       " 'P5_HLI_HE': Utf8,\n",
       " 'PHOG_IND': Utf8,\n",
       " 'PCON_LIM': Utf8,\n",
       " 'PCLIM_MOT': Utf8,\n",
       " 'PCLIM_VIS': Utf8,\n",
       " 'PCLIM_LENG': Utf8,\n",
       " 'PCLIM_AUD': Utf8,\n",
       " 'PCLIM_MOT2': Utf8,\n",
       " 'PCLIM_MEN': Utf8,\n",
       " 'PCLIM_MEN2': Utf8,\n",
       " 'PSIN_LIM': Utf8,\n",
       " 'P3A5_NOA': Utf8,\n",
       " 'P3A5_NOA_M': Utf8,\n",
       " 'P3A5_NOA_F': Utf8,\n",
       " 'P6A11_NOA': Utf8,\n",
       " 'P6A11_NOAM': Utf8,\n",
       " 'P6A11_NOAF': Utf8,\n",
       " 'P12A14NOA': Utf8,\n",
       " 'P12A14NOAM': Utf8,\n",
       " 'P12A14NOAF': Utf8,\n",
       " 'P15A17A': Utf8,\n",
       " 'P15A17A_M': Utf8,\n",
       " 'P15A17A_F': Utf8,\n",
       " 'P18A24A': Utf8,\n",
       " 'P18A24A_M': Utf8,\n",
       " 'P18A24A_F': Utf8,\n",
       " 'P8A14AN': Utf8,\n",
       " 'P8A14AN_M': Utf8,\n",
       " 'P8A14AN_F': Utf8,\n",
       " 'P15YM_AN': Utf8,\n",
       " 'P15YM_AN_M': Utf8,\n",
       " 'P15YM_AN_F': Utf8,\n",
       " 'P15YM_SE': Utf8,\n",
       " 'P15YM_SE_M': Utf8,\n",
       " 'P15YM_SE_F': Utf8,\n",
       " 'P15PRI_IN': Utf8,\n",
       " 'P15PRI_INM': Utf8,\n",
       " 'P15PRI_INF': Utf8,\n",
       " 'P15PRI_CO': Utf8,\n",
       " 'P15PRI_COM': Utf8,\n",
       " 'P15PRI_COF': Utf8,\n",
       " 'P15SEC_IN': Utf8,\n",
       " 'P15SEC_INM': Utf8,\n",
       " 'P15SEC_INF': Utf8,\n",
       " 'P15SEC_CO': Utf8,\n",
       " 'P15SEC_COM': Utf8,\n",
       " 'P15SEC_COF': Utf8,\n",
       " 'P18YM_PB': Utf8,\n",
       " 'P18YM_PB_M': Utf8,\n",
       " 'P18YM_PB_F': Utf8,\n",
       " 'GRAPROES': Utf8,\n",
       " 'GRAPROES_M': Utf8,\n",
       " 'GRAPROES_F': Utf8,\n",
       " 'PEA': Utf8,\n",
       " 'PEA_M': Utf8,\n",
       " 'PEA_F': Utf8,\n",
       " 'PE_INAC': Utf8,\n",
       " 'PE_INAC_M': Utf8,\n",
       " 'PE_INAC_F': Utf8,\n",
       " 'POCUPADA': Utf8,\n",
       " 'POCUPADA_M': Utf8,\n",
       " 'POCUPADA_F': Utf8,\n",
       " 'PDESOCUP': Utf8,\n",
       " 'PDESOCUP_M': Utf8,\n",
       " 'PDESOCUP_F': Utf8,\n",
       " 'PSINDER': Utf8,\n",
       " 'PDER_SS': Utf8,\n",
       " 'PDER_IMSS': Utf8,\n",
       " 'PDER_ISTE': Utf8,\n",
       " 'PDER_ISTEE': Utf8,\n",
       " 'PDER_SEGP': Utf8,\n",
       " 'P12YM_SOLT': Utf8,\n",
       " 'P12YM_CASA': Utf8,\n",
       " 'P12YM_SEPA': Utf8,\n",
       " 'PCATOLICA': Utf8,\n",
       " 'PNCATOLICA': Utf8,\n",
       " 'POTRAS_REL': Utf8,\n",
       " 'PSIN_RELIG': Utf8,\n",
       " 'TOTHOG': Utf8,\n",
       " 'HOGJEF_M': Utf8,\n",
       " 'HOGJEF_F': Utf8,\n",
       " 'POBHOG': Utf8,\n",
       " 'PHOGJEF_M': Utf8,\n",
       " 'PHOGJEF_F': Utf8,\n",
       " 'VIVTOT': Int64,\n",
       " 'TVIVHAB': Utf8,\n",
       " 'TVIVPAR': Utf8,\n",
       " 'VIVPAR_HAB': Utf8,\n",
       " 'TVIVPARHAB': Utf8,\n",
       " 'VIVPAR_DES': Utf8,\n",
       " 'VIVPAR_UT': Utf8,\n",
       " 'OCUPVIVPAR': Utf8,\n",
       " 'PROM_OCUP': Utf8,\n",
       " 'PRO_OCUP_C': Utf8,\n",
       " 'VPH_PISODT': Utf8,\n",
       " 'VPH_PISOTI': Utf8,\n",
       " 'VPH_1DOR': Utf8,\n",
       " 'VPH_2YMASD': Utf8,\n",
       " 'VPH_1CUART': Utf8,\n",
       " 'VPH_2CUART': Utf8,\n",
       " 'VPH_3YMASC': Utf8,\n",
       " 'VPH_C_ELEC': Utf8,\n",
       " 'VPH_S_ELEC': Utf8,\n",
       " 'VPH_AGUADV': Utf8,\n",
       " 'VPH_AGUAFV': Utf8,\n",
       " 'VPH_EXCSA': Utf8,\n",
       " 'VPH_DRENAJ': Utf8,\n",
       " 'VPH_NODREN': Utf8,\n",
       " 'VPH_C_SERV': Utf8,\n",
       " 'VPH_SNBIEN': Utf8,\n",
       " 'VPH_RADIO': Utf8,\n",
       " 'VPH_TV': Utf8,\n",
       " 'VPH_REFRI': Utf8,\n",
       " 'VPH_LAVAD': Utf8,\n",
       " 'VPH_AUTOM': Utf8,\n",
       " 'VPH_PC': Utf8,\n",
       " 'VPH_TELEF': Utf8,\n",
       " 'VPH_CEL': Utf8,\n",
       " 'VPH_INTER': Utf8}"
      ]
     },
     "execution_count": 8,
     "metadata": {},
     "output_type": "execute_result"
    }
   ],
   "source": [
    "polars_df.schema"
   ]
  },
  {
   "attachments": {},
   "cell_type": "markdown",
   "metadata": {},
   "source": [
    "## Accediendo a los datos"
   ]
  },
  {
   "attachments": {},
   "cell_type": "markdown",
   "metadata": {},
   "source": [
    "Comparativo de Slicing entre 🐻‍❄️<br><br>\n",
    "![Comparativo Slicing](../img/Polars-pandas-slicing.png)<br><br>\n",
    "Fuente: https://pola-rs.github.io/polars-book/user-guide/howcani/selecting_data/selecting_data_indexing.html"
   ]
  },
  {
   "attachments": {},
   "cell_type": "markdown",
   "metadata": {},
   "source": [
    "Polars soporta `vectorization`\n",
    "<br><br>\n",
    "El uso de Indexing es muy limitado:\n",
    "- Extraer un valor escalar de un `DataFrame`\n",
    "- Convertir una columna de un `DataFrame` a una `Series`\n",
    "- Para exploración de datos e inspeccionar filas o columnas"
   ]
  },
  {
   "cell_type": "code",
   "execution_count": 9,
   "metadata": {},
   "outputs": [
    {
     "data": {
      "text/html": [
       "<div><style>\n",
       ".dataframe > thead > tr > th,\n",
       ".dataframe > tbody > tr > td {\n",
       "  text-align: right;\n",
       "}\n",
       "</style>\n",
       "<small>shape: (1,)</small><table border=\"1\" class=\"dataframe\"><thead><tr><th>NOM_ENT</th></tr><tr><td>str</td></tr></thead><tbody><tr><td>&quot;Distrito Feder...</td></tr></tbody></table></div>"
      ],
      "text/plain": [
       "shape: (1,)\n",
       "Series: 'NOM_ENT' [str]\n",
       "[\n",
       "\t\"Distrito Feder...\n",
       "]"
      ]
     },
     "execution_count": 9,
     "metadata": {},
     "output_type": "execute_result"
    }
   ],
   "source": [
    "polars_df[\"NOM_ENT\"].head(1)"
   ]
  },
  {
   "attachments": {},
   "cell_type": "markdown",
   "metadata": {},
   "source": [
    "Aunque es posible indexar varias columnas, Polars **NO va a paralelizar** la ejecución"
   ]
  },
  {
   "cell_type": "code",
   "execution_count": 10,
   "metadata": {},
   "outputs": [
    {
     "data": {
      "text/html": [
       "<div><style>\n",
       ".dataframe > thead > tr > th,\n",
       ".dataframe > tbody > tr > td {\n",
       "  text-align: right;\n",
       "}\n",
       "</style>\n",
       "<small>shape: (1, 2)</small><table border=\"1\" class=\"dataframe\"><thead><tr><th>LOC</th><th>NOM_ENT</th></tr><tr><td>i64</td><td>str</td></tr></thead><tbody><tr><td>0</td><td>&quot;Distrito Feder...</td></tr></tbody></table></div>"
      ],
      "text/plain": [
       "shape: (1, 2)\n",
       "┌─────┬──────────────────┐\n",
       "│ LOC ┆ NOM_ENT          │\n",
       "│ --- ┆ ---              │\n",
       "│ i64 ┆ str              │\n",
       "╞═════╪══════════════════╡\n",
       "│ 0   ┆ Distrito Federal │\n",
       "└─────┴──────────────────┘"
      ]
     },
     "execution_count": 10,
     "metadata": {},
     "output_type": "execute_result"
    }
   ],
   "source": [
    "polars_df[[\"LOC\",\"NOM_ENT\"]].head(1)"
   ]
  },
  {
   "attachments": {},
   "cell_type": "markdown",
   "metadata": {},
   "source": [
    "## `select` method\n",
    "Método que usaremos ampliamente en Polars, se comporta distinto ya que no sólo permite el nombre de una columna es posible usar:\n",
    "- Una sola columna\n",
    "- Una lista de columnas 💪\n",
    "- Tipos de datos 🤯\n"
   ]
  },
  {
   "cell_type": "code",
   "execution_count": 11,
   "metadata": {},
   "outputs": [
    {
     "data": {
      "text/html": [
       "<div><style>\n",
       ".dataframe > thead > tr > th,\n",
       ".dataframe > tbody > tr > td {\n",
       "  text-align: right;\n",
       "}\n",
       "</style>\n",
       "<small>shape: (5, 2)</small><table border=\"1\" class=\"dataframe\"><thead><tr><th>NOM_ENT</th><th>NOM_MUN</th></tr><tr><td>str</td><td>str</td></tr></thead><tbody><tr><td>&quot;Distrito Feder...</td><td>&quot;Total del Dist...</td></tr><tr><td>&quot;Distrito Feder...</td><td>&quot;Azcapotzalco&quot;</td></tr><tr><td>&quot;Distrito Feder...</td><td>&quot;Azcapotzalco&quot;</td></tr><tr><td>&quot;Distrito Feder...</td><td>&quot;Azcapotzalco&quot;</td></tr><tr><td>&quot;Distrito Feder...</td><td>&quot;Azcapotzalco&quot;</td></tr></tbody></table></div>"
      ],
      "text/plain": [
       "shape: (5, 2)\n",
       "┌──────────────────┬────────────────────────────┐\n",
       "│ NOM_ENT          ┆ NOM_MUN                    │\n",
       "│ ---              ┆ ---                        │\n",
       "│ str              ┆ str                        │\n",
       "╞══════════════════╪════════════════════════════╡\n",
       "│ Distrito Federal ┆ Total del Distrito Federal │\n",
       "│ Distrito Federal ┆ Azcapotzalco               │\n",
       "│ Distrito Federal ┆ Azcapotzalco               │\n",
       "│ Distrito Federal ┆ Azcapotzalco               │\n",
       "│ Distrito Federal ┆ Azcapotzalco               │\n",
       "└──────────────────┴────────────────────────────┘"
      ]
     },
     "execution_count": 11,
     "metadata": {},
     "output_type": "execute_result"
    }
   ],
   "source": [
    "polars_df.select(\"NOM_ENT\",\"NOM_MUN\").head()"
   ]
  },
  {
   "cell_type": "code",
   "execution_count": 12,
   "metadata": {},
   "outputs": [
    {
     "data": {
      "text/html": [
       "<div><style>\n",
       ".dataframe > thead > tr > th,\n",
       ".dataframe > tbody > tr > td {\n",
       "  text-align: right;\n",
       "}\n",
       "</style>\n",
       "<small>shape: (5, 198)</small><table border=\"1\" class=\"dataframe\"><thead><tr><th>ENTIDAD</th><th>NOM_ENT</th><th>MUN</th><th>NOM_MUN</th><th>LOC</th><th>NOM_LOC</th><th>AGEB</th><th>MZA</th><th>POBTOT</th><th>POBMAS</th><th>POBFEM</th><th>P_0A2</th><th>P_0A2_M</th><th>P_0A2_F</th><th>P_3YMAS</th><th>P_3YMAS_M</th><th>P_3YMAS_F</th><th>P_5YMAS</th><th>P_5YMAS_M</th><th>P_5YMAS_F</th><th>P_12YMAS</th><th>P_12YMAS_M</th><th>P_12YMAS_F</th><th>P_15YMAS</th><th>P_15YMAS_M</th><th>P_15YMAS_F</th><th>P_18YMAS</th><th>P_18YMAS_M</th><th>P_18YMAS_F</th><th>P_3A5</th><th>P_3A5_M</th><th>P_3A5_F</th><th>P_6A11</th><th>P_6A11_M</th><th>P_6A11_F</th><th>P_8A14</th><th>P_8A14_M</th><th>...</th><th>PHOGJEF_M</th><th>PHOGJEF_F</th><th>VIVTOT</th><th>TVIVHAB</th><th>TVIVPAR</th><th>VIVPAR_HAB</th><th>TVIVPARHAB</th><th>VIVPAR_DES</th><th>VIVPAR_UT</th><th>OCUPVIVPAR</th><th>PROM_OCUP</th><th>PRO_OCUP_C</th><th>VPH_PISODT</th><th>VPH_PISOTI</th><th>VPH_1DOR</th><th>VPH_2YMASD</th><th>VPH_1CUART</th><th>VPH_2CUART</th><th>VPH_3YMASC</th><th>VPH_C_ELEC</th><th>VPH_S_ELEC</th><th>VPH_AGUADV</th><th>VPH_AGUAFV</th><th>VPH_EXCSA</th><th>VPH_DRENAJ</th><th>VPH_NODREN</th><th>VPH_C_SERV</th><th>VPH_SNBIEN</th><th>VPH_RADIO</th><th>VPH_TV</th><th>VPH_REFRI</th><th>VPH_LAVAD</th><th>VPH_AUTOM</th><th>VPH_PC</th><th>VPH_TELEF</th><th>VPH_CEL</th><th>VPH_INTER</th></tr><tr><td>i64</td><td>str</td><td>i64</td><td>str</td><td>i64</td><td>str</td><td>str</td><td>i64</td><td>i64</td><td>str</td><td>str</td><td>str</td><td>str</td><td>str</td><td>str</td><td>str</td><td>str</td><td>str</td><td>str</td><td>str</td><td>str</td><td>str</td><td>str</td><td>str</td><td>str</td><td>str</td><td>str</td><td>str</td><td>str</td><td>str</td><td>str</td><td>str</td><td>str</td><td>str</td><td>str</td><td>str</td><td>str</td><td>...</td><td>str</td><td>str</td><td>i64</td><td>str</td><td>str</td><td>str</td><td>str</td><td>str</td><td>str</td><td>str</td><td>str</td><td>str</td><td>str</td><td>str</td><td>str</td><td>str</td><td>str</td><td>str</td><td>str</td><td>str</td><td>str</td><td>str</td><td>str</td><td>str</td><td>str</td><td>str</td><td>str</td><td>str</td><td>str</td><td>str</td><td>str</td><td>str</td><td>str</td><td>str</td><td>str</td><td>str</td><td>str</td></tr></thead><tbody><tr><td>9</td><td>&quot;Distrito Feder...</td><td>0</td><td>&quot;Total del Dist...</td><td>0</td><td>&quot;Total de la en...</td><td>&quot;0000&quot;</td><td>0</td><td>8851080</td><td>&quot;4233783&quot;</td><td>&quot;4617297&quot;</td><td>&quot;357390&quot;</td><td>&quot;182118&quot;</td><td>&quot;175272&quot;</td><td>&quot;8295664&quot;</td><td>&quot;3952770&quot;</td><td>&quot;4342894&quot;</td><td>&quot;8034809&quot;</td><td>&quot;3820187&quot;</td><td>&quot;4214622&quot;</td><td>&quot;7110465&quot;</td><td>&quot;3350128&quot;</td><td>&quot;3760337&quot;</td><td>&quot;6715516&quot;</td><td>&quot;3150628&quot;</td><td>&quot;3564888&quot;</td><td>&quot;6289306&quot;</td><td>&quot;2935800&quot;</td><td>&quot;3353506&quot;</td><td>&quot;391086&quot;</td><td>&quot;199034&quot;</td><td>&quot;192052&quot;</td><td>&quot;794113&quot;</td><td>&quot;403608&quot;</td><td>&quot;390505&quot;</td><td>&quot;926644&quot;</td><td>&quot;470131&quot;</td><td>...</td><td>&quot;6246023&quot;</td><td>&quot;2349107&quot;</td><td>2745180</td><td>&quot;2453770&quot;</td><td>&quot;2679944&quot;</td><td>&quot;2388534&quot;</td><td>&quot;2453031&quot;</td><td>&quot;211245&quot;</td><td>&quot;80165&quot;</td><td>&quot;8595130&quot;</td><td>&quot;3.60&quot;</td><td>&quot;0.87&quot;</td><td>&quot;2334171&quot;</td><td>&quot;24361&quot;</td><td>&quot;756690&quot;</td><td>&quot;1618569&quot;</td><td>&quot;137775&quot;</td><td>&quot;287658&quot;</td><td>&quot;1945806&quot;</td><td>&quot;2375582&quot;</td><td>&quot;2256&quot;</td><td>&quot;2312839&quot;</td><td>&quot;58268&quot;</td><td>&quot;2362481&quot;</td><td>&quot;2362017&quot;</td><td>&quot;7178&quot;</td><td>&quot;2301380&quot;</td><td>&quot;6250&quot;</td><td>&quot;2185469&quot;</td><td>&quot;2337884&quot;</td><td>&quot;2165900&quot;</td><td>&quot;1854623&quot;</td><td>&quot;1110374&quot;</td><td>&quot;1171631&quot;</td><td>&quot;1715772&quot;</td><td>&quot;1817230&quot;</td><td>&quot;936648&quot;</td></tr><tr><td>9</td><td>&quot;Distrito Feder...</td><td>2</td><td>&quot;Azcapotzalco&quot;</td><td>0</td><td>&quot;Total del muni...</td><td>&quot;0000&quot;</td><td>0</td><td>414711</td><td>&quot;196053&quot;</td><td>&quot;218658&quot;</td><td>&quot;14917&quot;</td><td>&quot;7688&quot;</td><td>&quot;7229&quot;</td><td>&quot;390179&quot;</td><td>&quot;183551&quot;</td><td>&quot;206628&quot;</td><td>&quot;379605&quot;</td><td>&quot;178134&quot;</td><td>&quot;201471&quot;</td><td>&quot;340634&quot;</td><td>&quot;158502&quot;</td><td>&quot;182132&quot;</td><td>&quot;323722&quot;</td><td>&quot;149891&quot;</td><td>&quot;173831&quot;</td><td>&quot;304800&quot;</td><td>&quot;140336&quot;</td><td>&quot;164464&quot;</td><td>&quot;16011&quot;</td><td>&quot;8193&quot;</td><td>&quot;7818&quot;</td><td>&quot;33534&quot;</td><td>&quot;16856&quot;</td><td>&quot;16678&quot;</td><td>&quot;39434&quot;</td><td>&quot;19865&quot;</td><td>...</td><td>&quot;284581&quot;</td><td>&quot;120042&quot;</td><td>132135</td><td>&quot;117264&quot;</td><td>&quot;128955&quot;</td><td>&quot;114084&quot;</td><td>&quot;117237&quot;</td><td>&quot;10232&quot;</td><td>&quot;4639&quot;</td><td>&quot;404623&quot;</td><td>&quot;3.55&quot;</td><td>&quot;0.84&quot;</td><td>&quot;111818&quot;</td><td>&quot;673&quot;</td><td>&quot;32675&quot;</td><td>&quot;80908&quot;</td><td>&quot;3769&quot;</td><td>&quot;11718&quot;</td><td>&quot;97887&quot;</td><td>&quot;113708&quot;</td><td>&quot;28&quot;</td><td>&quot;112763&quot;</td><td>&quot;584&quot;</td><td>&quot;112900&quot;</td><td>&quot;113130&quot;</td><td>&quot;118&quot;</td><td>&quot;112387&quot;</td><td>&quot;147&quot;</td><td>&quot;106564&quot;</td><td>&quot;112503&quot;</td><td>&quot;107269&quot;</td><td>&quot;93517&quot;</td><td>&quot;52913&quot;</td><td>&quot;60003&quot;</td><td>&quot;86750&quot;</td><td>&quot;88236&quot;</td><td>&quot;47225&quot;</td></tr><tr><td>9</td><td>&quot;Distrito Feder...</td><td>2</td><td>&quot;Azcapotzalco&quot;</td><td>1</td><td>&quot;Total de la lo...</td><td>&quot;0000&quot;</td><td>0</td><td>414711</td><td>&quot;196053&quot;</td><td>&quot;218658&quot;</td><td>&quot;14917&quot;</td><td>&quot;7688&quot;</td><td>&quot;7229&quot;</td><td>&quot;390179&quot;</td><td>&quot;183551&quot;</td><td>&quot;206628&quot;</td><td>&quot;379605&quot;</td><td>&quot;178134&quot;</td><td>&quot;201471&quot;</td><td>&quot;340634&quot;</td><td>&quot;158502&quot;</td><td>&quot;182132&quot;</td><td>&quot;323722&quot;</td><td>&quot;149891&quot;</td><td>&quot;173831&quot;</td><td>&quot;304800&quot;</td><td>&quot;140336&quot;</td><td>&quot;164464&quot;</td><td>&quot;16011&quot;</td><td>&quot;8193&quot;</td><td>&quot;7818&quot;</td><td>&quot;33534&quot;</td><td>&quot;16856&quot;</td><td>&quot;16678&quot;</td><td>&quot;39434&quot;</td><td>&quot;19865&quot;</td><td>...</td><td>&quot;284581&quot;</td><td>&quot;120042&quot;</td><td>132135</td><td>&quot;117264&quot;</td><td>&quot;128955&quot;</td><td>&quot;114084&quot;</td><td>&quot;117237&quot;</td><td>&quot;10232&quot;</td><td>&quot;4639&quot;</td><td>&quot;404623&quot;</td><td>&quot;3.55&quot;</td><td>&quot;0.84&quot;</td><td>&quot;111818&quot;</td><td>&quot;673&quot;</td><td>&quot;32675&quot;</td><td>&quot;80908&quot;</td><td>&quot;3769&quot;</td><td>&quot;11718&quot;</td><td>&quot;97887&quot;</td><td>&quot;113708&quot;</td><td>&quot;28&quot;</td><td>&quot;112763&quot;</td><td>&quot;584&quot;</td><td>&quot;112900&quot;</td><td>&quot;113130&quot;</td><td>&quot;118&quot;</td><td>&quot;112387&quot;</td><td>&quot;147&quot;</td><td>&quot;106564&quot;</td><td>&quot;112503&quot;</td><td>&quot;107269&quot;</td><td>&quot;93517&quot;</td><td>&quot;52913&quot;</td><td>&quot;60003&quot;</td><td>&quot;86750&quot;</td><td>&quot;88236&quot;</td><td>&quot;47225&quot;</td></tr><tr><td>9</td><td>&quot;Distrito Feder...</td><td>2</td><td>&quot;Azcapotzalco&quot;</td><td>1</td><td>&quot;Total AGEB urb...</td><td>&quot;0010&quot;</td><td>0</td><td>3424</td><td>&quot;1600&quot;</td><td>&quot;1824&quot;</td><td>&quot;71&quot;</td><td>&quot;35&quot;</td><td>&quot;36&quot;</td><td>&quot;3228&quot;</td><td>&quot;1502&quot;</td><td>&quot;1726&quot;</td><td>&quot;3174&quot;</td><td>&quot;1477&quot;</td><td>&quot;1697&quot;</td><td>&quot;2916&quot;</td><td>&quot;1343&quot;</td><td>&quot;1573&quot;</td><td>&quot;2787&quot;</td><td>&quot;1274&quot;</td><td>&quot;1513&quot;</td><td>&quot;2650&quot;</td><td>&quot;1200&quot;</td><td>&quot;1450&quot;</td><td>&quot;77&quot;</td><td>&quot;37&quot;</td><td>&quot;40&quot;</td><td>&quot;235&quot;</td><td>&quot;122&quot;</td><td>&quot;113&quot;</td><td>&quot;294&quot;</td><td>&quot;148&quot;</td><td>...</td><td>&quot;2280&quot;</td><td>&quot;1021&quot;</td><td>879</td><td>&quot;856&quot;</td><td>&quot;838&quot;</td><td>&quot;815&quot;</td><td>&quot;856&quot;</td><td>&quot;15&quot;</td><td>&quot;8&quot;</td><td>&quot;3301&quot;</td><td>&quot;4.05&quot;</td><td>&quot;0.83&quot;</td><td>&quot;797&quot;</td><td>&quot;5&quot;</td><td>&quot;61&quot;</td><td>&quot;749&quot;</td><td>&quot;0&quot;</td><td>&quot;19&quot;</td><td>&quot;790&quot;</td><td>&quot;811&quot;</td><td>&quot;0&quot;</td><td>&quot;809&quot;</td><td>&quot;*&quot;</td><td>&quot;809&quot;</td><td>&quot;809&quot;</td><td>&quot;*&quot;</td><td>&quot;809&quot;</td><td>&quot;0&quot;</td><td>&quot;771&quot;</td><td>&quot;805&quot;</td><td>&quot;804&quot;</td><td>&quot;762&quot;</td><td>&quot;466&quot;</td><td>&quot;447&quot;</td><td>&quot;751&quot;</td><td>&quot;598&quot;</td><td>&quot;346&quot;</td></tr><tr><td>9</td><td>&quot;Distrito Feder...</td><td>2</td><td>&quot;Azcapotzalco&quot;</td><td>1</td><td>&quot;Azcapotzalco&quot;</td><td>&quot;0010&quot;</td><td>1</td><td>202</td><td>&quot;96&quot;</td><td>&quot;106&quot;</td><td>&quot;6&quot;</td><td>&quot;4&quot;</td><td>&quot;*&quot;</td><td>&quot;193&quot;</td><td>&quot;91&quot;</td><td>&quot;102&quot;</td><td>&quot;189&quot;</td><td>&quot;91&quot;</td><td>&quot;98&quot;</td><td>&quot;172&quot;</td><td>&quot;84&quot;</td><td>&quot;88&quot;</td><td>&quot;162&quot;</td><td>&quot;79&quot;</td><td>&quot;83&quot;</td><td>&quot;157&quot;</td><td>&quot;76&quot;</td><td>&quot;81&quot;</td><td>&quot;4&quot;</td><td>&quot;0&quot;</td><td>&quot;4&quot;</td><td>&quot;17&quot;</td><td>&quot;7&quot;</td><td>&quot;10&quot;</td><td>&quot;23&quot;</td><td>&quot;10&quot;</td><td>...</td><td>&quot;127&quot;</td><td>&quot;72&quot;</td><td>48</td><td>&quot;*&quot;</td><td>&quot;*&quot;</td><td>&quot;*&quot;</td><td>&quot;*&quot;</td><td>&quot;*&quot;</td><td>&quot;*&quot;</td><td>&quot;199&quot;</td><td>&quot;4.23&quot;</td><td>&quot;0.90&quot;</td><td>&quot;46&quot;</td><td>&quot;0&quot;</td><td>&quot;5&quot;</td><td>&quot;41&quot;</td><td>&quot;0&quot;</td><td>&quot;*&quot;</td><td>&quot;44&quot;</td><td>&quot;46&quot;</td><td>&quot;0&quot;</td><td>&quot;46&quot;</td><td>&quot;0&quot;</td><td>&quot;46&quot;</td><td>&quot;46&quot;</td><td>&quot;0&quot;</td><td>&quot;46&quot;</td><td>&quot;0&quot;</td><td>&quot;43&quot;</td><td>&quot;46&quot;</td><td>&quot;46&quot;</td><td>&quot;45&quot;</td><td>&quot;28&quot;</td><td>&quot;21&quot;</td><td>&quot;45&quot;</td><td>&quot;26&quot;</td><td>&quot;15&quot;</td></tr></tbody></table></div>"
      ],
      "text/plain": [
       "shape: (5, 198)\n",
       "┌─────────┬──────────┬─────┬─────────────────────┬─────┬─────────┬───────────┬─────────┬───────────┐\n",
       "│ ENTIDAD ┆ NOM_ENT  ┆ MUN ┆ NOM_MUN             ┆ ... ┆ VPH_PC  ┆ VPH_TELEF ┆ VPH_CEL ┆ VPH_INTER │\n",
       "│ ---     ┆ ---      ┆ --- ┆ ---                 ┆     ┆ ---     ┆ ---       ┆ ---     ┆ ---       │\n",
       "│ i64     ┆ str      ┆ i64 ┆ str                 ┆     ┆ str     ┆ str       ┆ str     ┆ str       │\n",
       "╞═════════╪══════════╪═════╪═════════════════════╪═════╪═════════╪═══════════╪═════════╪═══════════╡\n",
       "│ 9       ┆ Distrito ┆ 0   ┆ Total del Distrito  ┆ ... ┆ 1171631 ┆ 1715772   ┆ 1817230 ┆ 936648    │\n",
       "│         ┆ Federal  ┆     ┆ Federal             ┆     ┆         ┆           ┆         ┆           │\n",
       "│ 9       ┆ Distrito ┆ 2   ┆ Azcapotzalco        ┆ ... ┆ 60003   ┆ 86750     ┆ 88236   ┆ 47225     │\n",
       "│         ┆ Federal  ┆     ┆                     ┆     ┆         ┆           ┆         ┆           │\n",
       "│ 9       ┆ Distrito ┆ 2   ┆ Azcapotzalco        ┆ ... ┆ 60003   ┆ 86750     ┆ 88236   ┆ 47225     │\n",
       "│         ┆ Federal  ┆     ┆                     ┆     ┆         ┆           ┆         ┆           │\n",
       "│ 9       ┆ Distrito ┆ 2   ┆ Azcapotzalco        ┆ ... ┆ 447     ┆ 751       ┆ 598     ┆ 346       │\n",
       "│         ┆ Federal  ┆     ┆                     ┆     ┆         ┆           ┆         ┆           │\n",
       "│ 9       ┆ Distrito ┆ 2   ┆ Azcapotzalco        ┆ ... ┆ 21      ┆ 45        ┆ 26      ┆ 15        │\n",
       "│         ┆ Federal  ┆     ┆                     ┆     ┆         ┆           ┆         ┆           │\n",
       "└─────────┴──────────┴─────┴─────────────────────┴─────┴─────────┴───────────┴─────────┴───────────┘"
      ]
     },
     "execution_count": 12,
     "metadata": {},
     "output_type": "execute_result"
    }
   ],
   "source": [
    "polars_df.select('*').head()"
   ]
  },
  {
   "attachments": {},
   "cell_type": "markdown",
   "metadata": {},
   "source": [
    "## Polars `Expressions`\n",
    "\n",
    "Son un mapping de una `Series` como input a una `Series` como output\n",
    "\n",
    "<div style=\"background-color: white\">\n",
    "<img src='../img/map.png'> \n",
    "</div>\n",
    "\n",
    "Son usadas ampliamente en operaciones de data science:\n",
    "- Tomar una muestra de filas de una `column`\n",
    "- Aplicar operaciones aritméticasa una `column`\n",
    "- Extraer partes de una fecha\n",
    "- Convertir a minúsculas una column de tipo string\n",
    "\n",
    "También son usadas comúnmente dentro de operaciones:\n",
    "- Calcular la media de un grupo en una operación  `group by` \n",
    "- Calcular el tamaño de cada grupo en una operación `group by`\n",
    "- Realizar una suma horizontal entre columnas\n",
    "\n",
    "Polars realiza estas transformaciones a velocidad relámpago ⚡ al:\n",
    "- Automáticamente optimizar el query de cada `expression`\n",
    "- Paralelizar automáticamente las `expressions` en varias columnas\n",
    "\n",
    "De una manera similar a 🐼, podemos hacer `method chaining` y ejecutar secuencialmente varias `expressions`\n"
   ]
  },
  {
   "cell_type": "code",
   "execution_count": 13,
   "metadata": {},
   "outputs": [
    {
     "data": {
      "text/html": [
       "<div><style>\n",
       ".dataframe > thead > tr > th,\n",
       ".dataframe > tbody > tr > td {\n",
       "  text-align: right;\n",
       "}\n",
       "</style>\n",
       "<small>shape: (5, 196)</small><table border=\"1\" class=\"dataframe\"><thead><tr><th>NOM_ENT</th><th>NOM_MUN</th><th>LOC</th><th>NOM_LOC</th><th>AGEB</th><th>MZA</th><th>POBTOT</th><th>POBMAS</th><th>POBFEM</th><th>P_0A2</th><th>P_0A2_M</th><th>P_0A2_F</th><th>P_3YMAS</th><th>P_3YMAS_M</th><th>P_3YMAS_F</th><th>P_5YMAS</th><th>P_5YMAS_M</th><th>P_5YMAS_F</th><th>P_12YMAS</th><th>P_12YMAS_M</th><th>P_12YMAS_F</th><th>P_15YMAS</th><th>P_15YMAS_M</th><th>P_15YMAS_F</th><th>P_18YMAS</th><th>P_18YMAS_M</th><th>P_18YMAS_F</th><th>P_3A5</th><th>P_3A5_M</th><th>P_3A5_F</th><th>P_6A11</th><th>P_6A11_M</th><th>P_6A11_F</th><th>P_8A14</th><th>P_8A14_M</th><th>P_8A14_F</th><th>P_12A14</th><th>...</th><th>PHOGJEF_M</th><th>PHOGJEF_F</th><th>VIVTOT</th><th>TVIVHAB</th><th>TVIVPAR</th><th>VIVPAR_HAB</th><th>TVIVPARHAB</th><th>VIVPAR_DES</th><th>VIVPAR_UT</th><th>OCUPVIVPAR</th><th>PROM_OCUP</th><th>PRO_OCUP_C</th><th>VPH_PISODT</th><th>VPH_PISOTI</th><th>VPH_1DOR</th><th>VPH_2YMASD</th><th>VPH_1CUART</th><th>VPH_2CUART</th><th>VPH_3YMASC</th><th>VPH_C_ELEC</th><th>VPH_S_ELEC</th><th>VPH_AGUADV</th><th>VPH_AGUAFV</th><th>VPH_EXCSA</th><th>VPH_DRENAJ</th><th>VPH_NODREN</th><th>VPH_C_SERV</th><th>VPH_SNBIEN</th><th>VPH_RADIO</th><th>VPH_TV</th><th>VPH_REFRI</th><th>VPH_LAVAD</th><th>VPH_AUTOM</th><th>VPH_PC</th><th>VPH_TELEF</th><th>VPH_CEL</th><th>VPH_INTER</th></tr><tr><td>str</td><td>str</td><td>i64</td><td>str</td><td>str</td><td>i64</td><td>i64</td><td>str</td><td>str</td><td>str</td><td>str</td><td>str</td><td>str</td><td>str</td><td>str</td><td>str</td><td>str</td><td>str</td><td>str</td><td>str</td><td>str</td><td>str</td><td>str</td><td>str</td><td>str</td><td>str</td><td>str</td><td>str</td><td>str</td><td>str</td><td>str</td><td>str</td><td>str</td><td>str</td><td>str</td><td>str</td><td>str</td><td>...</td><td>str</td><td>str</td><td>i64</td><td>str</td><td>str</td><td>str</td><td>str</td><td>str</td><td>str</td><td>str</td><td>str</td><td>str</td><td>str</td><td>str</td><td>str</td><td>str</td><td>str</td><td>str</td><td>str</td><td>str</td><td>str</td><td>str</td><td>str</td><td>str</td><td>str</td><td>str</td><td>str</td><td>str</td><td>str</td><td>str</td><td>str</td><td>str</td><td>str</td><td>str</td><td>str</td><td>str</td><td>str</td></tr></thead><tbody><tr><td>&quot;Distrito Feder...</td><td>&quot;Total del Dist...</td><td>0</td><td>&quot;Total de la en...</td><td>&quot;0000&quot;</td><td>0</td><td>8851080</td><td>&quot;4233783&quot;</td><td>&quot;4617297&quot;</td><td>&quot;357390&quot;</td><td>&quot;182118&quot;</td><td>&quot;175272&quot;</td><td>&quot;8295664&quot;</td><td>&quot;3952770&quot;</td><td>&quot;4342894&quot;</td><td>&quot;8034809&quot;</td><td>&quot;3820187&quot;</td><td>&quot;4214622&quot;</td><td>&quot;7110465&quot;</td><td>&quot;3350128&quot;</td><td>&quot;3760337&quot;</td><td>&quot;6715516&quot;</td><td>&quot;3150628&quot;</td><td>&quot;3564888&quot;</td><td>&quot;6289306&quot;</td><td>&quot;2935800&quot;</td><td>&quot;3353506&quot;</td><td>&quot;391086&quot;</td><td>&quot;199034&quot;</td><td>&quot;192052&quot;</td><td>&quot;794113&quot;</td><td>&quot;403608&quot;</td><td>&quot;390505&quot;</td><td>&quot;926644&quot;</td><td>&quot;470131&quot;</td><td>&quot;456513&quot;</td><td>&quot;394949&quot;</td><td>...</td><td>&quot;6246023&quot;</td><td>&quot;2349107&quot;</td><td>2745180</td><td>&quot;2453770&quot;</td><td>&quot;2679944&quot;</td><td>&quot;2388534&quot;</td><td>&quot;2453031&quot;</td><td>&quot;211245&quot;</td><td>&quot;80165&quot;</td><td>&quot;8595130&quot;</td><td>&quot;3.60&quot;</td><td>&quot;0.87&quot;</td><td>&quot;2334171&quot;</td><td>&quot;24361&quot;</td><td>&quot;756690&quot;</td><td>&quot;1618569&quot;</td><td>&quot;137775&quot;</td><td>&quot;287658&quot;</td><td>&quot;1945806&quot;</td><td>&quot;2375582&quot;</td><td>&quot;2256&quot;</td><td>&quot;2312839&quot;</td><td>&quot;58268&quot;</td><td>&quot;2362481&quot;</td><td>&quot;2362017&quot;</td><td>&quot;7178&quot;</td><td>&quot;2301380&quot;</td><td>&quot;6250&quot;</td><td>&quot;2185469&quot;</td><td>&quot;2337884&quot;</td><td>&quot;2165900&quot;</td><td>&quot;1854623&quot;</td><td>&quot;1110374&quot;</td><td>&quot;1171631&quot;</td><td>&quot;1715772&quot;</td><td>&quot;1817230&quot;</td><td>&quot;936648&quot;</td></tr><tr><td>&quot;Distrito Feder...</td><td>&quot;Azcapotzalco&quot;</td><td>0</td><td>&quot;Total del muni...</td><td>&quot;0000&quot;</td><td>0</td><td>414711</td><td>&quot;196053&quot;</td><td>&quot;218658&quot;</td><td>&quot;14917&quot;</td><td>&quot;7688&quot;</td><td>&quot;7229&quot;</td><td>&quot;390179&quot;</td><td>&quot;183551&quot;</td><td>&quot;206628&quot;</td><td>&quot;379605&quot;</td><td>&quot;178134&quot;</td><td>&quot;201471&quot;</td><td>&quot;340634&quot;</td><td>&quot;158502&quot;</td><td>&quot;182132&quot;</td><td>&quot;323722&quot;</td><td>&quot;149891&quot;</td><td>&quot;173831&quot;</td><td>&quot;304800&quot;</td><td>&quot;140336&quot;</td><td>&quot;164464&quot;</td><td>&quot;16011&quot;</td><td>&quot;8193&quot;</td><td>&quot;7818&quot;</td><td>&quot;33534&quot;</td><td>&quot;16856&quot;</td><td>&quot;16678&quot;</td><td>&quot;39434&quot;</td><td>&quot;19865&quot;</td><td>&quot;19569&quot;</td><td>&quot;16912&quot;</td><td>...</td><td>&quot;284581&quot;</td><td>&quot;120042&quot;</td><td>132135</td><td>&quot;117264&quot;</td><td>&quot;128955&quot;</td><td>&quot;114084&quot;</td><td>&quot;117237&quot;</td><td>&quot;10232&quot;</td><td>&quot;4639&quot;</td><td>&quot;404623&quot;</td><td>&quot;3.55&quot;</td><td>&quot;0.84&quot;</td><td>&quot;111818&quot;</td><td>&quot;673&quot;</td><td>&quot;32675&quot;</td><td>&quot;80908&quot;</td><td>&quot;3769&quot;</td><td>&quot;11718&quot;</td><td>&quot;97887&quot;</td><td>&quot;113708&quot;</td><td>&quot;28&quot;</td><td>&quot;112763&quot;</td><td>&quot;584&quot;</td><td>&quot;112900&quot;</td><td>&quot;113130&quot;</td><td>&quot;118&quot;</td><td>&quot;112387&quot;</td><td>&quot;147&quot;</td><td>&quot;106564&quot;</td><td>&quot;112503&quot;</td><td>&quot;107269&quot;</td><td>&quot;93517&quot;</td><td>&quot;52913&quot;</td><td>&quot;60003&quot;</td><td>&quot;86750&quot;</td><td>&quot;88236&quot;</td><td>&quot;47225&quot;</td></tr><tr><td>&quot;Distrito Feder...</td><td>&quot;Azcapotzalco&quot;</td><td>1</td><td>&quot;Total de la lo...</td><td>&quot;0000&quot;</td><td>0</td><td>414711</td><td>&quot;196053&quot;</td><td>&quot;218658&quot;</td><td>&quot;14917&quot;</td><td>&quot;7688&quot;</td><td>&quot;7229&quot;</td><td>&quot;390179&quot;</td><td>&quot;183551&quot;</td><td>&quot;206628&quot;</td><td>&quot;379605&quot;</td><td>&quot;178134&quot;</td><td>&quot;201471&quot;</td><td>&quot;340634&quot;</td><td>&quot;158502&quot;</td><td>&quot;182132&quot;</td><td>&quot;323722&quot;</td><td>&quot;149891&quot;</td><td>&quot;173831&quot;</td><td>&quot;304800&quot;</td><td>&quot;140336&quot;</td><td>&quot;164464&quot;</td><td>&quot;16011&quot;</td><td>&quot;8193&quot;</td><td>&quot;7818&quot;</td><td>&quot;33534&quot;</td><td>&quot;16856&quot;</td><td>&quot;16678&quot;</td><td>&quot;39434&quot;</td><td>&quot;19865&quot;</td><td>&quot;19569&quot;</td><td>&quot;16912&quot;</td><td>...</td><td>&quot;284581&quot;</td><td>&quot;120042&quot;</td><td>132135</td><td>&quot;117264&quot;</td><td>&quot;128955&quot;</td><td>&quot;114084&quot;</td><td>&quot;117237&quot;</td><td>&quot;10232&quot;</td><td>&quot;4639&quot;</td><td>&quot;404623&quot;</td><td>&quot;3.55&quot;</td><td>&quot;0.84&quot;</td><td>&quot;111818&quot;</td><td>&quot;673&quot;</td><td>&quot;32675&quot;</td><td>&quot;80908&quot;</td><td>&quot;3769&quot;</td><td>&quot;11718&quot;</td><td>&quot;97887&quot;</td><td>&quot;113708&quot;</td><td>&quot;28&quot;</td><td>&quot;112763&quot;</td><td>&quot;584&quot;</td><td>&quot;112900&quot;</td><td>&quot;113130&quot;</td><td>&quot;118&quot;</td><td>&quot;112387&quot;</td><td>&quot;147&quot;</td><td>&quot;106564&quot;</td><td>&quot;112503&quot;</td><td>&quot;107269&quot;</td><td>&quot;93517&quot;</td><td>&quot;52913&quot;</td><td>&quot;60003&quot;</td><td>&quot;86750&quot;</td><td>&quot;88236&quot;</td><td>&quot;47225&quot;</td></tr><tr><td>&quot;Distrito Feder...</td><td>&quot;Azcapotzalco&quot;</td><td>1</td><td>&quot;Total AGEB urb...</td><td>&quot;0010&quot;</td><td>0</td><td>3424</td><td>&quot;1600&quot;</td><td>&quot;1824&quot;</td><td>&quot;71&quot;</td><td>&quot;35&quot;</td><td>&quot;36&quot;</td><td>&quot;3228&quot;</td><td>&quot;1502&quot;</td><td>&quot;1726&quot;</td><td>&quot;3174&quot;</td><td>&quot;1477&quot;</td><td>&quot;1697&quot;</td><td>&quot;2916&quot;</td><td>&quot;1343&quot;</td><td>&quot;1573&quot;</td><td>&quot;2787&quot;</td><td>&quot;1274&quot;</td><td>&quot;1513&quot;</td><td>&quot;2650&quot;</td><td>&quot;1200&quot;</td><td>&quot;1450&quot;</td><td>&quot;77&quot;</td><td>&quot;37&quot;</td><td>&quot;40&quot;</td><td>&quot;235&quot;</td><td>&quot;122&quot;</td><td>&quot;113&quot;</td><td>&quot;294&quot;</td><td>&quot;148&quot;</td><td>&quot;146&quot;</td><td>&quot;129&quot;</td><td>...</td><td>&quot;2280&quot;</td><td>&quot;1021&quot;</td><td>879</td><td>&quot;856&quot;</td><td>&quot;838&quot;</td><td>&quot;815&quot;</td><td>&quot;856&quot;</td><td>&quot;15&quot;</td><td>&quot;8&quot;</td><td>&quot;3301&quot;</td><td>&quot;4.05&quot;</td><td>&quot;0.83&quot;</td><td>&quot;797&quot;</td><td>&quot;5&quot;</td><td>&quot;61&quot;</td><td>&quot;749&quot;</td><td>&quot;0&quot;</td><td>&quot;19&quot;</td><td>&quot;790&quot;</td><td>&quot;811&quot;</td><td>&quot;0&quot;</td><td>&quot;809&quot;</td><td>&quot;*&quot;</td><td>&quot;809&quot;</td><td>&quot;809&quot;</td><td>&quot;*&quot;</td><td>&quot;809&quot;</td><td>&quot;0&quot;</td><td>&quot;771&quot;</td><td>&quot;805&quot;</td><td>&quot;804&quot;</td><td>&quot;762&quot;</td><td>&quot;466&quot;</td><td>&quot;447&quot;</td><td>&quot;751&quot;</td><td>&quot;598&quot;</td><td>&quot;346&quot;</td></tr><tr><td>&quot;Distrito Feder...</td><td>&quot;Azcapotzalco&quot;</td><td>1</td><td>&quot;Azcapotzalco&quot;</td><td>&quot;0010&quot;</td><td>1</td><td>202</td><td>&quot;96&quot;</td><td>&quot;106&quot;</td><td>&quot;6&quot;</td><td>&quot;4&quot;</td><td>&quot;*&quot;</td><td>&quot;193&quot;</td><td>&quot;91&quot;</td><td>&quot;102&quot;</td><td>&quot;189&quot;</td><td>&quot;91&quot;</td><td>&quot;98&quot;</td><td>&quot;172&quot;</td><td>&quot;84&quot;</td><td>&quot;88&quot;</td><td>&quot;162&quot;</td><td>&quot;79&quot;</td><td>&quot;83&quot;</td><td>&quot;157&quot;</td><td>&quot;76&quot;</td><td>&quot;81&quot;</td><td>&quot;4&quot;</td><td>&quot;0&quot;</td><td>&quot;4&quot;</td><td>&quot;17&quot;</td><td>&quot;7&quot;</td><td>&quot;10&quot;</td><td>&quot;23&quot;</td><td>&quot;10&quot;</td><td>&quot;13&quot;</td><td>&quot;10&quot;</td><td>...</td><td>&quot;127&quot;</td><td>&quot;72&quot;</td><td>48</td><td>&quot;*&quot;</td><td>&quot;*&quot;</td><td>&quot;*&quot;</td><td>&quot;*&quot;</td><td>&quot;*&quot;</td><td>&quot;*&quot;</td><td>&quot;199&quot;</td><td>&quot;4.23&quot;</td><td>&quot;0.90&quot;</td><td>&quot;46&quot;</td><td>&quot;0&quot;</td><td>&quot;5&quot;</td><td>&quot;41&quot;</td><td>&quot;0&quot;</td><td>&quot;*&quot;</td><td>&quot;44&quot;</td><td>&quot;46&quot;</td><td>&quot;0&quot;</td><td>&quot;46&quot;</td><td>&quot;0&quot;</td><td>&quot;46&quot;</td><td>&quot;46&quot;</td><td>&quot;0&quot;</td><td>&quot;46&quot;</td><td>&quot;0&quot;</td><td>&quot;43&quot;</td><td>&quot;46&quot;</td><td>&quot;46&quot;</td><td>&quot;45&quot;</td><td>&quot;28&quot;</td><td>&quot;21&quot;</td><td>&quot;45&quot;</td><td>&quot;26&quot;</td><td>&quot;15&quot;</td></tr></tbody></table></div>"
      ],
      "text/plain": [
       "shape: (5, 196)\n",
       "┌──────────┬───────────────┬─────┬───────────────┬─────┬─────────┬───────────┬─────────┬───────────┐\n",
       "│ NOM_ENT  ┆ NOM_MUN       ┆ LOC ┆ NOM_LOC       ┆ ... ┆ VPH_PC  ┆ VPH_TELEF ┆ VPH_CEL ┆ VPH_INTER │\n",
       "│ ---      ┆ ---           ┆ --- ┆ ---           ┆     ┆ ---     ┆ ---       ┆ ---     ┆ ---       │\n",
       "│ str      ┆ str           ┆ i64 ┆ str           ┆     ┆ str     ┆ str       ┆ str     ┆ str       │\n",
       "╞══════════╪═══════════════╪═════╪═══════════════╪═════╪═════════╪═══════════╪═════════╪═══════════╡\n",
       "│ Distrito ┆ Total del     ┆ 0   ┆ Total de la   ┆ ... ┆ 1171631 ┆ 1715772   ┆ 1817230 ┆ 936648    │\n",
       "│ Federal  ┆ Distrito      ┆     ┆ entidad       ┆     ┆         ┆           ┆         ┆           │\n",
       "│          ┆ Federal       ┆     ┆               ┆     ┆         ┆           ┆         ┆           │\n",
       "│ Distrito ┆ Azcapotzalco  ┆ 0   ┆ Total del     ┆ ... ┆ 60003   ┆ 86750     ┆ 88236   ┆ 47225     │\n",
       "│ Federal  ┆               ┆     ┆ municipio     ┆     ┆         ┆           ┆         ┆           │\n",
       "│ Distrito ┆ Azcapotzalco  ┆ 1   ┆ Total de la   ┆ ... ┆ 60003   ┆ 86750     ┆ 88236   ┆ 47225     │\n",
       "│ Federal  ┆               ┆     ┆ localidad     ┆     ┆         ┆           ┆         ┆           │\n",
       "│          ┆               ┆     ┆ urbana        ┆     ┆         ┆           ┆         ┆           │\n",
       "│ Distrito ┆ Azcapotzalco  ┆ 1   ┆ Total AGEB    ┆ ... ┆ 447     ┆ 751       ┆ 598     ┆ 346       │\n",
       "│ Federal  ┆               ┆     ┆ urbana        ┆     ┆         ┆           ┆         ┆           │\n",
       "│ Distrito ┆ Azcapotzalco  ┆ 1   ┆ Azcapotzalco  ┆ ... ┆ 21      ┆ 45        ┆ 26      ┆ 15        │\n",
       "│ Federal  ┆               ┆     ┆               ┆     ┆         ┆           ┆         ┆           │\n",
       "└──────────┴───────────────┴─────┴───────────────┴─────┴─────────┴───────────┴─────────┴───────────┘"
      ]
     },
     "execution_count": 13,
     "metadata": {},
     "output_type": "execute_result"
    }
   ],
   "source": [
    "polars_df.select(pl.exclude(\"ENTIDAD\",\"MUN\")).head()"
   ]
  },
  {
   "cell_type": "code",
   "execution_count": 14,
   "metadata": {},
   "outputs": [
    {
     "data": {
      "text/plain": [
       "192"
      ]
     },
     "execution_count": 14,
     "metadata": {},
     "output_type": "execute_result"
    }
   ],
   "source": [
    "polars_df.select(pl.col(pl.Utf8)).width"
   ]
  },
  {
   "cell_type": "code",
   "execution_count": 15,
   "metadata": {},
   "outputs": [
    {
     "data": {
      "text/html": [
       "<div><style>\n",
       ".dataframe > thead > tr > th,\n",
       ".dataframe > tbody > tr > td {\n",
       "  text-align: right;\n",
       "}\n",
       "</style>\n",
       "<small>shape: (5, 6)</small><table border=\"1\" class=\"dataframe\"><thead><tr><th>ENTIDAD</th><th>MUN</th><th>LOC</th><th>MZA</th><th>POBTOT</th><th>VIVTOT</th></tr><tr><td>i64</td><td>i64</td><td>i64</td><td>i64</td><td>i64</td><td>i64</td></tr></thead><tbody><tr><td>9</td><td>0</td><td>0</td><td>0</td><td>8851080</td><td>2745180</td></tr><tr><td>9</td><td>2</td><td>0</td><td>0</td><td>414711</td><td>132135</td></tr><tr><td>9</td><td>2</td><td>1</td><td>0</td><td>414711</td><td>132135</td></tr><tr><td>9</td><td>2</td><td>1</td><td>0</td><td>3424</td><td>879</td></tr><tr><td>9</td><td>2</td><td>1</td><td>1</td><td>202</td><td>48</td></tr></tbody></table></div>"
      ],
      "text/plain": [
       "shape: (5, 6)\n",
       "┌─────────┬─────┬─────┬─────┬─────────┬─────────┐\n",
       "│ ENTIDAD ┆ MUN ┆ LOC ┆ MZA ┆ POBTOT  ┆ VIVTOT  │\n",
       "│ ---     ┆ --- ┆ --- ┆ --- ┆ ---     ┆ ---     │\n",
       "│ i64     ┆ i64 ┆ i64 ┆ i64 ┆ i64     ┆ i64     │\n",
       "╞═════════╪═════╪═════╪═════╪═════════╪═════════╡\n",
       "│ 9       ┆ 0   ┆ 0   ┆ 0   ┆ 8851080 ┆ 2745180 │\n",
       "│ 9       ┆ 2   ┆ 0   ┆ 0   ┆ 414711  ┆ 132135  │\n",
       "│ 9       ┆ 2   ┆ 1   ┆ 0   ┆ 414711  ┆ 132135  │\n",
       "│ 9       ┆ 2   ┆ 1   ┆ 0   ┆ 3424    ┆ 879     │\n",
       "│ 9       ┆ 2   ┆ 1   ┆ 1   ┆ 202     ┆ 48      │\n",
       "└─────────┴─────┴─────┴─────┴─────────┴─────────┘"
      ]
     },
     "execution_count": 15,
     "metadata": {},
     "output_type": "execute_result"
    }
   ],
   "source": [
    "polars_df.select(pl.exclude(pl.Utf8)).head()"
   ]
  },
  {
   "attachments": {},
   "cell_type": "markdown",
   "metadata": {},
   "source": [
    "## `Expression` contexts\n",
    "\n",
    "No puedes usar una `expression` en cualquier lugar. Necesitan un context:\n",
    "- selection: `select`\n",
    "- groupby aggregation: `groupby`\n",
    "- hstack/add columns: `with_columns`"
   ]
  },
  {
   "cell_type": "code",
   "execution_count": 16,
   "metadata": {},
   "outputs": [
    {
     "ename": "TypeError",
     "evalue": "'DataFrame' object is not callable",
     "output_type": "error",
     "traceback": [
      "\u001b[0;31m---------------------------------------------------------------------------\u001b[0m",
      "\u001b[0;31mTypeError\u001b[0m                                 Traceback (most recent call last)",
      "Cell \u001b[0;32mIn[16], line 1\u001b[0m\n\u001b[0;32m----> 1\u001b[0m polars_df(pl\u001b[39m.\u001b[39;49mexclude(pl\u001b[39m.\u001b[39;49mInt64))\n",
      "\u001b[0;31mTypeError\u001b[0m: 'DataFrame' object is not callable"
     ]
    }
   ],
   "source": [
    "polars_df(pl.exclude(pl.Int64))"
   ]
  },
  {
   "cell_type": "code",
   "execution_count": 17,
   "metadata": {},
   "outputs": [
    {
     "data": {
      "text/html": [
       "<div><style>\n",
       ".dataframe > thead > tr > th,\n",
       ".dataframe > tbody > tr > td {\n",
       "  text-align: right;\n",
       "}\n",
       "</style>\n",
       "<small>shape: (5, 3)</small><table border=\"1\" class=\"dataframe\"><thead><tr><th>mi_numero</th><th>NOM_ENT</th><th>POBTOT</th></tr><tr><td>i32</td><td>str</td><td>f64</td></tr></thead><tbody><tr><td>1</td><td>&quot;DISTRITO FEDER...</td><td>8851.08</td></tr><tr><td>1</td><td>&quot;DISTRITO FEDER...</td><td>414.711</td></tr><tr><td>1</td><td>&quot;DISTRITO FEDER...</td><td>414.711</td></tr><tr><td>1</td><td>&quot;DISTRITO FEDER...</td><td>3.424</td></tr><tr><td>1</td><td>&quot;DISTRITO FEDER...</td><td>0.202</td></tr></tbody></table></div>"
      ],
      "text/plain": [
       "shape: (5, 3)\n",
       "┌───────────┬──────────────────┬─────────┐\n",
       "│ mi_numero ┆ NOM_ENT          ┆ POBTOT  │\n",
       "│ ---       ┆ ---              ┆ ---     │\n",
       "│ i32       ┆ str              ┆ f64     │\n",
       "╞═══════════╪══════════════════╪═════════╡\n",
       "│ 1         ┆ DISTRITO FEDERAL ┆ 8851.08 │\n",
       "│ 1         ┆ DISTRITO FEDERAL ┆ 414.711 │\n",
       "│ 1         ┆ DISTRITO FEDERAL ┆ 414.711 │\n",
       "│ 1         ┆ DISTRITO FEDERAL ┆ 3.424   │\n",
       "│ 1         ┆ DISTRITO FEDERAL ┆ 0.202   │\n",
       "└───────────┴──────────────────┴─────────┘"
      ]
     },
     "execution_count": 17,
     "metadata": {},
     "output_type": "execute_result"
    }
   ],
   "source": [
    "polars_df.with_columns(\n",
    "    pl.lit(1).alias(\"mi_numero\"),\n",
    "    pl.col(\"POBTOT\")/1000,\n",
    "    pl.col(\"NOM_ENT\").str.to_uppercase()\n",
    ").select(\"mi_numero\",\"NOM_ENT\",\"POBTOT\").head()"
   ]
  },
  {
   "cell_type": "code",
   "execution_count": 18,
   "metadata": {},
   "outputs": [
    {
     "ename": "TypeError",
     "evalue": "unsupported operand type(s) for /: 'str' and 'int'",
     "output_type": "error",
     "traceback": [
      "\u001b[0;31m---------------------------------------------------------------------------\u001b[0m",
      "\u001b[0;31mTypeError\u001b[0m                                 Traceback (most recent call last)",
      "Cell \u001b[0;32mIn[18], line 2\u001b[0m\n\u001b[1;32m      1\u001b[0m polars_df\u001b[39m.\u001b[39mwith_columns(\n\u001b[0;32m----> 2\u001b[0m     \u001b[39m\"\u001b[39;49m\u001b[39mPOBTOT\u001b[39;49m\u001b[39m\"\u001b[39;49m\u001b[39m/\u001b[39;49m\u001b[39m1000\u001b[39;49m\n\u001b[1;32m      3\u001b[0m )\u001b[39m.\u001b[39mselect(\u001b[39m\"\u001b[39m\u001b[39mPOBTOT\u001b[39m\u001b[39m\"\u001b[39m)\u001b[39m.\u001b[39mhead()\n",
      "\u001b[0;31mTypeError\u001b[0m: unsupported operand type(s) for /: 'str' and 'int'"
     ]
    }
   ],
   "source": [
    "polars_df.with_columns(\n",
    "    \"POBTOT\"/1000\n",
    ").select(\"POBTOT\").head()"
   ]
  },
  {
   "attachments": {},
   "cell_type": "markdown",
   "metadata": {},
   "source": [
    "## `Lazy mode`\n",
    "El modo default de Polars es `Eager`, es decir trata de ejecutar el código inmediatanmente.<br>\n",
    "Si queremos aprovechar Polars a su máximo potencial ⚡ , debemos usar `Lazy Evaluation`<br>\n",
    "`scan_csv` usa Lazy Evaluation y en conjunto con `collect` hacemos el mejor uso del API de Polars "
   ]
  },
  {
   "cell_type": "code",
   "execution_count": 19,
   "metadata": {},
   "outputs": [],
   "source": [
    "with open('../data/inegi.csv', 'r',encoding='latin1') as fh:\n",
    "    inegi_df = pl.read_csv(fh.read().encode('utf8'))\n",
    "    inegi_df.write_parquet(\n",
    "        \"../output/inegi.parquet\",\n",
    "        compression=\"zstd\",\n",
    "        row_group_size=100_000) "
   ]
  },
  {
   "attachments": {},
   "cell_type": "markdown",
   "metadata": {},
   "source": [
    "Usando `lazy evaluation`"
   ]
  },
  {
   "cell_type": "code",
   "execution_count": 20,
   "metadata": {},
   "outputs": [
    {
     "data": {
      "text/html": [
       "<div><style>\n",
       ".dataframe > thead > tr > th,\n",
       ".dataframe > tbody > tr > td {\n",
       "  text-align: right;\n",
       "}\n",
       "</style>\n",
       "<small>shape: (5, 42)</small><table border=\"1\" class=\"dataframe\"><thead><tr><th>id</th><th>clee</th><th>nom_estab</th><th>raz_social</th><th>codigo_act</th><th>nombre_act</th><th>per_ocu</th><th>tipo_vial</th><th>nom_vial</th><th>tipo_v_e_1</th><th>nom_v_e_1</th><th>tipo_v_e_2</th><th>nom_v_e_2</th><th>tipo_v_e_3</th><th>nom_v_e_3</th><th>numero_ext</th><th>letra_ext</th><th>edificio</th><th>edificio_e</th><th>numero_int</th><th>letra_int</th><th>tipo_asent</th><th>nomb_asent</th><th>tipoCenCom</th><th>nom_CenCom</th><th>num_local</th><th>cod_postal</th><th>cve_ent</th><th>entidad</th><th>cve_mun</th><th>municipio</th><th>cve_loc</th><th>localidad</th><th>ageb</th><th>manzana</th><th>telefono</th><th>correoelec</th><th>www</th><th>tipoUniEco</th><th>latitud</th><th>longitud</th><th>fecha_alta</th></tr><tr><td>i64</td><td>str</td><td>str</td><td>str</td><td>i64</td><td>str</td><td>str</td><td>str</td><td>str</td><td>str</td><td>str</td><td>str</td><td>str</td><td>str</td><td>str</td><td>i64</td><td>str</td><td>str</td><td>str</td><td>i64</td><td>str</td><td>str</td><td>str</td><td>str</td><td>str</td><td>str</td><td>i64</td><td>i64</td><td>str</td><td>i64</td><td>str</td><td>i64</td><td>str</td><td>str</td><td>i64</td><td>i64</td><td>str</td><td>str</td><td>str</td><td>f64</td><td>f64</td><td>str</td></tr></thead><tbody><tr><td>6174829</td><td>&quot;20169114119001...</td><td>&quot;PESCA DE CRUST...</td><td>null</td><td>114119</td><td>&quot;Pesca y captur...</td><td>&quot;0 a 5 personas...</td><td>&quot;CALLE&quot;</td><td>&quot;NINGUNO&quot;</td><td>&quot;CALLE&quot;</td><td>&quot;NINGUNO&quot;</td><td>&quot;CALLE&quot;</td><td>&quot;NINGUNO&quot;</td><td>&quot;CALLE&quot;</td><td>&quot;NINGUNO&quot;</td><td>0</td><td>null</td><td>null</td><td>null</td><td>0</td><td>null</td><td>&quot;LOCALIDAD&quot;</td><td>&quot;BUENOS AIRES&quot;</td><td>null</td><td>null</td><td>null</td><td>68407</td><td>20</td><td>&quot;Oaxaca&quot;</td><td>169</td><td>&quot;San Jos� Indep...</td><td>2</td><td>&quot;Buenos Aires&quot;</td><td>&quot;0030&quot;</td><td>5</td><td>null</td><td>null</td><td>null</td><td>&quot;Fijo&quot;</td><td>18.255652</td><td>-96.614697</td><td>&quot;2010-07&quot;</td></tr><tr><td>6174806</td><td>&quot;20406114119000...</td><td>&quot;PESCA DE CRUST...</td><td>null</td><td>114119</td><td>&quot;Pesca y captur...</td><td>&quot;0 a 5 personas...</td><td>&quot;CALLE&quot;</td><td>&quot;NINGUNO&quot;</td><td>&quot;CALLE&quot;</td><td>&quot;NINGUNO&quot;</td><td>&quot;CALLE&quot;</td><td>&quot;NINGUNO&quot;</td><td>&quot;CALLE&quot;</td><td>&quot;NINGUNO&quot;</td><td>null</td><td>&quot;SN&quot;</td><td>null</td><td>null</td><td>null</td><td>null</td><td>&quot;LOCALIDAD&quot;</td><td>&quot;LOMA ALTA&quot;</td><td>null</td><td>null</td><td>null</td><td>68511</td><td>20</td><td>&quot;Oaxaca&quot;</td><td>406</td><td>&quot;Santa Mar�a Ch...</td><td>74</td><td>&quot;Loma Alta&quot;</td><td>&quot;0022&quot;</td><td>800</td><td>null</td><td>null</td><td>null</td><td>&quot;Fijo&quot;</td><td>18.313758</td><td>-96.647255</td><td>&quot;2010-07&quot;</td></tr><tr><td>6174723</td><td>&quot;20406114119000...</td><td>&quot;PESCA DE CRUST...</td><td>null</td><td>114119</td><td>&quot;Pesca y captur...</td><td>&quot;0 a 5 personas...</td><td>&quot;CALLE&quot;</td><td>&quot;NINGUNO&quot;</td><td>&quot;CALLE&quot;</td><td>&quot;NINGUNO&quot;</td><td>&quot;CALLE&quot;</td><td>&quot;NINGUNO&quot;</td><td>&quot;CALLE&quot;</td><td>&quot;NINGUNO&quot;</td><td>null</td><td>&quot;SN&quot;</td><td>null</td><td>null</td><td>null</td><td>null</td><td>&quot;LOCALIDAD&quot;</td><td>&quot;LOMA ALTA&quot;</td><td>null</td><td>null</td><td>null</td><td>68511</td><td>20</td><td>&quot;Oaxaca&quot;</td><td>406</td><td>&quot;Santa Mar�a Ch...</td><td>74</td><td>&quot;Loma Alta&quot;</td><td>&quot;0022&quot;</td><td>800</td><td>null</td><td>null</td><td>null</td><td>&quot;Fijo&quot;</td><td>18.313758</td><td>-96.647255</td><td>&quot;2010-07&quot;</td></tr><tr><td>6174722</td><td>&quot;20309114119000...</td><td>&quot;PESCA DE CRUST...</td><td>null</td><td>114119</td><td>&quot;Pesca y captur...</td><td>&quot;0 a 5 personas...</td><td>&quot;OTRO (ESPECIFI...</td><td>&quot;NINGUNO&quot;</td><td>&quot;OTRO (ESPECIFI...</td><td>&quot;NINGUNO&quot;</td><td>&quot;OTRO (ESPECIFI...</td><td>&quot;NINGUNO&quot;</td><td>&quot;OTRO (ESPECIFI...</td><td>&quot;NINGUNO&quot;</td><td>0</td><td>null</td><td>null</td><td>null</td><td>0</td><td>null</td><td>&quot;COLONIA&quot;</td><td>&quot;BUENA VISTA&quot;</td><td>null</td><td>null</td><td>null</td><td>68450</td><td>20</td><td>&quot;Oaxaca&quot;</td><td>309</td><td>&quot;San Pedro Ixca...</td><td>16</td><td>&quot;Colonia Buena ...</td><td>&quot;0014&quot;</td><td>800</td><td>null</td><td>null</td><td>null</td><td>&quot;Fijo&quot;</td><td>18.136119</td><td>-96.520094</td><td>&quot;2010-07&quot;</td></tr><tr><td>6174801</td><td>&quot;20406114119000...</td><td>&quot;PESCA DE CRUST...</td><td>null</td><td>114119</td><td>&quot;Pesca y captur...</td><td>&quot;0 a 5 personas...</td><td>&quot;CALLE&quot;</td><td>&quot;NINGUNO&quot;</td><td>&quot;CALLE&quot;</td><td>&quot;NINGUNO&quot;</td><td>&quot;CALLE&quot;</td><td>&quot;NINGUNO&quot;</td><td>&quot;CALLE&quot;</td><td>&quot;NINGUNO&quot;</td><td>0</td><td>&quot;SN&quot;</td><td>null</td><td>null</td><td>null</td><td>null</td><td>&quot;LOCALIDAD&quot;</td><td>&quot;LOMA ALTA&quot;</td><td>null</td><td>null</td><td>null</td><td>68511</td><td>20</td><td>&quot;Oaxaca&quot;</td><td>406</td><td>&quot;Santa Mar�a Ch...</td><td>74</td><td>&quot;Loma Alta&quot;</td><td>&quot;0022&quot;</td><td>800</td><td>null</td><td>null</td><td>null</td><td>&quot;Fijo&quot;</td><td>18.313758</td><td>-96.647255</td><td>&quot;2010-07&quot;</td></tr></tbody></table></div>"
      ],
      "text/plain": [
       "shape: (5, 42)\n",
       "┌─────────┬─────────────┬─────────┬──────────┬─────┬──────────┬────────────┬────────────┬──────────┐\n",
       "│ id      ┆ clee        ┆ nom_est ┆ raz_soci ┆ ... ┆ tipoUniE ┆ latitud    ┆ longitud   ┆ fecha_al │\n",
       "│ ---     ┆ ---         ┆ ab      ┆ al       ┆     ┆ co       ┆ ---        ┆ ---        ┆ ta       │\n",
       "│ i64     ┆ str         ┆ ---     ┆ ---      ┆     ┆ ---      ┆ f64        ┆ f64        ┆ ---      │\n",
       "│         ┆             ┆ str     ┆ str      ┆     ┆ str      ┆            ┆            ┆ str      │\n",
       "╞═════════╪═════════════╪═════════╪══════════╪═════╪══════════╪════════════╪════════════╪══════════╡\n",
       "│ 6174829 ┆ 20169114119 ┆ PESCA   ┆ null     ┆ ... ┆ Fijo     ┆ 18.255652  ┆ -96.614697 ┆ 2010-07  │\n",
       "│         ┆ 00100100000 ┆ DE CRUS ┆          ┆     ┆          ┆            ┆            ┆          │\n",
       "│         ┆ 0000U7      ┆ T�CEOS, ┆          ┆     ┆          ┆            ┆            ┆          │\n",
       "│         ┆             ┆ MOLUSCO ┆          ┆     ┆          ┆            ┆            ┆          │\n",
       "│         ┆             ┆ S Y ... ┆          ┆     ┆          ┆            ┆            ┆          │\n",
       "│ 6174806 ┆ 20406114119 ┆ PESCA   ┆ null     ┆ ... ┆ Fijo     ┆ 18.313758  ┆ -96.647255 ┆ 2010-07  │\n",
       "│         ┆ 00039100000 ┆ DE CRUS ┆          ┆     ┆          ┆            ┆            ┆          │\n",
       "│         ┆ 0000U9      ┆ T�CEOS, ┆          ┆     ┆          ┆            ┆            ┆          │\n",
       "│         ┆             ┆ MOLUSCO ┆          ┆     ┆          ┆            ┆            ┆          │\n",
       "│         ┆             ┆ S Y ... ┆          ┆     ┆          ┆            ┆            ┆          │\n",
       "│ 6174723 ┆ 20406114119 ┆ PESCA   ┆ null     ┆ ... ┆ Fijo     ┆ 18.313758  ┆ -96.647255 ┆ 2010-07  │\n",
       "│         ┆ 00034100000 ┆ DE CRUS ┆          ┆     ┆          ┆            ┆            ┆          │\n",
       "│         ┆ 0000U4      ┆ T�CEOS, ┆          ┆     ┆          ┆            ┆            ┆          │\n",
       "│         ┆             ┆ MOLUSCO ┆          ┆     ┆          ┆            ┆            ┆          │\n",
       "│         ┆             ┆ S Y ... ┆          ┆     ┆          ┆            ┆            ┆          │\n",
       "│ 6174722 ┆ 20309114119 ┆ PESCA   ┆ null     ┆ ... ┆ Fijo     ┆ 18.136119  ┆ -96.520094 ┆ 2010-07  │\n",
       "│         ┆ 00078100000 ┆ DE CRUS ┆          ┆     ┆          ┆            ┆            ┆          │\n",
       "│         ┆ 0000U7      ┆ T�CEOS, ┆          ┆     ┆          ┆            ┆            ┆          │\n",
       "│         ┆             ┆ MOLUSCO ┆          ┆     ┆          ┆            ┆            ┆          │\n",
       "│         ┆             ┆ S Y ... ┆          ┆     ┆          ┆            ┆            ┆          │\n",
       "│ 6174801 ┆ 20406114119 ┆ PESCA   ┆ null     ┆ ... ┆ Fijo     ┆ 18.313758  ┆ -96.647255 ┆ 2010-07  │\n",
       "│         ┆ 00038100000 ┆ DE CRUS ┆          ┆     ┆          ┆            ┆            ┆          │\n",
       "│         ┆ 0000U0      ┆ T�CEOS, ┆          ┆     ┆          ┆            ┆            ┆          │\n",
       "│         ┆             ┆ MOLUSCO ┆          ┆     ┆          ┆            ┆            ┆          │\n",
       "│         ┆             ┆ S Y ... ┆          ┆     ┆          ┆            ┆            ┆          │\n",
       "└─────────┴─────────────┴─────────┴──────────┴─────┴──────────┴────────────┴────────────┴──────────┘"
      ]
     },
     "execution_count": 20,
     "metadata": {},
     "output_type": "execute_result"
    }
   ],
   "source": [
    "inegi_df = pl.scan_csv('../data/inegi.csv',encoding='utf8-lossy').collect()\n",
    "inegi_df.head()"
   ]
  },
  {
   "attachments": {},
   "cell_type": "markdown",
   "metadata": {},
   "source": [
    "Polars usa la estructura de datos `lazyFrame` cuando está en modo lazy"
   ]
  },
  {
   "cell_type": "code",
   "execution_count": 21,
   "metadata": {},
   "outputs": [
    {
     "data": {
      "text/html": [
       "<i>naive plan: (run <b>LazyFrame.explain(optimized=True)</b> to see the optimized plan)</i>\n",
       "    <p></p>\n",
       "    <div><p></p>  PARQUET SCAN ../output/inegi.parquet<p></p>  PROJECT */42 COLUMNS</div>"
      ],
      "text/plain": [
       "<polars.LazyFrame object at 0x152718BB0>"
      ]
     },
     "execution_count": 21,
     "metadata": {},
     "output_type": "execute_result"
    }
   ],
   "source": [
    "inegi_df = pl.scan_parquet(\"../output/inegi.parquet\")\n",
    "inegi_df"
   ]
  },
  {
   "cell_type": "code",
   "execution_count": 22,
   "metadata": {},
   "outputs": [
    {
     "data": {
      "text/plain": [
       "'\\n  PARQUET SCAN ../output/inegi.parquet\\n  PROJECT */42 COLUMNS'"
      ]
     },
     "execution_count": 22,
     "metadata": {},
     "output_type": "execute_result"
    }
   ],
   "source": [
    "inegi_df.explain()"
   ]
  },
  {
   "attachments": {},
   "cell_type": "markdown",
   "metadata": {},
   "source": [
    "`fetch` Nos permite extraer datos de manera eficiente sin tener que llevar todos los datos a memoria"
   ]
  },
  {
   "cell_type": "code",
   "execution_count": 23,
   "metadata": {},
   "outputs": [
    {
     "data": {
      "text/html": [
       "<div><style>\n",
       ".dataframe > thead > tr > th,\n",
       ".dataframe > tbody > tr > td {\n",
       "  text-align: right;\n",
       "}\n",
       "</style>\n",
       "<small>shape: (10, 42)</small><table border=\"1\" class=\"dataframe\"><thead><tr><th>id</th><th>clee</th><th>nom_estab</th><th>raz_social</th><th>codigo_act</th><th>nombre_act</th><th>per_ocu</th><th>tipo_vial</th><th>nom_vial</th><th>tipo_v_e_1</th><th>nom_v_e_1</th><th>tipo_v_e_2</th><th>nom_v_e_2</th><th>tipo_v_e_3</th><th>nom_v_e_3</th><th>numero_ext</th><th>letra_ext</th><th>edificio</th><th>edificio_e</th><th>numero_int</th><th>letra_int</th><th>tipo_asent</th><th>nomb_asent</th><th>tipoCenCom</th><th>nom_CenCom</th><th>num_local</th><th>cod_postal</th><th>cve_ent</th><th>entidad</th><th>cve_mun</th><th>municipio</th><th>cve_loc</th><th>localidad</th><th>ageb</th><th>manzana</th><th>telefono</th><th>correoelec</th><th>www</th><th>tipoUniEco</th><th>latitud</th><th>longitud</th><th>fecha_alta</th></tr><tr><td>i64</td><td>str</td><td>str</td><td>str</td><td>i64</td><td>str</td><td>str</td><td>str</td><td>str</td><td>str</td><td>str</td><td>str</td><td>str</td><td>str</td><td>str</td><td>i64</td><td>str</td><td>str</td><td>str</td><td>i64</td><td>str</td><td>str</td><td>str</td><td>str</td><td>str</td><td>str</td><td>i64</td><td>i64</td><td>str</td><td>i64</td><td>str</td><td>i64</td><td>str</td><td>str</td><td>i64</td><td>i64</td><td>str</td><td>str</td><td>str</td><td>f64</td><td>f64</td><td>str</td></tr></thead><tbody><tr><td>6174829</td><td>&quot;20169114119001...</td><td>&quot;PESCA DE CRUST...</td><td>null</td><td>114119</td><td>&quot;Pesca y captur...</td><td>&quot;0 a 5 personas...</td><td>&quot;CALLE&quot;</td><td>&quot;NINGUNO&quot;</td><td>&quot;CALLE&quot;</td><td>&quot;NINGUNO&quot;</td><td>&quot;CALLE&quot;</td><td>&quot;NINGUNO&quot;</td><td>&quot;CALLE&quot;</td><td>&quot;NINGUNO&quot;</td><td>0</td><td>null</td><td>null</td><td>null</td><td>0</td><td>null</td><td>&quot;LOCALIDAD&quot;</td><td>&quot;BUENOS AIRES&quot;</td><td>null</td><td>null</td><td>null</td><td>68407</td><td>20</td><td>&quot;Oaxaca&quot;</td><td>169</td><td>&quot;San José Indep...</td><td>2</td><td>&quot;Buenos Aires&quot;</td><td>&quot;0030&quot;</td><td>5</td><td>null</td><td>null</td><td>null</td><td>&quot;Fijo&quot;</td><td>18.255652</td><td>-96.614697</td><td>&quot;2010-07&quot;</td></tr><tr><td>6174806</td><td>&quot;20406114119000...</td><td>&quot;PESCA DE CRUST...</td><td>null</td><td>114119</td><td>&quot;Pesca y captur...</td><td>&quot;0 a 5 personas...</td><td>&quot;CALLE&quot;</td><td>&quot;NINGUNO&quot;</td><td>&quot;CALLE&quot;</td><td>&quot;NINGUNO&quot;</td><td>&quot;CALLE&quot;</td><td>&quot;NINGUNO&quot;</td><td>&quot;CALLE&quot;</td><td>&quot;NINGUNO&quot;</td><td>null</td><td>&quot;SN&quot;</td><td>null</td><td>null</td><td>null</td><td>null</td><td>&quot;LOCALIDAD&quot;</td><td>&quot;LOMA ALTA&quot;</td><td>null</td><td>null</td><td>null</td><td>68511</td><td>20</td><td>&quot;Oaxaca&quot;</td><td>406</td><td>&quot;Santa María Ch...</td><td>74</td><td>&quot;Loma Alta&quot;</td><td>&quot;0022&quot;</td><td>800</td><td>null</td><td>null</td><td>null</td><td>&quot;Fijo&quot;</td><td>18.313758</td><td>-96.647255</td><td>&quot;2010-07&quot;</td></tr><tr><td>6174723</td><td>&quot;20406114119000...</td><td>&quot;PESCA DE CRUST...</td><td>null</td><td>114119</td><td>&quot;Pesca y captur...</td><td>&quot;0 a 5 personas...</td><td>&quot;CALLE&quot;</td><td>&quot;NINGUNO&quot;</td><td>&quot;CALLE&quot;</td><td>&quot;NINGUNO&quot;</td><td>&quot;CALLE&quot;</td><td>&quot;NINGUNO&quot;</td><td>&quot;CALLE&quot;</td><td>&quot;NINGUNO&quot;</td><td>null</td><td>&quot;SN&quot;</td><td>null</td><td>null</td><td>null</td><td>null</td><td>&quot;LOCALIDAD&quot;</td><td>&quot;LOMA ALTA&quot;</td><td>null</td><td>null</td><td>null</td><td>68511</td><td>20</td><td>&quot;Oaxaca&quot;</td><td>406</td><td>&quot;Santa María Ch...</td><td>74</td><td>&quot;Loma Alta&quot;</td><td>&quot;0022&quot;</td><td>800</td><td>null</td><td>null</td><td>null</td><td>&quot;Fijo&quot;</td><td>18.313758</td><td>-96.647255</td><td>&quot;2010-07&quot;</td></tr><tr><td>6174722</td><td>&quot;20309114119000...</td><td>&quot;PESCA DE CRUST...</td><td>null</td><td>114119</td><td>&quot;Pesca y captur...</td><td>&quot;0 a 5 personas...</td><td>&quot;OTRO (ESPECIFI...</td><td>&quot;NINGUNO&quot;</td><td>&quot;OTRO (ESPECIFI...</td><td>&quot;NINGUNO&quot;</td><td>&quot;OTRO (ESPECIFI...</td><td>&quot;NINGUNO&quot;</td><td>&quot;OTRO (ESPECIFI...</td><td>&quot;NINGUNO&quot;</td><td>0</td><td>null</td><td>null</td><td>null</td><td>0</td><td>null</td><td>&quot;COLONIA&quot;</td><td>&quot;BUENA VISTA&quot;</td><td>null</td><td>null</td><td>null</td><td>68450</td><td>20</td><td>&quot;Oaxaca&quot;</td><td>309</td><td>&quot;San Pedro Ixca...</td><td>16</td><td>&quot;Colonia Buena ...</td><td>&quot;0014&quot;</td><td>800</td><td>null</td><td>null</td><td>null</td><td>&quot;Fijo&quot;</td><td>18.136119</td><td>-96.520094</td><td>&quot;2010-07&quot;</td></tr><tr><td>6174801</td><td>&quot;20406114119000...</td><td>&quot;PESCA DE CRUST...</td><td>null</td><td>114119</td><td>&quot;Pesca y captur...</td><td>&quot;0 a 5 personas...</td><td>&quot;CALLE&quot;</td><td>&quot;NINGUNO&quot;</td><td>&quot;CALLE&quot;</td><td>&quot;NINGUNO&quot;</td><td>&quot;CALLE&quot;</td><td>&quot;NINGUNO&quot;</td><td>&quot;CALLE&quot;</td><td>&quot;NINGUNO&quot;</td><td>0</td><td>&quot;SN&quot;</td><td>null</td><td>null</td><td>null</td><td>null</td><td>&quot;LOCALIDAD&quot;</td><td>&quot;LOMA ALTA&quot;</td><td>null</td><td>null</td><td>null</td><td>68511</td><td>20</td><td>&quot;Oaxaca&quot;</td><td>406</td><td>&quot;Santa María Ch...</td><td>74</td><td>&quot;Loma Alta&quot;</td><td>&quot;0022&quot;</td><td>800</td><td>null</td><td>null</td><td>null</td><td>&quot;Fijo&quot;</td><td>18.313758</td><td>-96.647255</td><td>&quot;2010-07&quot;</td></tr><tr><td>6176111</td><td>&quot;20169114119000...</td><td>&quot;PESCA DE CRUST...</td><td>null</td><td>114119</td><td>&quot;Pesca y captur...</td><td>&quot;0 a 5 personas...</td><td>&quot;CALLE&quot;</td><td>&quot;NINGUNO&quot;</td><td>&quot;CALLE&quot;</td><td>&quot;NINGUNO&quot;</td><td>&quot;CALLE&quot;</td><td>&quot;NINGUNO&quot;</td><td>&quot;CALLE&quot;</td><td>&quot;NINGUNO&quot;</td><td>0</td><td>null</td><td>null</td><td>null</td><td>null</td><td>null</td><td>&quot;LOCALIDAD&quot;</td><td>&quot;CERRO LAGUNA&quot;</td><td>null</td><td>null</td><td>null</td><td>68407</td><td>20</td><td>&quot;Oaxaca&quot;</td><td>169</td><td>&quot;San José Indep...</td><td>5</td><td>&quot;El Tepeyac&quot;</td><td>&quot;0030&quot;</td><td>800</td><td>null</td><td>null</td><td>null</td><td>&quot;Fijo&quot;</td><td>18.229444</td><td>-96.623056</td><td>&quot;2010-07&quot;</td></tr><tr><td>6176109</td><td>&quot;20169114119000...</td><td>&quot;PESCA DE CRUST...</td><td>null</td><td>114119</td><td>&quot;Pesca y captur...</td><td>&quot;0 a 5 personas...</td><td>&quot;CALLE&quot;</td><td>&quot;NINGUNO&quot;</td><td>&quot;CALLE&quot;</td><td>&quot;NINGUNO&quot;</td><td>&quot;CALLE&quot;</td><td>&quot;NINGUNO&quot;</td><td>&quot;CALLE&quot;</td><td>&quot;NINGUNO&quot;</td><td>0</td><td>null</td><td>null</td><td>null</td><td>0</td><td>null</td><td>&quot;LOCALIDAD&quot;</td><td>&quot;RIO LODO&quot;</td><td>null</td><td>null</td><td>null</td><td>68407</td><td>20</td><td>&quot;Oaxaca&quot;</td><td>406</td><td>&quot;Santa María Ch...</td><td>60</td><td>&quot;Río Lodo&quot;</td><td>&quot;0022&quot;</td><td>800</td><td>null</td><td>null</td><td>null</td><td>&quot;Fijo&quot;</td><td>18.302727</td><td>-96.678663</td><td>&quot;2010-07&quot;</td></tr><tr><td>6176116</td><td>&quot;20406114119000...</td><td>&quot;PESCA DE CRUST...</td><td>null</td><td>114119</td><td>&quot;Pesca y captur...</td><td>&quot;0 a 5 personas...</td><td>&quot;CALLE&quot;</td><td>&quot;NINGUNO&quot;</td><td>&quot;CALLE&quot;</td><td>&quot;NINGUNO&quot;</td><td>&quot;CALLE&quot;</td><td>&quot;NINGUNO&quot;</td><td>&quot;CALLE&quot;</td><td>&quot;NINGUNO&quot;</td><td>null</td><td>&quot;SN&quot;</td><td>null</td><td>null</td><td>null</td><td>null</td><td>&quot;LOCALIDAD&quot;</td><td>&quot;LOMA ALTA&quot;</td><td>null</td><td>null</td><td>null</td><td>68511</td><td>20</td><td>&quot;Oaxaca&quot;</td><td>406</td><td>&quot;Santa María Ch...</td><td>74</td><td>&quot;Loma Alta&quot;</td><td>&quot;0022&quot;</td><td>800</td><td>null</td><td>null</td><td>null</td><td>&quot;Fijo&quot;</td><td>18.313758</td><td>-96.647255</td><td>&quot;2010-07&quot;</td></tr><tr><td>6176114</td><td>&quot;20169114119000...</td><td>&quot;PESCA DE CRUST...</td><td>null</td><td>114119</td><td>&quot;Pesca y captur...</td><td>&quot;0 a 5 personas...</td><td>&quot;CALLE&quot;</td><td>&quot;NINGUNO&quot;</td><td>&quot;CALLE&quot;</td><td>&quot;NINGUNO&quot;</td><td>&quot;CALLE&quot;</td><td>&quot;NINGUNO&quot;</td><td>&quot;CALLE&quot;</td><td>&quot;NINGUNO&quot;</td><td>0</td><td>null</td><td>null</td><td>null</td><td>null</td><td>null</td><td>&quot;LOCALIDAD&quot;</td><td>&quot;CERRO LAGUNA&quot;</td><td>null</td><td>null</td><td>null</td><td>68407</td><td>20</td><td>&quot;Oaxaca&quot;</td><td>169</td><td>&quot;San José Indep...</td><td>11</td><td>&quot;Cerro Laguna&quot;</td><td>&quot;0030&quot;</td><td>800</td><td>null</td><td>null</td><td>null</td><td>&quot;Fijo&quot;</td><td>18.258726</td><td>-96.660089</td><td>&quot;2010-07&quot;</td></tr><tr><td>6176135</td><td>&quot;20169114119000...</td><td>&quot;PESCA DE CRUST...</td><td>null</td><td>114119</td><td>&quot;Pesca y captur...</td><td>&quot;0 a 5 personas...</td><td>&quot;CALLE&quot;</td><td>&quot;NINGUNO&quot;</td><td>&quot;CALLE&quot;</td><td>&quot;NINGUNO&quot;</td><td>&quot;CALLE&quot;</td><td>&quot;NINGUNO&quot;</td><td>&quot;CALLE&quot;</td><td>&quot;NINGUNO&quot;</td><td>0</td><td>null</td><td>null</td><td>null</td><td>null</td><td>null</td><td>&quot;LOCALIDAD&quot;</td><td>&quot;CERRO CLARIN&quot;</td><td>null</td><td>null</td><td>null</td><td>68407</td><td>20</td><td>&quot;Oaxaca&quot;</td><td>169</td><td>&quot;San José Indep...</td><td>3</td><td>&quot;Cerro Clarín&quot;</td><td>&quot;0030&quot;</td><td>800</td><td>null</td><td>null</td><td>null</td><td>&quot;Fijo&quot;</td><td>18.28</td><td>-96.659</td><td>&quot;2010-07&quot;</td></tr></tbody></table></div>"
      ],
      "text/plain": [
       "shape: (10, 42)\n",
       "┌─────────┬─────────────┬─────────┬──────────┬─────┬──────────┬────────────┬────────────┬──────────┐\n",
       "│ id      ┆ clee        ┆ nom_est ┆ raz_soci ┆ ... ┆ tipoUniE ┆ latitud    ┆ longitud   ┆ fecha_al │\n",
       "│ ---     ┆ ---         ┆ ab      ┆ al       ┆     ┆ co       ┆ ---        ┆ ---        ┆ ta       │\n",
       "│ i64     ┆ str         ┆ ---     ┆ ---      ┆     ┆ ---      ┆ f64        ┆ f64        ┆ ---      │\n",
       "│         ┆             ┆ str     ┆ str      ┆     ┆ str      ┆            ┆            ┆ str      │\n",
       "╞═════════╪═════════════╪═════════╪══════════╪═════╪══════════╪════════════╪════════════╪══════════╡\n",
       "│ 6174829 ┆ 20169114119 ┆ PESCA   ┆ null     ┆ ... ┆ Fijo     ┆ 18.255652  ┆ -96.614697 ┆ 2010-07  │\n",
       "│         ┆ 00100100000 ┆ DE CRUS ┆          ┆     ┆          ┆            ┆            ┆          │\n",
       "│         ┆ 0000U7      ┆ TÁCEOS, ┆          ┆     ┆          ┆            ┆            ┆          │\n",
       "│         ┆             ┆ MOLUSCO ┆          ┆     ┆          ┆            ┆            ┆          │\n",
       "│         ┆             ┆ S Y ... ┆          ┆     ┆          ┆            ┆            ┆          │\n",
       "│ 6174806 ┆ 20406114119 ┆ PESCA   ┆ null     ┆ ... ┆ Fijo     ┆ 18.313758  ┆ -96.647255 ┆ 2010-07  │\n",
       "│         ┆ 00039100000 ┆ DE CRUS ┆          ┆     ┆          ┆            ┆            ┆          │\n",
       "│         ┆ 0000U9      ┆ TÁCEOS, ┆          ┆     ┆          ┆            ┆            ┆          │\n",
       "│         ┆             ┆ MOLUSCO ┆          ┆     ┆          ┆            ┆            ┆          │\n",
       "│         ┆             ┆ S Y ... ┆          ┆     ┆          ┆            ┆            ┆          │\n",
       "│ 6174723 ┆ 20406114119 ┆ PESCA   ┆ null     ┆ ... ┆ Fijo     ┆ 18.313758  ┆ -96.647255 ┆ 2010-07  │\n",
       "│         ┆ 00034100000 ┆ DE CRUS ┆          ┆     ┆          ┆            ┆            ┆          │\n",
       "│         ┆ 0000U4      ┆ TÁCEOS, ┆          ┆     ┆          ┆            ┆            ┆          │\n",
       "│         ┆             ┆ MOLUSCO ┆          ┆     ┆          ┆            ┆            ┆          │\n",
       "│         ┆             ┆ S Y ... ┆          ┆     ┆          ┆            ┆            ┆          │\n",
       "│ 6174722 ┆ 20309114119 ┆ PESCA   ┆ null     ┆ ... ┆ Fijo     ┆ 18.136119  ┆ -96.520094 ┆ 2010-07  │\n",
       "│         ┆ 00078100000 ┆ DE CRUS ┆          ┆     ┆          ┆            ┆            ┆          │\n",
       "│         ┆ 0000U7      ┆ TÁCEOS, ┆          ┆     ┆          ┆            ┆            ┆          │\n",
       "│         ┆             ┆ MOLUSCO ┆          ┆     ┆          ┆            ┆            ┆          │\n",
       "│         ┆             ┆ S Y ... ┆          ┆     ┆          ┆            ┆            ┆          │\n",
       "│ ...     ┆ ...         ┆ ...     ┆ ...      ┆ ... ┆ ...      ┆ ...        ┆ ...        ┆ ...      │\n",
       "│ 6176109 ┆ 20169114119 ┆ PESCA   ┆ null     ┆ ... ┆ Fijo     ┆ 18.302727  ┆ -96.678663 ┆ 2010-07  │\n",
       "│         ┆ 00079100000 ┆ DE CRUS ┆          ┆     ┆          ┆            ┆            ┆          │\n",
       "│         ┆ 0000U4      ┆ TÁCEOS, ┆          ┆     ┆          ┆            ┆            ┆          │\n",
       "│         ┆             ┆ MOLUSCO ┆          ┆     ┆          ┆            ┆            ┆          │\n",
       "│         ┆             ┆ S Y ... ┆          ┆     ┆          ┆            ┆            ┆          │\n",
       "│ 6176116 ┆ 20406114119 ┆ PESCA   ┆ null     ┆ ... ┆ Fijo     ┆ 18.313758  ┆ -96.647255 ┆ 2010-07  │\n",
       "│         ┆ 00075100000 ┆ DE CRUS ┆          ┆     ┆          ┆            ┆            ┆          │\n",
       "│         ┆ 0000U4      ┆ TÁCEOS, ┆          ┆     ┆          ┆            ┆            ┆          │\n",
       "│         ┆             ┆ MOLUSCO ┆          ┆     ┆          ┆            ┆            ┆          │\n",
       "│         ┆             ┆ S Y ... ┆          ┆     ┆          ┆            ┆            ┆          │\n",
       "│ 6176114 ┆ 20169114119 ┆ PESCA   ┆ null     ┆ ... ┆ Fijo     ┆ 18.258726  ┆ -96.660089 ┆ 2010-07  │\n",
       "│         ┆ 00084100000 ┆ DE CRUS ┆          ┆     ┆          ┆            ┆            ┆          │\n",
       "│         ┆ 0000U7      ┆ TÁCEOS, ┆          ┆     ┆          ┆            ┆            ┆          │\n",
       "│         ┆             ┆ MOLUSCO ┆          ┆     ┆          ┆            ┆            ┆          │\n",
       "│         ┆             ┆ S Y ... ┆          ┆     ┆          ┆            ┆            ┆          │\n",
       "│ 6176135 ┆ 20169114119 ┆ PESCA   ┆ null     ┆ ... ┆ Fijo     ┆ 18.28      ┆ -96.659    ┆ 2010-07  │\n",
       "│         ┆ 00097100000 ┆ DE CRUS ┆          ┆     ┆          ┆            ┆            ┆          │\n",
       "│         ┆ 0000U2      ┆ TÁCEOS, ┆          ┆     ┆          ┆            ┆            ┆          │\n",
       "│         ┆             ┆ MOLUSCO ┆          ┆     ┆          ┆            ┆            ┆          │\n",
       "│         ┆             ┆ S Y ... ┆          ┆     ┆          ┆            ┆            ┆          │\n",
       "└─────────┴─────────────┴─────────┴──────────┴─────┴──────────┴────────────┴────────────┴──────────┘"
      ]
     },
     "execution_count": 23,
     "metadata": {},
     "output_type": "execute_result"
    }
   ],
   "source": [
    "inegi_df.fetch(10)"
   ]
  },
  {
   "attachments": {},
   "cell_type": "markdown",
   "metadata": {},
   "source": [
    "Mediante `collect` accedemos a todos los datos"
   ]
  },
  {
   "cell_type": "code",
   "execution_count": 24,
   "metadata": {},
   "outputs": [
    {
     "data": {
      "text/html": [
       "<div><style>\n",
       ".dataframe > thead > tr > th,\n",
       ".dataframe > tbody > tr > td {\n",
       "  text-align: right;\n",
       "}\n",
       "</style>\n",
       "<small>shape: (5, 42)</small><table border=\"1\" class=\"dataframe\"><thead><tr><th>id</th><th>clee</th><th>nom_estab</th><th>raz_social</th><th>codigo_act</th><th>nombre_act</th><th>per_ocu</th><th>tipo_vial</th><th>nom_vial</th><th>tipo_v_e_1</th><th>nom_v_e_1</th><th>tipo_v_e_2</th><th>nom_v_e_2</th><th>tipo_v_e_3</th><th>nom_v_e_3</th><th>numero_ext</th><th>letra_ext</th><th>edificio</th><th>edificio_e</th><th>numero_int</th><th>letra_int</th><th>tipo_asent</th><th>nomb_asent</th><th>tipoCenCom</th><th>nom_CenCom</th><th>num_local</th><th>cod_postal</th><th>cve_ent</th><th>entidad</th><th>cve_mun</th><th>municipio</th><th>cve_loc</th><th>localidad</th><th>ageb</th><th>manzana</th><th>telefono</th><th>correoelec</th><th>www</th><th>tipoUniEco</th><th>latitud</th><th>longitud</th><th>fecha_alta</th></tr><tr><td>i64</td><td>str</td><td>str</td><td>str</td><td>i64</td><td>str</td><td>str</td><td>str</td><td>str</td><td>str</td><td>str</td><td>str</td><td>str</td><td>str</td><td>str</td><td>i64</td><td>str</td><td>str</td><td>str</td><td>i64</td><td>str</td><td>str</td><td>str</td><td>str</td><td>str</td><td>str</td><td>i64</td><td>i64</td><td>str</td><td>i64</td><td>str</td><td>i64</td><td>str</td><td>str</td><td>i64</td><td>i64</td><td>str</td><td>str</td><td>str</td><td>f64</td><td>f64</td><td>str</td></tr></thead><tbody><tr><td>6174829</td><td>&quot;20169114119001...</td><td>&quot;PESCA DE CRUST...</td><td>null</td><td>114119</td><td>&quot;Pesca y captur...</td><td>&quot;0 a 5 personas...</td><td>&quot;CALLE&quot;</td><td>&quot;NINGUNO&quot;</td><td>&quot;CALLE&quot;</td><td>&quot;NINGUNO&quot;</td><td>&quot;CALLE&quot;</td><td>&quot;NINGUNO&quot;</td><td>&quot;CALLE&quot;</td><td>&quot;NINGUNO&quot;</td><td>0</td><td>null</td><td>null</td><td>null</td><td>0</td><td>null</td><td>&quot;LOCALIDAD&quot;</td><td>&quot;BUENOS AIRES&quot;</td><td>null</td><td>null</td><td>null</td><td>68407</td><td>20</td><td>&quot;Oaxaca&quot;</td><td>169</td><td>&quot;San José Indep...</td><td>2</td><td>&quot;Buenos Aires&quot;</td><td>&quot;0030&quot;</td><td>5</td><td>null</td><td>null</td><td>null</td><td>&quot;Fijo&quot;</td><td>18.255652</td><td>-96.614697</td><td>&quot;2010-07&quot;</td></tr><tr><td>6174806</td><td>&quot;20406114119000...</td><td>&quot;PESCA DE CRUST...</td><td>null</td><td>114119</td><td>&quot;Pesca y captur...</td><td>&quot;0 a 5 personas...</td><td>&quot;CALLE&quot;</td><td>&quot;NINGUNO&quot;</td><td>&quot;CALLE&quot;</td><td>&quot;NINGUNO&quot;</td><td>&quot;CALLE&quot;</td><td>&quot;NINGUNO&quot;</td><td>&quot;CALLE&quot;</td><td>&quot;NINGUNO&quot;</td><td>null</td><td>&quot;SN&quot;</td><td>null</td><td>null</td><td>null</td><td>null</td><td>&quot;LOCALIDAD&quot;</td><td>&quot;LOMA ALTA&quot;</td><td>null</td><td>null</td><td>null</td><td>68511</td><td>20</td><td>&quot;Oaxaca&quot;</td><td>406</td><td>&quot;Santa María Ch...</td><td>74</td><td>&quot;Loma Alta&quot;</td><td>&quot;0022&quot;</td><td>800</td><td>null</td><td>null</td><td>null</td><td>&quot;Fijo&quot;</td><td>18.313758</td><td>-96.647255</td><td>&quot;2010-07&quot;</td></tr><tr><td>6174723</td><td>&quot;20406114119000...</td><td>&quot;PESCA DE CRUST...</td><td>null</td><td>114119</td><td>&quot;Pesca y captur...</td><td>&quot;0 a 5 personas...</td><td>&quot;CALLE&quot;</td><td>&quot;NINGUNO&quot;</td><td>&quot;CALLE&quot;</td><td>&quot;NINGUNO&quot;</td><td>&quot;CALLE&quot;</td><td>&quot;NINGUNO&quot;</td><td>&quot;CALLE&quot;</td><td>&quot;NINGUNO&quot;</td><td>null</td><td>&quot;SN&quot;</td><td>null</td><td>null</td><td>null</td><td>null</td><td>&quot;LOCALIDAD&quot;</td><td>&quot;LOMA ALTA&quot;</td><td>null</td><td>null</td><td>null</td><td>68511</td><td>20</td><td>&quot;Oaxaca&quot;</td><td>406</td><td>&quot;Santa María Ch...</td><td>74</td><td>&quot;Loma Alta&quot;</td><td>&quot;0022&quot;</td><td>800</td><td>null</td><td>null</td><td>null</td><td>&quot;Fijo&quot;</td><td>18.313758</td><td>-96.647255</td><td>&quot;2010-07&quot;</td></tr><tr><td>6174722</td><td>&quot;20309114119000...</td><td>&quot;PESCA DE CRUST...</td><td>null</td><td>114119</td><td>&quot;Pesca y captur...</td><td>&quot;0 a 5 personas...</td><td>&quot;OTRO (ESPECIFI...</td><td>&quot;NINGUNO&quot;</td><td>&quot;OTRO (ESPECIFI...</td><td>&quot;NINGUNO&quot;</td><td>&quot;OTRO (ESPECIFI...</td><td>&quot;NINGUNO&quot;</td><td>&quot;OTRO (ESPECIFI...</td><td>&quot;NINGUNO&quot;</td><td>0</td><td>null</td><td>null</td><td>null</td><td>0</td><td>null</td><td>&quot;COLONIA&quot;</td><td>&quot;BUENA VISTA&quot;</td><td>null</td><td>null</td><td>null</td><td>68450</td><td>20</td><td>&quot;Oaxaca&quot;</td><td>309</td><td>&quot;San Pedro Ixca...</td><td>16</td><td>&quot;Colonia Buena ...</td><td>&quot;0014&quot;</td><td>800</td><td>null</td><td>null</td><td>null</td><td>&quot;Fijo&quot;</td><td>18.136119</td><td>-96.520094</td><td>&quot;2010-07&quot;</td></tr><tr><td>6174801</td><td>&quot;20406114119000...</td><td>&quot;PESCA DE CRUST...</td><td>null</td><td>114119</td><td>&quot;Pesca y captur...</td><td>&quot;0 a 5 personas...</td><td>&quot;CALLE&quot;</td><td>&quot;NINGUNO&quot;</td><td>&quot;CALLE&quot;</td><td>&quot;NINGUNO&quot;</td><td>&quot;CALLE&quot;</td><td>&quot;NINGUNO&quot;</td><td>&quot;CALLE&quot;</td><td>&quot;NINGUNO&quot;</td><td>0</td><td>&quot;SN&quot;</td><td>null</td><td>null</td><td>null</td><td>null</td><td>&quot;LOCALIDAD&quot;</td><td>&quot;LOMA ALTA&quot;</td><td>null</td><td>null</td><td>null</td><td>68511</td><td>20</td><td>&quot;Oaxaca&quot;</td><td>406</td><td>&quot;Santa María Ch...</td><td>74</td><td>&quot;Loma Alta&quot;</td><td>&quot;0022&quot;</td><td>800</td><td>null</td><td>null</td><td>null</td><td>&quot;Fijo&quot;</td><td>18.313758</td><td>-96.647255</td><td>&quot;2010-07&quot;</td></tr></tbody></table></div>"
      ],
      "text/plain": [
       "shape: (5, 42)\n",
       "┌─────────┬─────────────┬─────────┬──────────┬─────┬──────────┬────────────┬────────────┬──────────┐\n",
       "│ id      ┆ clee        ┆ nom_est ┆ raz_soci ┆ ... ┆ tipoUniE ┆ latitud    ┆ longitud   ┆ fecha_al │\n",
       "│ ---     ┆ ---         ┆ ab      ┆ al       ┆     ┆ co       ┆ ---        ┆ ---        ┆ ta       │\n",
       "│ i64     ┆ str         ┆ ---     ┆ ---      ┆     ┆ ---      ┆ f64        ┆ f64        ┆ ---      │\n",
       "│         ┆             ┆ str     ┆ str      ┆     ┆ str      ┆            ┆            ┆ str      │\n",
       "╞═════════╪═════════════╪═════════╪══════════╪═════╪══════════╪════════════╪════════════╪══════════╡\n",
       "│ 6174829 ┆ 20169114119 ┆ PESCA   ┆ null     ┆ ... ┆ Fijo     ┆ 18.255652  ┆ -96.614697 ┆ 2010-07  │\n",
       "│         ┆ 00100100000 ┆ DE CRUS ┆          ┆     ┆          ┆            ┆            ┆          │\n",
       "│         ┆ 0000U7      ┆ TÁCEOS, ┆          ┆     ┆          ┆            ┆            ┆          │\n",
       "│         ┆             ┆ MOLUSCO ┆          ┆     ┆          ┆            ┆            ┆          │\n",
       "│         ┆             ┆ S Y ... ┆          ┆     ┆          ┆            ┆            ┆          │\n",
       "│ 6174806 ┆ 20406114119 ┆ PESCA   ┆ null     ┆ ... ┆ Fijo     ┆ 18.313758  ┆ -96.647255 ┆ 2010-07  │\n",
       "│         ┆ 00039100000 ┆ DE CRUS ┆          ┆     ┆          ┆            ┆            ┆          │\n",
       "│         ┆ 0000U9      ┆ TÁCEOS, ┆          ┆     ┆          ┆            ┆            ┆          │\n",
       "│         ┆             ┆ MOLUSCO ┆          ┆     ┆          ┆            ┆            ┆          │\n",
       "│         ┆             ┆ S Y ... ┆          ┆     ┆          ┆            ┆            ┆          │\n",
       "│ 6174723 ┆ 20406114119 ┆ PESCA   ┆ null     ┆ ... ┆ Fijo     ┆ 18.313758  ┆ -96.647255 ┆ 2010-07  │\n",
       "│         ┆ 00034100000 ┆ DE CRUS ┆          ┆     ┆          ┆            ┆            ┆          │\n",
       "│         ┆ 0000U4      ┆ TÁCEOS, ┆          ┆     ┆          ┆            ┆            ┆          │\n",
       "│         ┆             ┆ MOLUSCO ┆          ┆     ┆          ┆            ┆            ┆          │\n",
       "│         ┆             ┆ S Y ... ┆          ┆     ┆          ┆            ┆            ┆          │\n",
       "│ 6174722 ┆ 20309114119 ┆ PESCA   ┆ null     ┆ ... ┆ Fijo     ┆ 18.136119  ┆ -96.520094 ┆ 2010-07  │\n",
       "│         ┆ 00078100000 ┆ DE CRUS ┆          ┆     ┆          ┆            ┆            ┆          │\n",
       "│         ┆ 0000U7      ┆ TÁCEOS, ┆          ┆     ┆          ┆            ┆            ┆          │\n",
       "│         ┆             ┆ MOLUSCO ┆          ┆     ┆          ┆            ┆            ┆          │\n",
       "│         ┆             ┆ S Y ... ┆          ┆     ┆          ┆            ┆            ┆          │\n",
       "│ 6174801 ┆ 20406114119 ┆ PESCA   ┆ null     ┆ ... ┆ Fijo     ┆ 18.313758  ┆ -96.647255 ┆ 2010-07  │\n",
       "│         ┆ 00038100000 ┆ DE CRUS ┆          ┆     ┆          ┆            ┆            ┆          │\n",
       "│         ┆ 0000U0      ┆ TÁCEOS, ┆          ┆     ┆          ┆            ┆            ┆          │\n",
       "│         ┆             ┆ MOLUSCO ┆          ┆     ┆          ┆            ┆            ┆          │\n",
       "│         ┆             ┆ S Y ... ┆          ┆     ┆          ┆            ┆            ┆          │\n",
       "└─────────┴─────────────┴─────────┴──────────┴─────┴──────────┴────────────┴────────────┴──────────┘"
      ]
     },
     "execution_count": 24,
     "metadata": {},
     "output_type": "execute_result"
    }
   ],
   "source": [
    "inegi_df.collect().head()"
   ]
  },
  {
   "cell_type": "code",
   "execution_count": 25,
   "metadata": {},
   "outputs": [
    {
     "data": {
      "text/html": [
       "<i>naive plan: (run <b>LazyFrame.explain(optimized=True)</b> to see the optimized plan)</i>\n",
       "    <p></p>\n",
       "    <div>SLICE[offset: 0, len: 5]<p></p><p></p>    PARQUET SCAN ../output/inegi.parquet<p></p>    PROJECT */42 COLUMNS</div>"
      ],
      "text/plain": [
       "<polars.LazyFrame object at 0x151F1D4E0>"
      ]
     },
     "execution_count": 25,
     "metadata": {},
     "output_type": "execute_result"
    }
   ],
   "source": [
    "inegi_df.head()"
   ]
  },
  {
   "cell_type": "code",
   "execution_count": 26,
   "metadata": {},
   "outputs": [
    {
     "data": {
      "text/plain": [
       "'\\n  PARQUET SCAN ../output/inegi.parquet\\n  PROJECT */42 COLUMNS'"
      ]
     },
     "execution_count": 26,
     "metadata": {},
     "output_type": "execute_result"
    }
   ],
   "source": [
    "inegi_df.explain()"
   ]
  },
  {
   "cell_type": "code",
   "execution_count": 27,
   "metadata": {},
   "outputs": [
    {
     "data": {
      "text/html": [
       "<i>naive plan: (run <b>LazyFrame.explain(optimized=True)</b> to see the optimized plan)</i>\n",
       "    <p></p>\n",
       "    <div><p></p>  PARQUET SCAN ../output/inegi.parquet<p></p>  PROJECT */42 COLUMNS</div>"
      ],
      "text/plain": [
       "<polars.LazyFrame object at 0x151F03370>"
      ]
     },
     "execution_count": 27,
     "metadata": {},
     "output_type": "execute_result"
    }
   ],
   "source": [
    "polars_df = pl.scan_parquet(\"../output/inegi.parquet\")\n",
    "polars_df"
   ]
  },
  {
   "attachments": {},
   "cell_type": "markdown",
   "metadata": {},
   "source": [
    "## Ejercicios\n",
    "\n",
    "1. Del dataset de censo:<br>\n",
    "    1. Obtén sólo las columnas de tipo `String`\n",
    "    2. Filtra el dataframe para obtener las filas con población total mayor a 500 habitantes\n",
    "    3. Crea una nueva columna que se llame ANIO_CENSO y que tenga un valor constante de 2019 (numérico)\n",
    "    4. Lee el CSV en modo lazy y realiza los dos pasos anteriores ( 2 y 3)<br><br>\n",
    "\n",
    "2. Del dataset de inegi:<br>\n",
    "    1. Lee el CSV en modo lazy y selecciona únicamente las primeras dos columnas\n",
    "    2. Obtén el plan optimizado\n",
    "    3. Ahora agrega un filtro por cve_ent con valor de 20. Obtén nuevamente el plan optimizado."
   ]
  }
 ],
 "metadata": {
  "kernelspec": {
   "display_name": "Python 3",
   "language": "python",
   "name": "python3"
  },
  "language_info": {
   "codemirror_mode": {
    "name": "ipython",
    "version": 3
   },
   "file_extension": ".py",
   "mimetype": "text/x-python",
   "name": "python",
   "nbconvert_exporter": "python",
   "pygments_lexer": "ipython3",
   "version": "3.10.9"
  },
  "orig_nbformat": 4,
  "vscode": {
   "interpreter": {
    "hash": "e2961bf2ad4f9334ae3c0df7e46fa593f5c9bbfba7bdcaa6e171450a7a8b939a"
   }
  }
 },
 "nbformat": 4,
 "nbformat_minor": 2
}
