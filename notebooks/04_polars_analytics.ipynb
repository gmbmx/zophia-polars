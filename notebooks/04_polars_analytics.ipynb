{
 "cells": [
  {
   "cell_type": "code",
   "execution_count": 11,
   "metadata": {},
   "outputs": [],
   "source": [
    "import polars as pl\n",
    "pl.Config.set_tbl_rows(15) #Esta config controla la cantidad de filas en print y display en Jupyter\n",
    "pl.Config.set_tbl_cols(50) #Cantidad de columnas a desplegar\n",
    "pl.Config.set_fmt_str_lengths(100) #Longitud de las cadenas a desplegar\n",
    "pl.toggle_string_cache(True)"
   ]
  },
  {
   "attachments": {},
   "cell_type": "markdown",
   "metadata": {},
   "source": [
    "`toggle_string_cache` es neecsario para poder operar eficientemente con variables de tipo `categorical`"
   ]
  },
  {
   "attachments": {},
   "cell_type": "markdown",
   "metadata": {},
   "source": [
    "## Exploración y limpieza de datos"
   ]
  },
  {
   "cell_type": "code",
   "execution_count": 12,
   "metadata": {},
   "outputs": [
    {
     "data": {
      "text/html": [
       "<div><style>\n",
       ".dataframe > thead > tr > th,\n",
       ".dataframe > tbody > tr > td {\n",
       "  text-align: right;\n",
       "}\n",
       "</style>\n",
       "<small>shape: (5, 17)</small><table border=\"1\" class=\"dataframe\"><thead><tr><th>VendorID</th><th>tpep_pickup_datetime</th><th>tpep_dropoff_datetime</th><th>passenger_count</th><th>trip_distance</th><th>RatecodeID</th><th>store_and_fwd_flag</th><th>PULocationID</th><th>DOLocationID</th><th>payment_type</th><th>fare_amount</th><th>extra</th><th>mta_tax</th><th>tip_amount</th><th>tolls_amount</th><th>improvement_surcharge</th><th>total_amount</th></tr><tr><td>str</td><td>str</td><td>str</td><td>str</td><td>str</td><td>str</td><td>str</td><td>str</td><td>str</td><td>str</td><td>str</td><td>str</td><td>str</td><td>str</td><td>str</td><td>str</td><td>str</td></tr></thead><tbody><tr><td>&quot;1&quot;</td><td>&quot;11/13/2018 07:45:26 AM&quot;</td><td>&quot;11/13/2018 07:57:39 AM&quot;</td><td>&quot;1&quot;</td><td>&quot;1.5&quot;</td><td>&quot;1&quot;</td><td>&quot;N&quot;</td><td>&quot;246&quot;</td><td>&quot;164&quot;</td><td>&quot;1&quot;</td><td>&quot;9.5&quot;</td><td>&quot;0&quot;</td><td>&quot;0.5&quot;</td><td>&quot;1&quot;</td><td>&quot;0&quot;</td><td>&quot;0.3&quot;</td><td>&quot;11.3&quot;</td></tr><tr><td>&quot;2&quot;</td><td>&quot;11/13/2018 07:24:47 AM&quot;</td><td>&quot;11/13/2018 07:29:45 AM&quot;</td><td>&quot;1&quot;</td><td>&quot;0.88&quot;</td><td>&quot;1&quot;</td><td>&quot;N&quot;</td><td>&quot;140&quot;</td><td>&quot;263&quot;</td><td>&quot;1&quot;</td><td>&quot;5.5&quot;</td><td>&quot;0&quot;</td><td>&quot;0.5&quot;</td><td>&quot;2&quot;</td><td>&quot;0&quot;</td><td>&quot;0.3&quot;</td><td>&quot;8.3&quot;</td></tr><tr><td>&quot;2&quot;</td><td>&quot;11/13/2018 07:31:34 AM&quot;</td><td>&quot;11/13/2018 07:36:04 AM&quot;</td><td>&quot;1&quot;</td><td>&quot;0.54&quot;</td><td>&quot;1&quot;</td><td>&quot;N&quot;</td><td>&quot;236&quot;</td><td>&quot;236&quot;</td><td>&quot;2&quot;</td><td>&quot;5&quot;</td><td>&quot;0&quot;</td><td>&quot;0.5&quot;</td><td>&quot;0&quot;</td><td>&quot;0&quot;</td><td>&quot;0.3&quot;</td><td>&quot;5.8&quot;</td></tr><tr><td>&quot;2&quot;</td><td>&quot;11/13/2018 07:36:59 AM&quot;</td><td>&quot;11/13/2018 07:51:07 AM&quot;</td><td>&quot;1&quot;</td><td>&quot;2.43&quot;</td><td>&quot;1&quot;</td><td>&quot;N&quot;</td><td>&quot;236&quot;</td><td>&quot;48&quot;</td><td>&quot;1&quot;</td><td>&quot;11.5&quot;</td><td>&quot;0&quot;</td><td>&quot;0.5&quot;</td><td>&quot;2.46&quot;</td><td>&quot;0&quot;</td><td>&quot;0.3&quot;</td><td>&quot;14.76&quot;</td></tr><tr><td>&quot;2&quot;</td><td>&quot;11/13/2018 07:53:40 AM&quot;</td><td>&quot;11/13/2018 08:21:53 AM&quot;</td><td>&quot;1&quot;</td><td>&quot;2.96&quot;</td><td>&quot;1&quot;</td><td>&quot;N&quot;</td><td>&quot;163&quot;</td><td>&quot;43&quot;</td><td>&quot;1&quot;</td><td>&quot;18&quot;</td><td>&quot;0&quot;</td><td>&quot;0.5&quot;</td><td>&quot;0&quot;</td><td>&quot;0&quot;</td><td>&quot;0.3&quot;</td><td>&quot;18.8&quot;</td></tr></tbody></table></div>"
      ],
      "text/plain": [
       "shape: (5, 17)\n",
       "┌────────┬────────────┬────────────┬────────────┬────────────┬──────────┬────────────┬────────────┬────────────┬────────────┬───────────┬─────┬───────┬──────────┬────────────┬────────────┬────────────┐\n",
       "│ Vendor ┆ tpep_picku ┆ tpep_dropo ┆ passenger_ ┆ trip_dista ┆ Ratecode ┆ store_and_ ┆ PULocation ┆ DOLocation ┆ payment_ty ┆ fare_amou ┆ ext ┆ mta_t ┆ tip_amou ┆ tolls_amou ┆ improvemen ┆ total_amou │\n",
       "│ ID     ┆ p_datetime ┆ ff_datetim ┆ count      ┆ nce        ┆ ID       ┆ fwd_flag   ┆ ID         ┆ ID         ┆ pe         ┆ nt        ┆ ra  ┆ ax    ┆ nt       ┆ nt         ┆ t_surcharg ┆ nt         │\n",
       "│ ---    ┆ ---        ┆ e          ┆ ---        ┆ ---        ┆ ---      ┆ ---        ┆ ---        ┆ ---        ┆ ---        ┆ ---       ┆ --- ┆ ---   ┆ ---      ┆ ---        ┆ e          ┆ ---        │\n",
       "│ str    ┆ str        ┆ ---        ┆ str        ┆ str        ┆ str      ┆ str        ┆ str        ┆ str        ┆ str        ┆ str       ┆ str ┆ str   ┆ str      ┆ str        ┆ ---        ┆ str        │\n",
       "│        ┆            ┆ str        ┆            ┆            ┆          ┆            ┆            ┆            ┆            ┆           ┆     ┆       ┆          ┆            ┆ str        ┆            │\n",
       "╞════════╪════════════╪════════════╪════════════╪════════════╪══════════╪════════════╪════════════╪════════════╪════════════╪═══════════╪═════╪═══════╪══════════╪════════════╪════════════╪════════════╡\n",
       "│ 1      ┆ 11/13/2018 ┆ 11/13/2018 ┆ 1          ┆ 1.5        ┆ 1        ┆ N          ┆ 246        ┆ 164        ┆ 1          ┆ 9.5       ┆ 0   ┆ 0.5   ┆ 1        ┆ 0          ┆ 0.3        ┆ 11.3       │\n",
       "│        ┆ 07:45:26   ┆ 07:57:39   ┆            ┆            ┆          ┆            ┆            ┆            ┆            ┆           ┆     ┆       ┆          ┆            ┆            ┆            │\n",
       "│        ┆ AM         ┆ AM         ┆            ┆            ┆          ┆            ┆            ┆            ┆            ┆           ┆     ┆       ┆          ┆            ┆            ┆            │\n",
       "│ 2      ┆ 11/13/2018 ┆ 11/13/2018 ┆ 1          ┆ 0.88       ┆ 1        ┆ N          ┆ 140        ┆ 263        ┆ 1          ┆ 5.5       ┆ 0   ┆ 0.5   ┆ 2        ┆ 0          ┆ 0.3        ┆ 8.3        │\n",
       "│        ┆ 07:24:47   ┆ 07:29:45   ┆            ┆            ┆          ┆            ┆            ┆            ┆            ┆           ┆     ┆       ┆          ┆            ┆            ┆            │\n",
       "│        ┆ AM         ┆ AM         ┆            ┆            ┆          ┆            ┆            ┆            ┆            ┆           ┆     ┆       ┆          ┆            ┆            ┆            │\n",
       "│ 2      ┆ 11/13/2018 ┆ 11/13/2018 ┆ 1          ┆ 0.54       ┆ 1        ┆ N          ┆ 236        ┆ 236        ┆ 2          ┆ 5         ┆ 0   ┆ 0.5   ┆ 0        ┆ 0          ┆ 0.3        ┆ 5.8        │\n",
       "│        ┆ 07:31:34   ┆ 07:36:04   ┆            ┆            ┆          ┆            ┆            ┆            ┆            ┆           ┆     ┆       ┆          ┆            ┆            ┆            │\n",
       "│        ┆ AM         ┆ AM         ┆            ┆            ┆          ┆            ┆            ┆            ┆            ┆           ┆     ┆       ┆          ┆            ┆            ┆            │\n",
       "│ 2      ┆ 11/13/2018 ┆ 11/13/2018 ┆ 1          ┆ 2.43       ┆ 1        ┆ N          ┆ 236        ┆ 48         ┆ 1          ┆ 11.5      ┆ 0   ┆ 0.5   ┆ 2.46     ┆ 0          ┆ 0.3        ┆ 14.76      │\n",
       "│        ┆ 07:36:59   ┆ 07:51:07   ┆            ┆            ┆          ┆            ┆            ┆            ┆            ┆           ┆     ┆       ┆          ┆            ┆            ┆            │\n",
       "│        ┆ AM         ┆ AM         ┆            ┆            ┆          ┆            ┆            ┆            ┆            ┆           ┆     ┆       ┆          ┆            ┆            ┆            │\n",
       "│ 2      ┆ 11/13/2018 ┆ 11/13/2018 ┆ 1          ┆ 2.96       ┆ 1        ┆ N          ┆ 163        ┆ 43         ┆ 1          ┆ 18        ┆ 0   ┆ 0.5   ┆ 0        ┆ 0          ┆ 0.3        ┆ 18.8       │\n",
       "│        ┆ 07:53:40   ┆ 08:21:53   ┆            ┆            ┆          ┆            ┆            ┆            ┆            ┆           ┆     ┆       ┆          ┆            ┆            ┆            │\n",
       "│        ┆ AM         ┆ AM         ┆            ┆            ┆          ┆            ┆            ┆            ┆            ┆           ┆     ┆       ┆          ┆            ┆            ┆            │\n",
       "└────────┴────────────┴────────────┴────────────┴────────────┴──────────┴────────────┴────────────┴────────────┴────────────┴───────────┴─────┴───────┴──────────┴────────────┴────────────┴────────────┘"
      ]
     },
     "execution_count": 12,
     "metadata": {},
     "output_type": "execute_result"
    }
   ],
   "source": [
    "taxi_sample = pl.read_parquet('../output/taxi.parquet', n_rows=1000000)\n",
    "taxi_sample.head()"
   ]
  },
  {
   "attachments": {},
   "cell_type": "markdown",
   "metadata": {},
   "source": [
    "Definimos todas las funciones que formarán parte de nuestro pipeline de limpieza de datos. Tomar en cuenta que estaremos trabajando con `LazyFrames` debido al alto volumen de datos. "
   ]
  },
  {
   "cell_type": "code",
   "execution_count": 13,
   "metadata": {},
   "outputs": [],
   "source": [
    "def drop_columns(dataframe: pl.LazyFrame) -> pl.LazyFrame:\n",
    "    '''Función que excluye columnas específicas del dataset por simplicidad.'''\n",
    "    dataframe = dataframe.select(\n",
    "        pl.exclude('RatecodeID','store_and_fwd_flag','fare_amount','extra','mta_tax','tolls_amount','improvement_surcharge')\n",
    "    )\n",
    "    return dataframe"
   ]
  },
  {
   "cell_type": "code",
   "execution_count": 14,
   "metadata": {},
   "outputs": [],
   "source": [
    "def rename_columns(dataframe: pl.LazyFrame) -> pl.LazyFrame:\n",
    "    '''Función que estandariza el nombre de las columnas del dataset de taxis de NY'''\n",
    "    dataframe = dataframe.rename({\n",
    "        'VendorID' : 'vendor_id',\n",
    "        'tpep_pickup_datetime' : 'pickup_datetime',\n",
    "        'tpep_dropoff_datetime' : 'dropoff_datetime',\n",
    "        'passenger_count' : 'passenger_count',\n",
    "        'trip_distance' : 'trip_distance',\n",
    "        'PULocationID' : 'pickup_location_id',\n",
    "        'DOLocationID' : 'dropoff_location_id',\n",
    "        'payment_type' : 'payment_type_id',\n",
    "        'tip_amount' : 'tip_amount',\n",
    "        'total_amount' : 'total_amount'\n",
    "    })\n",
    "    return dataframe"
   ]
  },
  {
   "attachments": {},
   "cell_type": "markdown",
   "metadata": {},
   "source": [
    "Cuando hacemos `cast` o definimos variables de tipo `categorical` es importante que usemos `set_ordering` con el valor de *lexical*, de lo contrario cuando hagamos `groupby` y/o `sort` no tendremos el ordenamiento esperado:"
   ]
  },
  {
   "cell_type": "code",
   "execution_count": 15,
   "metadata": {},
   "outputs": [],
   "source": [
    "def cast_column_types(dataframe: pl.LazyFrame) -> pl.LazyFrame:\n",
    "    '''Función que hace cast al tipo adecuado de datos. Hace uso de expresiones regulares.'''\n",
    "    dataframe = dataframe.with_columns(\n",
    "        pl.col(\"^.*amount$|^.*distance$\").cast(pl.Float64),\n",
    "        pl.col(\"^.*count$\").cast(pl.Int32),\n",
    "        pl.col(\"^.*datetime$\").str.strptime(pl.Datetime, \"%m/%d/%Y %I:%M:%S %p\",strict=False),\n",
    "        pl.col(\"^.*id$\").cast(pl.Categorical).cat.set_ordering(\"lexical\")\n",
    "    )     \n",
    "    return dataframe"
   ]
  },
  {
   "attachments": {},
   "cell_type": "markdown",
   "metadata": {},
   "source": [
    "En ocasiones queremos usar el resultado de alguna `expression` como parámetro a otra. Si el resultado es un único valor podemos usar `item` para usar dicho valor como entrada en otra expression:"
   ]
  },
  {
   "cell_type": "code",
   "execution_count": 16,
   "metadata": {},
   "outputs": [],
   "source": [
    "def fix_bad_values(dataframe: pl.LazyFrame) -> pl.LazyFrame:\n",
    "    '''Hay múltiples columnas con valores malformados. Esta función corrige tanto fechas como números'''\n",
    "    quantile_tip_amount = dataframe.select(pl.col('tip_amount').quantile(0.9999)).collect().item()\n",
    "    quantile_total_amount = dataframe.select(pl.col('total_amount').quantile(0.9999)).collect().item()\n",
    "    dataframe = dataframe.with_columns(\n",
    "        \n",
    "        pl.col('trip_distance').clip(0,80).keep_name(),\n",
    "        pl.col('passenger_count').clip(0,9).keep_name(),\n",
    "        pl.col('tip_amount').clip(0, quantile_tip_amount).keep_name(),\n",
    "        pl.col('total_amount').clip(0, quantile_total_amount).keep_name(),\n",
    "        pl.when(pl.col(\"^.*datetime$\").dt.year() != 2018)\n",
    "            .then(pl.col(\"^.*datetime$\").dt.strftime('2018/%m/%d %H:%M:%S').str.strptime(pl.Datetime, '%Y/%m/%d %H:%M:%S'))\n",
    "            .otherwise(pl.col(\"^.*datetime$\"))\n",
    "            .keep_name(),            \n",
    "    )\n",
    "    return dataframe\n",
    "         "
   ]
  },
  {
   "attachments": {},
   "cell_type": "markdown",
   "metadata": {},
   "source": [
    "En ocasiones necesitamos anidar `with_columns` debido a que queremos construir campos calculados sobre otros campos calculados:"
   ]
  },
  {
   "cell_type": "code",
   "execution_count": 17,
   "metadata": {},
   "outputs": [],
   "source": [
    "def calculate_columns(dataframe: pl.LazyFrame) -> pl.LazyFrame:\n",
    "    '''Función que calcula la duración y velocidad de los viajes'''\n",
    "    dataframe = dataframe.with_columns(\n",
    "        trip_duration = (pl.col(\"dropoff_datetime\") - pl.col(\"pickup_datetime\")).dt.minutes().clip(0,180),        \n",
    "    ) \\\n",
    "    .with_columns(\n",
    "        trip_speed = pl.when((pl.col('trip_duration') > 1) & (pl.col('trip_distance') > 0.1))\n",
    "          .then((pl.col('trip_distance') * pl.lit(1.60934) * pl.lit(60)) / pl.col('trip_duration')) # Conversión km/h\n",
    "          .otherwise(None)\n",
    "    )\n",
    "    return dataframe"
   ]
  },
  {
   "attachments": {},
   "cell_type": "markdown",
   "metadata": {},
   "source": [
    "Procedemos a ejecutar el pipeline de limpieza en una muestra para validar el funcionamiento. Como el pipeline espera un `LazyFrame` mediante `lazy` convertimos el `DataFrame` original:"
   ]
  },
  {
   "cell_type": "code",
   "execution_count": 18,
   "metadata": {},
   "outputs": [
    {
     "data": {
      "text/html": [
       "<div><style>\n",
       ".dataframe > thead > tr > th,\n",
       ".dataframe > tbody > tr > td {\n",
       "  text-align: right;\n",
       "}\n",
       "</style>\n",
       "<small>shape: (5, 12)</small><table border=\"1\" class=\"dataframe\"><thead><tr><th>vendor_id</th><th>pickup_datetime</th><th>dropoff_datetime</th><th>passenger_count</th><th>trip_distance</th><th>pickup_location_id</th><th>dropoff_location_id</th><th>payment_type_id</th><th>tip_amount</th><th>total_amount</th><th>trip_duration</th><th>trip_speed</th></tr><tr><td>cat</td><td>datetime[μs]</td><td>datetime[μs]</td><td>i32</td><td>f64</td><td>cat</td><td>cat</td><td>cat</td><td>f64</td><td>f64</td><td>i64</td><td>f64</td></tr></thead><tbody><tr><td>&quot;1&quot;</td><td>2018-11-13 07:45:26</td><td>2018-11-13 07:57:39</td><td>1</td><td>1.5</td><td>&quot;246&quot;</td><td>&quot;164&quot;</td><td>&quot;1&quot;</td><td>1.0</td><td>11.3</td><td>12</td><td>12.07005</td></tr><tr><td>&quot;2&quot;</td><td>2018-11-13 07:24:47</td><td>2018-11-13 07:29:45</td><td>1</td><td>0.88</td><td>&quot;140&quot;</td><td>&quot;263&quot;</td><td>&quot;1&quot;</td><td>2.0</td><td>8.3</td><td>4</td><td>21.243288</td></tr><tr><td>&quot;2&quot;</td><td>2018-11-13 07:31:34</td><td>2018-11-13 07:36:04</td><td>1</td><td>0.54</td><td>&quot;236&quot;</td><td>&quot;236&quot;</td><td>&quot;2&quot;</td><td>0.0</td><td>5.8</td><td>4</td><td>13.035654</td></tr><tr><td>&quot;2&quot;</td><td>2018-11-13 07:36:59</td><td>2018-11-13 07:51:07</td><td>1</td><td>2.43</td><td>&quot;236&quot;</td><td>&quot;48&quot;</td><td>&quot;1&quot;</td><td>2.46</td><td>14.76</td><td>14</td><td>16.760127</td></tr><tr><td>&quot;2&quot;</td><td>2018-11-13 07:53:40</td><td>2018-11-13 08:21:53</td><td>1</td><td>2.96</td><td>&quot;163&quot;</td><td>&quot;43&quot;</td><td>&quot;1&quot;</td><td>0.0</td><td>18.8</td><td>28</td><td>10.207814</td></tr></tbody></table></div>"
      ],
      "text/plain": [
       "shape: (5, 12)\n",
       "┌─────────┬────────────┬────────────┬────────────┬────────────┬────────────┬────────────┬────────────┬──────────┬────────────┬────────────┬──────────┐\n",
       "│ vendor_ ┆ pickup_dat ┆ dropoff_da ┆ passenger_ ┆ trip_dista ┆ pickup_loc ┆ dropoff_lo ┆ payment_ty ┆ tip_amou ┆ total_amou ┆ trip_durat ┆ trip_spe │\n",
       "│ id      ┆ etime      ┆ tetime     ┆ count      ┆ nce        ┆ ation_id   ┆ cation_id  ┆ pe_id      ┆ nt       ┆ nt         ┆ ion        ┆ ed       │\n",
       "│ ---     ┆ ---        ┆ ---        ┆ ---        ┆ ---        ┆ ---        ┆ ---        ┆ ---        ┆ ---      ┆ ---        ┆ ---        ┆ ---      │\n",
       "│ cat     ┆ datetime[μ ┆ datetime[μ ┆ i32        ┆ f64        ┆ cat        ┆ cat        ┆ cat        ┆ f64      ┆ f64        ┆ i64        ┆ f64      │\n",
       "│         ┆ s]         ┆ s]         ┆            ┆            ┆            ┆            ┆            ┆          ┆            ┆            ┆          │\n",
       "╞═════════╪════════════╪════════════╪════════════╪════════════╪════════════╪════════════╪════════════╪══════════╪════════════╪════════════╪══════════╡\n",
       "│ 1       ┆ 2018-11-13 ┆ 2018-11-13 ┆ 1          ┆ 1.5        ┆ 246        ┆ 164        ┆ 1          ┆ 1.0      ┆ 11.3       ┆ 12         ┆ 12.07005 │\n",
       "│         ┆ 07:45:26   ┆ 07:57:39   ┆            ┆            ┆            ┆            ┆            ┆          ┆            ┆            ┆          │\n",
       "│ 2       ┆ 2018-11-13 ┆ 2018-11-13 ┆ 1          ┆ 0.88       ┆ 140        ┆ 263        ┆ 1          ┆ 2.0      ┆ 8.3        ┆ 4          ┆ 21.24328 │\n",
       "│         ┆ 07:24:47   ┆ 07:29:45   ┆            ┆            ┆            ┆            ┆            ┆          ┆            ┆            ┆ 8        │\n",
       "│ 2       ┆ 2018-11-13 ┆ 2018-11-13 ┆ 1          ┆ 0.54       ┆ 236        ┆ 236        ┆ 2          ┆ 0.0      ┆ 5.8        ┆ 4          ┆ 13.03565 │\n",
       "│         ┆ 07:31:34   ┆ 07:36:04   ┆            ┆            ┆            ┆            ┆            ┆          ┆            ┆            ┆ 4        │\n",
       "│ 2       ┆ 2018-11-13 ┆ 2018-11-13 ┆ 1          ┆ 2.43       ┆ 236        ┆ 48         ┆ 1          ┆ 2.46     ┆ 14.76      ┆ 14         ┆ 16.76012 │\n",
       "│         ┆ 07:36:59   ┆ 07:51:07   ┆            ┆            ┆            ┆            ┆            ┆          ┆            ┆            ┆ 7        │\n",
       "│ 2       ┆ 2018-11-13 ┆ 2018-11-13 ┆ 1          ┆ 2.96       ┆ 163        ┆ 43         ┆ 1          ┆ 0.0      ┆ 18.8       ┆ 28         ┆ 10.20781 │\n",
       "│         ┆ 07:53:40   ┆ 08:21:53   ┆            ┆            ┆            ┆            ┆            ┆          ┆            ┆            ┆ 4        │\n",
       "└─────────┴────────────┴────────────┴────────────┴────────────┴────────────┴────────────┴────────────┴──────────┴────────────┴────────────┴──────────┘"
      ]
     },
     "execution_count": 18,
     "metadata": {},
     "output_type": "execute_result"
    }
   ],
   "source": [
    "taxi_sample_clean = (taxi_sample.lazy()\n",
    "            .pipe(drop_columns)\n",
    "            .pipe(rename_columns)\n",
    "            .pipe(cast_column_types)\n",
    "            .pipe(fix_bad_values)\n",
    "            .pipe(calculate_columns)         \n",
    ")\n",
    "taxi_sample_clean.collect().head()"
   ]
  },
  {
   "cell_type": "code",
   "execution_count": 19,
   "metadata": {},
   "outputs": [
    {
     "data": {
      "text/html": [
       "<div><style>\n",
       ".dataframe > thead > tr > th,\n",
       ".dataframe > tbody > tr > td {\n",
       "  text-align: right;\n",
       "}\n",
       "</style>\n",
       "<small>shape: (7, 13)</small><table border=\"1\" class=\"dataframe\"><thead><tr><th>describe</th><th>vendor_id</th><th>pickup_datetime</th><th>dropoff_datetime</th><th>passenger_count</th><th>trip_distance</th><th>pickup_location_id</th><th>dropoff_location_id</th><th>payment_type_id</th><th>tip_amount</th><th>total_amount</th><th>trip_duration</th><th>trip_speed</th></tr><tr><td>str</td><td>str</td><td>str</td><td>str</td><td>f64</td><td>f64</td><td>str</td><td>str</td><td>str</td><td>f64</td><td>f64</td><td>f64</td><td>f64</td></tr></thead><tbody><tr><td>&quot;count&quot;</td><td>&quot;1000000&quot;</td><td>&quot;1000000&quot;</td><td>&quot;1000000&quot;</td><td>1e6</td><td>1e6</td><td>&quot;1000000&quot;</td><td>&quot;1000000&quot;</td><td>&quot;1000000&quot;</td><td>1e6</td><td>1e6</td><td>1e6</td><td>1e6</td></tr><tr><td>&quot;null_count&quot;</td><td>&quot;0&quot;</td><td>&quot;0&quot;</td><td>&quot;0&quot;</td><td>0.0</td><td>0.0</td><td>&quot;0&quot;</td><td>&quot;0&quot;</td><td>&quot;0&quot;</td><td>0.0</td><td>0.0</td><td>0.0</td><td>23154.0</td></tr><tr><td>&quot;mean&quot;</td><td>null</td><td>null</td><td>null</td><td>1.535628</td><td>2.899356</td><td>null</td><td>null</td><td>null</td><td>2.137468</td><td>17.795293</td><td>17.036333</td><td>16.39244</td></tr><tr><td>&quot;std&quot;</td><td>null</td><td>null</td><td>null</td><td>1.209576</td><td>3.88934</td><td>null</td><td>null</td><td>null</td><td>2.940436</td><td>16.233516</td><td>18.056075</td><td>10.70029</td></tr><tr><td>&quot;min&quot;</td><td>null</td><td>&quot;2018-01-01 00:05:38.000000&quot;</td><td>&quot;2018-01-01 04:50:14.000000&quot;</td><td>0.0</td><td>0.0</td><td>null</td><td>null</td><td>null</td><td>0.0</td><td>0.0</td><td>0.0</td><td>0.059009</td></tr><tr><td>&quot;max&quot;</td><td>null</td><td>&quot;2018-12-31 23:03:08.000000&quot;</td><td>&quot;2018-12-31 19:03:26.000000&quot;</td><td>9.0</td><td>80.0</td><td>null</td><td>null</td><td>null</td><td>62.27</td><td>287.27</td><td>180.0</td><td>2574.944</td></tr><tr><td>&quot;median&quot;</td><td>null</td><td>null</td><td>null</td><td>1.0</td><td>1.51</td><td>null</td><td>null</td><td>null</td><td>1.55</td><td>12.74</td><td>12.0</td><td>14.112674</td></tr></tbody></table></div>"
      ],
      "text/plain": [
       "shape: (7, 13)\n",
       "┌────────┬─────────┬────────────┬────────────┬────────────┬────────────┬────────────┬────────────┬────────────┬──────────┬────────────┬────────────┬──────────┐\n",
       "│ descri ┆ vendor_ ┆ pickup_dat ┆ dropoff_da ┆ passenger_ ┆ trip_dista ┆ pickup_loc ┆ dropoff_lo ┆ payment_ty ┆ tip_amou ┆ total_amou ┆ trip_durat ┆ trip_spe │\n",
       "│ be     ┆ id      ┆ etime      ┆ tetime     ┆ count      ┆ nce        ┆ ation_id   ┆ cation_id  ┆ pe_id      ┆ nt       ┆ nt         ┆ ion        ┆ ed       │\n",
       "│ ---    ┆ ---     ┆ ---        ┆ ---        ┆ ---        ┆ ---        ┆ ---        ┆ ---        ┆ ---        ┆ ---      ┆ ---        ┆ ---        ┆ ---      │\n",
       "│ str    ┆ str     ┆ str        ┆ str        ┆ f64        ┆ f64        ┆ str        ┆ str        ┆ str        ┆ f64      ┆ f64        ┆ f64        ┆ f64      │\n",
       "╞════════╪═════════╪════════════╪════════════╪════════════╪════════════╪════════════╪════════════╪════════════╪══════════╪════════════╪════════════╪══════════╡\n",
       "│ count  ┆ 1000000 ┆ 1000000    ┆ 1000000    ┆ 1e6        ┆ 1e6        ┆ 1000000    ┆ 1000000    ┆ 1000000    ┆ 1e6      ┆ 1e6        ┆ 1e6        ┆ 1e6      │\n",
       "│ null_c ┆ 0       ┆ 0          ┆ 0          ┆ 0.0        ┆ 0.0        ┆ 0          ┆ 0          ┆ 0          ┆ 0.0      ┆ 0.0        ┆ 0.0        ┆ 23154.0  │\n",
       "│ ount   ┆         ┆            ┆            ┆            ┆            ┆            ┆            ┆            ┆          ┆            ┆            ┆          │\n",
       "│ mean   ┆ null    ┆ null       ┆ null       ┆ 1.535628   ┆ 2.899356   ┆ null       ┆ null       ┆ null       ┆ 2.137468 ┆ 17.795293  ┆ 17.036333  ┆ 16.39244 │\n",
       "│ std    ┆ null    ┆ null       ┆ null       ┆ 1.209576   ┆ 3.88934    ┆ null       ┆ null       ┆ null       ┆ 2.940436 ┆ 16.233516  ┆ 18.056075  ┆ 10.70029 │\n",
       "│ min    ┆ null    ┆ 2018-01-01 ┆ 2018-01-01 ┆ 0.0        ┆ 0.0        ┆ null       ┆ null       ┆ null       ┆ 0.0      ┆ 0.0        ┆ 0.0        ┆ 0.059009 │\n",
       "│        ┆         ┆ 00:05:38.0 ┆ 04:50:14.0 ┆            ┆            ┆            ┆            ┆            ┆          ┆            ┆            ┆          │\n",
       "│        ┆         ┆ 00000      ┆ 00000      ┆            ┆            ┆            ┆            ┆            ┆          ┆            ┆            ┆          │\n",
       "│ max    ┆ null    ┆ 2018-12-31 ┆ 2018-12-31 ┆ 9.0        ┆ 80.0       ┆ null       ┆ null       ┆ null       ┆ 62.27    ┆ 287.27     ┆ 180.0      ┆ 2574.944 │\n",
       "│        ┆         ┆ 23:03:08.0 ┆ 19:03:26.0 ┆            ┆            ┆            ┆            ┆            ┆          ┆            ┆            ┆          │\n",
       "│        ┆         ┆ 00000      ┆ 00000      ┆            ┆            ┆            ┆            ┆            ┆          ┆            ┆            ┆          │\n",
       "│ median ┆ null    ┆ null       ┆ null       ┆ 1.0        ┆ 1.51       ┆ null       ┆ null       ┆ null       ┆ 1.55     ┆ 12.74      ┆ 12.0       ┆ 14.11267 │\n",
       "│        ┆         ┆            ┆            ┆            ┆            ┆            ┆            ┆            ┆          ┆            ┆            ┆ 4        │\n",
       "└────────┴─────────┴────────────┴────────────┴────────────┴────────────┴────────────┴────────────┴────────────┴──────────┴────────────┴────────────┴──────────┘"
      ]
     },
     "execution_count": 19,
     "metadata": {},
     "output_type": "execute_result"
    }
   ],
   "source": [
    "taxi_sample_clean.collect().describe()"
   ]
  },
  {
   "attachments": {},
   "cell_type": "markdown",
   "metadata": {},
   "source": [
    "Procedemos a ejecutar el pipeline completo en todos los datos. Es importante el uso de `streaming=True` por si tenemos limitante de memoria RAM. De esta forma es posible procesar todo el dataset:"
   ]
  },
  {
   "cell_type": "code",
   "execution_count": 20,
   "metadata": {},
   "outputs": [],
   "source": [
    "taxi_clean = pl.scan_parquet('../output/taxi.parquet') \\\n",
    "            .pipe(drop_columns) \\\n",
    "            .pipe(rename_columns) \\\n",
    "            .pipe(cast_column_types) \\\n",
    "            .pipe(fix_bad_values) \\\n",
    "            .pipe(calculate_columns)"
   ]
  },
  {
   "cell_type": "code",
   "execution_count": 21,
   "metadata": {},
   "outputs": [],
   "source": [
    "taxi_clean = taxi_clean.collect(streaming=True)"
   ]
  },
  {
   "cell_type": "code",
   "execution_count": 22,
   "metadata": {},
   "outputs": [
    {
     "data": {
      "text/html": [
       "<div><style>\n",
       ".dataframe > thead > tr > th,\n",
       ".dataframe > tbody > tr > td {\n",
       "  text-align: right;\n",
       "}\n",
       "</style>\n",
       "<small>shape: (7, 13)</small><table border=\"1\" class=\"dataframe\"><thead><tr><th>describe</th><th>vendor_id</th><th>pickup_datetime</th><th>dropoff_datetime</th><th>passenger_count</th><th>trip_distance</th><th>pickup_location_id</th><th>dropoff_location_id</th><th>payment_type_id</th><th>tip_amount</th><th>total_amount</th><th>trip_duration</th><th>trip_speed</th></tr><tr><td>str</td><td>str</td><td>str</td><td>str</td><td>f64</td><td>f64</td><td>str</td><td>str</td><td>str</td><td>f64</td><td>f64</td><td>f64</td><td>f64</td></tr></thead><tbody><tr><td>&quot;count&quot;</td><td>&quot;112234626&quot;</td><td>&quot;112234626&quot;</td><td>&quot;112234626&quot;</td><td>1.12234626e8</td><td>1.12234626e8</td><td>&quot;112234626&quot;</td><td>&quot;112234626&quot;</td><td>&quot;112234626&quot;</td><td>1.12234626e8</td><td>1.12234626e8</td><td>1.12234626e8</td><td>1.12234626e8</td></tr><tr><td>&quot;null_count&quot;</td><td>&quot;0&quot;</td><td>&quot;0&quot;</td><td>&quot;0&quot;</td><td>0.0</td><td>0.0</td><td>&quot;0&quot;</td><td>&quot;0&quot;</td><td>&quot;0&quot;</td><td>0.0</td><td>0.0</td><td>0.0</td><td>2.694977e6</td></tr><tr><td>&quot;mean&quot;</td><td>null</td><td>null</td><td>null</td><td>1.595513</td><td>2.926978</td><td>null</td><td>null</td><td>null</td><td>1.86961</td><td>16.322072</td><td>14.184362</td><td>19.134251</td></tr><tr><td>&quot;std&quot;</td><td>null</td><td>null</td><td>null</td><td>1.241607</td><td>3.777462</td><td>null</td><td>null</td><td>null</td><td>2.503802</td><td>14.151166</td><td>14.133129</td><td>10.547828</td></tr><tr><td>&quot;min&quot;</td><td>null</td><td>&quot;2018-01-01 00:00:00.000000&quot;</td><td>&quot;2018-01-01 00:00:00.000000&quot;</td><td>0.0</td><td>0.0</td><td>null</td><td>null</td><td>null</td><td>0.0</td><td>0.0</td><td>0.0</td><td>0.059009</td></tr><tr><td>&quot;max&quot;</td><td>null</td><td>&quot;2018-12-31 23:59:59.000000&quot;</td><td>&quot;2018-12-31 23:59:59.000000&quot;</td><td>9.0</td><td>80.0</td><td>null</td><td>null</td><td>null</td><td>45.5</td><td>232.86</td><td>180.0</td><td>3862.416</td></tr><tr><td>&quot;median&quot;</td><td>null</td><td>null</td><td>null</td><td>1.0</td><td>1.6</td><td>null</td><td>null</td><td>null</td><td>1.4</td><td>11.8</td><td>11.0</td><td>16.89807</td></tr></tbody></table></div>"
      ],
      "text/plain": [
       "shape: (7, 13)\n",
       "┌────────┬─────────┬────────────┬────────────┬────────────┬────────────┬────────────┬────────────┬────────────┬──────────┬────────────┬────────────┬──────────┐\n",
       "│ descri ┆ vendor_ ┆ pickup_dat ┆ dropoff_da ┆ passenger_ ┆ trip_dista ┆ pickup_loc ┆ dropoff_lo ┆ payment_ty ┆ tip_amou ┆ total_amou ┆ trip_durat ┆ trip_spe │\n",
       "│ be     ┆ id      ┆ etime      ┆ tetime     ┆ count      ┆ nce        ┆ ation_id   ┆ cation_id  ┆ pe_id      ┆ nt       ┆ nt         ┆ ion        ┆ ed       │\n",
       "│ ---    ┆ ---     ┆ ---        ┆ ---        ┆ ---        ┆ ---        ┆ ---        ┆ ---        ┆ ---        ┆ ---      ┆ ---        ┆ ---        ┆ ---      │\n",
       "│ str    ┆ str     ┆ str        ┆ str        ┆ f64        ┆ f64        ┆ str        ┆ str        ┆ str        ┆ f64      ┆ f64        ┆ f64        ┆ f64      │\n",
       "╞════════╪═════════╪════════════╪════════════╪════════════╪════════════╪════════════╪════════════╪════════════╪══════════╪════════════╪════════════╪══════════╡\n",
       "│ count  ┆ 1122346 ┆ 112234626  ┆ 112234626  ┆ 1.12234626 ┆ 1.12234626 ┆ 112234626  ┆ 112234626  ┆ 112234626  ┆ 1.122346 ┆ 1.12234626 ┆ 1.12234626 ┆ 1.122346 │\n",
       "│        ┆ 26      ┆            ┆            ┆ e8         ┆ e8         ┆            ┆            ┆            ┆ 26e8     ┆ e8         ┆ e8         ┆ 26e8     │\n",
       "│ null_c ┆ 0       ┆ 0          ┆ 0          ┆ 0.0        ┆ 0.0        ┆ 0          ┆ 0          ┆ 0          ┆ 0.0      ┆ 0.0        ┆ 0.0        ┆ 2.694977 │\n",
       "│ ount   ┆         ┆            ┆            ┆            ┆            ┆            ┆            ┆            ┆          ┆            ┆            ┆ e6       │\n",
       "│ mean   ┆ null    ┆ null       ┆ null       ┆ 1.595513   ┆ 2.926978   ┆ null       ┆ null       ┆ null       ┆ 1.86961  ┆ 16.322072  ┆ 14.184362  ┆ 19.13425 │\n",
       "│        ┆         ┆            ┆            ┆            ┆            ┆            ┆            ┆            ┆          ┆            ┆            ┆ 1        │\n",
       "│ std    ┆ null    ┆ null       ┆ null       ┆ 1.241607   ┆ 3.777462   ┆ null       ┆ null       ┆ null       ┆ 2.503802 ┆ 14.151166  ┆ 14.133129  ┆ 10.54782 │\n",
       "│        ┆         ┆            ┆            ┆            ┆            ┆            ┆            ┆            ┆          ┆            ┆            ┆ 8        │\n",
       "│ min    ┆ null    ┆ 2018-01-01 ┆ 2018-01-01 ┆ 0.0        ┆ 0.0        ┆ null       ┆ null       ┆ null       ┆ 0.0      ┆ 0.0        ┆ 0.0        ┆ 0.059009 │\n",
       "│        ┆         ┆ 00:00:00.0 ┆ 00:00:00.0 ┆            ┆            ┆            ┆            ┆            ┆          ┆            ┆            ┆          │\n",
       "│        ┆         ┆ 00000      ┆ 00000      ┆            ┆            ┆            ┆            ┆            ┆          ┆            ┆            ┆          │\n",
       "│ max    ┆ null    ┆ 2018-12-31 ┆ 2018-12-31 ┆ 9.0        ┆ 80.0       ┆ null       ┆ null       ┆ null       ┆ 45.5     ┆ 232.86     ┆ 180.0      ┆ 3862.416 │\n",
       "│        ┆         ┆ 23:59:59.0 ┆ 23:59:59.0 ┆            ┆            ┆            ┆            ┆            ┆          ┆            ┆            ┆          │\n",
       "│        ┆         ┆ 00000      ┆ 00000      ┆            ┆            ┆            ┆            ┆            ┆          ┆            ┆            ┆          │\n",
       "│ median ┆ null    ┆ null       ┆ null       ┆ 1.0        ┆ 1.6        ┆ null       ┆ null       ┆ null       ┆ 1.4      ┆ 11.8       ┆ 11.0       ┆ 16.89807 │\n",
       "└────────┴─────────┴────────────┴────────────┴────────────┴────────────┴────────────┴────────────┴────────────┴──────────┴────────────┴────────────┴──────────┘"
      ]
     },
     "execution_count": 22,
     "metadata": {},
     "output_type": "execute_result"
    }
   ],
   "source": [
    "taxi_clean.describe()"
   ]
  },
  {
   "attachments": {},
   "cell_type": "markdown",
   "metadata": {},
   "source": [
    "Validamos que algunos campos específicos estén limpios:"
   ]
  },
  {
   "cell_type": "code",
   "execution_count": 23,
   "metadata": {},
   "outputs": [
    {
     "data": {
      "text/plain": [
       "0"
      ]
     },
     "execution_count": 23,
     "metadata": {},
     "output_type": "execute_result"
    }
   ],
   "source": [
    "taxi_clean.filter(pl.col('trip_duration')<0).height"
   ]
  },
  {
   "cell_type": "code",
   "execution_count": 24,
   "metadata": {},
   "outputs": [
    {
     "data": {
      "text/html": [
       "<div><style>\n",
       ".dataframe > thead > tr > th,\n",
       ".dataframe > tbody > tr > td {\n",
       "  text-align: right;\n",
       "}\n",
       "</style>\n",
       "<small>shape: (0, 12)</small><table border=\"1\" class=\"dataframe\"><thead><tr><th>vendor_id</th><th>pickup_datetime</th><th>dropoff_datetime</th><th>passenger_count</th><th>trip_distance</th><th>pickup_location_id</th><th>dropoff_location_id</th><th>payment_type_id</th><th>tip_amount</th><th>total_amount</th><th>trip_duration</th><th>trip_speed</th></tr><tr><td>cat</td><td>datetime[μs]</td><td>datetime[μs]</td><td>i32</td><td>f64</td><td>cat</td><td>cat</td><td>cat</td><td>f64</td><td>f64</td><td>i64</td><td>f64</td></tr></thead><tbody></tbody></table></div>"
      ],
      "text/plain": [
       "shape: (0, 12)\n",
       "┌─────────┬────────────┬────────────┬────────────┬────────────┬────────────┬────────────┬────────────┬──────────┬────────────┬────────────┬──────────┐\n",
       "│ vendor_ ┆ pickup_dat ┆ dropoff_da ┆ passenger_ ┆ trip_dista ┆ pickup_loc ┆ dropoff_lo ┆ payment_ty ┆ tip_amou ┆ total_amou ┆ trip_durat ┆ trip_spe │\n",
       "│ id      ┆ etime      ┆ tetime     ┆ count      ┆ nce        ┆ ation_id   ┆ cation_id  ┆ pe_id      ┆ nt       ┆ nt         ┆ ion        ┆ ed       │\n",
       "│ ---     ┆ ---        ┆ ---        ┆ ---        ┆ ---        ┆ ---        ┆ ---        ┆ ---        ┆ ---      ┆ ---        ┆ ---        ┆ ---      │\n",
       "│ cat     ┆ datetime[μ ┆ datetime[μ ┆ i32        ┆ f64        ┆ cat        ┆ cat        ┆ cat        ┆ f64      ┆ f64        ┆ i64        ┆ f64      │\n",
       "│         ┆ s]         ┆ s]         ┆            ┆            ┆            ┆            ┆            ┆          ┆            ┆            ┆          │\n",
       "╞═════════╪════════════╪════════════╪════════════╪════════════╪════════════╪════════════╪════════════╪══════════╪════════════╪════════════╪══════════╡\n",
       "└─────────┴────────────┴────────────┴────────────┴────────────┴────────────┴────────────┴────────────┴──────────┴────────────┴────────────┴──────────┘"
      ]
     },
     "execution_count": 24,
     "metadata": {},
     "output_type": "execute_result"
    }
   ],
   "source": [
    "taxi_clean.filter((pl.col('dropoff_datetime').dt.year()>2023) | (pl.col('dropoff_datetime').dt.year()<2017))"
   ]
  },
  {
   "cell_type": "code",
   "execution_count": 25,
   "metadata": {},
   "outputs": [
    {
     "data": {
      "text/html": [
       "<div><style>\n",
       ".dataframe > thead > tr > th,\n",
       ".dataframe > tbody > tr > td {\n",
       "  text-align: right;\n",
       "}\n",
       "</style>\n",
       "<small>shape: (1, 12)</small><table border=\"1\" class=\"dataframe\"><thead><tr><th>vendor_id</th><th>pickup_datetime</th><th>dropoff_datetime</th><th>passenger_count</th><th>trip_distance</th><th>pickup_location_id</th><th>dropoff_location_id</th><th>payment_type_id</th><th>tip_amount</th><th>total_amount</th><th>trip_duration</th><th>trip_speed</th></tr><tr><td>u32</td><td>u32</td><td>u32</td><td>u32</td><td>u32</td><td>u32</td><td>u32</td><td>u32</td><td>u32</td><td>u32</td><td>u32</td><td>u32</td></tr></thead><tbody><tr><td>0</td><td>0</td><td>0</td><td>0</td><td>0</td><td>0</td><td>0</td><td>0</td><td>0</td><td>0</td><td>0</td><td>2694977</td></tr></tbody></table></div>"
      ],
      "text/plain": [
       "shape: (1, 12)\n",
       "┌─────────┬────────────┬────────────┬────────────┬────────────┬────────────┬────────────┬────────────┬──────────┬────────────┬────────────┬──────────┐\n",
       "│ vendor_ ┆ pickup_dat ┆ dropoff_da ┆ passenger_ ┆ trip_dista ┆ pickup_loc ┆ dropoff_lo ┆ payment_ty ┆ tip_amou ┆ total_amou ┆ trip_durat ┆ trip_spe │\n",
       "│ id      ┆ etime      ┆ tetime     ┆ count      ┆ nce        ┆ ation_id   ┆ cation_id  ┆ pe_id      ┆ nt       ┆ nt         ┆ ion        ┆ ed       │\n",
       "│ ---     ┆ ---        ┆ ---        ┆ ---        ┆ ---        ┆ ---        ┆ ---        ┆ ---        ┆ ---      ┆ ---        ┆ ---        ┆ ---      │\n",
       "│ u32     ┆ u32        ┆ u32        ┆ u32        ┆ u32        ┆ u32        ┆ u32        ┆ u32        ┆ u32      ┆ u32        ┆ u32        ┆ u32      │\n",
       "╞═════════╪════════════╪════════════╪════════════╪════════════╪════════════╪════════════╪════════════╪══════════╪════════════╪════════════╪══════════╡\n",
       "│ 0       ┆ 0          ┆ 0          ┆ 0          ┆ 0          ┆ 0          ┆ 0          ┆ 0          ┆ 0        ┆ 0          ┆ 0          ┆ 2694977  │\n",
       "└─────────┴────────────┴────────────┴────────────┴────────────┴────────────┴────────────┴────────────┴──────────┴────────────┴────────────┴──────────┘"
      ]
     },
     "execution_count": 25,
     "metadata": {},
     "output_type": "execute_result"
    }
   ],
   "source": [
    "taxi_clean.select(pl.all().null_count())"
   ]
  },
  {
   "cell_type": "code",
   "execution_count": 26,
   "metadata": {},
   "outputs": [
    {
     "data": {
      "text/html": [
       "<div><style>\n",
       ".dataframe > thead > tr > th,\n",
       ".dataframe > tbody > tr > td {\n",
       "  text-align: right;\n",
       "}\n",
       "</style>\n",
       "<small>shape: (10, 2)</small><table border=\"1\" class=\"dataframe\"><thead><tr><th>passenger_count</th><th>counts</th></tr><tr><td>i32</td><td>u32</td></tr></thead><tbody><tr><td>0</td><td>1003298</td></tr><tr><td>1</td><td>79786664</td></tr><tr><td>2</td><td>16468127</td></tr><tr><td>3</td><td>4684094</td></tr><tr><td>4</td><td>2209579</td></tr><tr><td>5</td><td>5040905</td></tr><tr><td>6</td><td>3040893</td></tr><tr><td>7</td><td>425</td></tr><tr><td>8</td><td>349</td></tr><tr><td>9</td><td>292</td></tr></tbody></table></div>"
      ],
      "text/plain": [
       "shape: (10, 2)\n",
       "┌─────────────────┬──────────┐\n",
       "│ passenger_count ┆ counts   │\n",
       "│ ---             ┆ ---      │\n",
       "│ i32             ┆ u32      │\n",
       "╞═════════════════╪══════════╡\n",
       "│ 0               ┆ 1003298  │\n",
       "│ 1               ┆ 79786664 │\n",
       "│ 2               ┆ 16468127 │\n",
       "│ 3               ┆ 4684094  │\n",
       "│ 4               ┆ 2209579  │\n",
       "│ 5               ┆ 5040905  │\n",
       "│ 6               ┆ 3040893  │\n",
       "│ 7               ┆ 425      │\n",
       "│ 8               ┆ 349      │\n",
       "│ 9               ┆ 292      │\n",
       "└─────────────────┴──────────┘"
      ]
     },
     "execution_count": 26,
     "metadata": {},
     "output_type": "execute_result"
    }
   ],
   "source": [
    "taxi_clean.select(pl.col('passenger_count').value_counts()).unnest('passenger_count').sort('passenger_count')"
   ]
  },
  {
   "cell_type": "code",
   "execution_count": 27,
   "metadata": {},
   "outputs": [
    {
     "data": {
      "text/html": [
       "<div><style>\n",
       ".dataframe > thead > tr > th,\n",
       ".dataframe > tbody > tr > td {\n",
       "  text-align: right;\n",
       "}\n",
       "</style>\n",
       "<small>shape: (1, 2)</small><table border=\"1\" class=\"dataframe\"><thead><tr><th>dropoff_datetime</th><th>counts</th></tr><tr><td>i32</td><td>u32</td></tr></thead><tbody><tr><td>2018</td><td>112234626</td></tr></tbody></table></div>"
      ],
      "text/plain": [
       "shape: (1, 2)\n",
       "┌──────────────────┬───────────┐\n",
       "│ dropoff_datetime ┆ counts    │\n",
       "│ ---              ┆ ---       │\n",
       "│ i32              ┆ u32       │\n",
       "╞══════════════════╪═══════════╡\n",
       "│ 2018             ┆ 112234626 │\n",
       "└──────────────────┴───────────┘"
      ]
     },
     "execution_count": 27,
     "metadata": {},
     "output_type": "execute_result"
    }
   ],
   "source": [
    "taxi_clean.select(pl.col('dropoff_datetime').dt.year().value_counts()).unnest('dropoff_datetime')"
   ]
  },
  {
   "attachments": {},
   "cell_type": "markdown",
   "metadata": {},
   "source": [
    "## Analítica\n",
    "### Group By y agregaciones\n",
    "\n",
    "![Group By](../img/groupby.png)"
   ]
  },
  {
   "attachments": {},
   "cell_type": "markdown",
   "metadata": {},
   "source": [
    "`Groupby` en conjunto con `agg` nos permite realizar agregaciones por grupo."
   ]
  },
  {
   "cell_type": "code",
   "execution_count": 28,
   "metadata": {},
   "outputs": [
    {
     "data": {
      "text/html": [
       "<div><style>\n",
       ".dataframe > thead > tr > th,\n",
       ".dataframe > tbody > tr > td {\n",
       "  text-align: right;\n",
       "}\n",
       "</style>\n",
       "<small>shape: (5, 10)</small><table border=\"1\" class=\"dataframe\"><thead><tr><th>payment_type_id</th><th>total_amount_std</th><th>total_amount_var</th><th>total_amount_median</th><th>total_amount_mean</th><th>total_amount_sum</th><th>total_amount_max</th><th>total_amount_min</th><th>total_amount_count</th><th>total_amount_unique</th></tr><tr><td>cat</td><td>f64</td><td>f64</td><td>f64</td><td>f64</td><td>f64</td><td>f64</td><td>f64</td><td>u32</td><td>u32</td></tr></thead><tbody><tr><td>&quot;1&quot;</td><td>14.957931</td><td>223.739705</td><td>12.85</td><td>17.652092</td><td>1.3756e9</td><td>232.86</td><td>0.0</td><td>77928307</td><td>17618</td></tr><tr><td>&quot;2&quot;</td><td>11.421088</td><td>130.44124</td><td>9.8</td><td>13.296029</td><td>4.4617e8</td><td>232.86</td><td>0.0</td><td>33556849</td><td>7258</td></tr><tr><td>&quot;3&quot;</td><td>16.874474</td><td>284.747869</td><td>8.3</td><td>13.49828</td><td>7.8641e6</td><td>232.86</td><td>0.0</td><td>582599</td><td>2237</td></tr><tr><td>&quot;4&quot;</td><td>16.572163</td><td>274.636586</td><td>8.8</td><td>13.5855</td><td>2.2670e6</td><td>232.86</td><td>0.0</td><td>166868</td><td>1215</td></tr><tr><td>&quot;5&quot;</td><td>25.727933</td><td>661.926533</td><td>35.8</td><td>32.513333</td><td>97.54</td><td>56.44</td><td>5.3</td><td>3</td><td>3</td></tr></tbody></table></div>"
      ],
      "text/plain": [
       "shape: (5, 10)\n",
       "┌────────────┬────────────┬────────────┬────────────┬────────────┬────────────┬────────────┬────────────┬────────────┬────────────┐\n",
       "│ payment_ty ┆ total_amou ┆ total_amou ┆ total_amou ┆ total_amou ┆ total_amou ┆ total_amou ┆ total_amou ┆ total_amou ┆ total_amou │\n",
       "│ pe_id      ┆ nt_std     ┆ nt_var     ┆ nt_median  ┆ nt_mean    ┆ nt_sum     ┆ nt_max     ┆ nt_min     ┆ nt_count   ┆ nt_unique  │\n",
       "│ ---        ┆ ---        ┆ ---        ┆ ---        ┆ ---        ┆ ---        ┆ ---        ┆ ---        ┆ ---        ┆ ---        │\n",
       "│ cat        ┆ f64        ┆ f64        ┆ f64        ┆ f64        ┆ f64        ┆ f64        ┆ f64        ┆ u32        ┆ u32        │\n",
       "╞════════════╪════════════╪════════════╪════════════╪════════════╪════════════╪════════════╪════════════╪════════════╪════════════╡\n",
       "│ 1          ┆ 14.957931  ┆ 223.739705 ┆ 12.85      ┆ 17.652092  ┆ 1.3756e9   ┆ 232.86     ┆ 0.0        ┆ 77928307   ┆ 17618      │\n",
       "│ 2          ┆ 11.421088  ┆ 130.44124  ┆ 9.8        ┆ 13.296029  ┆ 4.4617e8   ┆ 232.86     ┆ 0.0        ┆ 33556849   ┆ 7258       │\n",
       "│ 3          ┆ 16.874474  ┆ 284.747869 ┆ 8.3        ┆ 13.49828   ┆ 7.8641e6   ┆ 232.86     ┆ 0.0        ┆ 582599     ┆ 2237       │\n",
       "│ 4          ┆ 16.572163  ┆ 274.636586 ┆ 8.8        ┆ 13.5855    ┆ 2.2670e6   ┆ 232.86     ┆ 0.0        ┆ 166868     ┆ 1215       │\n",
       "│ 5          ┆ 25.727933  ┆ 661.926533 ┆ 35.8       ┆ 32.513333  ┆ 97.54      ┆ 56.44      ┆ 5.3        ┆ 3          ┆ 3          │\n",
       "└────────────┴────────────┴────────────┴────────────┴────────────┴────────────┴────────────┴────────────┴────────────┴────────────┘"
      ]
     },
     "execution_count": 28,
     "metadata": {},
     "output_type": "execute_result"
    }
   ],
   "source": [
    "(taxi_clean.lazy()\n",
    "    .groupby('payment_type_id')\n",
    "    .agg(\n",
    "        pl.col('total_amount').std().suffix('_std'),\n",
    "        pl.col('total_amount').var().suffix('_var'),\n",
    "        pl.col('total_amount').median().suffix('_median'),\n",
    "        pl.col('total_amount').mean().suffix('_mean'),\n",
    "        pl.col('total_amount').sum().suffix('_sum'),\n",
    "        pl.col('total_amount').max().suffix('_max'),\n",
    "        pl.col('total_amount').min().suffix('_min'),\n",
    "        pl.col('total_amount').count().suffix('_count'),\n",
    "        pl.col('total_amount').n_unique().suffix('_unique'),\n",
    "        \n",
    "    ).sort('payment_type_id')\n",
    "    .collect()\n",
    "   )"
   ]
  },
  {
   "attachments": {},
   "cell_type": "markdown",
   "metadata": {},
   "source": [
    "`groupby_dynamic` nos permite crear intervalos en campos de `Date` o `Datetime` y en conjunto con `agg` realizar agregaciones:"
   ]
  },
  {
   "cell_type": "code",
   "execution_count": 29,
   "metadata": {},
   "outputs": [],
   "source": [
    "taxi_daily_stats = (taxi_clean.lazy()\n",
    "    .sort('pickup_datetime')\n",
    "    .groupby_dynamic(\n",
    "        'pickup_datetime', \n",
    "        every='1d',\n",
    "        by='vendor_id')\n",
    "    .agg(\n",
    "        pl.count().alias('trips_count'),        \n",
    "        pl.col(pl.NUMERIC_DTYPES).sum().suffix('_sum'),\n",
    "        pl.col(pl.NUMERIC_DTYPES).mean().suffix('_mean'),\n",
    "        pl.col(pl.NUMERIC_DTYPES).median().suffix('_median'),              \n",
    "    )\n",
    ")"
   ]
  },
  {
   "attachments": {},
   "cell_type": "markdown",
   "metadata": {},
   "source": [
    "También es posible hacer acumulaciones mediante la familia de funciones `cum` como `cumsum`:"
   ]
  },
  {
   "cell_type": "code",
   "execution_count": 30,
   "metadata": {},
   "outputs": [],
   "source": [
    "taxi_daily_cum_stats = taxi_daily_stats.select(\n",
    "    'vendor_id',\n",
    "    pl.col('pickup_datetime').cast(pl.Date),\n",
    "    'trips_count',\n",
    "    pl.col(r'^.*sum$'),\n",
    "    pl.col(r'^.*sum$').cumsum().suffix('_cum'),\n",
    ").collect()"
   ]
  },
  {
   "cell_type": "code",
   "execution_count": 31,
   "metadata": {},
   "outputs": [
    {
     "data": {
      "text/html": [
       "<div><style>\n",
       ".dataframe > thead > tr > th,\n",
       ".dataframe > tbody > tr > td {\n",
       "  text-align: right;\n",
       "}\n",
       "</style>\n",
       "<small>shape: (971, 15)</small><table border=\"1\" class=\"dataframe\"><thead><tr><th>vendor_id</th><th>pickup_datetime</th><th>trips_count</th><th>passenger_count_sum</th><th>trip_distance_sum</th><th>tip_amount_sum</th><th>total_amount_sum</th><th>trip_duration_sum</th><th>trip_speed_sum</th><th>passenger_count_sum_cum</th><th>trip_distance_sum_cum</th><th>tip_amount_sum_cum</th><th>total_amount_sum_cum</th><th>trip_duration_sum_cum</th><th>trip_speed_sum_cum</th></tr><tr><td>cat</td><td>date</td><td>u32</td><td>i32</td><td>f64</td><td>f64</td><td>f64</td><td>i64</td><td>f64</td><td>i32</td><td>f64</td><td>f64</td><td>f64</td><td>i64</td><td>f64</td></tr></thead><tbody><tr><td>&quot;2&quot;</td><td>2018-01-01</td><td>141704</td><td>270942</td><td>488214.54</td><td>239074.95</td><td>2.3418e6</td><td>1756888</td><td>3.4909e6</td><td>270942</td><td>488214.54</td><td>239074.95</td><td>2.3418e6</td><td>1756888</td><td>3.4909e6</td></tr><tr><td>&quot;2&quot;</td><td>2018-01-02</td><td>134592</td><td>257630</td><td>424210.71</td><td>231022.7</td><td>2.1644e6</td><td>1696152</td><td>2.8857e6</td><td>528572</td><td>912425.25</td><td>470097.65</td><td>4.5061e6</td><td>3453040</td><td>6.3766e6</td></tr><tr><td>&quot;2&quot;</td><td>2018-01-03</td><td>148673</td><td>282687</td><td>430239.87</td><td>256162.3</td><td>2.3414e6</td><td>1989922</td><td>2.8654e6</td><td>811259</td><td>1.3427e6</td><td>726259.95</td><td>6.8475e6</td><td>5442962</td><td>9.2420e6</td></tr><tr><td>&quot;2&quot;</td><td>2018-01-04</td><td>73429</td><td>139186</td><td>192898.61</td><td>114495.16</td><td>1.0727e6</td><td>938488</td><td>1.3696e6</td><td>950445</td><td>1.5356e6</td><td>840755.11</td><td>7.9202e6</td><td>6381450</td><td>1.0612e7</td></tr><tr><td>&quot;2&quot;</td><td>2018-01-05</td><td>152386</td><td>291141</td><td>405175.7</td><td>263764.36</td><td>2.3533e6</td><td>2136171</td><td>2.5978e6</td><td>1241586</td><td>1.9407e6</td><td>1.1045e6</td><td>1.0273e7</td><td>8517621</td><td>1.3209e7</td></tr><tr><td>&quot;2&quot;</td><td>2018-01-06</td><td>160667</td><td>309548</td><td>457776.51</td><td>267176.2</td><td>2.4333e6</td><td>2031684</td><td>3.1863e6</td><td>1551134</td><td>2.3985e6</td><td>1.3717e6</td><td>1.2707e7</td><td>10549305</td><td>1.6396e7</td></tr><tr><td>&quot;2&quot;</td><td>2018-01-07</td><td>135496</td><td>262067</td><td>420228.73</td><td>240716.98</td><td>2.1244e6</td><td>1617140</td><td>3.0285e6</td><td>1813201</td><td>2.8187e6</td><td>1.6124e6</td><td>1.4831e7</td><td>12166445</td><td>1.9424e7</td></tr><tr><td>...</td><td>...</td><td>...</td><td>...</td><td>...</td><td>...</td><td>...</td><td>...</td><td>...</td><td>...</td><td>...</td><td>...</td><td>...</td><td>...</td><td>...</td></tr><tr><td>&quot;4&quot;</td><td>2018-12-25</td><td>1511</td><td>1586</td><td>5009.36</td><td>2361.26</td><td>24090.42</td><td>17329</td><td>36024.474564</td><td>179056396</td><td>3.2847e8</td><td>2.0981e8</td><td>1.8317e9</td><td>1591787895</td><td>2.0957e9</td></tr><tr><td>&quot;4&quot;</td><td>2018-12-26</td><td>2343</td><td>2491</td><td>7065.0</td><td>3909.92</td><td>38405.93</td><td>30748</td><td>47332.921475</td><td>179058887</td><td>3.2847e8</td><td>2.0982e8</td><td>1.8317e9</td><td>1591818643</td><td>2.0957e9</td></tr><tr><td>&quot;4&quot;</td><td>2018-12-27</td><td>2529</td><td>2727</td><td>7784.74</td><td>4247.42</td><td>42699.75</td><td>35921</td><td>47095.373718</td><td>179061614</td><td>3.2848e8</td><td>2.0982e8</td><td>1.8318e9</td><td>1591854564</td><td>2.0958e9</td></tr><tr><td>&quot;4&quot;</td><td>2018-12-28</td><td>2402</td><td>2511</td><td>6885.13</td><td>3966.23</td><td>38828.91</td><td>32774</td><td>43556.962457</td><td>179064125</td><td>3.2849e8</td><td>2.0982e8</td><td>1.8318e9</td><td>1591887338</td><td>2.0958e9</td></tr><tr><td>&quot;4&quot;</td><td>2018-12-29</td><td>2554</td><td>2765</td><td>7656.65</td><td>4137.15</td><td>41487.82</td><td>34774</td><td>50109.353713</td><td>179066890</td><td>3.2849e8</td><td>2.0983e8</td><td>1.8318e9</td><td>1591922112</td><td>2.0959e9</td></tr><tr><td>&quot;4&quot;</td><td>2018-12-30</td><td>2161</td><td>2284</td><td>6658.45</td><td>3563.83</td><td>34292.34</td><td>26694</td><td>45775.41102</td><td>179069174</td><td>3.2850e8</td><td>2.0983e8</td><td>1.8319e9</td><td>1591948806</td><td>2.0959e9</td></tr><tr><td>&quot;4&quot;</td><td>2018-12-31</td><td>2503</td><td>2620</td><td>6702.23</td><td>3829.92</td><td>36379.94</td><td>27742</td><td>49092.276096</td><td>179071794</td><td>3.2851e8</td><td>2.0984e8</td><td>1.8319e9</td><td>1591976548</td><td>2.0960e9</td></tr></tbody></table></div>"
      ],
      "text/plain": [
       "shape: (971, 15)\n",
       "┌─────────┬────────────┬───────────┬────────────┬────────────┬────────────┬────────────┬────────────┬────────────┬────────────┬────────────┬────────────┬────────────┬────────────┬────────────┐\n",
       "│ vendor_ ┆ pickup_dat ┆ trips_cou ┆ passenger_ ┆ trip_dista ┆ tip_amount ┆ total_amou ┆ trip_durat ┆ trip_speed ┆ passenger_ ┆ trip_dista ┆ tip_amount ┆ total_amou ┆ trip_durat ┆ trip_speed │\n",
       "│ id      ┆ etime      ┆ nt        ┆ count_sum  ┆ nce_sum    ┆ _sum       ┆ nt_sum     ┆ ion_sum    ┆ _sum       ┆ count_sum_ ┆ nce_sum_cu ┆ _sum_cum   ┆ nt_sum_cum ┆ ion_sum_cu ┆ _sum_cum   │\n",
       "│ ---     ┆ ---        ┆ ---       ┆ ---        ┆ ---        ┆ ---        ┆ ---        ┆ ---        ┆ ---        ┆ cum        ┆ m          ┆ ---        ┆ ---        ┆ m          ┆ ---        │\n",
       "│ cat     ┆ date       ┆ u32       ┆ i32        ┆ f64        ┆ f64        ┆ f64        ┆ i64        ┆ f64        ┆ ---        ┆ ---        ┆ f64        ┆ f64        ┆ ---        ┆ f64        │\n",
       "│         ┆            ┆           ┆            ┆            ┆            ┆            ┆            ┆            ┆ i32        ┆ f64        ┆            ┆            ┆ i64        ┆            │\n",
       "╞═════════╪════════════╪═══════════╪════════════╪════════════╪════════════╪════════════╪════════════╪════════════╪════════════╪════════════╪════════════╪════════════╪════════════╪════════════╡\n",
       "│ 2       ┆ 2018-01-01 ┆ 141704    ┆ 270942     ┆ 488214.54  ┆ 239074.95  ┆ 2.3418e6   ┆ 1756888    ┆ 3.4909e6   ┆ 270942     ┆ 488214.54  ┆ 239074.95  ┆ 2.3418e6   ┆ 1756888    ┆ 3.4909e6   │\n",
       "│ 2       ┆ 2018-01-02 ┆ 134592    ┆ 257630     ┆ 424210.71  ┆ 231022.7   ┆ 2.1644e6   ┆ 1696152    ┆ 2.8857e6   ┆ 528572     ┆ 912425.25  ┆ 470097.65  ┆ 4.5061e6   ┆ 3453040    ┆ 6.3766e6   │\n",
       "│ 2       ┆ 2018-01-03 ┆ 148673    ┆ 282687     ┆ 430239.87  ┆ 256162.3   ┆ 2.3414e6   ┆ 1989922    ┆ 2.8654e6   ┆ 811259     ┆ 1.3427e6   ┆ 726259.95  ┆ 6.8475e6   ┆ 5442962    ┆ 9.2420e6   │\n",
       "│ 2       ┆ 2018-01-04 ┆ 73429     ┆ 139186     ┆ 192898.61  ┆ 114495.16  ┆ 1.0727e6   ┆ 938488     ┆ 1.3696e6   ┆ 950445     ┆ 1.5356e6   ┆ 840755.11  ┆ 7.9202e6   ┆ 6381450    ┆ 1.0612e7   │\n",
       "│ 2       ┆ 2018-01-05 ┆ 152386    ┆ 291141     ┆ 405175.7   ┆ 263764.36  ┆ 2.3533e6   ┆ 2136171    ┆ 2.5978e6   ┆ 1241586    ┆ 1.9407e6   ┆ 1.1045e6   ┆ 1.0273e7   ┆ 8517621    ┆ 1.3209e7   │\n",
       "│ 2       ┆ 2018-01-06 ┆ 160667    ┆ 309548     ┆ 457776.51  ┆ 267176.2   ┆ 2.4333e6   ┆ 2031684    ┆ 3.1863e6   ┆ 1551134    ┆ 2.3985e6   ┆ 1.3717e6   ┆ 1.2707e7   ┆ 10549305   ┆ 1.6396e7   │\n",
       "│ 2       ┆ 2018-01-07 ┆ 135496    ┆ 262067     ┆ 420228.73  ┆ 240716.98  ┆ 2.1244e6   ┆ 1617140    ┆ 3.0285e6   ┆ 1813201    ┆ 2.8187e6   ┆ 1.6124e6   ┆ 1.4831e7   ┆ 12166445   ┆ 1.9424e7   │\n",
       "│ ...     ┆ ...        ┆ ...       ┆ ...        ┆ ...        ┆ ...        ┆ ...        ┆ ...        ┆ ...        ┆ ...        ┆ ...        ┆ ...        ┆ ...        ┆ ...        ┆ ...        │\n",
       "│ 4       ┆ 2018-12-24 ┆ 2241      ┆ 2365       ┆ 5223.69    ┆ 2823.17    ┆ 29033.43   ┆ 22518      ┆ 44836.6647 ┆ 179054810  ┆ 3.2846e8   ┆ 2.0981e8   ┆ 1.8316e9   ┆ 1591770566 ┆ 2.0956e9   │\n",
       "│         ┆            ┆           ┆            ┆            ┆            ┆            ┆            ┆ 66         ┆            ┆            ┆            ┆            ┆            ┆            │\n",
       "│ 4       ┆ 2018-12-25 ┆ 1511      ┆ 1586       ┆ 5009.36    ┆ 2361.26    ┆ 24090.42   ┆ 17329      ┆ 36024.4745 ┆ 179056396  ┆ 3.2847e8   ┆ 2.0981e8   ┆ 1.8317e9   ┆ 1591787895 ┆ 2.0957e9   │\n",
       "│         ┆            ┆           ┆            ┆            ┆            ┆            ┆            ┆ 64         ┆            ┆            ┆            ┆            ┆            ┆            │\n",
       "│ 4       ┆ 2018-12-26 ┆ 2343      ┆ 2491       ┆ 7065.0     ┆ 3909.92    ┆ 38405.93   ┆ 30748      ┆ 47332.9214 ┆ 179058887  ┆ 3.2847e8   ┆ 2.0982e8   ┆ 1.8317e9   ┆ 1591818643 ┆ 2.0957e9   │\n",
       "│         ┆            ┆           ┆            ┆            ┆            ┆            ┆            ┆ 75         ┆            ┆            ┆            ┆            ┆            ┆            │\n",
       "│ 4       ┆ 2018-12-27 ┆ 2529      ┆ 2727       ┆ 7784.74    ┆ 4247.42    ┆ 42699.75   ┆ 35921      ┆ 47095.3737 ┆ 179061614  ┆ 3.2848e8   ┆ 2.0982e8   ┆ 1.8318e9   ┆ 1591854564 ┆ 2.0958e9   │\n",
       "│         ┆            ┆           ┆            ┆            ┆            ┆            ┆            ┆ 18         ┆            ┆            ┆            ┆            ┆            ┆            │\n",
       "│ 4       ┆ 2018-12-28 ┆ 2402      ┆ 2511       ┆ 6885.13    ┆ 3966.23    ┆ 38828.91   ┆ 32774      ┆ 43556.9624 ┆ 179064125  ┆ 3.2849e8   ┆ 2.0982e8   ┆ 1.8318e9   ┆ 1591887338 ┆ 2.0958e9   │\n",
       "│         ┆            ┆           ┆            ┆            ┆            ┆            ┆            ┆ 57         ┆            ┆            ┆            ┆            ┆            ┆            │\n",
       "│ 4       ┆ 2018-12-29 ┆ 2554      ┆ 2765       ┆ 7656.65    ┆ 4137.15    ┆ 41487.82   ┆ 34774      ┆ 50109.3537 ┆ 179066890  ┆ 3.2849e8   ┆ 2.0983e8   ┆ 1.8318e9   ┆ 1591922112 ┆ 2.0959e9   │\n",
       "│         ┆            ┆           ┆            ┆            ┆            ┆            ┆            ┆ 13         ┆            ┆            ┆            ┆            ┆            ┆            │\n",
       "│ 4       ┆ 2018-12-30 ┆ 2161      ┆ 2284       ┆ 6658.45    ┆ 3563.83    ┆ 34292.34   ┆ 26694      ┆ 45775.4110 ┆ 179069174  ┆ 3.2850e8   ┆ 2.0983e8   ┆ 1.8319e9   ┆ 1591948806 ┆ 2.0959e9   │\n",
       "│         ┆            ┆           ┆            ┆            ┆            ┆            ┆            ┆ 2          ┆            ┆            ┆            ┆            ┆            ┆            │\n",
       "│ 4       ┆ 2018-12-31 ┆ 2503      ┆ 2620       ┆ 6702.23    ┆ 3829.92    ┆ 36379.94   ┆ 27742      ┆ 49092.2760 ┆ 179071794  ┆ 3.2851e8   ┆ 2.0984e8   ┆ 1.8319e9   ┆ 1591976548 ┆ 2.0960e9   │\n",
       "│         ┆            ┆           ┆            ┆            ┆            ┆            ┆            ┆ 96         ┆            ┆            ┆            ┆            ┆            ┆            │\n",
       "└─────────┴────────────┴───────────┴────────────┴────────────┴────────────┴────────────┴────────────┴────────────┴────────────┴────────────┴────────────┴────────────┴────────────┴────────────┘"
      ]
     },
     "execution_count": 31,
     "metadata": {},
     "output_type": "execute_result"
    }
   ],
   "source": [
    "taxi_daily_cum_stats"
   ]
  },
  {
   "attachments": {},
   "cell_type": "markdown",
   "metadata": {},
   "source": [
    "Analicemos el plan que se ejecutó:"
   ]
  },
  {
   "cell_type": "code",
   "execution_count": 32,
   "metadata": {},
   "outputs": [
    {
     "data": {
      "text/plain": [
       "' SELECT [col(\"vendor_id\"), col(\"pickup_datetime\").strict_cast(Date), col(\"trips_count\"), col(\"passenger_count_sum\"), col(\"trip_distance_sum\"), col(\"tip_amount_sum\"), col(\"total_amount_sum\"), col(\"trip_duration_sum\"), col(\"trip_speed_sum\"), col(\"passenger_count_sum\").cumsum().alias(\"passenger_count_sum_cum\"), col(\"trip_distance_sum\").cumsum().alias(\"trip_distance_sum_cum\"), col(\"tip_amount_sum\").cumsum().alias(\"tip_amount_sum_cum\"), col(\"total_amount_sum\").cumsum().alias(\"total_amount_sum_cum\"), col(\"trip_duration_sum\").cumsum().alias(\"trip_duration_sum_cum\"), col(\"trip_speed_sum\").cumsum().alias(\"trip_speed_sum_cum\")] FROM\\n  AGGREGATE\\n  \\t[count().alias(\"trips_count\"), col(\"passenger_count\").sum().alias(\"passenger_count_sum\"), col(\"trip_distance\").sum().alias(\"trip_distance_sum\"), col(\"tip_amount\").sum().alias(\"tip_amount_sum\"), col(\"total_amount\").sum().alias(\"total_amount_sum\"), col(\"trip_duration\").sum().alias(\"trip_duration_sum\"), col(\"trip_speed\").sum().alias(\"trip_speed_sum\")] BY [col(\"vendor_id\")] FROM\\n  \\tSORT BY [col(\"pickup_datetime\")]\\n  DF [\"vendor_id\", \"pickup_datetime\", \"dropoff_datetime\", \"passenger_count\"]; PROJECT 8/12 COLUMNS; SELECTION: \"None\"'"
      ]
     },
     "execution_count": 32,
     "metadata": {},
     "output_type": "execute_result"
    }
   ],
   "source": [
    "taxi_daily_stats.select(\n",
    "    'vendor_id',\n",
    "    pl.col('pickup_datetime').cast(pl.Date),\n",
    "    'trips_count',\n",
    "    pl.col(r'^.*sum$'),\n",
    "    pl.col(r'^.*sum$').cumsum().suffix('_cum'),\n",
    ").explain()"
   ]
  },
  {
   "attachments": {},
   "cell_type": "markdown",
   "metadata": {},
   "source": [
    "### Window functions\n",
    "También podemos ejecutar window functions mediante `over`. Hay que tener mucho cuidado ya que las window functions regresan una fila por cada fila original en la entrada de la función: <br><br>\n",
    "![Polars Window functions](../img/window.png)"
   ]
  },
  {
   "cell_type": "code",
   "execution_count": 33,
   "metadata": {},
   "outputs": [],
   "source": [
    "window = pl.col('pickup_datetime').cast(pl.Date).alias('pickup_date')\n",
    "taxi_window_stats = taxi_clean.lazy()\\\n",
    "    .filter(\n",
    "        (pl.col('pickup_datetime').dt.month()==12) \n",
    "    )\\\n",
    "    .select(\n",
    "        window,\n",
    "        (pl.col(pl.NUMERIC_DTYPES) *100 / pl.col(pl.NUMERIC_DTYPES).max().over(window)).suffix('_max_pct')\n",
    "    )\\\n",
    "    .sort('pickup_date').collect()"
   ]
  },
  {
   "cell_type": "code",
   "execution_count": 34,
   "metadata": {},
   "outputs": [
    {
     "data": {
      "text/html": [
       "<div><style>\n",
       ".dataframe > thead > tr > th,\n",
       ".dataframe > tbody > tr > td {\n",
       "  text-align: right;\n",
       "}\n",
       "</style>\n",
       "<small>shape: (8173122, 7)</small><table border=\"1\" class=\"dataframe\"><thead><tr><th>pickup_date</th><th>passenger_count_max_pct</th><th>trip_distance_max_pct</th><th>tip_amount_max_pct</th><th>total_amount_max_pct</th><th>trip_duration_max_pct</th><th>trip_speed_max_pct</th></tr><tr><td>date</td><td>f64</td><td>f64</td><td>f64</td><td>f64</td><td>f64</td><td>f64</td></tr></thead><tbody><tr><td>2018-12-01</td><td>42.857143</td><td>1.1625</td><td>4.285714</td><td>4.187065</td><td>3.333333</td><td>2.183099</td></tr><tr><td>2018-12-01</td><td>14.285714</td><td>4.3625</td><td>6.065934</td><td>7.111569</td><td>5.555556</td><td>4.915493</td></tr><tr><td>2018-12-01</td><td>14.285714</td><td>0.5</td><td>0.0</td><td>2.490767</td><td>1.666667</td><td>1.877934</td></tr><tr><td>2018-12-01</td><td>28.571429</td><td>0.7125</td><td>2.197802</td><td>3.134931</td><td>2.222222</td><td>2.007042</td></tr><tr><td>2018-12-01</td><td>71.428571</td><td>4.125</td><td>0.0</td><td>6.570472</td><td>8.333333</td><td>3.098592</td></tr><tr><td>2018-12-01</td><td>85.714286</td><td>1.8625</td><td>4.307692</td><td>5.050245</td><td>6.111111</td><td>1.90781</td></tr><tr><td>2018-12-01</td><td>28.571429</td><td>3.8625</td><td>7.582418</td><td>7.407885</td><td>8.333333</td><td>2.901408</td></tr><tr><td>...</td><td>...</td><td>...</td><td>...</td><td>...</td><td>...</td><td>...</td></tr><tr><td>2018-12-31</td><td>42.857143</td><td>1.65</td><td>0.0</td><td>3.564373</td><td>5.0</td><td>1.275362</td></tr><tr><td>2018-12-31</td><td>14.285714</td><td>3.5875</td><td>0.0</td><td>5.282144</td><td>5.555556</td><td>2.495652</td></tr><tr><td>2018-12-31</td><td>42.857143</td><td>6.3375</td><td>0.0</td><td>13.441553</td><td>26.666667</td><td>0.918478</td></tr><tr><td>2018-12-31</td><td>14.285714</td><td>1.45</td><td>3.208791</td><td>3.761917</td><td>3.888889</td><td>1.440994</td></tr><tr><td>2018-12-31</td><td>14.285714</td><td>9.4</td><td>6.593407</td><td>23.318732</td><td>0.0</td><td>null</td></tr><tr><td>2018-12-31</td><td>14.285714</td><td>1.45</td><td>0.0</td><td>5.282144</td><td>10.555556</td><td>0.530892</td></tr><tr><td>2018-12-31</td><td>14.285714</td><td>1.475</td><td>0.0</td><td>3.349652</td><td>4.444444</td><td>1.282609</td></tr></tbody></table></div>"
      ],
      "text/plain": [
       "shape: (8173122, 7)\n",
       "┌─────────────┬────────────┬────────────┬────────────┬───────────────┬──────────────┬──────────────┐\n",
       "│ pickup_date ┆ passenger_ ┆ trip_dista ┆ tip_amount ┆ total_amount_ ┆ trip_duratio ┆ trip_speed_m │\n",
       "│ ---         ┆ count_max_ ┆ nce_max_pc ┆ _max_pct   ┆ max_pct       ┆ n_max_pct    ┆ ax_pct       │\n",
       "│ date        ┆ pct        ┆ t          ┆ ---        ┆ ---           ┆ ---          ┆ ---          │\n",
       "│             ┆ ---        ┆ ---        ┆ f64        ┆ f64           ┆ f64          ┆ f64          │\n",
       "│             ┆ f64        ┆ f64        ┆            ┆               ┆              ┆              │\n",
       "╞═════════════╪════════════╪════════════╪════════════╪═══════════════╪══════════════╪══════════════╡\n",
       "│ 2018-12-01  ┆ 42.857143  ┆ 1.1625     ┆ 4.285714   ┆ 4.187065      ┆ 3.333333     ┆ 2.183099     │\n",
       "│ 2018-12-01  ┆ 14.285714  ┆ 4.3625     ┆ 6.065934   ┆ 7.111569      ┆ 5.555556     ┆ 4.915493     │\n",
       "│ 2018-12-01  ┆ 14.285714  ┆ 0.5        ┆ 0.0        ┆ 2.490767      ┆ 1.666667     ┆ 1.877934     │\n",
       "│ 2018-12-01  ┆ 28.571429  ┆ 0.7125     ┆ 2.197802   ┆ 3.134931      ┆ 2.222222     ┆ 2.007042     │\n",
       "│ 2018-12-01  ┆ 71.428571  ┆ 4.125      ┆ 0.0        ┆ 6.570472      ┆ 8.333333     ┆ 3.098592     │\n",
       "│ 2018-12-01  ┆ 85.714286  ┆ 1.8625     ┆ 4.307692   ┆ 5.050245      ┆ 6.111111     ┆ 1.90781      │\n",
       "│ 2018-12-01  ┆ 28.571429  ┆ 3.8625     ┆ 7.582418   ┆ 7.407885      ┆ 8.333333     ┆ 2.901408     │\n",
       "│ ...         ┆ ...        ┆ ...        ┆ ...        ┆ ...           ┆ ...          ┆ ...          │\n",
       "│ 2018-12-31  ┆ 14.285714  ┆ 26.425     ┆ 0.0        ┆ 36.313665     ┆ 37.222222    ┆ 2.743673     │\n",
       "│ 2018-12-31  ┆ 42.857143  ┆ 1.65       ┆ 0.0        ┆ 3.564373      ┆ 5.0          ┆ 1.275362     │\n",
       "│ 2018-12-31  ┆ 14.285714  ┆ 3.5875     ┆ 0.0        ┆ 5.282144      ┆ 5.555556     ┆ 2.495652     │\n",
       "│ 2018-12-31  ┆ 42.857143  ┆ 6.3375     ┆ 0.0        ┆ 13.441553     ┆ 26.666667    ┆ 0.918478     │\n",
       "│ 2018-12-31  ┆ 14.285714  ┆ 1.45       ┆ 3.208791   ┆ 3.761917      ┆ 3.888889     ┆ 1.440994     │\n",
       "│ 2018-12-31  ┆ 14.285714  ┆ 9.4        ┆ 6.593407   ┆ 23.318732     ┆ 0.0          ┆ null         │\n",
       "│ 2018-12-31  ┆ 14.285714  ┆ 1.45       ┆ 0.0        ┆ 5.282144      ┆ 10.555556    ┆ 0.530892     │\n",
       "│ 2018-12-31  ┆ 14.285714  ┆ 1.475      ┆ 0.0        ┆ 3.349652      ┆ 4.444444     ┆ 1.282609     │\n",
       "└─────────────┴────────────┴────────────┴────────────┴───────────────┴──────────────┴──────────────┘"
      ]
     },
     "execution_count": 34,
     "metadata": {},
     "output_type": "execute_result"
    }
   ],
   "source": [
    "taxi_window_stats"
   ]
  },
  {
   "attachments": {},
   "cell_type": "markdown",
   "metadata": {},
   "source": [
    "Una alternativa a fuciones comunes de Window en SQL es usar directamente métodos que nos da Polars como `pct_change`, `rank`, `top_k`. En ocasiones debemos usarlas en conjunto con `groupby`:"
   ]
  },
  {
   "cell_type": "code",
   "execution_count": 35,
   "metadata": {},
   "outputs": [
    {
     "data": {
      "text/html": [
       "<div><style>\n",
       ".dataframe > thead > tr > th,\n",
       ".dataframe > tbody > tr > td {\n",
       "  text-align: right;\n",
       "}\n",
       "</style>\n",
       "<small>shape: (971, 3)</small><table border=\"1\" class=\"dataframe\"><thead><tr><th>pickup_datetime</th><th>total_amount_daily_pct_change</th><th>total_amount_sum_rank</th></tr><tr><td>date</td><td>f64</td><td>u32</td></tr></thead><tbody><tr><td>2018-01-01</td><td>null</td><td>617</td></tr><tr><td>2018-01-02</td><td>0.924241</td><td>546</td></tr><tr><td>2018-01-03</td><td>0.519592</td><td>616</td></tr><tr><td>2018-01-04</td><td>0.156659</td><td>247</td></tr><tr><td>2018-01-05</td><td>0.297124</td><td>619</td></tr><tr><td>2018-01-06</td><td>0.236852</td><td>632</td></tr><tr><td>2018-01-07</td><td>0.167183</td><td>525</td></tr><tr><td>...</td><td>...</td><td>...</td></tr><tr><td>2018-12-25</td><td>0.000013</td><td>124</td></tr><tr><td>2018-12-26</td><td>0.000021</td><td>136</td></tr><tr><td>2018-12-27</td><td>0.000023</td><td>144</td></tr><tr><td>2018-12-28</td><td>0.000021</td><td>137</td></tr><tr><td>2018-12-29</td><td>0.000023</td><td>142</td></tr><tr><td>2018-12-30</td><td>0.000019</td><td>133</td></tr><tr><td>2018-12-31</td><td>0.00002</td><td>134</td></tr></tbody></table></div>"
      ],
      "text/plain": [
       "shape: (971, 3)\n",
       "┌─────────────────┬───────────────────────────────┬───────────────────────┐\n",
       "│ pickup_datetime ┆ total_amount_daily_pct_change ┆ total_amount_sum_rank │\n",
       "│ ---             ┆ ---                           ┆ ---                   │\n",
       "│ date            ┆ f64                           ┆ u32                   │\n",
       "╞═════════════════╪═══════════════════════════════╪═══════════════════════╡\n",
       "│ 2018-01-01      ┆ null                          ┆ 617                   │\n",
       "│ 2018-01-02      ┆ 0.924241                      ┆ 546                   │\n",
       "│ 2018-01-03      ┆ 0.519592                      ┆ 616                   │\n",
       "│ 2018-01-04      ┆ 0.156659                      ┆ 247                   │\n",
       "│ 2018-01-05      ┆ 0.297124                      ┆ 619                   │\n",
       "│ 2018-01-06      ┆ 0.236852                      ┆ 632                   │\n",
       "│ 2018-01-07      ┆ 0.167183                      ┆ 525                   │\n",
       "│ ...             ┆ ...                           ┆ ...                   │\n",
       "│ 2018-12-24      ┆ 0.000016                      ┆ 126                   │\n",
       "│ 2018-12-25      ┆ 0.000013                      ┆ 124                   │\n",
       "│ 2018-12-26      ┆ 0.000021                      ┆ 136                   │\n",
       "│ 2018-12-27      ┆ 0.000023                      ┆ 144                   │\n",
       "│ 2018-12-28      ┆ 0.000021                      ┆ 137                   │\n",
       "│ 2018-12-29      ┆ 0.000023                      ┆ 142                   │\n",
       "│ 2018-12-30      ┆ 0.000019                      ┆ 133                   │\n",
       "│ 2018-12-31      ┆ 0.00002                       ┆ 134                   │\n",
       "└─────────────────┴───────────────────────────────┴───────────────────────┘"
      ]
     },
     "execution_count": 35,
     "metadata": {},
     "output_type": "execute_result"
    }
   ],
   "source": [
    "(taxi_daily_cum_stats.lazy()\n",
    "    .select(\n",
    "        pl.col('pickup_datetime').cast(pl.Date),\n",
    "        pl.col('total_amount_sum_cum').pct_change().alias('total_amount_daily_pct_change'),\n",
    "        pl.col('total_amount_sum').rank(method='ordinal').alias('total_amount_sum_rank')\n",
    "    )\n",
    ").collect()\n"
   ]
  },
  {
   "attachments": {},
   "cell_type": "markdown",
   "metadata": {},
   "source": [
    "### Pivot tables"
   ]
  },
  {
   "attachments": {},
   "cell_type": "markdown",
   "metadata": {},
   "source": [
    "`Pivot` nos permite agregar de manera similar a cómo lo hacen las hojas de cálculo:"
   ]
  },
  {
   "cell_type": "code",
   "execution_count": 36,
   "metadata": {},
   "outputs": [
    {
     "data": {
      "text/html": [
       "<div><style>\n",
       ".dataframe > thead > tr > th,\n",
       ".dataframe > tbody > tr > td {\n",
       "  text-align: right;\n",
       "}\n",
       "</style>\n",
       "<small>shape: (365, 6)</small><table border=\"1\" class=\"dataframe\"><thead><tr><th>pickup_datetime</th><th>1</th><th>2</th><th>4</th><th>3</th><th>5</th></tr><tr><td>date</td><td>f64</td><td>f64</td><td>f64</td><td>f64</td><td>f64</td></tr></thead><tbody><tr><td>2018-01-01</td><td>2.5463e6</td><td>1.2894e6</td><td>6613.85</td><td>21421.6</td><td>0.0</td></tr><tr><td>2018-01-02</td><td>2.5680e6</td><td>1.1413e6</td><td>4493.48</td><td>18189.38</td><td>0.0</td></tr><tr><td>2018-01-03</td><td>2.8910e6</td><td>1.1994e6</td><td>5551.6</td><td>19222.34</td><td>0.0</td></tr><tr><td>2018-01-04</td><td>1.1776e6</td><td>570874.96</td><td>2359.89</td><td>8071.63</td><td>0.0</td></tr><tr><td>2018-01-05</td><td>2.9262e6</td><td>1.0938e6</td><td>4433.03</td><td>17224.93</td><td>0.0</td></tr><tr><td>2018-01-06</td><td>2.9765e6</td><td>1.1744e6</td><td>5268.63</td><td>19602.58</td><td>0.0</td></tr><tr><td>2018-01-07</td><td>2.6601e6</td><td>951547.710001</td><td>5778.22</td><td>16715.7</td><td>0.0</td></tr><tr><td>...</td><td>...</td><td>...</td><td>...</td><td>...</td><td>...</td></tr><tr><td>2018-12-25</td><td>1.2053e6</td><td>748053.26</td><td>2722.0</td><td>7700.65</td><td>0.0</td></tr><tr><td>2018-12-26</td><td>1.9707e6</td><td>1.0382e6</td><td>4818.51</td><td>11042.54</td><td>0.0</td></tr><tr><td>2018-12-27</td><td>2.3136e6</td><td>1.2166e6</td><td>6174.88</td><td>15395.04</td><td>0.0</td></tr><tr><td>2018-12-28</td><td>2.3108e6</td><td>1.1888e6</td><td>5504.53</td><td>15697.27</td><td>0.0</td></tr><tr><td>2018-12-29</td><td>2.2473e6</td><td>1.2173e6</td><td>6214.46</td><td>16016.94</td><td>0.0</td></tr><tr><td>2018-12-30</td><td>2.0926e6</td><td>1.0398e6</td><td>5593.85</td><td>14601.76</td><td>0.0</td></tr><tr><td>2018-12-31</td><td>2.0984e6</td><td>1.0114e6</td><td>4662.78</td><td>13411.06</td><td>0.0</td></tr></tbody></table></div>"
      ],
      "text/plain": [
       "shape: (365, 6)\n",
       "┌─────────────────┬──────────┬───────────────┬─────────┬──────────┬─────┐\n",
       "│ pickup_datetime ┆ 1        ┆ 2             ┆ 4       ┆ 3        ┆ 5   │\n",
       "│ ---             ┆ ---      ┆ ---           ┆ ---     ┆ ---      ┆ --- │\n",
       "│ date            ┆ f64      ┆ f64           ┆ f64     ┆ f64      ┆ f64 │\n",
       "╞═════════════════╪══════════╪═══════════════╪═════════╪══════════╪═════╡\n",
       "│ 2018-01-01      ┆ 2.5463e6 ┆ 1.2894e6      ┆ 6613.85 ┆ 21421.6  ┆ 0.0 │\n",
       "│ 2018-01-02      ┆ 2.5680e6 ┆ 1.1413e6      ┆ 4493.48 ┆ 18189.38 ┆ 0.0 │\n",
       "│ 2018-01-03      ┆ 2.8910e6 ┆ 1.1994e6      ┆ 5551.6  ┆ 19222.34 ┆ 0.0 │\n",
       "│ 2018-01-04      ┆ 1.1776e6 ┆ 570874.96     ┆ 2359.89 ┆ 8071.63  ┆ 0.0 │\n",
       "│ 2018-01-05      ┆ 2.9262e6 ┆ 1.0938e6      ┆ 4433.03 ┆ 17224.93 ┆ 0.0 │\n",
       "│ 2018-01-06      ┆ 2.9765e6 ┆ 1.1744e6      ┆ 5268.63 ┆ 19602.58 ┆ 0.0 │\n",
       "│ 2018-01-07      ┆ 2.6601e6 ┆ 951547.710001 ┆ 5778.22 ┆ 16715.7  ┆ 0.0 │\n",
       "│ ...             ┆ ...      ┆ ...           ┆ ...     ┆ ...      ┆ ... │\n",
       "│ 2018-12-24      ┆ 1.6329e6 ┆ 953252.390001 ┆ 4160.8  ┆ 13078.19 ┆ 0.0 │\n",
       "│ 2018-12-25      ┆ 1.2053e6 ┆ 748053.26     ┆ 2722.0  ┆ 7700.65  ┆ 0.0 │\n",
       "│ 2018-12-26      ┆ 1.9707e6 ┆ 1.0382e6      ┆ 4818.51 ┆ 11042.54 ┆ 0.0 │\n",
       "│ 2018-12-27      ┆ 2.3136e6 ┆ 1.2166e6      ┆ 6174.88 ┆ 15395.04 ┆ 0.0 │\n",
       "│ 2018-12-28      ┆ 2.3108e6 ┆ 1.1888e6      ┆ 5504.53 ┆ 15697.27 ┆ 0.0 │\n",
       "│ 2018-12-29      ┆ 2.2473e6 ┆ 1.2173e6      ┆ 6214.46 ┆ 16016.94 ┆ 0.0 │\n",
       "│ 2018-12-30      ┆ 2.0926e6 ┆ 1.0398e6      ┆ 5593.85 ┆ 14601.76 ┆ 0.0 │\n",
       "│ 2018-12-31      ┆ 2.0984e6 ┆ 1.0114e6      ┆ 4662.78 ┆ 13411.06 ┆ 0.0 │\n",
       "└─────────────────┴──────────┴───────────────┴─────────┴──────────┴─────┘"
      ]
     },
     "execution_count": 36,
     "metadata": {},
     "output_type": "execute_result"
    }
   ],
   "source": [
    "(taxi_clean\n",
    " .select('total_amount',\n",
    "    pl.col('pickup_datetime').cast(pl.Date),\n",
    "    'payment_type_id',\n",
    ").sort('pickup_datetime')\n",
    ".pivot(values='total_amount', index='pickup_datetime', aggregate_function='sum', columns='payment_type_id')\n",
    ".fill_null(0)\n",
    ")"
   ]
  },
  {
   "attachments": {},
   "cell_type": "markdown",
   "metadata": {},
   "source": [
    "## Joins y reestructuración de datos"
   ]
  },
  {
   "cell_type": "code",
   "execution_count": 37,
   "metadata": {},
   "outputs": [
    {
     "data": {
      "text/html": [
       "<div><style>\n",
       ".dataframe > thead > tr > th,\n",
       ".dataframe > tbody > tr > td {\n",
       "  text-align: right;\n",
       "}\n",
       "</style>\n",
       "<small>shape: (6, 2)</small><table border=\"1\" class=\"dataframe\"><thead><tr><th>payment_type_id</th><th>payment_type</th></tr><tr><td>cat</td><td>str</td></tr></thead><tbody><tr><td>&quot;1&quot;</td><td>&quot;Credit card&quot;</td></tr><tr><td>&quot;2&quot;</td><td>&quot;Cash&quot;</td></tr><tr><td>&quot;3&quot;</td><td>&quot;No charge&quot;</td></tr><tr><td>&quot;4&quot;</td><td>&quot;Dispute&quot;</td></tr><tr><td>&quot;5&quot;</td><td>&quot;Unknown&quot;</td></tr><tr><td>&quot;6&quot;</td><td>&quot;Voided trip&quot;</td></tr></tbody></table></div>"
      ],
      "text/plain": [
       "shape: (6, 2)\n",
       "┌─────────────────┬──────────────┐\n",
       "│ payment_type_id ┆ payment_type │\n",
       "│ ---             ┆ ---          │\n",
       "│ cat             ┆ str          │\n",
       "╞═════════════════╪══════════════╡\n",
       "│ 1               ┆ Credit card  │\n",
       "│ 2               ┆ Cash         │\n",
       "│ 3               ┆ No charge    │\n",
       "│ 4               ┆ Dispute      │\n",
       "│ 5               ┆ Unknown      │\n",
       "│ 6               ┆ Voided trip  │\n",
       "└─────────────────┴──────────────┘"
      ]
     },
     "execution_count": 37,
     "metadata": {},
     "output_type": "execute_result"
    }
   ],
   "source": [
    "catalog_payment_type = pl.LazyFrame (\n",
    "    {\n",
    "        \"payment_type_id\" : [\"1\", \"2\", \"3\", \"4\", \"5\", \"6\"],\n",
    "        \"payment_type\" : [\"Credit card\", \"Cash\", \"No charge\", \"Dispute\", \"Unknown\", \"Voided trip\"],    \n",
    "    },\n",
    "    schema= \n",
    "    {\n",
    "        \"payment_type_id\" :pl.Categorical,\n",
    "        \"payment_type\" : pl.Utf8\n",
    "    } \n",
    "    ).collect()\n",
    "catalog_payment_type"
   ]
  },
  {
   "cell_type": "code",
   "execution_count": 42,
   "metadata": {},
   "outputs": [
    {
     "data": {
      "text/html": [
       "<div><style>\n",
       ".dataframe > thead > tr > th,\n",
       ".dataframe > tbody > tr > td {\n",
       "  text-align: right;\n",
       "}\n",
       "</style>\n",
       "<small>shape: (365, 6)</small><table border=\"1\" class=\"dataframe\"><thead><tr><th>pickup_datetime</th><th>Credit card</th><th>Cash</th><th>Dispute</th><th>No charge</th><th>Unknown</th></tr><tr><td>date</td><td>f64</td><td>f64</td><td>f64</td><td>f64</td><td>f64</td></tr></thead><tbody><tr><td>2018-01-01</td><td>2.5463e6</td><td>1.2894e6</td><td>6613.85</td><td>21421.6</td><td>0.0</td></tr><tr><td>2018-01-02</td><td>2.5680e6</td><td>1.1413e6</td><td>4493.48</td><td>18189.38</td><td>0.0</td></tr><tr><td>2018-01-03</td><td>2.8910e6</td><td>1.1994e6</td><td>5551.6</td><td>19222.34</td><td>0.0</td></tr><tr><td>2018-01-04</td><td>1.1776e6</td><td>570874.96</td><td>2359.89</td><td>8071.63</td><td>0.0</td></tr><tr><td>2018-01-05</td><td>2.9262e6</td><td>1.0938e6</td><td>4433.03</td><td>17224.93</td><td>0.0</td></tr><tr><td>2018-01-06</td><td>2.9765e6</td><td>1.1744e6</td><td>5268.63</td><td>19602.58</td><td>0.0</td></tr><tr><td>2018-01-07</td><td>2.6601e6</td><td>951547.710001</td><td>5778.22</td><td>16715.7</td><td>0.0</td></tr><tr><td>...</td><td>...</td><td>...</td><td>...</td><td>...</td><td>...</td></tr><tr><td>2018-12-25</td><td>1.2053e6</td><td>748053.26</td><td>2722.0</td><td>7700.65</td><td>0.0</td></tr><tr><td>2018-12-26</td><td>1.9707e6</td><td>1.0382e6</td><td>4818.51</td><td>11042.54</td><td>0.0</td></tr><tr><td>2018-12-27</td><td>2.3136e6</td><td>1.2166e6</td><td>6174.88</td><td>15395.04</td><td>0.0</td></tr><tr><td>2018-12-28</td><td>2.3108e6</td><td>1.1888e6</td><td>5504.53</td><td>15697.27</td><td>0.0</td></tr><tr><td>2018-12-29</td><td>2.2473e6</td><td>1.2173e6</td><td>6214.46</td><td>16016.94</td><td>0.0</td></tr><tr><td>2018-12-30</td><td>2.0926e6</td><td>1.0398e6</td><td>5593.85</td><td>14601.76</td><td>0.0</td></tr><tr><td>2018-12-31</td><td>2.0984e6</td><td>1.0114e6</td><td>4662.78</td><td>13411.06</td><td>0.0</td></tr></tbody></table></div>"
      ],
      "text/plain": [
       "shape: (365, 6)\n",
       "┌─────────────────┬─────────────┬───────────────┬─────────┬───────────┬─────────┐\n",
       "│ pickup_datetime ┆ Credit card ┆ Cash          ┆ Dispute ┆ No charge ┆ Unknown │\n",
       "│ ---             ┆ ---         ┆ ---           ┆ ---     ┆ ---       ┆ ---     │\n",
       "│ date            ┆ f64         ┆ f64           ┆ f64     ┆ f64       ┆ f64     │\n",
       "╞═════════════════╪═════════════╪═══════════════╪═════════╪═══════════╪═════════╡\n",
       "│ 2018-01-01      ┆ 2.5463e6    ┆ 1.2894e6      ┆ 6613.85 ┆ 21421.6   ┆ 0.0     │\n",
       "│ 2018-01-02      ┆ 2.5680e6    ┆ 1.1413e6      ┆ 4493.48 ┆ 18189.38  ┆ 0.0     │\n",
       "│ 2018-01-03      ┆ 2.8910e6    ┆ 1.1994e6      ┆ 5551.6  ┆ 19222.34  ┆ 0.0     │\n",
       "│ 2018-01-04      ┆ 1.1776e6    ┆ 570874.96     ┆ 2359.89 ┆ 8071.63   ┆ 0.0     │\n",
       "│ 2018-01-05      ┆ 2.9262e6    ┆ 1.0938e6      ┆ 4433.03 ┆ 17224.93  ┆ 0.0     │\n",
       "│ 2018-01-06      ┆ 2.9765e6    ┆ 1.1744e6      ┆ 5268.63 ┆ 19602.58  ┆ 0.0     │\n",
       "│ 2018-01-07      ┆ 2.6601e6    ┆ 951547.710001 ┆ 5778.22 ┆ 16715.7   ┆ 0.0     │\n",
       "│ ...             ┆ ...         ┆ ...           ┆ ...     ┆ ...       ┆ ...     │\n",
       "│ 2018-12-24      ┆ 1.6329e6    ┆ 953252.390001 ┆ 4160.8  ┆ 13078.19  ┆ 0.0     │\n",
       "│ 2018-12-25      ┆ 1.2053e6    ┆ 748053.26     ┆ 2722.0  ┆ 7700.65   ┆ 0.0     │\n",
       "│ 2018-12-26      ┆ 1.9707e6    ┆ 1.0382e6      ┆ 4818.51 ┆ 11042.54  ┆ 0.0     │\n",
       "│ 2018-12-27      ┆ 2.3136e6    ┆ 1.2166e6      ┆ 6174.88 ┆ 15395.04  ┆ 0.0     │\n",
       "│ 2018-12-28      ┆ 2.3108e6    ┆ 1.1888e6      ┆ 5504.53 ┆ 15697.27  ┆ 0.0     │\n",
       "│ 2018-12-29      ┆ 2.2473e6    ┆ 1.2173e6      ┆ 6214.46 ┆ 16016.94  ┆ 0.0     │\n",
       "│ 2018-12-30      ┆ 2.0926e6    ┆ 1.0398e6      ┆ 5593.85 ┆ 14601.76  ┆ 0.0     │\n",
       "│ 2018-12-31      ┆ 2.0984e6    ┆ 1.0114e6      ┆ 4662.78 ┆ 13411.06  ┆ 0.0     │\n",
       "└─────────────────┴─────────────┴───────────────┴─────────┴───────────┴─────────┘"
      ]
     },
     "execution_count": 42,
     "metadata": {},
     "output_type": "execute_result"
    }
   ],
   "source": [
    "taxi_pivot = (taxi_clean\n",
    " .join(catalog_payment_type, on='payment_type_id', how='left')\n",
    " .select('total_amount',\n",
    "    pl.col('pickup_datetime').cast(pl.Date),\n",
    "    'payment_type',\n",
    ").sort('pickup_datetime')\n",
    ".pivot(values='total_amount', index='pickup_datetime', aggregate_function='sum', columns='payment_type')\n",
    ".fill_null(0)\n",
    ")\n",
    "taxi_pivot"
   ]
  },
  {
   "cell_type": "code",
   "execution_count": 39,
   "metadata": {},
   "outputs": [
    {
     "data": {
      "text/html": [
       "<div><style>\n",
       ".dataframe > thead > tr > th,\n",
       ".dataframe > tbody > tr > td {\n",
       "  text-align: right;\n",
       "}\n",
       "</style>\n",
       "<small>shape: (366, 7)</small><table border=\"1\" class=\"dataframe\"><thead><tr><th>pickup_datetime</th><th>Voided trip</th><th>Credit card</th><th>Cash</th><th>No charge</th><th>Dispute</th><th>Unknown</th></tr><tr><td>date</td><td>f64</td><td>f64</td><td>f64</td><td>f64</td><td>f64</td><td>f64</td></tr></thead><tbody><tr><td>null</td><td>0.0</td><td>0.0</td><td>0.0</td><td>0.0</td><td>0.0</td><td>0.0</td></tr><tr><td>2018-01-01</td><td>0.0</td><td>2.5463e6</td><td>1.2894e6</td><td>21421.6</td><td>6613.85</td><td>0.0</td></tr><tr><td>2018-01-02</td><td>0.0</td><td>2.5680e6</td><td>1.1413e6</td><td>18189.38</td><td>4493.48</td><td>0.0</td></tr><tr><td>2018-01-03</td><td>0.0</td><td>2.8910e6</td><td>1.1994e6</td><td>19222.34</td><td>5551.6</td><td>0.0</td></tr><tr><td>2018-01-04</td><td>0.0</td><td>1.1776e6</td><td>570874.96</td><td>8071.63</td><td>2359.89</td><td>0.0</td></tr><tr><td>2018-01-05</td><td>0.0</td><td>2.9262e6</td><td>1.0938e6</td><td>17224.93</td><td>4433.03</td><td>0.0</td></tr><tr><td>2018-01-06</td><td>0.0</td><td>2.9765e6</td><td>1.1744e6</td><td>19602.58</td><td>5268.63</td><td>0.0</td></tr><tr><td>...</td><td>...</td><td>...</td><td>...</td><td>...</td><td>...</td><td>...</td></tr><tr><td>2018-12-25</td><td>0.0</td><td>1.2053e6</td><td>748053.26</td><td>7700.65</td><td>2722.0</td><td>0.0</td></tr><tr><td>2018-12-26</td><td>0.0</td><td>1.9707e6</td><td>1.0382e6</td><td>11042.54</td><td>4818.51</td><td>0.0</td></tr><tr><td>2018-12-27</td><td>0.0</td><td>2.3136e6</td><td>1.2166e6</td><td>15395.04</td><td>6174.88</td><td>0.0</td></tr><tr><td>2018-12-28</td><td>0.0</td><td>2.3108e6</td><td>1.1888e6</td><td>15697.27</td><td>5504.53</td><td>0.0</td></tr><tr><td>2018-12-29</td><td>0.0</td><td>2.2473e6</td><td>1.2173e6</td><td>16016.94</td><td>6214.46</td><td>0.0</td></tr><tr><td>2018-12-30</td><td>0.0</td><td>2.0926e6</td><td>1.0398e6</td><td>14601.76</td><td>5593.85</td><td>0.0</td></tr><tr><td>2018-12-31</td><td>0.0</td><td>2.0984e6</td><td>1.0114e6</td><td>13411.06</td><td>4662.78</td><td>0.0</td></tr></tbody></table></div>"
      ],
      "text/plain": [
       "shape: (366, 7)\n",
       "┌─────────────────┬─────────────┬─────────────┬───────────────┬───────────┬─────────┬─────────┐\n",
       "│ pickup_datetime ┆ Voided trip ┆ Credit card ┆ Cash          ┆ No charge ┆ Dispute ┆ Unknown │\n",
       "│ ---             ┆ ---         ┆ ---         ┆ ---           ┆ ---       ┆ ---     ┆ ---     │\n",
       "│ date            ┆ f64         ┆ f64         ┆ f64           ┆ f64       ┆ f64     ┆ f64     │\n",
       "╞═════════════════╪═════════════╪═════════════╪═══════════════╪═══════════╪═════════╪═════════╡\n",
       "│ null            ┆ 0.0         ┆ 0.0         ┆ 0.0           ┆ 0.0       ┆ 0.0     ┆ 0.0     │\n",
       "│ 2018-01-01      ┆ 0.0         ┆ 2.5463e6    ┆ 1.2894e6      ┆ 21421.6   ┆ 6613.85 ┆ 0.0     │\n",
       "│ 2018-01-02      ┆ 0.0         ┆ 2.5680e6    ┆ 1.1413e6      ┆ 18189.38  ┆ 4493.48 ┆ 0.0     │\n",
       "│ 2018-01-03      ┆ 0.0         ┆ 2.8910e6    ┆ 1.1994e6      ┆ 19222.34  ┆ 5551.6  ┆ 0.0     │\n",
       "│ 2018-01-04      ┆ 0.0         ┆ 1.1776e6    ┆ 570874.96     ┆ 8071.63   ┆ 2359.89 ┆ 0.0     │\n",
       "│ 2018-01-05      ┆ 0.0         ┆ 2.9262e6    ┆ 1.0938e6      ┆ 17224.93  ┆ 4433.03 ┆ 0.0     │\n",
       "│ 2018-01-06      ┆ 0.0         ┆ 2.9765e6    ┆ 1.1744e6      ┆ 19602.58  ┆ 5268.63 ┆ 0.0     │\n",
       "│ ...             ┆ ...         ┆ ...         ┆ ...           ┆ ...       ┆ ...     ┆ ...     │\n",
       "│ 2018-12-24      ┆ 0.0         ┆ 1.6329e6    ┆ 953252.390001 ┆ 13078.19  ┆ 4160.8  ┆ 0.0     │\n",
       "│ 2018-12-25      ┆ 0.0         ┆ 1.2053e6    ┆ 748053.26     ┆ 7700.65   ┆ 2722.0  ┆ 0.0     │\n",
       "│ 2018-12-26      ┆ 0.0         ┆ 1.9707e6    ┆ 1.0382e6      ┆ 11042.54  ┆ 4818.51 ┆ 0.0     │\n",
       "│ 2018-12-27      ┆ 0.0         ┆ 2.3136e6    ┆ 1.2166e6      ┆ 15395.04  ┆ 6174.88 ┆ 0.0     │\n",
       "│ 2018-12-28      ┆ 0.0         ┆ 2.3108e6    ┆ 1.1888e6      ┆ 15697.27  ┆ 5504.53 ┆ 0.0     │\n",
       "│ 2018-12-29      ┆ 0.0         ┆ 2.2473e6    ┆ 1.2173e6      ┆ 16016.94  ┆ 6214.46 ┆ 0.0     │\n",
       "│ 2018-12-30      ┆ 0.0         ┆ 2.0926e6    ┆ 1.0398e6      ┆ 14601.76  ┆ 5593.85 ┆ 0.0     │\n",
       "│ 2018-12-31      ┆ 0.0         ┆ 2.0984e6    ┆ 1.0114e6      ┆ 13411.06  ┆ 4662.78 ┆ 0.0     │\n",
       "└─────────────────┴─────────────┴─────────────┴───────────────┴───────────┴─────────┴─────────┘"
      ]
     },
     "execution_count": 39,
     "metadata": {},
     "output_type": "execute_result"
    }
   ],
   "source": [
    "(catalog_payment_type\n",
    " .join(taxi_clean, on='payment_type_id', how='left')\n",
    " .select('total_amount',\n",
    "    pl.col('pickup_datetime').cast(pl.Date),\n",
    "    'payment_type',\n",
    ").sort('pickup_datetime')\n",
    ".pivot(values='total_amount', index='pickup_datetime', aggregate_function='sum', columns='payment_type')\n",
    ".fill_null(0)\n",
    ")"
   ]
  },
  {
   "cell_type": "code",
   "execution_count": 46,
   "metadata": {},
   "outputs": [
    {
     "data": {
      "text/html": [
       "<div><style>\n",
       ".dataframe > thead > tr > th,\n",
       ".dataframe > tbody > tr > td {\n",
       "  text-align: right;\n",
       "}\n",
       "</style>\n",
       "<small>shape: (1825, 3)</small><table border=\"1\" class=\"dataframe\"><thead><tr><th>pickup_datetime</th><th>payment_type</th><th>value</th></tr><tr><td>date</td><td>str</td><td>f64</td></tr></thead><tbody><tr><td>2018-01-01</td><td>&quot;Credit card&quot;</td><td>2.5463e6</td></tr><tr><td>2018-01-02</td><td>&quot;Credit card&quot;</td><td>2.5680e6</td></tr><tr><td>2018-01-03</td><td>&quot;Credit card&quot;</td><td>2.8910e6</td></tr><tr><td>2018-01-04</td><td>&quot;Credit card&quot;</td><td>1.1776e6</td></tr><tr><td>2018-01-05</td><td>&quot;Credit card&quot;</td><td>2.9262e6</td></tr><tr><td>2018-01-06</td><td>&quot;Credit card&quot;</td><td>2.9765e6</td></tr><tr><td>2018-01-07</td><td>&quot;Credit card&quot;</td><td>2.6601e6</td></tr><tr><td>...</td><td>...</td><td>...</td></tr><tr><td>2018-12-25</td><td>&quot;Unknown&quot;</td><td>0.0</td></tr><tr><td>2018-12-26</td><td>&quot;Unknown&quot;</td><td>0.0</td></tr><tr><td>2018-12-27</td><td>&quot;Unknown&quot;</td><td>0.0</td></tr><tr><td>2018-12-28</td><td>&quot;Unknown&quot;</td><td>0.0</td></tr><tr><td>2018-12-29</td><td>&quot;Unknown&quot;</td><td>0.0</td></tr><tr><td>2018-12-30</td><td>&quot;Unknown&quot;</td><td>0.0</td></tr><tr><td>2018-12-31</td><td>&quot;Unknown&quot;</td><td>0.0</td></tr></tbody></table></div>"
      ],
      "text/plain": [
       "shape: (1825, 3)\n",
       "┌─────────────────┬──────────────┬──────────┐\n",
       "│ pickup_datetime ┆ payment_type ┆ value    │\n",
       "│ ---             ┆ ---          ┆ ---      │\n",
       "│ date            ┆ str          ┆ f64      │\n",
       "╞═════════════════╪══════════════╪══════════╡\n",
       "│ 2018-01-01      ┆ Credit card  ┆ 2.5463e6 │\n",
       "│ 2018-01-02      ┆ Credit card  ┆ 2.5680e6 │\n",
       "│ 2018-01-03      ┆ Credit card  ┆ 2.8910e6 │\n",
       "│ 2018-01-04      ┆ Credit card  ┆ 1.1776e6 │\n",
       "│ 2018-01-05      ┆ Credit card  ┆ 2.9262e6 │\n",
       "│ 2018-01-06      ┆ Credit card  ┆ 2.9765e6 │\n",
       "│ 2018-01-07      ┆ Credit card  ┆ 2.6601e6 │\n",
       "│ ...             ┆ ...          ┆ ...      │\n",
       "│ 2018-12-24      ┆ Unknown      ┆ 0.0      │\n",
       "│ 2018-12-25      ┆ Unknown      ┆ 0.0      │\n",
       "│ 2018-12-26      ┆ Unknown      ┆ 0.0      │\n",
       "│ 2018-12-27      ┆ Unknown      ┆ 0.0      │\n",
       "│ 2018-12-28      ┆ Unknown      ┆ 0.0      │\n",
       "│ 2018-12-29      ┆ Unknown      ┆ 0.0      │\n",
       "│ 2018-12-30      ┆ Unknown      ┆ 0.0      │\n",
       "│ 2018-12-31      ┆ Unknown      ┆ 0.0      │\n",
       "└─────────────────┴──────────────┴──────────┘"
      ]
     },
     "execution_count": 46,
     "metadata": {},
     "output_type": "execute_result"
    }
   ],
   "source": [
    "taxi_pivot.melt(\n",
    "        id_vars='pickup_datetime', \n",
    "        value_vars=['Credit card', 'Cash', 'Dispute', 'No charge', 'Unknown' ],\n",
    "        variable_name='payment_type')"
   ]
  },
  {
   "cell_type": "code",
   "execution_count": 51,
   "metadata": {},
   "outputs": [
    {
     "data": {
      "text/html": [
       "<div><style>\n",
       ".dataframe > thead > tr > th,\n",
       ".dataframe > tbody > tr > td {\n",
       "  text-align: right;\n",
       "}\n",
       "</style>\n",
       "<small>shape: (3, 1825)</small><table border=\"1\" class=\"dataframe\"><thead><tr><th>column_0</th><th>column_1</th><th>column_2</th><th>column_3</th><th>column_4</th><th>column_5</th><th>column_6</th><th>column_7</th><th>column_8</th><th>column_9</th><th>column_10</th><th>column_11</th><th>column_12</th><th>column_13</th><th>column_14</th><th>column_15</th><th>column_16</th><th>column_17</th><th>column_18</th><th>column_19</th><th>column_20</th><th>column_21</th><th>column_22</th><th>column_23</th><th>column_24</th><th>...</th><th>column_1800</th><th>column_1801</th><th>column_1802</th><th>column_1803</th><th>column_1804</th><th>column_1805</th><th>column_1806</th><th>column_1807</th><th>column_1808</th><th>column_1809</th><th>column_1810</th><th>column_1811</th><th>column_1812</th><th>column_1813</th><th>column_1814</th><th>column_1815</th><th>column_1816</th><th>column_1817</th><th>column_1818</th><th>column_1819</th><th>column_1820</th><th>column_1821</th><th>column_1822</th><th>column_1823</th><th>column_1824</th></tr><tr><td>str</td><td>str</td><td>str</td><td>str</td><td>str</td><td>str</td><td>str</td><td>str</td><td>str</td><td>str</td><td>str</td><td>str</td><td>str</td><td>str</td><td>str</td><td>str</td><td>str</td><td>str</td><td>str</td><td>str</td><td>str</td><td>str</td><td>str</td><td>str</td><td>str</td><td>...</td><td>str</td><td>str</td><td>str</td><td>str</td><td>str</td><td>str</td><td>str</td><td>str</td><td>str</td><td>str</td><td>str</td><td>str</td><td>str</td><td>str</td><td>str</td><td>str</td><td>str</td><td>str</td><td>str</td><td>str</td><td>str</td><td>str</td><td>str</td><td>str</td><td>str</td></tr></thead><tbody><tr><td>&quot;2018-01-01&quot;</td><td>&quot;2018-01-02&quot;</td><td>&quot;2018-01-03&quot;</td><td>&quot;2018-01-04&quot;</td><td>&quot;2018-01-05&quot;</td><td>&quot;2018-01-06&quot;</td><td>&quot;2018-01-07&quot;</td><td>&quot;2018-01-08&quot;</td><td>&quot;2018-01-09&quot;</td><td>&quot;2018-01-10&quot;</td><td>&quot;2018-01-11&quot;</td><td>&quot;2018-01-12&quot;</td><td>&quot;2018-01-13&quot;</td><td>&quot;2018-01-14&quot;</td><td>&quot;2018-01-15&quot;</td><td>&quot;2018-01-16&quot;</td><td>&quot;2018-01-17&quot;</td><td>&quot;2018-01-18&quot;</td><td>&quot;2018-01-19&quot;</td><td>&quot;2018-01-20&quot;</td><td>&quot;2018-01-21&quot;</td><td>&quot;2018-01-22&quot;</td><td>&quot;2018-01-23&quot;</td><td>&quot;2018-01-24&quot;</td><td>&quot;2018-01-25&quot;</td><td>...</td><td>&quot;2018-12-07&quot;</td><td>&quot;2018-12-08&quot;</td><td>&quot;2018-12-09&quot;</td><td>&quot;2018-12-10&quot;</td><td>&quot;2018-12-11&quot;</td><td>&quot;2018-12-12&quot;</td><td>&quot;2018-12-13&quot;</td><td>&quot;2018-12-14&quot;</td><td>&quot;2018-12-15&quot;</td><td>&quot;2018-12-16&quot;</td><td>&quot;2018-12-17&quot;</td><td>&quot;2018-12-18&quot;</td><td>&quot;2018-12-19&quot;</td><td>&quot;2018-12-20&quot;</td><td>&quot;2018-12-21&quot;</td><td>&quot;2018-12-22&quot;</td><td>&quot;2018-12-23&quot;</td><td>&quot;2018-12-24&quot;</td><td>&quot;2018-12-25&quot;</td><td>&quot;2018-12-26&quot;</td><td>&quot;2018-12-27&quot;</td><td>&quot;2018-12-28&quot;</td><td>&quot;2018-12-29&quot;</td><td>&quot;2018-12-30&quot;</td><td>&quot;2018-12-31&quot;</td></tr><tr><td>&quot;Credit card&quot;</td><td>&quot;Credit card&quot;</td><td>&quot;Credit card&quot;</td><td>&quot;Credit card&quot;</td><td>&quot;Credit card&quot;</td><td>&quot;Credit card&quot;</td><td>&quot;Credit card&quot;</td><td>&quot;Credit card&quot;</td><td>&quot;Credit card&quot;</td><td>&quot;Credit card&quot;</td><td>&quot;Credit card&quot;</td><td>&quot;Credit card&quot;</td><td>&quot;Credit card&quot;</td><td>&quot;Credit card&quot;</td><td>&quot;Credit card&quot;</td><td>&quot;Credit card&quot;</td><td>&quot;Credit card&quot;</td><td>&quot;Credit card&quot;</td><td>&quot;Credit card&quot;</td><td>&quot;Credit card&quot;</td><td>&quot;Credit card&quot;</td><td>&quot;Credit card&quot;</td><td>&quot;Credit card&quot;</td><td>&quot;Credit card&quot;</td><td>&quot;Credit card&quot;</td><td>...</td><td>&quot;Unknown&quot;</td><td>&quot;Unknown&quot;</td><td>&quot;Unknown&quot;</td><td>&quot;Unknown&quot;</td><td>&quot;Unknown&quot;</td><td>&quot;Unknown&quot;</td><td>&quot;Unknown&quot;</td><td>&quot;Unknown&quot;</td><td>&quot;Unknown&quot;</td><td>&quot;Unknown&quot;</td><td>&quot;Unknown&quot;</td><td>&quot;Unknown&quot;</td><td>&quot;Unknown&quot;</td><td>&quot;Unknown&quot;</td><td>&quot;Unknown&quot;</td><td>&quot;Unknown&quot;</td><td>&quot;Unknown&quot;</td><td>&quot;Unknown&quot;</td><td>&quot;Unknown&quot;</td><td>&quot;Unknown&quot;</td><td>&quot;Unknown&quot;</td><td>&quot;Unknown&quot;</td><td>&quot;Unknown&quot;</td><td>&quot;Unknown&quot;</td><td>&quot;Unknown&quot;</td></tr><tr><td>&quot;2546275.0100002615&quot;</td><td>&quot;2568009.8600001032&quot;</td><td>&quot;2890976.49999896&quot;</td><td>&quot;1177616.9100004712&quot;</td><td>&quot;2926184.279998829&quot;</td><td>&quot;2976543.5799986436&quot;</td><td>&quot;2660135.0000000657&quot;</td><td>&quot;3216147.5399981397&quot;</td><td>&quot;3485634.9099973547&quot;</td><td>&quot;3559178.659997209&quot;</td><td>&quot;3842651.2299965774&quot;</td><td>&quot;3886962.8899964266&quot;</td><td>&quot;3431949.989996999&quot;</td><td>&quot;3120771.0099982247&quot;</td><td>&quot;2914503.7799992533&quot;</td><td>&quot;3708112.1099968944&quot;</td><td>&quot;3641897.9099968667&quot;</td><td>&quot;4033924.1999959415&quot;</td><td>&quot;3890434.4199961857&quot;</td><td>&quot;3199893.669997696&quot;</td><td>&quot;2936256.9299991173&quot;</td><td>&quot;3144609.1199982995&quot;</td><td>&quot;3457759.5099974643&quot;</td><td>&quot;3833515.9999963283&quot;</td><td>&quot;4134450.9399956893&quot;</td><td>...</td><td>&quot;0.0&quot;</td><td>&quot;0.0&quot;</td><td>&quot;0.0&quot;</td><td>&quot;0.0&quot;</td><td>&quot;0.0&quot;</td><td>&quot;0.0&quot;</td><td>&quot;0.0&quot;</td><td>&quot;0.0&quot;</td><td>&quot;0.0&quot;</td><td>&quot;0.0&quot;</td><td>&quot;0.0&quot;</td><td>&quot;0.0&quot;</td><td>&quot;0.0&quot;</td><td>&quot;0.0&quot;</td><td>&quot;0.0&quot;</td><td>&quot;0.0&quot;</td><td>&quot;0.0&quot;</td><td>&quot;0.0&quot;</td><td>&quot;0.0&quot;</td><td>&quot;0.0&quot;</td><td>&quot;0.0&quot;</td><td>&quot;0.0&quot;</td><td>&quot;0.0&quot;</td><td>&quot;0.0&quot;</td><td>&quot;0.0&quot;</td></tr></tbody></table></div>"
      ],
      "text/plain": [
       "shape: (3, 1825)\n",
       "┌────────┬────────┬────────┬────────┬────────┬────────┬────────┬────────┬────────┬────────┬─────────┬─────────┬─────────┬─────────┬─────────┬─────────┬─────────┬─────────┬─────────┬─────────┬─────────┬─────────┬─────────┬─────────┬─────────┬─────┬───────────┬───────────┬───────────┬───────────┬───────────┬───────────┬───────────┬───────────┬───────────┬───────────┬───────────┬───────────┬───────────┬───────────┬───────────┬───────────┬───────────┬───────────┬───────────┬───────────┬───────────┬───────────┬───────────┬───────────┬───────────┐\n",
       "│ column ┆ column ┆ column ┆ column ┆ column ┆ column ┆ column ┆ column ┆ column ┆ column ┆ column_ ┆ column_ ┆ column_ ┆ column_ ┆ column_ ┆ column_ ┆ column_ ┆ column_ ┆ column_ ┆ column_ ┆ column_ ┆ column_ ┆ column_ ┆ column_ ┆ column_ ┆ ... ┆ column_18 ┆ column_18 ┆ column_18 ┆ column_18 ┆ column_18 ┆ column_18 ┆ column_18 ┆ column_18 ┆ column_18 ┆ column_18 ┆ column_18 ┆ column_18 ┆ column_18 ┆ column_18 ┆ column_18 ┆ column_18 ┆ column_18 ┆ column_18 ┆ column_18 ┆ column_18 ┆ column_18 ┆ column_18 ┆ column_18 ┆ column_18 ┆ column_18 │\n",
       "│ _0     ┆ _1     ┆ _2     ┆ _3     ┆ _4     ┆ _5     ┆ _6     ┆ _7     ┆ _8     ┆ _9     ┆ 10      ┆ 11      ┆ 12      ┆ 13      ┆ 14      ┆ 15      ┆ 16      ┆ 17      ┆ 18      ┆ 19      ┆ 20      ┆ 21      ┆ 22      ┆ 23      ┆ 24      ┆     ┆ 00        ┆ 01        ┆ 02        ┆ 03        ┆ 04        ┆ 05        ┆ 06        ┆ 07        ┆ 08        ┆ 09        ┆ 10        ┆ 11        ┆ 12        ┆ 13        ┆ 14        ┆ 15        ┆ 16        ┆ 17        ┆ 18        ┆ 19        ┆ 20        ┆ 21        ┆ 22        ┆ 23        ┆ 24        │\n",
       "│ ---    ┆ ---    ┆ ---    ┆ ---    ┆ ---    ┆ ---    ┆ ---    ┆ ---    ┆ ---    ┆ ---    ┆ ---     ┆ ---     ┆ ---     ┆ ---     ┆ ---     ┆ ---     ┆ ---     ┆ ---     ┆ ---     ┆ ---     ┆ ---     ┆ ---     ┆ ---     ┆ ---     ┆ ---     ┆     ┆ ---       ┆ ---       ┆ ---       ┆ ---       ┆ ---       ┆ ---       ┆ ---       ┆ ---       ┆ ---       ┆ ---       ┆ ---       ┆ ---       ┆ ---       ┆ ---       ┆ ---       ┆ ---       ┆ ---       ┆ ---       ┆ ---       ┆ ---       ┆ ---       ┆ ---       ┆ ---       ┆ ---       ┆ ---       │\n",
       "│ str    ┆ str    ┆ str    ┆ str    ┆ str    ┆ str    ┆ str    ┆ str    ┆ str    ┆ str    ┆ str     ┆ str     ┆ str     ┆ str     ┆ str     ┆ str     ┆ str     ┆ str     ┆ str     ┆ str     ┆ str     ┆ str     ┆ str     ┆ str     ┆ str     ┆     ┆ str       ┆ str       ┆ str       ┆ str       ┆ str       ┆ str       ┆ str       ┆ str       ┆ str       ┆ str       ┆ str       ┆ str       ┆ str       ┆ str       ┆ str       ┆ str       ┆ str       ┆ str       ┆ str       ┆ str       ┆ str       ┆ str       ┆ str       ┆ str       ┆ str       │\n",
       "╞════════╪════════╪════════╪════════╪════════╪════════╪════════╪════════╪════════╪════════╪═════════╪═════════╪═════════╪═════════╪═════════╪═════════╪═════════╪═════════╪═════════╪═════════╪═════════╪═════════╪═════════╪═════════╪═════════╪═════╪═══════════╪═══════════╪═══════════╪═══════════╪═══════════╪═══════════╪═══════════╪═══════════╪═══════════╪═══════════╪═══════════╪═══════════╪═══════════╪═══════════╪═══════════╪═══════════╪═══════════╪═══════════╪═══════════╪═══════════╪═══════════╪═══════════╪═══════════╪═══════════╪═══════════╡\n",
       "│ 2018-0 ┆ 2018-0 ┆ 2018-0 ┆ 2018-0 ┆ 2018-0 ┆ 2018-0 ┆ 2018-0 ┆ 2018-0 ┆ 2018-0 ┆ 2018-0 ┆ 2018-01 ┆ 2018-01 ┆ 2018-01 ┆ 2018-01 ┆ 2018-01 ┆ 2018-01 ┆ 2018-01 ┆ 2018-01 ┆ 2018-01 ┆ 2018-01 ┆ 2018-01 ┆ 2018-01 ┆ 2018-01 ┆ 2018-01 ┆ 2018-01 ┆ ... ┆ 2018-12-0 ┆ 2018-12-0 ┆ 2018-12-0 ┆ 2018-12-1 ┆ 2018-12-1 ┆ 2018-12-1 ┆ 2018-12-1 ┆ 2018-12-1 ┆ 2018-12-1 ┆ 2018-12-1 ┆ 2018-12-1 ┆ 2018-12-1 ┆ 2018-12-1 ┆ 2018-12-2 ┆ 2018-12-2 ┆ 2018-12-2 ┆ 2018-12-2 ┆ 2018-12-2 ┆ 2018-12-2 ┆ 2018-12-2 ┆ 2018-12-2 ┆ 2018-12-2 ┆ 2018-12-2 ┆ 2018-12-3 ┆ 2018-12-3 │\n",
       "│ 1-01   ┆ 1-02   ┆ 1-03   ┆ 1-04   ┆ 1-05   ┆ 1-06   ┆ 1-07   ┆ 1-08   ┆ 1-09   ┆ 1-10   ┆ -11     ┆ -12     ┆ -13     ┆ -14     ┆ -15     ┆ -16     ┆ -17     ┆ -18     ┆ -19     ┆ -20     ┆ -21     ┆ -22     ┆ -23     ┆ -24     ┆ -25     ┆     ┆ 7         ┆ 8         ┆ 9         ┆ 0         ┆ 1         ┆ 2         ┆ 3         ┆ 4         ┆ 5         ┆ 6         ┆ 7         ┆ 8         ┆ 9         ┆ 0         ┆ 1         ┆ 2         ┆ 3         ┆ 4         ┆ 5         ┆ 6         ┆ 7         ┆ 8         ┆ 9         ┆ 0         ┆ 1         │\n",
       "│ Credit ┆ Credit ┆ Credit ┆ Credit ┆ Credit ┆ Credit ┆ Credit ┆ Credit ┆ Credit ┆ Credit ┆ Credit  ┆ Credit  ┆ Credit  ┆ Credit  ┆ Credit  ┆ Credit  ┆ Credit  ┆ Credit  ┆ Credit  ┆ Credit  ┆ Credit  ┆ Credit  ┆ Credit  ┆ Credit  ┆ Credit  ┆ ... ┆ Unknown   ┆ Unknown   ┆ Unknown   ┆ Unknown   ┆ Unknown   ┆ Unknown   ┆ Unknown   ┆ Unknown   ┆ Unknown   ┆ Unknown   ┆ Unknown   ┆ Unknown   ┆ Unknown   ┆ Unknown   ┆ Unknown   ┆ Unknown   ┆ Unknown   ┆ Unknown   ┆ Unknown   ┆ Unknown   ┆ Unknown   ┆ Unknown   ┆ Unknown   ┆ Unknown   ┆ Unknown   │\n",
       "│ card   ┆ card   ┆ card   ┆ card   ┆ card   ┆ card   ┆ card   ┆ card   ┆ card   ┆ card   ┆ card    ┆ card    ┆ card    ┆ card    ┆ card    ┆ card    ┆ card    ┆ card    ┆ card    ┆ card    ┆ card    ┆ card    ┆ card    ┆ card    ┆ card    ┆     ┆           ┆           ┆           ┆           ┆           ┆           ┆           ┆           ┆           ┆           ┆           ┆           ┆           ┆           ┆           ┆           ┆           ┆           ┆           ┆           ┆           ┆           ┆           ┆           ┆           │\n",
       "│ 254627 ┆ 256800 ┆ 289097 ┆ 117761 ┆ 292618 ┆ 297654 ┆ 266013 ┆ 321614 ┆ 348563 ┆ 355917 ┆ 3842651 ┆ 3886962 ┆ 3431949 ┆ 3120771 ┆ 2914503 ┆ 3708112 ┆ 3641897 ┆ 4033924 ┆ 3890434 ┆ 3199893 ┆ 2936256 ┆ 3144609 ┆ 3457759 ┆ 3833515 ┆ 4134450 ┆ ... ┆ 0.0       ┆ 0.0       ┆ 0.0       ┆ 0.0       ┆ 0.0       ┆ 0.0       ┆ 0.0       ┆ 0.0       ┆ 0.0       ┆ 0.0       ┆ 0.0       ┆ 0.0       ┆ 0.0       ┆ 0.0       ┆ 0.0       ┆ 0.0       ┆ 0.0       ┆ 0.0       ┆ 0.0       ┆ 0.0       ┆ 0.0       ┆ 0.0       ┆ 0.0       ┆ 0.0       ┆ 0.0       │\n",
       "│ 5.0100 ┆ 9.8600 ┆ 6.4999 ┆ 6.9100 ┆ 4.2799 ┆ 3.5799 ┆ 5.0000 ┆ 7.5399 ┆ 4.9099 ┆ 8.6599 ┆ .229996 ┆ .889996 ┆ .989996 ┆ .009998 ┆ .779999 ┆ .109996 ┆ .909996 ┆ .199995 ┆ .419996 ┆ .669997 ┆ .929999 ┆ .119998 ┆ .509997 ┆ .999996 ┆ .939995 ┆     ┆           ┆           ┆           ┆           ┆           ┆           ┆           ┆           ┆           ┆           ┆           ┆           ┆           ┆           ┆           ┆           ┆           ┆           ┆           ┆           ┆           ┆           ┆           ┆           ┆           │\n",
       "│ 002615 ┆ 001032 ┆ 9896   ┆ 004712 ┆ 98829  ┆ 986436 ┆ 000657 ┆ 981397 ┆ 973547 ┆ 97209  ┆ 5774    ┆ 4266    ┆ 999     ┆ 2247    ┆ 2533    ┆ 8944    ┆ 8667    ┆ 9415    ┆ 1857    ┆ 696     ┆ 1173    ┆ 2995    ┆ 4643    ┆ 3283    ┆ 6893    ┆     ┆           ┆           ┆           ┆           ┆           ┆           ┆           ┆           ┆           ┆           ┆           ┆           ┆           ┆           ┆           ┆           ┆           ┆           ┆           ┆           ┆           ┆           ┆           ┆           ┆           │\n",
       "└────────┴────────┴────────┴────────┴────────┴────────┴────────┴────────┴────────┴────────┴─────────┴─────────┴─────────┴─────────┴─────────┴─────────┴─────────┴─────────┴─────────┴─────────┴─────────┴─────────┴─────────┴─────────┴─────────┴─────┴───────────┴───────────┴───────────┴───────────┴───────────┴───────────┴───────────┴───────────┴───────────┴───────────┴───────────┴───────────┴───────────┴───────────┴───────────┴───────────┴───────────┴───────────┴───────────┴───────────┴───────────┴───────────┴───────────┴───────────┴───────────┘"
      ]
     },
     "execution_count": 51,
     "metadata": {},
     "output_type": "execute_result"
    }
   ],
   "source": [
    "taxi_pivot.melt(\n",
    "        id_vars='pickup_datetime', \n",
    "        value_vars=['Credit card', 'Cash', 'Dispute', 'No charge', 'Unknown' ],\n",
    "        variable_name='payment_type') \\\n",
    "   .transpose()"
   ]
  },
  {
   "attachments": {},
   "cell_type": "markdown",
   "metadata": {},
   "source": [
    "## SQL"
   ]
  },
  {
   "cell_type": "code",
   "execution_count": 59,
   "metadata": {},
   "outputs": [],
   "source": [
    "sql = pl.SQLContext()\n",
    "sql.register('taxi_table', taxi_clean.lazy())"
   ]
  },
  {
   "cell_type": "code",
   "execution_count": 66,
   "metadata": {},
   "outputs": [
    {
     "data": {
      "text/html": [
       "<div><style>\n",
       ".dataframe > thead > tr > th,\n",
       ".dataframe > tbody > tr > td {\n",
       "  text-align: right;\n",
       "}\n",
       "</style>\n",
       "<small>shape: (1, 1)</small><table border=\"1\" class=\"dataframe\"><thead><tr><th>vendor_id_count_distinct</th></tr><tr><td>u32</td></tr></thead><tbody><tr><td>3</td></tr></tbody></table></div>"
      ],
      "text/plain": [
       "shape: (1, 1)\n",
       "┌──────────────────────────┐\n",
       "│ vendor_id_count_distinct │\n",
       "│ ---                      │\n",
       "│ u32                      │\n",
       "╞══════════════════════════╡\n",
       "│ 3                        │\n",
       "└──────────────────────────┘"
      ]
     },
     "execution_count": 66,
     "metadata": {},
     "output_type": "execute_result"
    }
   ],
   "source": [
    "sql.query(\n",
    "    \"\"\"\n",
    "        SELECT COUNT (DISTINCT(vendor_id)) AS vendor_id_count_distinct\n",
    "        FROM taxi_table\n",
    "    \"\"\"\n",
    ")"
   ]
  },
  {
   "cell_type": "code",
   "execution_count": 65,
   "metadata": {},
   "outputs": [
    {
     "data": {
      "text/html": [
       "<div><style>\n",
       ".dataframe > thead > tr > th,\n",
       ".dataframe > tbody > tr > td {\n",
       "  text-align: right;\n",
       "}\n",
       "</style>\n",
       "<small>shape: (1, 1)</small><table border=\"1\" class=\"dataframe\"><thead><tr><th>total_amount</th></tr><tr><td>u32</td></tr></thead><tbody><tr><td>17953</td></tr></tbody></table></div>"
      ],
      "text/plain": [
       "shape: (1, 1)\n",
       "┌──────────────┐\n",
       "│ total_amount │\n",
       "│ ---          │\n",
       "│ u32          │\n",
       "╞══════════════╡\n",
       "│ 17953        │\n",
       "└──────────────┘"
      ]
     },
     "execution_count": 65,
     "metadata": {},
     "output_type": "execute_result"
    }
   ],
   "source": [
    "sql.query(\n",
    "    \"\"\"\n",
    "        SELECT COUNT (DISTINCT total_amount)\n",
    "        FROM taxi_table\n",
    "    \"\"\"\n",
    ")"
   ]
  },
  {
   "cell_type": "code",
   "execution_count": 68,
   "metadata": {},
   "outputs": [],
   "source": [
    "sql.register('cat_payment', catalog_payment_type.lazy())"
   ]
  },
  {
   "cell_type": "code",
   "execution_count": 71,
   "metadata": {},
   "outputs": [
    {
     "data": {
      "text/html": [
       "<div><style>\n",
       ".dataframe > thead > tr > th,\n",
       ".dataframe > tbody > tr > td {\n",
       "  text-align: right;\n",
       "}\n",
       "</style>\n",
       "<small>shape: (10, 2)</small><table border=\"1\" class=\"dataframe\"><thead><tr><th>payment_type_id</th><th>total_amount</th></tr><tr><td>str</td><td>f64</td></tr></thead><tbody><tr><td>&quot;1&quot;</td><td>11.3</td></tr><tr><td>&quot;1&quot;</td><td>8.3</td></tr><tr><td>&quot;2&quot;</td><td>5.8</td></tr><tr><td>&quot;1&quot;</td><td>14.76</td></tr><tr><td>&quot;1&quot;</td><td>18.8</td></tr><tr><td>&quot;1&quot;</td><td>6.5</td></tr><tr><td>&quot;1&quot;</td><td>50.47</td></tr><tr><td>&quot;1&quot;</td><td>12.96</td></tr><tr><td>&quot;1&quot;</td><td>9.02</td></tr><tr><td>&quot;1&quot;</td><td>11.76</td></tr></tbody></table></div>"
      ],
      "text/plain": [
       "shape: (10, 2)\n",
       "┌─────────────────┬──────────────┐\n",
       "│ payment_type_id ┆ total_amount │\n",
       "│ ---             ┆ ---          │\n",
       "│ str             ┆ f64          │\n",
       "╞═════════════════╪══════════════╡\n",
       "│ 1               ┆ 11.3         │\n",
       "│ 1               ┆ 8.3          │\n",
       "│ 2               ┆ 5.8          │\n",
       "│ 1               ┆ 14.76        │\n",
       "│ 1               ┆ 18.8         │\n",
       "│ 1               ┆ 6.5          │\n",
       "│ 1               ┆ 50.47        │\n",
       "│ 1               ┆ 12.96        │\n",
       "│ 1               ┆ 9.02         │\n",
       "│ 1               ┆ 11.76        │\n",
       "└─────────────────┴──────────────┘"
      ]
     },
     "execution_count": 71,
     "metadata": {},
     "output_type": "execute_result"
    }
   ],
   "source": [
    "sql.query(\n",
    "    \"\"\"\n",
    "        SELECT payment_type_id::string, total_amount\n",
    "        FROM taxi_table\n",
    "        LIMIT 10\n",
    "    \"\"\"\n",
    ")"
   ]
  },
  {
   "cell_type": "code",
   "execution_count": 73,
   "metadata": {},
   "outputs": [
    {
     "data": {
      "text/html": [
       "<div><style>\n",
       ".dataframe > thead > tr > th,\n",
       ".dataframe > tbody > tr > td {\n",
       "  text-align: right;\n",
       "}\n",
       "</style>\n",
       "<small>shape: (5, 2)</small><table border=\"1\" class=\"dataframe\"><thead><tr><th>payment_type_id</th><th>total_amount</th></tr><tr><td>cat</td><td>f64</td></tr></thead><tbody><tr><td>&quot;1&quot;</td><td>1.3756e9</td></tr><tr><td>&quot;4&quot;</td><td>2.2670e6</td></tr><tr><td>&quot;3&quot;</td><td>7.8641e6</td></tr><tr><td>&quot;2&quot;</td><td>4.4617e8</td></tr><tr><td>&quot;5&quot;</td><td>97.54</td></tr></tbody></table></div>"
      ],
      "text/plain": [
       "shape: (5, 2)\n",
       "┌─────────────────┬──────────────┐\n",
       "│ payment_type_id ┆ total_amount │\n",
       "│ ---             ┆ ---          │\n",
       "│ cat             ┆ f64          │\n",
       "╞═════════════════╪══════════════╡\n",
       "│ 1               ┆ 1.3756e9     │\n",
       "│ 4               ┆ 2.2670e6     │\n",
       "│ 3               ┆ 7.8641e6     │\n",
       "│ 2               ┆ 4.4617e8     │\n",
       "│ 5               ┆ 97.54        │\n",
       "└─────────────────┴──────────────┘"
      ]
     },
     "execution_count": 73,
     "metadata": {},
     "output_type": "execute_result"
    }
   ],
   "source": [
    "sql.query(\n",
    "      \"\"\"\n",
    "        SELECT payment_type_id,\n",
    "               sum(total_amount)\n",
    "        FROM taxi_table\n",
    "        GROUP BY payment_type_id\n",
    "    \"\"\"\n",
    ")"
   ]
  },
  {
   "attachments": {},
   "cell_type": "markdown",
   "metadata": {},
   "source": [
    "Por el momento los `joins` aún no están implementados"
   ]
  },
  {
   "cell_type": "code",
   "execution_count": 72,
   "metadata": {},
   "outputs": [
    {
     "ename": "ComputeError",
     "evalue": "SQL join constraint On(BinaryOp { left: CompoundIdentifier([Ident { value: \"tt\", quote_style: None }, Ident { value: \"payment_type_id\", quote_style: None }]), op: Eq, right: CompoundIdentifier([Ident { value: \"cp\", quote_style: None }, Ident { value: \"payment_type_id\", quote_style: None }]) }) is not yet supported",
     "output_type": "error",
     "traceback": [
      "\u001b[0;31m---------------------------------------------------------------------------\u001b[0m",
      "\u001b[0;31mComputeError\u001b[0m                              Traceback (most recent call last)",
      "Cell \u001b[0;32mIn[72], line 1\u001b[0m\n\u001b[0;32m----> 1\u001b[0m sql\u001b[39m.\u001b[39;49mquery(\n\u001b[1;32m      2\u001b[0m \u001b[39m    \u001b[39;49m\u001b[39m\"\"\"\u001b[39;49;00m\n\u001b[1;32m      3\u001b[0m \u001b[39m        SELECT payment_type, total_amount\u001b[39;49;00m\n\u001b[1;32m      4\u001b[0m \u001b[39m        FROM taxi_table tt\u001b[39;49;00m\n\u001b[1;32m      5\u001b[0m \u001b[39m        LEFT JOIN cat_payment cp\u001b[39;49;00m\n\u001b[1;32m      6\u001b[0m \u001b[39m        ON tt.payment_type_id= cp.payment_type_id\u001b[39;49;00m\n\u001b[1;32m      7\u001b[0m \u001b[39m        LIMIT 10\u001b[39;49;00m\n\u001b[1;32m      8\u001b[0m \u001b[39m    \"\"\"\u001b[39;49;00m\n\u001b[1;32m      9\u001b[0m )\n",
      "File \u001b[0;32m~/Zophia/zophia-polars/zophia-polars/.conda/lib/python3.10/site-packages/polars/internals/sql/context.py:50\u001b[0m, in \u001b[0;36mSQLContext.query\u001b[0;34m(self, query)\u001b[0m\n\u001b[1;32m     49\u001b[0m \u001b[39mdef\u001b[39;00m \u001b[39mquery\u001b[39m(\u001b[39mself\u001b[39m, query: \u001b[39mstr\u001b[39m) \u001b[39m-\u001b[39m\u001b[39m>\u001b[39m pli\u001b[39m.\u001b[39mDataFrame:\n\u001b[0;32m---> 50\u001b[0m     \u001b[39mreturn\u001b[39;00m \u001b[39mself\u001b[39;49m\u001b[39m.\u001b[39;49mexecute(query)\u001b[39m.\u001b[39mcollect()\n",
      "File \u001b[0;32m~/Zophia/zophia-polars/zophia-polars/.conda/lib/python3.10/site-packages/polars/internals/sql/context.py:47\u001b[0m, in \u001b[0;36mSQLContext.execute\u001b[0;34m(self, query)\u001b[0m\n\u001b[1;32m     37\u001b[0m \u001b[39mdef\u001b[39;00m \u001b[39mexecute\u001b[39m(\u001b[39mself\u001b[39m, query: \u001b[39mstr\u001b[39m) \u001b[39m-\u001b[39m\u001b[39m>\u001b[39m pli\u001b[39m.\u001b[39mLazyFrame:\n\u001b[1;32m     38\u001b[0m \u001b[39m    \u001b[39m\u001b[39m\"\"\"\u001b[39;00m\n\u001b[1;32m     39\u001b[0m \u001b[39m    Parse the givens SQL query and transform that to a ``LazyFrame``.\u001b[39;00m\n\u001b[1;32m     40\u001b[0m \n\u001b[0;32m   (...)\u001b[0m\n\u001b[1;32m     45\u001b[0m \n\u001b[1;32m     46\u001b[0m \u001b[39m    \"\"\"\u001b[39;00m\n\u001b[0;32m---> 47\u001b[0m     \u001b[39mreturn\u001b[39;00m pli\u001b[39m.\u001b[39mwrap_ldf(\u001b[39mself\u001b[39;49m\u001b[39m.\u001b[39;49m_ctxt\u001b[39m.\u001b[39;49mexecute(query))\n",
      "\u001b[0;31mComputeError\u001b[0m: SQL join constraint On(BinaryOp { left: CompoundIdentifier([Ident { value: \"tt\", quote_style: None }, Ident { value: \"payment_type_id\", quote_style: None }]), op: Eq, right: CompoundIdentifier([Ident { value: \"cp\", quote_style: None }, Ident { value: \"payment_type_id\", quote_style: None }]) }) is not yet supported"
     ]
    }
   ],
   "source": [
    "sql.query(\n",
    "    \"\"\"\n",
    "        SELECT payment_type, total_amount\n",
    "        FROM taxi_table tt\n",
    "        LEFT JOIN cat_payment cp\n",
    "        ON tt.payment_type_id= cp.payment_type_id\n",
    "        LIMIT 10\n",
    "    \"\"\"\n",
    ")"
   ]
  }
 ],
 "metadata": {
  "kernelspec": {
   "display_name": "Python 3",
   "language": "python",
   "name": "python3"
  },
  "language_info": {
   "codemirror_mode": {
    "name": "ipython",
    "version": 3
   },
   "file_extension": ".py",
   "mimetype": "text/x-python",
   "name": "python",
   "nbconvert_exporter": "python",
   "pygments_lexer": "ipython3",
   "version": "3.10.9"
  },
  "orig_nbformat": 4
 },
 "nbformat": 4,
 "nbformat_minor": 2
}
