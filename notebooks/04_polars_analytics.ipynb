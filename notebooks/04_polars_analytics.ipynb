{
 "cells": [
  {
   "cell_type": "code",
   "execution_count": 1,
   "metadata": {},
   "outputs": [
    {
     "data": {
      "text/plain": [
       "polars.config.Config"
      ]
     },
     "execution_count": 1,
     "metadata": {},
     "output_type": "execute_result"
    }
   ],
   "source": [
    "import polars as pl\n",
    "pl.Config.set_tbl_rows(15) #Esta config controla la cantidad de filas en print y display en Jupyter\n",
    "pl.Config.set_tbl_cols(50) #Cantidad de columnas a desplegar\n",
    "pl.Config.set_fmt_str_lengths(100) #Longitud de las cadenas a desplegar"
   ]
  },
  {
   "attachments": {},
   "cell_type": "markdown",
   "metadata": {},
   "source": [
    "## Exploración y limpieza de datos"
   ]
  },
  {
   "cell_type": "code",
   "execution_count": 2,
   "metadata": {},
   "outputs": [
    {
     "data": {
      "text/html": [
       "<div><style>\n",
       ".dataframe > thead > tr > th,\n",
       ".dataframe > tbody > tr > td {\n",
       "  text-align: right;\n",
       "}\n",
       "</style>\n",
       "<small>shape: (5, 17)</small><table border=\"1\" class=\"dataframe\"><thead><tr><th>VendorID</th><th>tpep_pickup_datetime</th><th>tpep_dropoff_datetime</th><th>passenger_count</th><th>trip_distance</th><th>RatecodeID</th><th>store_and_fwd_flag</th><th>PULocationID</th><th>DOLocationID</th><th>payment_type</th><th>fare_amount</th><th>extra</th><th>mta_tax</th><th>tip_amount</th><th>tolls_amount</th><th>improvement_surcharge</th><th>total_amount</th></tr><tr><td>str</td><td>str</td><td>str</td><td>str</td><td>str</td><td>str</td><td>str</td><td>str</td><td>str</td><td>str</td><td>str</td><td>str</td><td>str</td><td>str</td><td>str</td><td>str</td><td>str</td></tr></thead><tbody><tr><td>&quot;1&quot;</td><td>&quot;11/13/2018 07:45:26 AM&quot;</td><td>&quot;11/13/2018 07:57:39 AM&quot;</td><td>&quot;1&quot;</td><td>&quot;1.5&quot;</td><td>&quot;1&quot;</td><td>&quot;N&quot;</td><td>&quot;246&quot;</td><td>&quot;164&quot;</td><td>&quot;1&quot;</td><td>&quot;9.5&quot;</td><td>&quot;0&quot;</td><td>&quot;0.5&quot;</td><td>&quot;1&quot;</td><td>&quot;0&quot;</td><td>&quot;0.3&quot;</td><td>&quot;11.3&quot;</td></tr><tr><td>&quot;2&quot;</td><td>&quot;11/13/2018 07:24:47 AM&quot;</td><td>&quot;11/13/2018 07:29:45 AM&quot;</td><td>&quot;1&quot;</td><td>&quot;0.88&quot;</td><td>&quot;1&quot;</td><td>&quot;N&quot;</td><td>&quot;140&quot;</td><td>&quot;263&quot;</td><td>&quot;1&quot;</td><td>&quot;5.5&quot;</td><td>&quot;0&quot;</td><td>&quot;0.5&quot;</td><td>&quot;2&quot;</td><td>&quot;0&quot;</td><td>&quot;0.3&quot;</td><td>&quot;8.3&quot;</td></tr><tr><td>&quot;2&quot;</td><td>&quot;11/13/2018 07:31:34 AM&quot;</td><td>&quot;11/13/2018 07:36:04 AM&quot;</td><td>&quot;1&quot;</td><td>&quot;0.54&quot;</td><td>&quot;1&quot;</td><td>&quot;N&quot;</td><td>&quot;236&quot;</td><td>&quot;236&quot;</td><td>&quot;2&quot;</td><td>&quot;5&quot;</td><td>&quot;0&quot;</td><td>&quot;0.5&quot;</td><td>&quot;0&quot;</td><td>&quot;0&quot;</td><td>&quot;0.3&quot;</td><td>&quot;5.8&quot;</td></tr><tr><td>&quot;2&quot;</td><td>&quot;11/13/2018 07:36:59 AM&quot;</td><td>&quot;11/13/2018 07:51:07 AM&quot;</td><td>&quot;1&quot;</td><td>&quot;2.43&quot;</td><td>&quot;1&quot;</td><td>&quot;N&quot;</td><td>&quot;236&quot;</td><td>&quot;48&quot;</td><td>&quot;1&quot;</td><td>&quot;11.5&quot;</td><td>&quot;0&quot;</td><td>&quot;0.5&quot;</td><td>&quot;2.46&quot;</td><td>&quot;0&quot;</td><td>&quot;0.3&quot;</td><td>&quot;14.76&quot;</td></tr><tr><td>&quot;2&quot;</td><td>&quot;11/13/2018 07:53:40 AM&quot;</td><td>&quot;11/13/2018 08:21:53 AM&quot;</td><td>&quot;1&quot;</td><td>&quot;2.96&quot;</td><td>&quot;1&quot;</td><td>&quot;N&quot;</td><td>&quot;163&quot;</td><td>&quot;43&quot;</td><td>&quot;1&quot;</td><td>&quot;18&quot;</td><td>&quot;0&quot;</td><td>&quot;0.5&quot;</td><td>&quot;0&quot;</td><td>&quot;0&quot;</td><td>&quot;0.3&quot;</td><td>&quot;18.8&quot;</td></tr></tbody></table></div>"
      ],
      "text/plain": [
       "shape: (5, 17)\n",
       "┌────────┬────────────┬────────────┬────────────┬────────────┬──────────┬────────────┬────────────┬────────────┬────────────┬───────────┬─────┬───────┬──────────┬────────────┬────────────┬────────────┐\n",
       "│ Vendor ┆ tpep_picku ┆ tpep_dropo ┆ passenger_ ┆ trip_dista ┆ Ratecode ┆ store_and_ ┆ PULocation ┆ DOLocation ┆ payment_ty ┆ fare_amou ┆ ext ┆ mta_t ┆ tip_amou ┆ tolls_amou ┆ improvemen ┆ total_amou │\n",
       "│ ID     ┆ p_datetime ┆ ff_datetim ┆ count      ┆ nce        ┆ ID       ┆ fwd_flag   ┆ ID         ┆ ID         ┆ pe         ┆ nt        ┆ ra  ┆ ax    ┆ nt       ┆ nt         ┆ t_surcharg ┆ nt         │\n",
       "│ ---    ┆ ---        ┆ e          ┆ ---        ┆ ---        ┆ ---      ┆ ---        ┆ ---        ┆ ---        ┆ ---        ┆ ---       ┆ --- ┆ ---   ┆ ---      ┆ ---        ┆ e          ┆ ---        │\n",
       "│ str    ┆ str        ┆ ---        ┆ str        ┆ str        ┆ str      ┆ str        ┆ str        ┆ str        ┆ str        ┆ str       ┆ str ┆ str   ┆ str      ┆ str        ┆ ---        ┆ str        │\n",
       "│        ┆            ┆ str        ┆            ┆            ┆          ┆            ┆            ┆            ┆            ┆           ┆     ┆       ┆          ┆            ┆ str        ┆            │\n",
       "╞════════╪════════════╪════════════╪════════════╪════════════╪══════════╪════════════╪════════════╪════════════╪════════════╪═══════════╪═════╪═══════╪══════════╪════════════╪════════════╪════════════╡\n",
       "│ 1      ┆ 11/13/2018 ┆ 11/13/2018 ┆ 1          ┆ 1.5        ┆ 1        ┆ N          ┆ 246        ┆ 164        ┆ 1          ┆ 9.5       ┆ 0   ┆ 0.5   ┆ 1        ┆ 0          ┆ 0.3        ┆ 11.3       │\n",
       "│        ┆ 07:45:26   ┆ 07:57:39   ┆            ┆            ┆          ┆            ┆            ┆            ┆            ┆           ┆     ┆       ┆          ┆            ┆            ┆            │\n",
       "│        ┆ AM         ┆ AM         ┆            ┆            ┆          ┆            ┆            ┆            ┆            ┆           ┆     ┆       ┆          ┆            ┆            ┆            │\n",
       "│ 2      ┆ 11/13/2018 ┆ 11/13/2018 ┆ 1          ┆ 0.88       ┆ 1        ┆ N          ┆ 140        ┆ 263        ┆ 1          ┆ 5.5       ┆ 0   ┆ 0.5   ┆ 2        ┆ 0          ┆ 0.3        ┆ 8.3        │\n",
       "│        ┆ 07:24:47   ┆ 07:29:45   ┆            ┆            ┆          ┆            ┆            ┆            ┆            ┆           ┆     ┆       ┆          ┆            ┆            ┆            │\n",
       "│        ┆ AM         ┆ AM         ┆            ┆            ┆          ┆            ┆            ┆            ┆            ┆           ┆     ┆       ┆          ┆            ┆            ┆            │\n",
       "│ 2      ┆ 11/13/2018 ┆ 11/13/2018 ┆ 1          ┆ 0.54       ┆ 1        ┆ N          ┆ 236        ┆ 236        ┆ 2          ┆ 5         ┆ 0   ┆ 0.5   ┆ 0        ┆ 0          ┆ 0.3        ┆ 5.8        │\n",
       "│        ┆ 07:31:34   ┆ 07:36:04   ┆            ┆            ┆          ┆            ┆            ┆            ┆            ┆           ┆     ┆       ┆          ┆            ┆            ┆            │\n",
       "│        ┆ AM         ┆ AM         ┆            ┆            ┆          ┆            ┆            ┆            ┆            ┆           ┆     ┆       ┆          ┆            ┆            ┆            │\n",
       "│ 2      ┆ 11/13/2018 ┆ 11/13/2018 ┆ 1          ┆ 2.43       ┆ 1        ┆ N          ┆ 236        ┆ 48         ┆ 1          ┆ 11.5      ┆ 0   ┆ 0.5   ┆ 2.46     ┆ 0          ┆ 0.3        ┆ 14.76      │\n",
       "│        ┆ 07:36:59   ┆ 07:51:07   ┆            ┆            ┆          ┆            ┆            ┆            ┆            ┆           ┆     ┆       ┆          ┆            ┆            ┆            │\n",
       "│        ┆ AM         ┆ AM         ┆            ┆            ┆          ┆            ┆            ┆            ┆            ┆           ┆     ┆       ┆          ┆            ┆            ┆            │\n",
       "│ 2      ┆ 11/13/2018 ┆ 11/13/2018 ┆ 1          ┆ 2.96       ┆ 1        ┆ N          ┆ 163        ┆ 43         ┆ 1          ┆ 18        ┆ 0   ┆ 0.5   ┆ 0        ┆ 0          ┆ 0.3        ┆ 18.8       │\n",
       "│        ┆ 07:53:40   ┆ 08:21:53   ┆            ┆            ┆          ┆            ┆            ┆            ┆            ┆           ┆     ┆       ┆          ┆            ┆            ┆            │\n",
       "│        ┆ AM         ┆ AM         ┆            ┆            ┆          ┆            ┆            ┆            ┆            ┆           ┆     ┆       ┆          ┆            ┆            ┆            │\n",
       "└────────┴────────────┴────────────┴────────────┴────────────┴──────────┴────────────┴────────────┴────────────┴────────────┴───────────┴─────┴───────┴──────────┴────────────┴────────────┴────────────┘"
      ]
     },
     "execution_count": 2,
     "metadata": {},
     "output_type": "execute_result"
    }
   ],
   "source": [
    "taxi_sample = pl.read_parquet('../output/taxi.parquet', n_rows=1000000)\n",
    "taxi_sample.head()"
   ]
  },
  {
   "attachments": {},
   "cell_type": "markdown",
   "metadata": {},
   "source": [
    "Definimos todas las funciones que formarán parte de nuestro pipeline de limpieza de datos. Tomar en cuenta que estaremos trabajando con `LazyFrames` debido al alto volumen de datos. "
   ]
  },
  {
   "cell_type": "code",
   "execution_count": 3,
   "metadata": {},
   "outputs": [],
   "source": [
    "def drop_columns(dataframe: pl.LazyFrame) -> pl.LazyFrame:\n",
    "    '''Función que excluye columnas específicas del dataset por simplicidad.'''\n",
    "    dataframe = dataframe.select(\n",
    "        pl.exclude('RatecodeID','store_and_fwd_flag','fare_amount','extra','mta_tax','tolls_amount','improvement_surcharge')\n",
    "    )\n",
    "    return dataframe"
   ]
  },
  {
   "cell_type": "code",
   "execution_count": 4,
   "metadata": {},
   "outputs": [],
   "source": [
    "def rename_columns(dataframe: pl.LazyFrame) -> pl.LazyFrame:\n",
    "    '''Función que estandariza el nombre de las columnas del dataset de taxis de NY'''\n",
    "    dataframe = dataframe.rename({\n",
    "        'VendorID' : 'vendor_id',\n",
    "        'tpep_pickup_datetime' : 'pickup_datetime',\n",
    "        'tpep_dropoff_datetime' : 'dropoff_datetime',\n",
    "        'passenger_count' : 'passenger_count',\n",
    "        'trip_distance' : 'trip_distance',\n",
    "        'PULocationID' : 'pickup_location_id',\n",
    "        'DOLocationID' : 'dropoff_location_id',\n",
    "        'payment_type' : 'payment_type_id',\n",
    "        'tip_amount' : 'tip_amount',\n",
    "        'total_amount' : 'total_amount'\n",
    "    })\n",
    "    return dataframe"
   ]
  },
  {
   "cell_type": "code",
   "execution_count": 5,
   "metadata": {},
   "outputs": [],
   "source": [
    "def cast_column_types(dataframe: pl.LazyFrame) -> pl.LazyFrame:\n",
    "    '''Función que hace cast al tipo adecuado de datos. Hace uso de expresiones regulares.'''\n",
    "    dataframe = dataframe.with_columns(\n",
    "        pl.col(\"^.*amount$|^.*distance$\").cast(pl.Float64),\n",
    "        pl.col(\"^.*count$\").cast(pl.Int32),\n",
    "        pl.col(\"^.*datetime$\").str.strptime(pl.Datetime, \"%m/%d/%Y %I:%M:%S %p\",strict=False),\n",
    "        pl.col(\"^.*id$\").cast(pl.Categorical)\n",
    "    )     \n",
    "    return dataframe"
   ]
  },
  {
   "cell_type": "code",
   "execution_count": 6,
   "metadata": {},
   "outputs": [],
   "source": [
    "def fix_bad_values(dataframe: pl.LazyFrame) -> pl.LazyFrame:\n",
    "    '''Hay múltiples columnas con valores malformados. Esta función corrige tanto fechas como números'''\n",
    "    quantile_tip_amount = dataframe.select(pl.col('tip_amount').quantile(0.9999)).collect().item()\n",
    "    quantile_total_amount = dataframe.select(pl.col('total_amount').quantile(0.9999)).collect().item()\n",
    "    dataframe = dataframe.with_columns(\n",
    "        \n",
    "        pl.col('trip_distance').clip(0,80).keep_name(),\n",
    "        pl.col('passenger_count').clip(0,9).keep_name(),\n",
    "        pl.col('tip_amount').clip(0, quantile_tip_amount).keep_name(),\n",
    "        pl.col('total_amount').clip(0, quantile_total_amount).keep_name(),\n",
    "        pl.when(pl.col(\"^.*datetime$\").dt.year() != 2018)\n",
    "            .then(pl.col(\"^.*datetime$\").dt.strftime('2018/%m/%d %H:%M:%S').str.strptime(pl.Datetime, '%Y/%m/%d %H:%M:%S'))\n",
    "            .otherwise(pl.col(\"^.*datetime$\"))\n",
    "            .keep_name(),            \n",
    "    )\n",
    "    return dataframe\n",
    "         "
   ]
  },
  {
   "cell_type": "code",
   "execution_count": 7,
   "metadata": {},
   "outputs": [],
   "source": [
    "def calculate_columns(dataframe: pl.LazyFrame) -> pl.LazyFrame:\n",
    "    '''Función que calcula la duración y velocidad de los viajes'''\n",
    "    dataframe = dataframe.with_columns(\n",
    "        trip_duration = (pl.col(\"dropoff_datetime\") - pl.col(\"pickup_datetime\")).dt.minutes().clip(0,180),        \n",
    "    ) \\\n",
    "    .with_columns(\n",
    "        trip_speed = pl.when((pl.col('trip_duration') > 1) & (pl.col('trip_distance') > 0.1))\n",
    "          .then((pl.col('trip_distance') * pl.lit(1.60934) * pl.lit(60)) / pl.col('trip_duration'))\n",
    "          .otherwise(None)\n",
    "    )\n",
    "    return dataframe"
   ]
  },
  {
   "attachments": {},
   "cell_type": "markdown",
   "metadata": {},
   "source": [
    "Procedemos a ejecutar el pipeline de limpieza en una muestra para validar el funcionamiento. Como el pipeline espera un `LazyFrame` mediante `lazy` convertimos el `DataFrame` original:"
   ]
  },
  {
   "cell_type": "code",
   "execution_count": 8,
   "metadata": {},
   "outputs": [
    {
     "data": {
      "text/html": [
       "<div><style>\n",
       ".dataframe > thead > tr > th,\n",
       ".dataframe > tbody > tr > td {\n",
       "  text-align: right;\n",
       "}\n",
       "</style>\n",
       "<small>shape: (5, 12)</small><table border=\"1\" class=\"dataframe\"><thead><tr><th>vendor_id</th><th>pickup_datetime</th><th>dropoff_datetime</th><th>passenger_count</th><th>trip_distance</th><th>pickup_location_id</th><th>dropoff_location_id</th><th>payment_type_id</th><th>tip_amount</th><th>total_amount</th><th>trip_duration</th><th>trip_speed</th></tr><tr><td>cat</td><td>datetime[μs]</td><td>datetime[μs]</td><td>i32</td><td>f64</td><td>cat</td><td>cat</td><td>cat</td><td>f64</td><td>f64</td><td>i64</td><td>f64</td></tr></thead><tbody><tr><td>&quot;1&quot;</td><td>2018-11-13 07:45:26</td><td>2018-11-13 07:57:39</td><td>1</td><td>1.5</td><td>&quot;246&quot;</td><td>&quot;164&quot;</td><td>&quot;1&quot;</td><td>1.0</td><td>11.3</td><td>12</td><td>12.07005</td></tr><tr><td>&quot;2&quot;</td><td>2018-11-13 07:24:47</td><td>2018-11-13 07:29:45</td><td>1</td><td>0.88</td><td>&quot;140&quot;</td><td>&quot;263&quot;</td><td>&quot;1&quot;</td><td>2.0</td><td>8.3</td><td>4</td><td>21.243288</td></tr><tr><td>&quot;2&quot;</td><td>2018-11-13 07:31:34</td><td>2018-11-13 07:36:04</td><td>1</td><td>0.54</td><td>&quot;236&quot;</td><td>&quot;236&quot;</td><td>&quot;2&quot;</td><td>0.0</td><td>5.8</td><td>4</td><td>13.035654</td></tr><tr><td>&quot;2&quot;</td><td>2018-11-13 07:36:59</td><td>2018-11-13 07:51:07</td><td>1</td><td>2.43</td><td>&quot;236&quot;</td><td>&quot;48&quot;</td><td>&quot;1&quot;</td><td>2.46</td><td>14.76</td><td>14</td><td>16.760127</td></tr><tr><td>&quot;2&quot;</td><td>2018-11-13 07:53:40</td><td>2018-11-13 08:21:53</td><td>1</td><td>2.96</td><td>&quot;163&quot;</td><td>&quot;43&quot;</td><td>&quot;1&quot;</td><td>0.0</td><td>18.8</td><td>28</td><td>10.207814</td></tr></tbody></table></div>"
      ],
      "text/plain": [
       "shape: (5, 12)\n",
       "┌─────────┬────────────┬────────────┬────────────┬────────────┬────────────┬────────────┬────────────┬──────────┬────────────┬────────────┬──────────┐\n",
       "│ vendor_ ┆ pickup_dat ┆ dropoff_da ┆ passenger_ ┆ trip_dista ┆ pickup_loc ┆ dropoff_lo ┆ payment_ty ┆ tip_amou ┆ total_amou ┆ trip_durat ┆ trip_spe │\n",
       "│ id      ┆ etime      ┆ tetime     ┆ count      ┆ nce        ┆ ation_id   ┆ cation_id  ┆ pe_id      ┆ nt       ┆ nt         ┆ ion        ┆ ed       │\n",
       "│ ---     ┆ ---        ┆ ---        ┆ ---        ┆ ---        ┆ ---        ┆ ---        ┆ ---        ┆ ---      ┆ ---        ┆ ---        ┆ ---      │\n",
       "│ cat     ┆ datetime[μ ┆ datetime[μ ┆ i32        ┆ f64        ┆ cat        ┆ cat        ┆ cat        ┆ f64      ┆ f64        ┆ i64        ┆ f64      │\n",
       "│         ┆ s]         ┆ s]         ┆            ┆            ┆            ┆            ┆            ┆          ┆            ┆            ┆          │\n",
       "╞═════════╪════════════╪════════════╪════════════╪════════════╪════════════╪════════════╪════════════╪══════════╪════════════╪════════════╪══════════╡\n",
       "│ 1       ┆ 2018-11-13 ┆ 2018-11-13 ┆ 1          ┆ 1.5        ┆ 246        ┆ 164        ┆ 1          ┆ 1.0      ┆ 11.3       ┆ 12         ┆ 12.07005 │\n",
       "│         ┆ 07:45:26   ┆ 07:57:39   ┆            ┆            ┆            ┆            ┆            ┆          ┆            ┆            ┆          │\n",
       "│ 2       ┆ 2018-11-13 ┆ 2018-11-13 ┆ 1          ┆ 0.88       ┆ 140        ┆ 263        ┆ 1          ┆ 2.0      ┆ 8.3        ┆ 4          ┆ 21.24328 │\n",
       "│         ┆ 07:24:47   ┆ 07:29:45   ┆            ┆            ┆            ┆            ┆            ┆          ┆            ┆            ┆ 8        │\n",
       "│ 2       ┆ 2018-11-13 ┆ 2018-11-13 ┆ 1          ┆ 0.54       ┆ 236        ┆ 236        ┆ 2          ┆ 0.0      ┆ 5.8        ┆ 4          ┆ 13.03565 │\n",
       "│         ┆ 07:31:34   ┆ 07:36:04   ┆            ┆            ┆            ┆            ┆            ┆          ┆            ┆            ┆ 4        │\n",
       "│ 2       ┆ 2018-11-13 ┆ 2018-11-13 ┆ 1          ┆ 2.43       ┆ 236        ┆ 48         ┆ 1          ┆ 2.46     ┆ 14.76      ┆ 14         ┆ 16.76012 │\n",
       "│         ┆ 07:36:59   ┆ 07:51:07   ┆            ┆            ┆            ┆            ┆            ┆          ┆            ┆            ┆ 7        │\n",
       "│ 2       ┆ 2018-11-13 ┆ 2018-11-13 ┆ 1          ┆ 2.96       ┆ 163        ┆ 43         ┆ 1          ┆ 0.0      ┆ 18.8       ┆ 28         ┆ 10.20781 │\n",
       "│         ┆ 07:53:40   ┆ 08:21:53   ┆            ┆            ┆            ┆            ┆            ┆          ┆            ┆            ┆ 4        │\n",
       "└─────────┴────────────┴────────────┴────────────┴────────────┴────────────┴────────────┴────────────┴──────────┴────────────┴────────────┴──────────┘"
      ]
     },
     "execution_count": 8,
     "metadata": {},
     "output_type": "execute_result"
    }
   ],
   "source": [
    "taxi_sample_clean = (taxi_sample.lazy()\n",
    "            .pipe(drop_columns)\n",
    "            .pipe(rename_columns)\n",
    "            .pipe(cast_column_types)\n",
    "            .pipe(fix_bad_values)\n",
    "            .pipe(calculate_columns)         \n",
    ")\n",
    "taxi_sample_clean.collect().head()"
   ]
  },
  {
   "cell_type": "code",
   "execution_count": 9,
   "metadata": {},
   "outputs": [
    {
     "data": {
      "text/html": [
       "<div><style>\n",
       ".dataframe > thead > tr > th,\n",
       ".dataframe > tbody > tr > td {\n",
       "  text-align: right;\n",
       "}\n",
       "</style>\n",
       "<small>shape: (7, 13)</small><table border=\"1\" class=\"dataframe\"><thead><tr><th>describe</th><th>vendor_id</th><th>pickup_datetime</th><th>dropoff_datetime</th><th>passenger_count</th><th>trip_distance</th><th>pickup_location_id</th><th>dropoff_location_id</th><th>payment_type_id</th><th>tip_amount</th><th>total_amount</th><th>trip_duration</th><th>trip_speed</th></tr><tr><td>str</td><td>str</td><td>str</td><td>str</td><td>f64</td><td>f64</td><td>str</td><td>str</td><td>str</td><td>f64</td><td>f64</td><td>f64</td><td>f64</td></tr></thead><tbody><tr><td>&quot;count&quot;</td><td>&quot;1000000&quot;</td><td>&quot;1000000&quot;</td><td>&quot;1000000&quot;</td><td>1e6</td><td>1e6</td><td>&quot;1000000&quot;</td><td>&quot;1000000&quot;</td><td>&quot;1000000&quot;</td><td>1e6</td><td>1e6</td><td>1e6</td><td>1e6</td></tr><tr><td>&quot;null_count&quot;</td><td>&quot;0&quot;</td><td>&quot;0&quot;</td><td>&quot;0&quot;</td><td>0.0</td><td>0.0</td><td>&quot;0&quot;</td><td>&quot;0&quot;</td><td>&quot;0&quot;</td><td>0.0</td><td>0.0</td><td>0.0</td><td>23154.0</td></tr><tr><td>&quot;mean&quot;</td><td>null</td><td>null</td><td>null</td><td>1.535628</td><td>2.899356</td><td>null</td><td>null</td><td>null</td><td>2.137468</td><td>17.795293</td><td>17.036333</td><td>16.39244</td></tr><tr><td>&quot;std&quot;</td><td>null</td><td>null</td><td>null</td><td>1.209576</td><td>3.88934</td><td>null</td><td>null</td><td>null</td><td>2.940436</td><td>16.233516</td><td>18.056075</td><td>10.70029</td></tr><tr><td>&quot;min&quot;</td><td>null</td><td>&quot;2018-01-01 00:05:38.000000&quot;</td><td>&quot;2018-01-01 04:50:14.000000&quot;</td><td>0.0</td><td>0.0</td><td>null</td><td>null</td><td>null</td><td>0.0</td><td>0.0</td><td>0.0</td><td>0.059009</td></tr><tr><td>&quot;max&quot;</td><td>null</td><td>&quot;2018-12-31 23:03:08.000000&quot;</td><td>&quot;2018-12-31 19:03:26.000000&quot;</td><td>9.0</td><td>80.0</td><td>null</td><td>null</td><td>null</td><td>62.27</td><td>287.27</td><td>180.0</td><td>2574.944</td></tr><tr><td>&quot;median&quot;</td><td>null</td><td>null</td><td>null</td><td>1.0</td><td>1.51</td><td>null</td><td>null</td><td>null</td><td>1.55</td><td>12.74</td><td>12.0</td><td>14.112674</td></tr></tbody></table></div>"
      ],
      "text/plain": [
       "shape: (7, 13)\n",
       "┌────────┬─────────┬────────────┬────────────┬────────────┬────────────┬────────────┬────────────┬────────────┬──────────┬────────────┬────────────┬──────────┐\n",
       "│ descri ┆ vendor_ ┆ pickup_dat ┆ dropoff_da ┆ passenger_ ┆ trip_dista ┆ pickup_loc ┆ dropoff_lo ┆ payment_ty ┆ tip_amou ┆ total_amou ┆ trip_durat ┆ trip_spe │\n",
       "│ be     ┆ id      ┆ etime      ┆ tetime     ┆ count      ┆ nce        ┆ ation_id   ┆ cation_id  ┆ pe_id      ┆ nt       ┆ nt         ┆ ion        ┆ ed       │\n",
       "│ ---    ┆ ---     ┆ ---        ┆ ---        ┆ ---        ┆ ---        ┆ ---        ┆ ---        ┆ ---        ┆ ---      ┆ ---        ┆ ---        ┆ ---      │\n",
       "│ str    ┆ str     ┆ str        ┆ str        ┆ f64        ┆ f64        ┆ str        ┆ str        ┆ str        ┆ f64      ┆ f64        ┆ f64        ┆ f64      │\n",
       "╞════════╪═════════╪════════════╪════════════╪════════════╪════════════╪════════════╪════════════╪════════════╪══════════╪════════════╪════════════╪══════════╡\n",
       "│ count  ┆ 1000000 ┆ 1000000    ┆ 1000000    ┆ 1e6        ┆ 1e6        ┆ 1000000    ┆ 1000000    ┆ 1000000    ┆ 1e6      ┆ 1e6        ┆ 1e6        ┆ 1e6      │\n",
       "│ null_c ┆ 0       ┆ 0          ┆ 0          ┆ 0.0        ┆ 0.0        ┆ 0          ┆ 0          ┆ 0          ┆ 0.0      ┆ 0.0        ┆ 0.0        ┆ 23154.0  │\n",
       "│ ount   ┆         ┆            ┆            ┆            ┆            ┆            ┆            ┆            ┆          ┆            ┆            ┆          │\n",
       "│ mean   ┆ null    ┆ null       ┆ null       ┆ 1.535628   ┆ 2.899356   ┆ null       ┆ null       ┆ null       ┆ 2.137468 ┆ 17.795293  ┆ 17.036333  ┆ 16.39244 │\n",
       "│ std    ┆ null    ┆ null       ┆ null       ┆ 1.209576   ┆ 3.88934    ┆ null       ┆ null       ┆ null       ┆ 2.940436 ┆ 16.233516  ┆ 18.056075  ┆ 10.70029 │\n",
       "│ min    ┆ null    ┆ 2018-01-01 ┆ 2018-01-01 ┆ 0.0        ┆ 0.0        ┆ null       ┆ null       ┆ null       ┆ 0.0      ┆ 0.0        ┆ 0.0        ┆ 0.059009 │\n",
       "│        ┆         ┆ 00:05:38.0 ┆ 04:50:14.0 ┆            ┆            ┆            ┆            ┆            ┆          ┆            ┆            ┆          │\n",
       "│        ┆         ┆ 00000      ┆ 00000      ┆            ┆            ┆            ┆            ┆            ┆          ┆            ┆            ┆          │\n",
       "│ max    ┆ null    ┆ 2018-12-31 ┆ 2018-12-31 ┆ 9.0        ┆ 80.0       ┆ null       ┆ null       ┆ null       ┆ 62.27    ┆ 287.27     ┆ 180.0      ┆ 2574.944 │\n",
       "│        ┆         ┆ 23:03:08.0 ┆ 19:03:26.0 ┆            ┆            ┆            ┆            ┆            ┆          ┆            ┆            ┆          │\n",
       "│        ┆         ┆ 00000      ┆ 00000      ┆            ┆            ┆            ┆            ┆            ┆          ┆            ┆            ┆          │\n",
       "│ median ┆ null    ┆ null       ┆ null       ┆ 1.0        ┆ 1.51       ┆ null       ┆ null       ┆ null       ┆ 1.55     ┆ 12.74      ┆ 12.0       ┆ 14.11267 │\n",
       "│        ┆         ┆            ┆            ┆            ┆            ┆            ┆            ┆            ┆          ┆            ┆            ┆ 4        │\n",
       "└────────┴─────────┴────────────┴────────────┴────────────┴────────────┴────────────┴────────────┴────────────┴──────────┴────────────┴────────────┴──────────┘"
      ]
     },
     "execution_count": 9,
     "metadata": {},
     "output_type": "execute_result"
    }
   ],
   "source": [
    "taxi_sample_clean.collect().describe()"
   ]
  },
  {
   "attachments": {},
   "cell_type": "markdown",
   "metadata": {},
   "source": [
    "Procedemos a ejecutar el pipeline completo en todos los datos. Es importante el uso de `streaming=True` por si tenemos limitante de memoria RAM. De esta forma es posible procesar todo el dataset:"
   ]
  },
  {
   "cell_type": "code",
   "execution_count": 10,
   "metadata": {},
   "outputs": [],
   "source": [
    "taxi_clean = pl.scan_parquet('../output/taxi.parquet') \\\n",
    "            .pipe(drop_columns) \\\n",
    "            .pipe(rename_columns) \\\n",
    "            .pipe(cast_column_types) \\\n",
    "            .pipe(fix_bad_values) \\\n",
    "            .pipe(calculate_columns)"
   ]
  },
  {
   "cell_type": "code",
   "execution_count": 11,
   "metadata": {},
   "outputs": [],
   "source": [
    "taxi_clean = taxi_clean.collect(streaming=True)"
   ]
  },
  {
   "cell_type": "code",
   "execution_count": 12,
   "metadata": {},
   "outputs": [
    {
     "data": {
      "text/html": [
       "<div><style>\n",
       ".dataframe > thead > tr > th,\n",
       ".dataframe > tbody > tr > td {\n",
       "  text-align: right;\n",
       "}\n",
       "</style>\n",
       "<small>shape: (7, 13)</small><table border=\"1\" class=\"dataframe\"><thead><tr><th>describe</th><th>vendor_id</th><th>pickup_datetime</th><th>dropoff_datetime</th><th>passenger_count</th><th>trip_distance</th><th>pickup_location_id</th><th>dropoff_location_id</th><th>payment_type_id</th><th>tip_amount</th><th>total_amount</th><th>trip_duration</th><th>trip_speed</th></tr><tr><td>str</td><td>str</td><td>str</td><td>str</td><td>f64</td><td>f64</td><td>str</td><td>str</td><td>str</td><td>f64</td><td>f64</td><td>f64</td><td>f64</td></tr></thead><tbody><tr><td>&quot;count&quot;</td><td>&quot;112234626&quot;</td><td>&quot;112234626&quot;</td><td>&quot;112234626&quot;</td><td>1.12234626e8</td><td>1.12234626e8</td><td>&quot;112234626&quot;</td><td>&quot;112234626&quot;</td><td>&quot;112234626&quot;</td><td>1.12234626e8</td><td>1.12234626e8</td><td>1.12234626e8</td><td>1.12234626e8</td></tr><tr><td>&quot;null_count&quot;</td><td>&quot;0&quot;</td><td>&quot;0&quot;</td><td>&quot;0&quot;</td><td>0.0</td><td>0.0</td><td>&quot;0&quot;</td><td>&quot;0&quot;</td><td>&quot;0&quot;</td><td>0.0</td><td>0.0</td><td>0.0</td><td>2.694977e6</td></tr><tr><td>&quot;mean&quot;</td><td>null</td><td>null</td><td>null</td><td>1.595513</td><td>2.926978</td><td>null</td><td>null</td><td>null</td><td>1.86961</td><td>16.322072</td><td>14.184362</td><td>19.134251</td></tr><tr><td>&quot;std&quot;</td><td>null</td><td>null</td><td>null</td><td>1.241607</td><td>3.777462</td><td>null</td><td>null</td><td>null</td><td>2.503802</td><td>14.151166</td><td>14.133129</td><td>10.547828</td></tr><tr><td>&quot;min&quot;</td><td>null</td><td>&quot;2018-01-01 00:00:00.000000&quot;</td><td>&quot;2018-01-01 00:00:00.000000&quot;</td><td>0.0</td><td>0.0</td><td>null</td><td>null</td><td>null</td><td>0.0</td><td>0.0</td><td>0.0</td><td>0.059009</td></tr><tr><td>&quot;max&quot;</td><td>null</td><td>&quot;2018-12-31 23:59:59.000000&quot;</td><td>&quot;2018-12-31 23:59:59.000000&quot;</td><td>9.0</td><td>80.0</td><td>null</td><td>null</td><td>null</td><td>45.5</td><td>232.86</td><td>180.0</td><td>3862.416</td></tr><tr><td>&quot;median&quot;</td><td>null</td><td>null</td><td>null</td><td>1.0</td><td>1.6</td><td>null</td><td>null</td><td>null</td><td>1.4</td><td>11.8</td><td>11.0</td><td>16.89807</td></tr></tbody></table></div>"
      ],
      "text/plain": [
       "shape: (7, 13)\n",
       "┌────────┬─────────┬────────────┬────────────┬────────────┬────────────┬────────────┬────────────┬────────────┬──────────┬────────────┬────────────┬──────────┐\n",
       "│ descri ┆ vendor_ ┆ pickup_dat ┆ dropoff_da ┆ passenger_ ┆ trip_dista ┆ pickup_loc ┆ dropoff_lo ┆ payment_ty ┆ tip_amou ┆ total_amou ┆ trip_durat ┆ trip_spe │\n",
       "│ be     ┆ id      ┆ etime      ┆ tetime     ┆ count      ┆ nce        ┆ ation_id   ┆ cation_id  ┆ pe_id      ┆ nt       ┆ nt         ┆ ion        ┆ ed       │\n",
       "│ ---    ┆ ---     ┆ ---        ┆ ---        ┆ ---        ┆ ---        ┆ ---        ┆ ---        ┆ ---        ┆ ---      ┆ ---        ┆ ---        ┆ ---      │\n",
       "│ str    ┆ str     ┆ str        ┆ str        ┆ f64        ┆ f64        ┆ str        ┆ str        ┆ str        ┆ f64      ┆ f64        ┆ f64        ┆ f64      │\n",
       "╞════════╪═════════╪════════════╪════════════╪════════════╪════════════╪════════════╪════════════╪════════════╪══════════╪════════════╪════════════╪══════════╡\n",
       "│ count  ┆ 1122346 ┆ 112234626  ┆ 112234626  ┆ 1.12234626 ┆ 1.12234626 ┆ 112234626  ┆ 112234626  ┆ 112234626  ┆ 1.122346 ┆ 1.12234626 ┆ 1.12234626 ┆ 1.122346 │\n",
       "│        ┆ 26      ┆            ┆            ┆ e8         ┆ e8         ┆            ┆            ┆            ┆ 26e8     ┆ e8         ┆ e8         ┆ 26e8     │\n",
       "│ null_c ┆ 0       ┆ 0          ┆ 0          ┆ 0.0        ┆ 0.0        ┆ 0          ┆ 0          ┆ 0          ┆ 0.0      ┆ 0.0        ┆ 0.0        ┆ 2.694977 │\n",
       "│ ount   ┆         ┆            ┆            ┆            ┆            ┆            ┆            ┆            ┆          ┆            ┆            ┆ e6       │\n",
       "│ mean   ┆ null    ┆ null       ┆ null       ┆ 1.595513   ┆ 2.926978   ┆ null       ┆ null       ┆ null       ┆ 1.86961  ┆ 16.322072  ┆ 14.184362  ┆ 19.13425 │\n",
       "│        ┆         ┆            ┆            ┆            ┆            ┆            ┆            ┆            ┆          ┆            ┆            ┆ 1        │\n",
       "│ std    ┆ null    ┆ null       ┆ null       ┆ 1.241607   ┆ 3.777462   ┆ null       ┆ null       ┆ null       ┆ 2.503802 ┆ 14.151166  ┆ 14.133129  ┆ 10.54782 │\n",
       "│        ┆         ┆            ┆            ┆            ┆            ┆            ┆            ┆            ┆          ┆            ┆            ┆ 8        │\n",
       "│ min    ┆ null    ┆ 2018-01-01 ┆ 2018-01-01 ┆ 0.0        ┆ 0.0        ┆ null       ┆ null       ┆ null       ┆ 0.0      ┆ 0.0        ┆ 0.0        ┆ 0.059009 │\n",
       "│        ┆         ┆ 00:00:00.0 ┆ 00:00:00.0 ┆            ┆            ┆            ┆            ┆            ┆          ┆            ┆            ┆          │\n",
       "│        ┆         ┆ 00000      ┆ 00000      ┆            ┆            ┆            ┆            ┆            ┆          ┆            ┆            ┆          │\n",
       "│ max    ┆ null    ┆ 2018-12-31 ┆ 2018-12-31 ┆ 9.0        ┆ 80.0       ┆ null       ┆ null       ┆ null       ┆ 45.5     ┆ 232.86     ┆ 180.0      ┆ 3862.416 │\n",
       "│        ┆         ┆ 23:59:59.0 ┆ 23:59:59.0 ┆            ┆            ┆            ┆            ┆            ┆          ┆            ┆            ┆          │\n",
       "│        ┆         ┆ 00000      ┆ 00000      ┆            ┆            ┆            ┆            ┆            ┆          ┆            ┆            ┆          │\n",
       "│ median ┆ null    ┆ null       ┆ null       ┆ 1.0        ┆ 1.6        ┆ null       ┆ null       ┆ null       ┆ 1.4      ┆ 11.8       ┆ 11.0       ┆ 16.89807 │\n",
       "└────────┴─────────┴────────────┴────────────┴────────────┴────────────┴────────────┴────────────┴────────────┴──────────┴────────────┴────────────┴──────────┘"
      ]
     },
     "execution_count": 12,
     "metadata": {},
     "output_type": "execute_result"
    }
   ],
   "source": [
    "taxi_clean.describe()"
   ]
  },
  {
   "attachments": {},
   "cell_type": "markdown",
   "metadata": {},
   "source": [
    "Validamos que algunos campos específicos estén limpios:"
   ]
  },
  {
   "cell_type": "code",
   "execution_count": 13,
   "metadata": {},
   "outputs": [
    {
     "data": {
      "text/plain": [
       "0"
      ]
     },
     "execution_count": 13,
     "metadata": {},
     "output_type": "execute_result"
    }
   ],
   "source": [
    "taxi_clean.filter(pl.col('trip_duration')<0).height"
   ]
  },
  {
   "cell_type": "code",
   "execution_count": 14,
   "metadata": {},
   "outputs": [
    {
     "data": {
      "text/html": [
       "<div><style>\n",
       ".dataframe > thead > tr > th,\n",
       ".dataframe > tbody > tr > td {\n",
       "  text-align: right;\n",
       "}\n",
       "</style>\n",
       "<small>shape: (0, 12)</small><table border=\"1\" class=\"dataframe\"><thead><tr><th>vendor_id</th><th>pickup_datetime</th><th>dropoff_datetime</th><th>passenger_count</th><th>trip_distance</th><th>pickup_location_id</th><th>dropoff_location_id</th><th>payment_type_id</th><th>tip_amount</th><th>total_amount</th><th>trip_duration</th><th>trip_speed</th></tr><tr><td>cat</td><td>datetime[μs]</td><td>datetime[μs]</td><td>i32</td><td>f64</td><td>cat</td><td>cat</td><td>cat</td><td>f64</td><td>f64</td><td>i64</td><td>f64</td></tr></thead><tbody></tbody></table></div>"
      ],
      "text/plain": [
       "shape: (0, 12)\n",
       "┌─────────┬────────────┬────────────┬────────────┬────────────┬────────────┬────────────┬────────────┬──────────┬────────────┬────────────┬──────────┐\n",
       "│ vendor_ ┆ pickup_dat ┆ dropoff_da ┆ passenger_ ┆ trip_dista ┆ pickup_loc ┆ dropoff_lo ┆ payment_ty ┆ tip_amou ┆ total_amou ┆ trip_durat ┆ trip_spe │\n",
       "│ id      ┆ etime      ┆ tetime     ┆ count      ┆ nce        ┆ ation_id   ┆ cation_id  ┆ pe_id      ┆ nt       ┆ nt         ┆ ion        ┆ ed       │\n",
       "│ ---     ┆ ---        ┆ ---        ┆ ---        ┆ ---        ┆ ---        ┆ ---        ┆ ---        ┆ ---      ┆ ---        ┆ ---        ┆ ---      │\n",
       "│ cat     ┆ datetime[μ ┆ datetime[μ ┆ i32        ┆ f64        ┆ cat        ┆ cat        ┆ cat        ┆ f64      ┆ f64        ┆ i64        ┆ f64      │\n",
       "│         ┆ s]         ┆ s]         ┆            ┆            ┆            ┆            ┆            ┆          ┆            ┆            ┆          │\n",
       "╞═════════╪════════════╪════════════╪════════════╪════════════╪════════════╪════════════╪════════════╪══════════╪════════════╪════════════╪══════════╡\n",
       "└─────────┴────────────┴────────────┴────────────┴────────────┴────────────┴────────────┴────────────┴──────────┴────────────┴────────────┴──────────┘"
      ]
     },
     "execution_count": 14,
     "metadata": {},
     "output_type": "execute_result"
    }
   ],
   "source": [
    "taxi_clean.filter((pl.col('dropoff_datetime').dt.year()>2023) | (pl.col('dropoff_datetime').dt.year()<2017))"
   ]
  },
  {
   "cell_type": "code",
   "execution_count": 15,
   "metadata": {},
   "outputs": [
    {
     "data": {
      "text/html": [
       "<div><style>\n",
       ".dataframe > thead > tr > th,\n",
       ".dataframe > tbody > tr > td {\n",
       "  text-align: right;\n",
       "}\n",
       "</style>\n",
       "<small>shape: (1, 12)</small><table border=\"1\" class=\"dataframe\"><thead><tr><th>vendor_id</th><th>pickup_datetime</th><th>dropoff_datetime</th><th>passenger_count</th><th>trip_distance</th><th>pickup_location_id</th><th>dropoff_location_id</th><th>payment_type_id</th><th>tip_amount</th><th>total_amount</th><th>trip_duration</th><th>trip_speed</th></tr><tr><td>u32</td><td>u32</td><td>u32</td><td>u32</td><td>u32</td><td>u32</td><td>u32</td><td>u32</td><td>u32</td><td>u32</td><td>u32</td><td>u32</td></tr></thead><tbody><tr><td>0</td><td>0</td><td>0</td><td>0</td><td>0</td><td>0</td><td>0</td><td>0</td><td>0</td><td>0</td><td>0</td><td>2694977</td></tr></tbody></table></div>"
      ],
      "text/plain": [
       "shape: (1, 12)\n",
       "┌─────────┬────────────┬────────────┬────────────┬────────────┬────────────┬────────────┬────────────┬──────────┬────────────┬────────────┬──────────┐\n",
       "│ vendor_ ┆ pickup_dat ┆ dropoff_da ┆ passenger_ ┆ trip_dista ┆ pickup_loc ┆ dropoff_lo ┆ payment_ty ┆ tip_amou ┆ total_amou ┆ trip_durat ┆ trip_spe │\n",
       "│ id      ┆ etime      ┆ tetime     ┆ count      ┆ nce        ┆ ation_id   ┆ cation_id  ┆ pe_id      ┆ nt       ┆ nt         ┆ ion        ┆ ed       │\n",
       "│ ---     ┆ ---        ┆ ---        ┆ ---        ┆ ---        ┆ ---        ┆ ---        ┆ ---        ┆ ---      ┆ ---        ┆ ---        ┆ ---      │\n",
       "│ u32     ┆ u32        ┆ u32        ┆ u32        ┆ u32        ┆ u32        ┆ u32        ┆ u32        ┆ u32      ┆ u32        ┆ u32        ┆ u32      │\n",
       "╞═════════╪════════════╪════════════╪════════════╪════════════╪════════════╪════════════╪════════════╪══════════╪════════════╪════════════╪══════════╡\n",
       "│ 0       ┆ 0          ┆ 0          ┆ 0          ┆ 0          ┆ 0          ┆ 0          ┆ 0          ┆ 0        ┆ 0          ┆ 0          ┆ 2694977  │\n",
       "└─────────┴────────────┴────────────┴────────────┴────────────┴────────────┴────────────┴────────────┴──────────┴────────────┴────────────┴──────────┘"
      ]
     },
     "execution_count": 15,
     "metadata": {},
     "output_type": "execute_result"
    }
   ],
   "source": [
    "taxi_clean.select(pl.all().null_count())"
   ]
  },
  {
   "cell_type": "code",
   "execution_count": 16,
   "metadata": {},
   "outputs": [
    {
     "data": {
      "text/html": [
       "<div><style>\n",
       ".dataframe > thead > tr > th,\n",
       ".dataframe > tbody > tr > td {\n",
       "  text-align: right;\n",
       "}\n",
       "</style>\n",
       "<small>shape: (10, 2)</small><table border=\"1\" class=\"dataframe\"><thead><tr><th>passenger_count</th><th>counts</th></tr><tr><td>i32</td><td>u32</td></tr></thead><tbody><tr><td>0</td><td>1003298</td></tr><tr><td>1</td><td>79786664</td></tr><tr><td>2</td><td>16468127</td></tr><tr><td>3</td><td>4684094</td></tr><tr><td>4</td><td>2209579</td></tr><tr><td>5</td><td>5040905</td></tr><tr><td>6</td><td>3040893</td></tr><tr><td>7</td><td>425</td></tr><tr><td>8</td><td>349</td></tr><tr><td>9</td><td>292</td></tr></tbody></table></div>"
      ],
      "text/plain": [
       "shape: (10, 2)\n",
       "┌─────────────────┬──────────┐\n",
       "│ passenger_count ┆ counts   │\n",
       "│ ---             ┆ ---      │\n",
       "│ i32             ┆ u32      │\n",
       "╞═════════════════╪══════════╡\n",
       "│ 0               ┆ 1003298  │\n",
       "│ 1               ┆ 79786664 │\n",
       "│ 2               ┆ 16468127 │\n",
       "│ 3               ┆ 4684094  │\n",
       "│ 4               ┆ 2209579  │\n",
       "│ 5               ┆ 5040905  │\n",
       "│ 6               ┆ 3040893  │\n",
       "│ 7               ┆ 425      │\n",
       "│ 8               ┆ 349      │\n",
       "│ 9               ┆ 292      │\n",
       "└─────────────────┴──────────┘"
      ]
     },
     "execution_count": 16,
     "metadata": {},
     "output_type": "execute_result"
    }
   ],
   "source": [
    "taxi_clean.select(pl.col('passenger_count').value_counts()).unnest('passenger_count').sort('passenger_count')"
   ]
  },
  {
   "cell_type": "code",
   "execution_count": 17,
   "metadata": {},
   "outputs": [
    {
     "data": {
      "text/html": [
       "<div><style>\n",
       ".dataframe > thead > tr > th,\n",
       ".dataframe > tbody > tr > td {\n",
       "  text-align: right;\n",
       "}\n",
       "</style>\n",
       "<small>shape: (1, 2)</small><table border=\"1\" class=\"dataframe\"><thead><tr><th>dropoff_datetime</th><th>counts</th></tr><tr><td>i32</td><td>u32</td></tr></thead><tbody><tr><td>2018</td><td>112234626</td></tr></tbody></table></div>"
      ],
      "text/plain": [
       "shape: (1, 2)\n",
       "┌──────────────────┬───────────┐\n",
       "│ dropoff_datetime ┆ counts    │\n",
       "│ ---              ┆ ---       │\n",
       "│ i32              ┆ u32       │\n",
       "╞══════════════════╪═══════════╡\n",
       "│ 2018             ┆ 112234626 │\n",
       "└──────────────────┴───────────┘"
      ]
     },
     "execution_count": 17,
     "metadata": {},
     "output_type": "execute_result"
    }
   ],
   "source": [
    "taxi_clean.select(pl.col('dropoff_datetime').dt.year().value_counts()).unnest('dropoff_datetime')"
   ]
  },
  {
   "attachments": {},
   "cell_type": "markdown",
   "metadata": {},
   "source": [
    "## Analítica\n",
    "### Group By y agregaciones\n",
    "\n",
    "![Group By](../img/groupby.png)"
   ]
  },
  {
   "cell_type": "code",
   "execution_count": 41,
   "metadata": {},
   "outputs": [
    {
     "data": {
      "text/html": [
       "<div><style>\n",
       ".dataframe > thead > tr > th,\n",
       ".dataframe > tbody > tr > td {\n",
       "  text-align: right;\n",
       "}\n",
       "</style>\n",
       "<small>shape: (5, 10)</small><table border=\"1\" class=\"dataframe\"><thead><tr><th>payment_type_id</th><th>total_amount_std</th><th>total_amount_var</th><th>total_amount_median</th><th>total_amount_mean</th><th>total_amount_sum</th><th>total_amount_max</th><th>total_amount_min</th><th>total_amount_count</th><th>total_amount_unique</th></tr><tr><td>cat</td><td>f64</td><td>f64</td><td>f64</td><td>f64</td><td>f64</td><td>f64</td><td>f64</td><td>u32</td><td>u32</td></tr></thead><tbody><tr><td>&quot;2&quot;</td><td>11.421088</td><td>130.44124</td><td>9.8</td><td>13.296029</td><td>4.4617e8</td><td>232.86</td><td>0.0</td><td>33556849</td><td>7258</td></tr><tr><td>&quot;1&quot;</td><td>14.957931</td><td>223.739705</td><td>12.85</td><td>17.652092</td><td>1.3756e9</td><td>232.86</td><td>0.0</td><td>77928307</td><td>17618</td></tr><tr><td>&quot;4&quot;</td><td>16.572163</td><td>274.636586</td><td>8.8</td><td>13.5855</td><td>2.2670e6</td><td>232.86</td><td>0.0</td><td>166868</td><td>1215</td></tr><tr><td>&quot;3&quot;</td><td>16.874474</td><td>284.747869</td><td>8.3</td><td>13.49828</td><td>7.8641e6</td><td>232.86</td><td>0.0</td><td>582599</td><td>2237</td></tr><tr><td>&quot;5&quot;</td><td>25.727933</td><td>661.926533</td><td>35.8</td><td>32.513333</td><td>97.54</td><td>56.44</td><td>5.3</td><td>3</td><td>3</td></tr></tbody></table></div>"
      ],
      "text/plain": [
       "shape: (5, 10)\n",
       "┌────────────┬────────────┬────────────┬────────────┬────────────┬────────────┬────────────┬────────────┬────────────┬────────────┐\n",
       "│ payment_ty ┆ total_amou ┆ total_amou ┆ total_amou ┆ total_amou ┆ total_amou ┆ total_amou ┆ total_amou ┆ total_amou ┆ total_amou │\n",
       "│ pe_id      ┆ nt_std     ┆ nt_var     ┆ nt_median  ┆ nt_mean    ┆ nt_sum     ┆ nt_max     ┆ nt_min     ┆ nt_count   ┆ nt_unique  │\n",
       "│ ---        ┆ ---        ┆ ---        ┆ ---        ┆ ---        ┆ ---        ┆ ---        ┆ ---        ┆ ---        ┆ ---        │\n",
       "│ cat        ┆ f64        ┆ f64        ┆ f64        ┆ f64        ┆ f64        ┆ f64        ┆ f64        ┆ u32        ┆ u32        │\n",
       "╞════════════╪════════════╪════════════╪════════════╪════════════╪════════════╪════════════╪════════════╪════════════╪════════════╡\n",
       "│ 2          ┆ 11.421088  ┆ 130.44124  ┆ 9.8        ┆ 13.296029  ┆ 4.4617e8   ┆ 232.86     ┆ 0.0        ┆ 33556849   ┆ 7258       │\n",
       "│ 1          ┆ 14.957931  ┆ 223.739705 ┆ 12.85      ┆ 17.652092  ┆ 1.3756e9   ┆ 232.86     ┆ 0.0        ┆ 77928307   ┆ 17618      │\n",
       "│ 4          ┆ 16.572163  ┆ 274.636586 ┆ 8.8        ┆ 13.5855    ┆ 2.2670e6   ┆ 232.86     ┆ 0.0        ┆ 166868     ┆ 1215       │\n",
       "│ 3          ┆ 16.874474  ┆ 284.747869 ┆ 8.3        ┆ 13.49828   ┆ 7.8641e6   ┆ 232.86     ┆ 0.0        ┆ 582599     ┆ 2237       │\n",
       "│ 5          ┆ 25.727933  ┆ 661.926533 ┆ 35.8       ┆ 32.513333  ┆ 97.54      ┆ 56.44      ┆ 5.3        ┆ 3          ┆ 3          │\n",
       "└────────────┴────────────┴────────────┴────────────┴────────────┴────────────┴────────────┴────────────┴────────────┴────────────┘"
      ]
     },
     "execution_count": 41,
     "metadata": {},
     "output_type": "execute_result"
    }
   ],
   "source": [
    "(taxi_clean.lazy()\n",
    "    .groupby('payment_type_id')\n",
    "    .agg(\n",
    "        pl.col('total_amount').std().suffix('_std'),\n",
    "        pl.col('total_amount').var().suffix('_var'),\n",
    "        pl.col('total_amount').median().suffix('_median'),\n",
    "        pl.col('total_amount').mean().suffix('_mean'),\n",
    "        pl.col('total_amount').sum().suffix('_sum'),\n",
    "        pl.col('total_amount').max().suffix('_max'),\n",
    "        pl.col('total_amount').min().suffix('_min'),\n",
    "        pl.col('total_amount').count().suffix('_count'),\n",
    "        pl.col('total_amount').n_unique().suffix('_unique')\n",
    "    )\n",
    "    .sort('payment_type_id')                     \n",
    "    .collect()\n",
    ")"
   ]
  },
  {
   "attachments": {},
   "cell_type": "markdown",
   "metadata": {},
   "source": [
    "`groupby_dynamic` nos permite crear intervalos en campos de `Date` o `Datetime` y en conjunto con `agg` realizar agregaciones:"
   ]
  },
  {
   "cell_type": "code",
   "execution_count": 18,
   "metadata": {},
   "outputs": [],
   "source": [
    "taxi_daily_stats = (taxi_clean.lazy()\n",
    "    .sort('pickup_datetime')\n",
    "    .groupby_dynamic(\n",
    "        'pickup_datetime', \n",
    "        every='1d',\n",
    "        by='vendor_id')\n",
    "    .agg(\n",
    "        pl.count().alias('trips_count'),        \n",
    "        pl.col(pl.NUMERIC_DTYPES).sum().suffix('_sum'),\n",
    "        pl.col(pl.NUMERIC_DTYPES).mean().suffix('_mean'),\n",
    "        pl.col(pl.NUMERIC_DTYPES).median().suffix('_median'),              \n",
    "    )\n",
    ")"
   ]
  },
  {
   "attachments": {},
   "cell_type": "markdown",
   "metadata": {},
   "source": [
    "También es posible hacer acumulaciones mediante la familia de funciones `cum` como `cumsum`:"
   ]
  },
  {
   "cell_type": "code",
   "execution_count": 36,
   "metadata": {},
   "outputs": [],
   "source": [
    "taxi_daily_cum_stats = taxi_daily_stats.select(\n",
    "    'vendor_id',\n",
    "    pl.col('pickup_datetime').cast(pl.Date),\n",
    "    'trips_count',\n",
    "    pl.col(r'^.*sum$'),\n",
    "    pl.col(r'^.*sum$').cumsum().suffix('_cum'),\n",
    ").collect()"
   ]
  },
  {
   "cell_type": "code",
   "execution_count": 35,
   "metadata": {},
   "outputs": [
    {
     "data": {
      "text/html": [
       "<div><style>\n",
       ".dataframe > thead > tr > th,\n",
       ".dataframe > tbody > tr > td {\n",
       "  text-align: right;\n",
       "}\n",
       "</style>\n",
       "<small>shape: (971, 15)</small><table border=\"1\" class=\"dataframe\"><thead><tr><th>vendor_id</th><th>pickup_datetime</th><th>trips_count</th><th>passenger_count_sum</th><th>trip_distance_sum</th><th>tip_amount_sum</th><th>total_amount_sum</th><th>trip_duration_sum</th><th>trip_speed_sum</th><th>passenger_count_sum_cum</th><th>trip_distance_sum_cum</th><th>tip_amount_sum_cum</th><th>total_amount_sum_cum</th><th>trip_duration_sum_cum</th><th>trip_speed_sum_cum</th></tr><tr><td>cat</td><td>date</td><td>u32</td><td>i32</td><td>f64</td><td>f64</td><td>f64</td><td>i64</td><td>f64</td><td>i32</td><td>f64</td><td>f64</td><td>f64</td><td>i64</td><td>f64</td></tr></thead><tbody><tr><td>&quot;2&quot;</td><td>2018-01-01</td><td>141704</td><td>270942</td><td>488214.54</td><td>239074.95</td><td>2.3418e6</td><td>1756888</td><td>3.4909e6</td><td>270942</td><td>488214.54</td><td>239074.95</td><td>2.3418e6</td><td>1756888</td><td>3.4909e6</td></tr><tr><td>&quot;2&quot;</td><td>2018-01-02</td><td>134592</td><td>257630</td><td>424210.71</td><td>231022.7</td><td>2.1644e6</td><td>1696152</td><td>2.8857e6</td><td>528572</td><td>912425.25</td><td>470097.65</td><td>4.5061e6</td><td>3453040</td><td>6.3766e6</td></tr><tr><td>&quot;2&quot;</td><td>2018-01-03</td><td>148673</td><td>282687</td><td>430239.87</td><td>256162.3</td><td>2.3414e6</td><td>1989922</td><td>2.8654e6</td><td>811259</td><td>1.3427e6</td><td>726259.95</td><td>6.8475e6</td><td>5442962</td><td>9.2420e6</td></tr><tr><td>&quot;2&quot;</td><td>2018-01-04</td><td>73429</td><td>139186</td><td>192898.61</td><td>114495.16</td><td>1.0727e6</td><td>938488</td><td>1.3696e6</td><td>950445</td><td>1.5356e6</td><td>840755.11</td><td>7.9202e6</td><td>6381450</td><td>1.0612e7</td></tr><tr><td>&quot;2&quot;</td><td>2018-01-05</td><td>152386</td><td>291141</td><td>405175.7</td><td>263764.36</td><td>2.3533e6</td><td>2136171</td><td>2.5978e6</td><td>1241586</td><td>1.9407e6</td><td>1.1045e6</td><td>1.0273e7</td><td>8517621</td><td>1.3209e7</td></tr><tr><td>&quot;2&quot;</td><td>2018-01-06</td><td>160667</td><td>309548</td><td>457776.51</td><td>267176.2</td><td>2.4333e6</td><td>2031684</td><td>3.1863e6</td><td>1551134</td><td>2.3985e6</td><td>1.3717e6</td><td>1.2707e7</td><td>10549305</td><td>1.6396e7</td></tr><tr><td>&quot;2&quot;</td><td>2018-01-07</td><td>135496</td><td>262067</td><td>420228.73</td><td>240716.98</td><td>2.1244e6</td><td>1617140</td><td>3.0285e6</td><td>1813201</td><td>2.8187e6</td><td>1.6124e6</td><td>1.4831e7</td><td>12166445</td><td>1.9424e7</td></tr><tr><td>...</td><td>...</td><td>...</td><td>...</td><td>...</td><td>...</td><td>...</td><td>...</td><td>...</td><td>...</td><td>...</td><td>...</td><td>...</td><td>...</td><td>...</td></tr><tr><td>&quot;4&quot;</td><td>2018-12-25</td><td>1511</td><td>1586</td><td>5009.36</td><td>2361.26</td><td>24090.42</td><td>17329</td><td>36024.474564</td><td>179056396</td><td>3.2847e8</td><td>2.0981e8</td><td>1.8317e9</td><td>1591787895</td><td>2.0957e9</td></tr><tr><td>&quot;4&quot;</td><td>2018-12-26</td><td>2343</td><td>2491</td><td>7065.0</td><td>3909.92</td><td>38405.93</td><td>30748</td><td>47332.921475</td><td>179058887</td><td>3.2847e8</td><td>2.0982e8</td><td>1.8317e9</td><td>1591818643</td><td>2.0957e9</td></tr><tr><td>&quot;4&quot;</td><td>2018-12-27</td><td>2529</td><td>2727</td><td>7784.74</td><td>4247.42</td><td>42699.75</td><td>35921</td><td>47095.373718</td><td>179061614</td><td>3.2848e8</td><td>2.0982e8</td><td>1.8318e9</td><td>1591854564</td><td>2.0958e9</td></tr><tr><td>&quot;4&quot;</td><td>2018-12-28</td><td>2402</td><td>2511</td><td>6885.13</td><td>3966.23</td><td>38828.91</td><td>32774</td><td>43556.962457</td><td>179064125</td><td>3.2849e8</td><td>2.0982e8</td><td>1.8318e9</td><td>1591887338</td><td>2.0958e9</td></tr><tr><td>&quot;4&quot;</td><td>2018-12-29</td><td>2554</td><td>2765</td><td>7656.65</td><td>4137.15</td><td>41487.82</td><td>34774</td><td>50109.353713</td><td>179066890</td><td>3.2849e8</td><td>2.0983e8</td><td>1.8318e9</td><td>1591922112</td><td>2.0959e9</td></tr><tr><td>&quot;4&quot;</td><td>2018-12-30</td><td>2161</td><td>2284</td><td>6658.45</td><td>3563.83</td><td>34292.34</td><td>26694</td><td>45775.41102</td><td>179069174</td><td>3.2850e8</td><td>2.0983e8</td><td>1.8319e9</td><td>1591948806</td><td>2.0959e9</td></tr><tr><td>&quot;4&quot;</td><td>2018-12-31</td><td>2503</td><td>2620</td><td>6702.23</td><td>3829.92</td><td>36379.94</td><td>27742</td><td>49092.276096</td><td>179071794</td><td>3.2851e8</td><td>2.0984e8</td><td>1.8319e9</td><td>1591976548</td><td>2.0960e9</td></tr></tbody></table></div>"
      ],
      "text/plain": [
       "shape: (971, 15)\n",
       "┌─────────┬────────────┬───────────┬────────────┬────────────┬────────────┬────────────┬────────────┬────────────┬────────────┬────────────┬────────────┬────────────┬────────────┬────────────┐\n",
       "│ vendor_ ┆ pickup_dat ┆ trips_cou ┆ passenger_ ┆ trip_dista ┆ tip_amount ┆ total_amou ┆ trip_durat ┆ trip_speed ┆ passenger_ ┆ trip_dista ┆ tip_amount ┆ total_amou ┆ trip_durat ┆ trip_speed │\n",
       "│ id      ┆ etime      ┆ nt        ┆ count_sum  ┆ nce_sum    ┆ _sum       ┆ nt_sum     ┆ ion_sum    ┆ _sum       ┆ count_sum_ ┆ nce_sum_cu ┆ _sum_cum   ┆ nt_sum_cum ┆ ion_sum_cu ┆ _sum_cum   │\n",
       "│ ---     ┆ ---        ┆ ---       ┆ ---        ┆ ---        ┆ ---        ┆ ---        ┆ ---        ┆ ---        ┆ cum        ┆ m          ┆ ---        ┆ ---        ┆ m          ┆ ---        │\n",
       "│ cat     ┆ date       ┆ u32       ┆ i32        ┆ f64        ┆ f64        ┆ f64        ┆ i64        ┆ f64        ┆ ---        ┆ ---        ┆ f64        ┆ f64        ┆ ---        ┆ f64        │\n",
       "│         ┆            ┆           ┆            ┆            ┆            ┆            ┆            ┆            ┆ i32        ┆ f64        ┆            ┆            ┆ i64        ┆            │\n",
       "╞═════════╪════════════╪═══════════╪════════════╪════════════╪════════════╪════════════╪════════════╪════════════╪════════════╪════════════╪════════════╪════════════╪════════════╪════════════╡\n",
       "│ 2       ┆ 2018-01-01 ┆ 141704    ┆ 270942     ┆ 488214.54  ┆ 239074.95  ┆ 2.3418e6   ┆ 1756888    ┆ 3.4909e6   ┆ 270942     ┆ 488214.54  ┆ 239074.95  ┆ 2.3418e6   ┆ 1756888    ┆ 3.4909e6   │\n",
       "│ 2       ┆ 2018-01-02 ┆ 134592    ┆ 257630     ┆ 424210.71  ┆ 231022.7   ┆ 2.1644e6   ┆ 1696152    ┆ 2.8857e6   ┆ 528572     ┆ 912425.25  ┆ 470097.65  ┆ 4.5061e6   ┆ 3453040    ┆ 6.3766e6   │\n",
       "│ 2       ┆ 2018-01-03 ┆ 148673    ┆ 282687     ┆ 430239.87  ┆ 256162.3   ┆ 2.3414e6   ┆ 1989922    ┆ 2.8654e6   ┆ 811259     ┆ 1.3427e6   ┆ 726259.95  ┆ 6.8475e6   ┆ 5442962    ┆ 9.2420e6   │\n",
       "│ 2       ┆ 2018-01-04 ┆ 73429     ┆ 139186     ┆ 192898.61  ┆ 114495.16  ┆ 1.0727e6   ┆ 938488     ┆ 1.3696e6   ┆ 950445     ┆ 1.5356e6   ┆ 840755.11  ┆ 7.9202e6   ┆ 6381450    ┆ 1.0612e7   │\n",
       "│ 2       ┆ 2018-01-05 ┆ 152386    ┆ 291141     ┆ 405175.7   ┆ 263764.36  ┆ 2.3533e6   ┆ 2136171    ┆ 2.5978e6   ┆ 1241586    ┆ 1.9407e6   ┆ 1.1045e6   ┆ 1.0273e7   ┆ 8517621    ┆ 1.3209e7   │\n",
       "│ 2       ┆ 2018-01-06 ┆ 160667    ┆ 309548     ┆ 457776.51  ┆ 267176.2   ┆ 2.4333e6   ┆ 2031684    ┆ 3.1863e6   ┆ 1551134    ┆ 2.3985e6   ┆ 1.3717e6   ┆ 1.2707e7   ┆ 10549305   ┆ 1.6396e7   │\n",
       "│ 2       ┆ 2018-01-07 ┆ 135496    ┆ 262067     ┆ 420228.73  ┆ 240716.98  ┆ 2.1244e6   ┆ 1617140    ┆ 3.0285e6   ┆ 1813201    ┆ 2.8187e6   ┆ 1.6124e6   ┆ 1.4831e7   ┆ 12166445   ┆ 1.9424e7   │\n",
       "│ ...     ┆ ...        ┆ ...       ┆ ...        ┆ ...        ┆ ...        ┆ ...        ┆ ...        ┆ ...        ┆ ...        ┆ ...        ┆ ...        ┆ ...        ┆ ...        ┆ ...        │\n",
       "│ 4       ┆ 2018-12-24 ┆ 2241      ┆ 2365       ┆ 5223.69    ┆ 2823.17    ┆ 29033.43   ┆ 22518      ┆ 44836.6647 ┆ 179054810  ┆ 3.2846e8   ┆ 2.0981e8   ┆ 1.8316e9   ┆ 1591770566 ┆ 2.0956e9   │\n",
       "│         ┆            ┆           ┆            ┆            ┆            ┆            ┆            ┆ 66         ┆            ┆            ┆            ┆            ┆            ┆            │\n",
       "│ 4       ┆ 2018-12-25 ┆ 1511      ┆ 1586       ┆ 5009.36    ┆ 2361.26    ┆ 24090.42   ┆ 17329      ┆ 36024.4745 ┆ 179056396  ┆ 3.2847e8   ┆ 2.0981e8   ┆ 1.8317e9   ┆ 1591787895 ┆ 2.0957e9   │\n",
       "│         ┆            ┆           ┆            ┆            ┆            ┆            ┆            ┆ 64         ┆            ┆            ┆            ┆            ┆            ┆            │\n",
       "│ 4       ┆ 2018-12-26 ┆ 2343      ┆ 2491       ┆ 7065.0     ┆ 3909.92    ┆ 38405.93   ┆ 30748      ┆ 47332.9214 ┆ 179058887  ┆ 3.2847e8   ┆ 2.0982e8   ┆ 1.8317e9   ┆ 1591818643 ┆ 2.0957e9   │\n",
       "│         ┆            ┆           ┆            ┆            ┆            ┆            ┆            ┆ 75         ┆            ┆            ┆            ┆            ┆            ┆            │\n",
       "│ 4       ┆ 2018-12-27 ┆ 2529      ┆ 2727       ┆ 7784.74    ┆ 4247.42    ┆ 42699.75   ┆ 35921      ┆ 47095.3737 ┆ 179061614  ┆ 3.2848e8   ┆ 2.0982e8   ┆ 1.8318e9   ┆ 1591854564 ┆ 2.0958e9   │\n",
       "│         ┆            ┆           ┆            ┆            ┆            ┆            ┆            ┆ 18         ┆            ┆            ┆            ┆            ┆            ┆            │\n",
       "│ 4       ┆ 2018-12-28 ┆ 2402      ┆ 2511       ┆ 6885.13    ┆ 3966.23    ┆ 38828.91   ┆ 32774      ┆ 43556.9624 ┆ 179064125  ┆ 3.2849e8   ┆ 2.0982e8   ┆ 1.8318e9   ┆ 1591887338 ┆ 2.0958e9   │\n",
       "│         ┆            ┆           ┆            ┆            ┆            ┆            ┆            ┆ 57         ┆            ┆            ┆            ┆            ┆            ┆            │\n",
       "│ 4       ┆ 2018-12-29 ┆ 2554      ┆ 2765       ┆ 7656.65    ┆ 4137.15    ┆ 41487.82   ┆ 34774      ┆ 50109.3537 ┆ 179066890  ┆ 3.2849e8   ┆ 2.0983e8   ┆ 1.8318e9   ┆ 1591922112 ┆ 2.0959e9   │\n",
       "│         ┆            ┆           ┆            ┆            ┆            ┆            ┆            ┆ 13         ┆            ┆            ┆            ┆            ┆            ┆            │\n",
       "│ 4       ┆ 2018-12-30 ┆ 2161      ┆ 2284       ┆ 6658.45    ┆ 3563.83    ┆ 34292.34   ┆ 26694      ┆ 45775.4110 ┆ 179069174  ┆ 3.2850e8   ┆ 2.0983e8   ┆ 1.8319e9   ┆ 1591948806 ┆ 2.0959e9   │\n",
       "│         ┆            ┆           ┆            ┆            ┆            ┆            ┆            ┆ 2          ┆            ┆            ┆            ┆            ┆            ┆            │\n",
       "│ 4       ┆ 2018-12-31 ┆ 2503      ┆ 2620       ┆ 6702.23    ┆ 3829.92    ┆ 36379.94   ┆ 27742      ┆ 49092.2760 ┆ 179071794  ┆ 3.2851e8   ┆ 2.0984e8   ┆ 1.8319e9   ┆ 1591976548 ┆ 2.0960e9   │\n",
       "│         ┆            ┆           ┆            ┆            ┆            ┆            ┆            ┆ 96         ┆            ┆            ┆            ┆            ┆            ┆            │\n",
       "└─────────┴────────────┴───────────┴────────────┴────────────┴────────────┴────────────┴────────────┴────────────┴────────────┴────────────┴────────────┴────────────┴────────────┴────────────┘"
      ]
     },
     "execution_count": 35,
     "metadata": {},
     "output_type": "execute_result"
    }
   ],
   "source": [
    "taxi_daily_cum_stats"
   ]
  },
  {
   "attachments": {},
   "cell_type": "markdown",
   "metadata": {},
   "source": [
    "Analicemos el plan que se ejecutó:"
   ]
  },
  {
   "cell_type": "code",
   "execution_count": 20,
   "metadata": {},
   "outputs": [
    {
     "data": {
      "text/plain": [
       "' SELECT [col(\"vendor_id\"), col(\"pickup_datetime\").strict_cast(Date), col(\"trips_count\"), col(\"passenger_count_sum\"), col(\"trip_distance_sum\"), col(\"tip_amount_sum\"), col(\"total_amount_sum\"), col(\"trip_duration_sum\"), col(\"trip_speed_sum\"), col(\"passenger_count_sum\").cumsum().alias(\"passenger_count_sum_cum\"), col(\"trip_distance_sum\").cumsum().alias(\"trip_distance_sum_cum\"), col(\"tip_amount_sum\").cumsum().alias(\"tip_amount_sum_cum\"), col(\"total_amount_sum\").cumsum().alias(\"total_amount_sum_cum\"), col(\"trip_duration_sum\").cumsum().alias(\"trip_duration_sum_cum\"), col(\"trip_speed_sum\").cumsum().alias(\"trip_speed_sum_cum\")] FROM\\n  AGGREGATE\\n  \\t[count().alias(\"trips_count\"), col(\"passenger_count\").sum().alias(\"passenger_count_sum\"), col(\"trip_distance\").sum().alias(\"trip_distance_sum\"), col(\"tip_amount\").sum().alias(\"tip_amount_sum\"), col(\"total_amount\").sum().alias(\"total_amount_sum\"), col(\"trip_duration\").sum().alias(\"trip_duration_sum\"), col(\"trip_speed\").sum().alias(\"trip_speed_sum\")] BY [col(\"vendor_id\")] FROM\\n  \\tSORT BY [col(\"pickup_datetime\")]\\n  DF [\"vendor_id\", \"pickup_datetime\", \"dropoff_datetime\", \"passenger_count\"]; PROJECT 8/12 COLUMNS; SELECTION: \"None\"'"
      ]
     },
     "execution_count": 20,
     "metadata": {},
     "output_type": "execute_result"
    }
   ],
   "source": [
    "taxi_daily_stats.select(\n",
    "    'vendor_id',\n",
    "    pl.col('pickup_datetime').cast(pl.Date),\n",
    "    'trips_count',\n",
    "    pl.col(r'^.*sum$'),\n",
    "    pl.col(r'^.*sum$').cumsum().suffix('_cum'),\n",
    ").explain()"
   ]
  },
  {
   "attachments": {},
   "cell_type": "markdown",
   "metadata": {},
   "source": [
    "### Window functions\n",
    "También podemos ejecutar window functions mediante `over`. Hay que tener mucho cuidado ya que las window functions regresan una fila por cada fila original en la entrada de la función: <br><br>\n",
    "![Polars Window functions](../img/window.png)"
   ]
  },
  {
   "cell_type": "code",
   "execution_count": 28,
   "metadata": {},
   "outputs": [],
   "source": [
    "window = pl.col('pickup_datetime').cast(pl.Date).alias('pickup_date')\n",
    "taxi_window_stats = taxi_clean.lazy()\\\n",
    "    .filter(\n",
    "        (pl.col('pickup_datetime').dt.month()==12) \n",
    "    )\\\n",
    "    .select(\n",
    "        window,\n",
    "        (pl.col(pl.NUMERIC_DTYPES) *100 / pl.col(pl.NUMERIC_DTYPES).max().over(window)).suffix('_max_pct')\n",
    "    )\\\n",
    "    .sort('pickup_date').collect()"
   ]
  },
  {
   "cell_type": "code",
   "execution_count": 30,
   "metadata": {},
   "outputs": [
    {
     "data": {
      "text/html": [
       "<div><style>\n",
       ".dataframe > thead > tr > th,\n",
       ".dataframe > tbody > tr > td {\n",
       "  text-align: right;\n",
       "}\n",
       "</style>\n",
       "<small>shape: (8173122, 7)</small><table border=\"1\" class=\"dataframe\"><thead><tr><th>pickup_date</th><th>passenger_count_max_pct</th><th>trip_distance_max_pct</th><th>tip_amount_max_pct</th><th>total_amount_max_pct</th><th>trip_duration_max_pct</th><th>trip_speed_max_pct</th></tr><tr><td>date</td><td>f64</td><td>f64</td><td>f64</td><td>f64</td><td>f64</td><td>f64</td></tr></thead><tbody><tr><td>2018-12-01</td><td>42.857143</td><td>1.1625</td><td>4.285714</td><td>4.187065</td><td>3.333333</td><td>2.183099</td></tr><tr><td>2018-12-01</td><td>14.285714</td><td>4.3625</td><td>6.065934</td><td>7.111569</td><td>5.555556</td><td>4.915493</td></tr><tr><td>2018-12-01</td><td>14.285714</td><td>0.5</td><td>0.0</td><td>2.490767</td><td>1.666667</td><td>1.877934</td></tr><tr><td>2018-12-01</td><td>28.571429</td><td>0.7125</td><td>2.197802</td><td>3.134931</td><td>2.222222</td><td>2.007042</td></tr><tr><td>2018-12-01</td><td>71.428571</td><td>4.125</td><td>0.0</td><td>6.570472</td><td>8.333333</td><td>3.098592</td></tr><tr><td>2018-12-01</td><td>85.714286</td><td>1.8625</td><td>4.307692</td><td>5.050245</td><td>6.111111</td><td>1.90781</td></tr><tr><td>2018-12-01</td><td>28.571429</td><td>3.8625</td><td>7.582418</td><td>7.407885</td><td>8.333333</td><td>2.901408</td></tr><tr><td>...</td><td>...</td><td>...</td><td>...</td><td>...</td><td>...</td><td>...</td></tr><tr><td>2018-12-31</td><td>42.857143</td><td>1.65</td><td>0.0</td><td>3.564373</td><td>5.0</td><td>1.275362</td></tr><tr><td>2018-12-31</td><td>14.285714</td><td>3.5875</td><td>0.0</td><td>5.282144</td><td>5.555556</td><td>2.495652</td></tr><tr><td>2018-12-31</td><td>42.857143</td><td>6.3375</td><td>0.0</td><td>13.441553</td><td>26.666667</td><td>0.918478</td></tr><tr><td>2018-12-31</td><td>14.285714</td><td>1.45</td><td>3.208791</td><td>3.761917</td><td>3.888889</td><td>1.440994</td></tr><tr><td>2018-12-31</td><td>14.285714</td><td>9.4</td><td>6.593407</td><td>23.318732</td><td>0.0</td><td>null</td></tr><tr><td>2018-12-31</td><td>14.285714</td><td>1.45</td><td>0.0</td><td>5.282144</td><td>10.555556</td><td>0.530892</td></tr><tr><td>2018-12-31</td><td>14.285714</td><td>1.475</td><td>0.0</td><td>3.349652</td><td>4.444444</td><td>1.282609</td></tr></tbody></table></div>"
      ],
      "text/plain": [
       "shape: (8173122, 7)\n",
       "┌─────────────┬────────────┬────────────┬────────────┬───────────────┬──────────────┬──────────────┐\n",
       "│ pickup_date ┆ passenger_ ┆ trip_dista ┆ tip_amount ┆ total_amount_ ┆ trip_duratio ┆ trip_speed_m │\n",
       "│ ---         ┆ count_max_ ┆ nce_max_pc ┆ _max_pct   ┆ max_pct       ┆ n_max_pct    ┆ ax_pct       │\n",
       "│ date        ┆ pct        ┆ t          ┆ ---        ┆ ---           ┆ ---          ┆ ---          │\n",
       "│             ┆ ---        ┆ ---        ┆ f64        ┆ f64           ┆ f64          ┆ f64          │\n",
       "│             ┆ f64        ┆ f64        ┆            ┆               ┆              ┆              │\n",
       "╞═════════════╪════════════╪════════════╪════════════╪═══════════════╪══════════════╪══════════════╡\n",
       "│ 2018-12-01  ┆ 42.857143  ┆ 1.1625     ┆ 4.285714   ┆ 4.187065      ┆ 3.333333     ┆ 2.183099     │\n",
       "│ 2018-12-01  ┆ 14.285714  ┆ 4.3625     ┆ 6.065934   ┆ 7.111569      ┆ 5.555556     ┆ 4.915493     │\n",
       "│ 2018-12-01  ┆ 14.285714  ┆ 0.5        ┆ 0.0        ┆ 2.490767      ┆ 1.666667     ┆ 1.877934     │\n",
       "│ 2018-12-01  ┆ 28.571429  ┆ 0.7125     ┆ 2.197802   ┆ 3.134931      ┆ 2.222222     ┆ 2.007042     │\n",
       "│ 2018-12-01  ┆ 71.428571  ┆ 4.125      ┆ 0.0        ┆ 6.570472      ┆ 8.333333     ┆ 3.098592     │\n",
       "│ 2018-12-01  ┆ 85.714286  ┆ 1.8625     ┆ 4.307692   ┆ 5.050245      ┆ 6.111111     ┆ 1.90781      │\n",
       "│ 2018-12-01  ┆ 28.571429  ┆ 3.8625     ┆ 7.582418   ┆ 7.407885      ┆ 8.333333     ┆ 2.901408     │\n",
       "│ ...         ┆ ...        ┆ ...        ┆ ...        ┆ ...           ┆ ...          ┆ ...          │\n",
       "│ 2018-12-31  ┆ 14.285714  ┆ 26.425     ┆ 0.0        ┆ 36.313665     ┆ 37.222222    ┆ 2.743673     │\n",
       "│ 2018-12-31  ┆ 42.857143  ┆ 1.65       ┆ 0.0        ┆ 3.564373      ┆ 5.0          ┆ 1.275362     │\n",
       "│ 2018-12-31  ┆ 14.285714  ┆ 3.5875     ┆ 0.0        ┆ 5.282144      ┆ 5.555556     ┆ 2.495652     │\n",
       "│ 2018-12-31  ┆ 42.857143  ┆ 6.3375     ┆ 0.0        ┆ 13.441553     ┆ 26.666667    ┆ 0.918478     │\n",
       "│ 2018-12-31  ┆ 14.285714  ┆ 1.45       ┆ 3.208791   ┆ 3.761917      ┆ 3.888889     ┆ 1.440994     │\n",
       "│ 2018-12-31  ┆ 14.285714  ┆ 9.4        ┆ 6.593407   ┆ 23.318732     ┆ 0.0          ┆ null         │\n",
       "│ 2018-12-31  ┆ 14.285714  ┆ 1.45       ┆ 0.0        ┆ 5.282144      ┆ 10.555556    ┆ 0.530892     │\n",
       "│ 2018-12-31  ┆ 14.285714  ┆ 1.475      ┆ 0.0        ┆ 3.349652      ┆ 4.444444     ┆ 1.282609     │\n",
       "└─────────────┴────────────┴────────────┴────────────┴───────────────┴──────────────┴──────────────┘"
      ]
     },
     "execution_count": 30,
     "metadata": {},
     "output_type": "execute_result"
    }
   ],
   "source": [
    "taxi_window_stats"
   ]
  },
  {
   "attachments": {},
   "cell_type": "markdown",
   "metadata": {},
   "source": [
    "Una alternativa a fuciones comunes de Window en SQL es usar directamente métodos que nos da Polars como `pct_change`, `rank`, `top_k`. En ocasiones debemos usarlas en conjunto con `groupby`:"
   ]
  },
  {
   "cell_type": "code",
   "execution_count": 31,
   "metadata": {},
   "outputs": [
    {
     "data": {
      "text/html": [
       "<div><style>\n",
       ".dataframe > thead > tr > th,\n",
       ".dataframe > tbody > tr > td {\n",
       "  text-align: right;\n",
       "}\n",
       "</style>\n",
       "<small>shape: (971, 3)</small><table border=\"1\" class=\"dataframe\"><thead><tr><th>pickup_datetime</th><th>total_amount_daily_pct_change</th><th>total_amount_sum_rank</th></tr><tr><td>date</td><td>f64</td><td>u32</td></tr></thead><tbody><tr><td>2018-01-01</td><td>null</td><td>617</td></tr><tr><td>2018-01-02</td><td>0.924241</td><td>546</td></tr><tr><td>2018-01-03</td><td>0.519592</td><td>616</td></tr><tr><td>2018-01-04</td><td>0.156659</td><td>247</td></tr><tr><td>2018-01-05</td><td>0.297124</td><td>619</td></tr><tr><td>2018-01-06</td><td>0.236852</td><td>632</td></tr><tr><td>2018-01-07</td><td>0.167183</td><td>525</td></tr><tr><td>...</td><td>...</td><td>...</td></tr><tr><td>2018-12-25</td><td>0.000013</td><td>124</td></tr><tr><td>2018-12-26</td><td>0.000021</td><td>136</td></tr><tr><td>2018-12-27</td><td>0.000023</td><td>144</td></tr><tr><td>2018-12-28</td><td>0.000021</td><td>137</td></tr><tr><td>2018-12-29</td><td>0.000023</td><td>142</td></tr><tr><td>2018-12-30</td><td>0.000019</td><td>133</td></tr><tr><td>2018-12-31</td><td>0.00002</td><td>134</td></tr></tbody></table></div>"
      ],
      "text/plain": [
       "shape: (971, 3)\n",
       "┌─────────────────┬───────────────────────────────┬───────────────────────┐\n",
       "│ pickup_datetime ┆ total_amount_daily_pct_change ┆ total_amount_sum_rank │\n",
       "│ ---             ┆ ---                           ┆ ---                   │\n",
       "│ date            ┆ f64                           ┆ u32                   │\n",
       "╞═════════════════╪═══════════════════════════════╪═══════════════════════╡\n",
       "│ 2018-01-01      ┆ null                          ┆ 617                   │\n",
       "│ 2018-01-02      ┆ 0.924241                      ┆ 546                   │\n",
       "│ 2018-01-03      ┆ 0.519592                      ┆ 616                   │\n",
       "│ 2018-01-04      ┆ 0.156659                      ┆ 247                   │\n",
       "│ 2018-01-05      ┆ 0.297124                      ┆ 619                   │\n",
       "│ 2018-01-06      ┆ 0.236852                      ┆ 632                   │\n",
       "│ 2018-01-07      ┆ 0.167183                      ┆ 525                   │\n",
       "│ ...             ┆ ...                           ┆ ...                   │\n",
       "│ 2018-12-24      ┆ 0.000016                      ┆ 126                   │\n",
       "│ 2018-12-25      ┆ 0.000013                      ┆ 124                   │\n",
       "│ 2018-12-26      ┆ 0.000021                      ┆ 136                   │\n",
       "│ 2018-12-27      ┆ 0.000023                      ┆ 144                   │\n",
       "│ 2018-12-28      ┆ 0.000021                      ┆ 137                   │\n",
       "│ 2018-12-29      ┆ 0.000023                      ┆ 142                   │\n",
       "│ 2018-12-30      ┆ 0.000019                      ┆ 133                   │\n",
       "│ 2018-12-31      ┆ 0.00002                       ┆ 134                   │\n",
       "└─────────────────┴───────────────────────────────┴───────────────────────┘"
      ]
     },
     "execution_count": 31,
     "metadata": {},
     "output_type": "execute_result"
    }
   ],
   "source": [
    "(taxi_daily_cum_stats.lazy()\n",
    "    .select(\n",
    "        pl.col('pickup_datetime').cast(pl.Date),\n",
    "        pl.col('total_amount_sum_cum').pct_change().alias('total_amount_daily_pct_change'),\n",
    "        pl.col('total_amount_sum').rank(method='ordinal').alias('total_amount_sum_rank')\n",
    "    )\n",
    ").collect()\n"
   ]
  },
  {
   "attachments": {},
   "cell_type": "markdown",
   "metadata": {},
   "source": [
    "### Pivot tables"
   ]
  },
  {
   "attachments": {},
   "cell_type": "markdown",
   "metadata": {},
   "source": [
    "`Pivot` nos permite agregar de manera similar a cómo lo hacen las hojas de cálculo:"
   ]
  },
  {
   "cell_type": "code",
   "execution_count": 32,
   "metadata": {},
   "outputs": [
    {
     "data": {
      "text/html": [
       "<div><style>\n",
       ".dataframe > thead > tr > th,\n",
       ".dataframe > tbody > tr > td {\n",
       "  text-align: right;\n",
       "}\n",
       "</style>\n",
       "<small>shape: (365, 6)</small><table border=\"1\" class=\"dataframe\"><thead><tr><th>pickup_datetime</th><th>1</th><th>2</th><th>4</th><th>3</th><th>5</th></tr><tr><td>date</td><td>f64</td><td>f64</td><td>f64</td><td>f64</td><td>f64</td></tr></thead><tbody><tr><td>2018-01-01</td><td>2.5463e6</td><td>1.2894e6</td><td>6613.85</td><td>21421.6</td><td>0.0</td></tr><tr><td>2018-01-02</td><td>2.5680e6</td><td>1.1413e6</td><td>4493.48</td><td>18189.38</td><td>0.0</td></tr><tr><td>2018-01-03</td><td>2.8910e6</td><td>1.1994e6</td><td>5551.6</td><td>19222.34</td><td>0.0</td></tr><tr><td>2018-01-04</td><td>1.1776e6</td><td>570874.96</td><td>2359.89</td><td>8071.63</td><td>0.0</td></tr><tr><td>2018-01-05</td><td>2.9262e6</td><td>1.0938e6</td><td>4433.03</td><td>17224.93</td><td>0.0</td></tr><tr><td>2018-01-06</td><td>2.9765e6</td><td>1.1744e6</td><td>5268.63</td><td>19602.58</td><td>0.0</td></tr><tr><td>2018-01-07</td><td>2.6601e6</td><td>951547.710001</td><td>5778.22</td><td>16715.7</td><td>0.0</td></tr><tr><td>...</td><td>...</td><td>...</td><td>...</td><td>...</td><td>...</td></tr><tr><td>2018-12-25</td><td>1.2053e6</td><td>748053.26</td><td>2722.0</td><td>7700.65</td><td>0.0</td></tr><tr><td>2018-12-26</td><td>1.9707e6</td><td>1.0382e6</td><td>4818.51</td><td>11042.54</td><td>0.0</td></tr><tr><td>2018-12-27</td><td>2.3136e6</td><td>1.2166e6</td><td>6174.88</td><td>15395.04</td><td>0.0</td></tr><tr><td>2018-12-28</td><td>2.3108e6</td><td>1.1888e6</td><td>5504.53</td><td>15697.27</td><td>0.0</td></tr><tr><td>2018-12-29</td><td>2.2473e6</td><td>1.2173e6</td><td>6214.46</td><td>16016.94</td><td>0.0</td></tr><tr><td>2018-12-30</td><td>2.0926e6</td><td>1.0398e6</td><td>5593.85</td><td>14601.76</td><td>0.0</td></tr><tr><td>2018-12-31</td><td>2.0984e6</td><td>1.0114e6</td><td>4662.78</td><td>13411.06</td><td>0.0</td></tr></tbody></table></div>"
      ],
      "text/plain": [
       "shape: (365, 6)\n",
       "┌─────────────────┬──────────┬───────────────┬─────────┬──────────┬─────┐\n",
       "│ pickup_datetime ┆ 1        ┆ 2             ┆ 4       ┆ 3        ┆ 5   │\n",
       "│ ---             ┆ ---      ┆ ---           ┆ ---     ┆ ---      ┆ --- │\n",
       "│ date            ┆ f64      ┆ f64           ┆ f64     ┆ f64      ┆ f64 │\n",
       "╞═════════════════╪══════════╪═══════════════╪═════════╪══════════╪═════╡\n",
       "│ 2018-01-01      ┆ 2.5463e6 ┆ 1.2894e6      ┆ 6613.85 ┆ 21421.6  ┆ 0.0 │\n",
       "│ 2018-01-02      ┆ 2.5680e6 ┆ 1.1413e6      ┆ 4493.48 ┆ 18189.38 ┆ 0.0 │\n",
       "│ 2018-01-03      ┆ 2.8910e6 ┆ 1.1994e6      ┆ 5551.6  ┆ 19222.34 ┆ 0.0 │\n",
       "│ 2018-01-04      ┆ 1.1776e6 ┆ 570874.96     ┆ 2359.89 ┆ 8071.63  ┆ 0.0 │\n",
       "│ 2018-01-05      ┆ 2.9262e6 ┆ 1.0938e6      ┆ 4433.03 ┆ 17224.93 ┆ 0.0 │\n",
       "│ 2018-01-06      ┆ 2.9765e6 ┆ 1.1744e6      ┆ 5268.63 ┆ 19602.58 ┆ 0.0 │\n",
       "│ 2018-01-07      ┆ 2.6601e6 ┆ 951547.710001 ┆ 5778.22 ┆ 16715.7  ┆ 0.0 │\n",
       "│ ...             ┆ ...      ┆ ...           ┆ ...     ┆ ...      ┆ ... │\n",
       "│ 2018-12-24      ┆ 1.6329e6 ┆ 953252.390001 ┆ 4160.8  ┆ 13078.19 ┆ 0.0 │\n",
       "│ 2018-12-25      ┆ 1.2053e6 ┆ 748053.26     ┆ 2722.0  ┆ 7700.65  ┆ 0.0 │\n",
       "│ 2018-12-26      ┆ 1.9707e6 ┆ 1.0382e6      ┆ 4818.51 ┆ 11042.54 ┆ 0.0 │\n",
       "│ 2018-12-27      ┆ 2.3136e6 ┆ 1.2166e6      ┆ 6174.88 ┆ 15395.04 ┆ 0.0 │\n",
       "│ 2018-12-28      ┆ 2.3108e6 ┆ 1.1888e6      ┆ 5504.53 ┆ 15697.27 ┆ 0.0 │\n",
       "│ 2018-12-29      ┆ 2.2473e6 ┆ 1.2173e6      ┆ 6214.46 ┆ 16016.94 ┆ 0.0 │\n",
       "│ 2018-12-30      ┆ 2.0926e6 ┆ 1.0398e6      ┆ 5593.85 ┆ 14601.76 ┆ 0.0 │\n",
       "│ 2018-12-31      ┆ 2.0984e6 ┆ 1.0114e6      ┆ 4662.78 ┆ 13411.06 ┆ 0.0 │\n",
       "└─────────────────┴──────────┴───────────────┴─────────┴──────────┴─────┘"
      ]
     },
     "execution_count": 32,
     "metadata": {},
     "output_type": "execute_result"
    }
   ],
   "source": [
    "(taxi_clean\n",
    " .select('total_amount',\n",
    "    pl.col('pickup_datetime').cast(pl.Date),\n",
    "    'payment_type_id',\n",
    ").sort('pickup_datetime')\n",
    ".pivot(values='total_amount', index='pickup_datetime', aggregate_function='sum', columns='payment_type_id')\n",
    ".fill_null(0)\n",
    ")"
   ]
  },
  {
   "attachments": {},
   "cell_type": "markdown",
   "metadata": {},
   "source": [
    "### Reestructuración de datos:"
   ]
  },
  {
   "cell_type": "code",
   "execution_count": 33,
   "metadata": {},
   "outputs": [
    {
     "data": {
      "text/html": [
       "<div><style>\n",
       ".dataframe > thead > tr > th,\n",
       ".dataframe > tbody > tr > td {\n",
       "  text-align: right;\n",
       "}\n",
       "</style>\n",
       "<small>shape: (20, 3)</small><table border=\"1\" class=\"dataframe\"><thead><tr><th>total_amount</th><th>variable</th><th>value</th></tr><tr><td>f64</td><td>str</td><td>cat</td></tr></thead><tbody><tr><td>11.3</td><td>&quot;payment_type_id&quot;</td><td>&quot;1&quot;</td></tr><tr><td>8.3</td><td>&quot;payment_type_id&quot;</td><td>&quot;1&quot;</td></tr><tr><td>5.8</td><td>&quot;payment_type_id&quot;</td><td>&quot;2&quot;</td></tr><tr><td>14.76</td><td>&quot;payment_type_id&quot;</td><td>&quot;1&quot;</td></tr><tr><td>18.8</td><td>&quot;payment_type_id&quot;</td><td>&quot;1&quot;</td></tr><tr><td>6.5</td><td>&quot;payment_type_id&quot;</td><td>&quot;1&quot;</td></tr><tr><td>50.47</td><td>&quot;payment_type_id&quot;</td><td>&quot;1&quot;</td></tr><tr><td>...</td><td>...</td><td>...</td></tr><tr><td>6.67</td><td>&quot;payment_type_id&quot;</td><td>&quot;1&quot;</td></tr><tr><td>9.8</td><td>&quot;payment_type_id&quot;</td><td>&quot;1&quot;</td></tr><tr><td>7.55</td><td>&quot;payment_type_id&quot;</td><td>&quot;1&quot;</td></tr><tr><td>11.75</td><td>&quot;payment_type_id&quot;</td><td>&quot;1&quot;</td></tr><tr><td>10.8</td><td>&quot;payment_type_id&quot;</td><td>&quot;1&quot;</td></tr><tr><td>18.48</td><td>&quot;payment_type_id&quot;</td><td>&quot;1&quot;</td></tr><tr><td>8.76</td><td>&quot;payment_type_id&quot;</td><td>&quot;1&quot;</td></tr></tbody></table></div>"
      ],
      "text/plain": [
       "shape: (20, 3)\n",
       "┌──────────────┬─────────────────┬───────┐\n",
       "│ total_amount ┆ variable        ┆ value │\n",
       "│ ---          ┆ ---             ┆ ---   │\n",
       "│ f64          ┆ str             ┆ cat   │\n",
       "╞══════════════╪═════════════════╪═══════╡\n",
       "│ 11.3         ┆ payment_type_id ┆ 1     │\n",
       "│ 8.3          ┆ payment_type_id ┆ 1     │\n",
       "│ 5.8          ┆ payment_type_id ┆ 2     │\n",
       "│ 14.76        ┆ payment_type_id ┆ 1     │\n",
       "│ 18.8         ┆ payment_type_id ┆ 1     │\n",
       "│ 6.5          ┆ payment_type_id ┆ 1     │\n",
       "│ 50.47        ┆ payment_type_id ┆ 1     │\n",
       "│ ...          ┆ ...             ┆ ...   │\n",
       "│ 7.56         ┆ payment_type_id ┆ 1     │\n",
       "│ 6.67         ┆ payment_type_id ┆ 1     │\n",
       "│ 9.8          ┆ payment_type_id ┆ 1     │\n",
       "│ 7.55         ┆ payment_type_id ┆ 1     │\n",
       "│ 11.75        ┆ payment_type_id ┆ 1     │\n",
       "│ 10.8         ┆ payment_type_id ┆ 1     │\n",
       "│ 18.48        ┆ payment_type_id ┆ 1     │\n",
       "│ 8.76         ┆ payment_type_id ┆ 1     │\n",
       "└──────────────┴─────────────────┴───────┘"
      ]
     },
     "execution_count": 33,
     "metadata": {},
     "output_type": "execute_result"
    }
   ],
   "source": [
    "taxi_clean.lazy().melt(id_vars='total_amount', value_vars=['payment_type_id', 'vendor_id']).collect().head(20)"
   ]
  }
 ],
 "metadata": {
  "kernelspec": {
   "display_name": "Python 3",
   "language": "python",
   "name": "python3"
  },
  "language_info": {
   "codemirror_mode": {
    "name": "ipython",
    "version": 3
   },
   "file_extension": ".py",
   "mimetype": "text/x-python",
   "name": "python",
   "nbconvert_exporter": "python",
   "pygments_lexer": "ipython3",
   "version": "3.10.9"
  },
  "orig_nbformat": 4
 },
 "nbformat": 4,
 "nbformat_minor": 2
}
